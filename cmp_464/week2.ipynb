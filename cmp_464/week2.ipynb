{
 "cells": [
  {
   "cell_type": "markdown",
   "metadata": {},
   "source": [
    "# Chapter 4: NumPy Basics: Arrays and Vectorized Computation"
   ]
  },
  {
   "cell_type": "code",
   "execution_count": 3,
   "metadata": {},
   "outputs": [],
   "source": [
    "import numpy as np"
   ]
  },
  {
   "cell_type": "markdown",
   "metadata": {},
   "source": [
    "## Dataset:80 Cereals - Nutrition data on 80cereal products\n",
    "\n",
    "The data file can be downloaded from [Kaggle.com](https://www.kaggle.com/crawford/80-cereals)\n",
    "\n",
    ">If you like to eat cereal, do yourself a favor and avoid this dataset at all costs. After seeing these data it will never be the same for me to eat Fruity Pebbles again. - Kaggle\n",
    "\n",
    "- Download the zip file from Kaggle (login required)\n",
    "- Unzip to get `cereal.csv` file\n",
    "- Move the csv file to a proper folder\n",
    "- Open the csv file using notepad and excel to examine its content"
   ]
  },
  {
   "cell_type": "code",
   "execution_count": 4,
   "metadata": {},
   "outputs": [
    {
     "data": {
      "text/plain": [
       "['.ipynb_checkpoints', 'cereal.csv', 'week1.ipynb', 'week2.ipynb']"
      ]
     },
     "execution_count": 4,
     "metadata": {},
     "output_type": "execute_result"
    }
   ],
   "source": [
    "import os\n",
    "os.getcwd()\n",
    "os.listdir('C:/Users/Emeka Bazor/Documents/GitHub/ds_coursework_python/cmp_464')\n",
    "# my cereal file can be accessed as \"Data/cereals/cereal.csv\""
   ]
  },
  {
   "cell_type": "code",
   "execution_count": 5,
   "metadata": {},
   "outputs": [],
   "source": [
    "# Load the csv file with np.loadtxt()\n",
    "# Spoiler alert: in the next chapter we will learn a more user-friendly\n",
    "# way of loading data.\n",
    "\n",
    "# How to use np.loadtxt()?\n",
    "# ?np.loadtxt() # Display documentation\n",
    "# ??np.loadtxt() # Display source code"
   ]
  },
  {
   "cell_type": "code",
   "execution_count": 6,
   "metadata": {},
   "outputs": [
    {
     "data": {
      "text/plain": [
       "array([[0., 1.],\n",
       "       [2., 3.]])"
      ]
     },
     "execution_count": 6,
     "metadata": {},
     "output_type": "execute_result"
    }
   ],
   "source": [
    "# Try an example from documentation\n",
    "from io import StringIO \n",
    "c = StringIO(u\"0 1\\n2 3\")\n",
    "np.loadtxt(c)"
   ]
  },
  {
   "cell_type": "code",
   "execution_count": 8,
   "metadata": {},
   "outputs": [
    {
     "name": "stdout",
     "output_type": "stream",
     "text": [
      "['name' 'mfr' 'type' 'calories' 'protein' 'fat' 'sodium' 'fiber' 'carbo'\n",
      " 'sugars' 'potass' 'vitamins' 'shelf' 'weight' 'cups' 'rating']\n"
     ]
    }
   ],
   "source": [
    "# Load cereal.csv as a numpy array named raw_data\n",
    "raw_data = np.loadtxt(\"cereal.csv\",\n",
    "                      dtype=str,\n",
    "                      delimiter=\",\")\n",
    "print(raw_data[0, :])"
   ]
  },
  {
   "cell_type": "code",
   "execution_count": 9,
   "metadata": {},
   "outputs": [
    {
     "name": "stdout",
     "output_type": "stream",
     "text": [
      "Shape: (78, 16)\n"
     ]
    }
   ],
   "source": [
    "# What is the shape of raw_data?\n",
    "print(\"Shape:\", raw_data.shape)"
   ]
  },
  {
   "cell_type": "code",
   "execution_count": 10,
   "metadata": {},
   "outputs": [
    {
     "name": "stdout",
     "output_type": "stream",
     "text": [
      "name, mfr, type, calories, protein, fat, sodium, fiber, carbo, sugars, potass, vitamins, shelf, weight, cups, rating\n"
     ]
    }
   ],
   "source": [
    "# Create a list of feature names (call it feature_names)\n",
    "feature_names = raw_data[0, :]\n",
    "# print(\"Feature names:\", raw_data[0, :])\n",
    "\n",
    "# Print a list in a nicer format:\n",
    "# Create a string that joins all values from the array\n",
    "feature_string = \", \".join(feature_names)\n",
    "print(feature_string)"
   ]
  },
  {
   "cell_type": "code",
   "execution_count": 11,
   "metadata": {},
   "outputs": [
    {
     "name": "stdout",
     "output_type": "stream",
     "text": [
      "Shape of data: (77, 16)\n"
     ]
    }
   ],
   "source": [
    "# Assign the rest to data\n",
    "data = raw_data[1:, :]\n",
    "\n",
    "# Print the shape of data\n",
    "print(\"Shape of data:\", data.shape)"
   ]
  },
  {
   "cell_type": "markdown",
   "metadata": {},
   "source": [
    "### Content\n",
    "What are the features?\n",
    "\n",
    "- Name: Name of cereal\n",
    "- mfr: Manufacturer of cereal\n",
    "    - A = American Home Food Products;\n",
    "    - G = General Mills\n",
    "    - K = Kelloggs\n",
    "    - N = Nabisco\n",
    "    - P = Post\n",
    "    - Q = Quaker Oats\n",
    "    - R = Ralston Purina\n",
    "- type:\n",
    "    - cold\n",
    "    - hot\n",
    "- calories: calories per serving\n",
    "- protein: grams of protein\n",
    "- fat: grams of fat\n",
    "- sodium: milligrams of sodium\n",
    "- fiber: grams of dietary fiber\n",
    "- carbo: grams of complex carbohydrates\n",
    "- sugars: grams of sugars\n",
    "- potass: milligrams of potassium\n",
    "- vitamins: vitamins and minerals - 0, 25, or 100, indicating the typical percentage of FDA recommended\n",
    "- shelf: display shelf (1, 2, or 3, counting from the floor)\n",
    "- weight: weight in ounces of one serving\n",
    "- cups: number of cups in one serving\n",
    "- rating: a rating of the cereals (Possibly from Consumer Reports?)"
   ]
  },
  {
   "cell_type": "markdown",
   "metadata": {},
   "source": [
    "Next, let's examine some important features"
   ]
  },
  {
   "cell_type": "code",
   "execution_count": 41,
   "metadata": {},
   "outputs": [
    {
     "name": "stdout",
     "output_type": "stream",
     "text": [
      "100% Bran\n",
      "100% Natural Bran\n",
      "All-Bran\n",
      "All-Bran with Extra Fiber\n",
      "Almond Delight\n",
      "Apple Cinnamon Cheerios\n",
      "Apple Jacks\n",
      "Basic 4\n",
      "Bran Chex\n",
      "Bran Flakes\n",
      "Cap'n'Crunch\n",
      "Cheerios\n",
      "Cinnamon Toast Crunch\n",
      "Clusters\n",
      "Cocoa Puffs\n",
      "Corn Chex\n",
      "Corn Flakes\n",
      "Corn Pops\n",
      "Count Chocula\n",
      "Cracklin' Oat Bran\n",
      "Cream of Wheat (Quick)\n",
      "Crispix\n",
      "Crispy Wheat & Raisins\n",
      "Double Chex\n",
      "Froot Loops\n",
      "Frosted Flakes\n",
      "Frosted Mini-Wheats\n",
      "Fruit & Fibre Dates; Walnuts; and Oats\n",
      "Fruitful Bran\n",
      "Fruity Pebbles\n",
      "Golden Crisp\n",
      "Golden Grahams\n",
      "Grape Nuts Flakes\n",
      "Grape-Nuts\n",
      "Great Grains Pecan\n",
      "Honey Graham Ohs\n",
      "Honey Nut Cheerios\n",
      "Honey-comb\n",
      "Just Right Crunchy  Nuggets\n",
      "Just Right Fruit & Nut\n",
      "Kix\n",
      "Life\n",
      "Lucky Charms\n",
      "Maypo\n",
      "Muesli Raisins; Dates; & Almonds\n",
      "Muesli Raisins; Peaches; & Pecans\n",
      "Mueslix Crispy Blend\n",
      "Multi-Grain Cheerios\n",
      "Nut&Honey Crunch\n",
      "Nutri-Grain Almond-Raisin\n",
      "Nutri-grain Wheat\n",
      "Oatmeal Raisin Crisp\n",
      "Post Nat. Raisin Bran\n",
      "Product 19\n",
      "Puffed Rice\n",
      "Puffed Wheat\n",
      "Quaker Oat Squares\n",
      "Quaker Oatmeal\n",
      "Raisin Bran\n",
      "Raisin Nut Bran\n",
      "Raisin Squares\n",
      "Rice Chex\n",
      "Rice Krispies\n",
      "Shredded Wheat\n",
      "Shredded Wheat 'n'Bran\n",
      "Shredded Wheat spoon size\n",
      "Smacks\n",
      "Special K\n",
      "Strawberry Fruit Wheats\n",
      "Total Corn Flakes\n",
      "Total Raisin Bran\n",
      "Total Whole Grain\n",
      "Triples\n",
      "Trix\n",
      "Wheat Chex\n",
      "Wheaties\n",
      "Wheaties Honey Gold\n"
     ]
    }
   ],
   "source": [
    "# ---------Names------------\n",
    "# Display the list of cereal names\n",
    "print(\"\\n\".join(data[:, 0]))"
   ]
  },
  {
   "cell_type": "code",
   "execution_count": 48,
   "metadata": {},
   "outputs": [
    {
     "name": "stdout",
     "output_type": "stream",
     "text": [
      "[1 3 2 7 5]\n",
      "[1 2 3 5 7]\n"
     ]
    }
   ],
   "source": [
    "# How to sort an numpy array?\n",
    "ary = np.array([1, 3, 2, 7, 5])\n",
    "print(ary)\n",
    "# ary = np.sort(ary)\n",
    "ary.sort()\n",
    "print(ary)"
   ]
  },
  {
   "cell_type": "code",
   "execution_count": 53,
   "metadata": {},
   "outputs": [
    {
     "name": "stdout",
     "output_type": "stream",
     "text": [
      "[[  1   4  23  19]\n",
      " [  5   2   6 -20]]\n",
      "sorting each row:\n",
      "[[  1   4  19  23]\n",
      " [-20   2   5   6]]\n",
      "sorting each column:\n",
      "[[  1   2   6 -20]\n",
      " [  5   4  23  19]]\n"
     ]
    }
   ],
   "source": [
    "matrix = np.array([[1, 4, 23, 19], \n",
    "                   [5, 2, 6, -20]])\n",
    "print(matrix)\n",
    "print(\"sorting each row:\")\n",
    "print(np.sort(matrix, axis=1)) # or: np.sort(matrix)\n",
    "print(\"sorting each column:\")\n",
    "print(np.sort(matrix, axis=0))"
   ]
  },
  {
   "cell_type": "code",
   "execution_count": 58,
   "metadata": {},
   "outputs": [
    {
     "name": "stdout",
     "output_type": "stream",
     "text": [
      "Maypo\n",
      "Froot Loops\n",
      "Fruitful Bran\n",
      "Just Right Fruit & Nut\n",
      "Multi-Grain Cheerios\n",
      "Honey-comb\n",
      "Shredded Wheat\n",
      "Cocoa Puffs\n",
      "Shredded Wheat spoon size\n",
      "Corn Flakes\n",
      "Kix\n",
      "100% Bran\n",
      "Double Chex\n",
      "All-Bran with Extra Fiber\n",
      "Clusters\n",
      "Grape-Nuts\n",
      "Muesli Raisins; Peaches; & Pecans\n",
      "Fruit & Fibre Dates; Walnuts; and Oats\n",
      "All-Bran\n",
      "Wheaties\n",
      "Puffed Wheat\n",
      "Crispy Wheat & Raisins\n",
      "Just Right Crunchy  Nuggets\n",
      "Lucky Charms\n",
      "Total Raisin Bran\n",
      "Shredded Wheat 'n'Bran\n",
      "Basic 4\n",
      "Fruity Pebbles\n",
      "Nut&Honey Crunch\n",
      "Count Chocula\n",
      "Raisin Squares\n",
      "Post Nat. Raisin Bran\n",
      "Mueslix Crispy Blend\n",
      "Raisin Nut Bran\n",
      "Apple Cinnamon Cheerios\n",
      "Bran Flakes\n",
      "Golden Crisp\n",
      "Rice Chex\n",
      "Wheat Chex\n",
      "Honey Nut Cheerios\n",
      "Honey Graham Ohs\n",
      "Life\n",
      "Frosted Flakes\n",
      "Product 19\n",
      "Cinnamon Toast Crunch\n",
      "Grape Nuts Flakes\n",
      "Raisin Bran\n",
      "Apple Jacks\n",
      "Cheerios\n",
      "Cream of Wheat (Quick)\n",
      "Muesli Raisins; Dates; & Almonds\n",
      "Almond Delight\n",
      "Puffed Rice\n",
      "Total Corn Flakes\n",
      "Golden Grahams\n",
      "Triples\n",
      "Wheaties Honey Gold\n",
      "Special K\n",
      "Frosted Mini-Wheats\n",
      "Nutri-grain Wheat\n",
      "Quaker Oat Squares\n",
      "Cracklin' Oat Bran\n",
      "Great Grains Pecan\n",
      "Corn Pops\n",
      "Cap'n'Crunch\n",
      "100% Natural Bran\n",
      "Quaker Oatmeal\n",
      "Rice Krispies\n",
      "Total Whole Grain\n",
      "Smacks\n",
      "Crispix\n",
      "Strawberry Fruit Wheats\n",
      "Bran Chex\n",
      "Nutri-Grain Almond-Raisin\n",
      "Corn Chex\n",
      "Trix\n",
      "Oatmeal Raisin Crisp\n"
     ]
    }
   ],
   "source": [
    "# The names are nicely sorted. How to sort an array?\n",
    "\n",
    "# To make an example, let's shuffle the array first\n",
    "name_data = np.array(data[:, 0])\n",
    "example = np.array(name_data)\n",
    "np.random.shuffle(example)\n",
    "print(\"\\n\".join(example))"
   ]
  },
  {
   "cell_type": "code",
   "execution_count": 63,
   "metadata": {},
   "outputs": [
    {
     "name": "stdout",
     "output_type": "stream",
     "text": [
      "['100% Bran' '100% Natural Bran' 'All-Bran' 'All-Bran with Extra Fiber'\n",
      " 'Almond Delight' 'Apple Cinnamon Cheerios' 'Apple Jacks' 'Basic 4'\n",
      " 'Bran Chex' 'Bran Flakes' \"Cap'n'Crunch\" 'Cheerios'\n",
      " 'Cinnamon Toast Crunch' 'Clusters' 'Cocoa Puffs' 'Corn Chex'\n",
      " 'Corn Flakes' 'Corn Pops' 'Count Chocula' \"Cracklin' Oat Bran\"\n",
      " 'Cream of Wheat (Quick)' 'Crispix' 'Crispy Wheat & Raisins' 'Double Chex'\n",
      " 'Froot Loops' 'Frosted Flakes' 'Frosted Mini-Wheats'\n",
      " 'Fruit & Fibre Dates; Walnuts; and Oats' 'Fruitful Bran' 'Fruity Pebbles'\n",
      " 'Golden Crisp' 'Golden Grahams' 'Grape Nuts Flakes' 'Grape-Nuts'\n",
      " 'Great Grains Pecan' 'Honey Graham Ohs' 'Honey Nut Cheerios' 'Honey-comb'\n",
      " 'Just Right Crunchy  Nuggets' 'Just Right Fruit & Nut' 'Kix' 'Life'\n",
      " 'Lucky Charms' 'Maypo' 'Muesli Raisins; Dates; & Almonds'\n",
      " 'Muesli Raisins; Peaches; & Pecans' 'Mueslix Crispy Blend'\n",
      " 'Multi-Grain Cheerios' 'Nut&Honey Crunch' 'Nutri-Grain Almond-Raisin'\n",
      " 'Nutri-grain Wheat' 'Oatmeal Raisin Crisp' 'Post Nat. Raisin Bran'\n",
      " 'Product 19' 'Puffed Rice' 'Puffed Wheat' 'Quaker Oat Squares'\n",
      " 'Quaker Oatmeal' 'Raisin Bran' 'Raisin Nut Bran' 'Raisin Squares'\n",
      " 'Rice Chex' 'Rice Krispies' 'Shredded Wheat' \"Shredded Wheat 'n'Bran\"\n",
      " 'Shredded Wheat spoon size' 'Smacks' 'Special K'\n",
      " 'Strawberry Fruit Wheats' 'Total Corn Flakes' 'Total Raisin Bran'\n",
      " 'Total Whole Grain' 'Triples' 'Trix' 'Wheat Chex' 'Wheaties'\n",
      " 'Wheaties Honey Gold']\n"
     ]
    }
   ],
   "source": [
    "# Now use sort() to sort the array\n",
    "# print(np.sort(example)) # this creates a new sorted list\n",
    "example.sort()\n",
    "print(example)# this will sort the list itself"
   ]
  },
  {
   "cell_type": "code",
   "execution_count": 64,
   "metadata": {},
   "outputs": [
    {
     "data": {
      "text/plain": [
       "array(['name', 'mfr', 'type', 'calories', 'protein', 'fat', 'sodium',\n",
       "       'fiber', 'carbo', 'sugars', 'potass', 'vitamins', 'shelf',\n",
       "       'weight', 'cups', 'rating'], dtype='<U38')"
      ]
     },
     "execution_count": 64,
     "metadata": {},
     "output_type": "execute_result"
    }
   ],
   "source": [
    "feature_names"
   ]
  },
  {
   "cell_type": "code",
   "execution_count": 80,
   "metadata": {},
   "outputs": [
    {
     "name": "stdout",
     "output_type": "stream",
     "text": [
      "[ 6  9 13]\n",
      "[[ 1  2  6]\n",
      " [ 4  5  9]\n",
      " [ 7  8 13]]\n"
     ]
    }
   ],
   "source": [
    "my_data = np.array([[1, 2, 13],\n",
    "                    [4, 5, 6],\n",
    "                    [7, 8, 9]])\n",
    "last_col = my_data[:, 2]\n",
    "last_col.sort()\n",
    "print(last_col)\n",
    "print(my_data)"
   ]
  },
  {
   "cell_type": "code",
   "execution_count": 85,
   "metadata": {},
   "outputs": [
    {
     "name": "stdout",
     "output_type": "stream",
     "text": [
      "(array([15], dtype=int64),)\n",
      "[68.402973 33.983679 59.425505 93.704912 34.384843 29.509541 33.174094\n",
      " 37.038562 49.120253 53.313813 18.042851 50.764999 19.823573 40.400208\n",
      " 22.736446 41.445019 45.863324 35.782791 22.396513 40.448772 64.533816\n",
      " 46.895644 36.176196 44.330856 32.207582 31.435973 58.345141 40.917047\n",
      " 41.015492 28.025765 35.252444 23.804043 52.076897 53.371007 45.811716\n",
      " 21.871292 31.072217 28.742414 36.523683 36.471512 39.241114 45.328074\n",
      " 26.734515 54.850917 37.136863 34.139765 30.313351 40.105965 29.924285\n",
      " 40.69232  59.642837 30.450843 37.840594 41.50354  60.756112 63.005645\n",
      " 49.511874 50.828392 39.259197 39.7034   55.333142 41.998933 40.560159\n",
      " 68.235885 74.472949 72.801787 31.230054 53.131324 59.363993 38.839746\n",
      " 28.592785 46.658844 39.106174 27.753301 49.787445 51.592193 36.187559]\n",
      "maximum rating: 93.704912\n",
      "minimum rating: 18.042851\n",
      "average rating: 42.66570498701299\n",
      "(array([3], dtype=int64),)\n",
      "Product with highest rating: All-Bran with Extra Fiber\n",
      "(array([10], dtype=int64),)\n",
      "Cap'n'Crunch\n"
     ]
    }
   ],
   "source": [
    "# ------------- ratings ------------\n",
    "# What is the index of rating in feature_names?\n",
    "print(np.where(feature_names == \"rating\"))\n",
    "rating_data = np.array(data[:, 15]) # create a new numpy array with ratings\n",
    "# print(rating_data)\n",
    "# print(rating_data.dtype)\n",
    "# change the data type from string to float\n",
    "rating_data = rating_data.astype(float)\n",
    "print(rating_data)\n",
    "# rating_data_int = rating_data.astype(int)\n",
    "# print(rating_data_int)\n",
    "\n",
    "# Find the maximum rating\n",
    "print(\"maximum rating:\", np.max(rating_data))\n",
    "print(\"minimum rating:\", np.min(rating_data))\n",
    "print(\"average rating:\", np.mean(rating_data))\n",
    "\n",
    "highest_rating = np.max(rating_data)\n",
    "\n",
    "# Find the index corresponding to the highest rating\n",
    "highest_rating_index = np.where(rating_data == highest_rating)\n",
    "print(highest_rating_index)\n",
    "print(\"Product with highest rating:\", data[3, 0])\n",
    "\n",
    "lowest_rating = np.min(rating_data)\n",
    "\n",
    "lowest_rating_i = np.where(rating_data == lowest_rating)\n",
    "print(lowest_rating_i)\n",
    "print(data[10,0])\n",
    "# Sort the ratings using sort() and argsort()\n",
    "\n",
    "\n",
    "\n",
    "# Find the top five highest-rated cereal products\n",
    "\n",
    "\n",
    "\n",
    "# Find the top five lowest-rated cereal products\n",
    "\n",
    "\n"
   ]
  },
  {
   "cell_type": "code",
   "execution_count": null,
   "metadata": {
    "collapsed": true,
    "scrolled": true
   },
   "outputs": [],
   "source": [
    "# ------------- sugars -------------\n",
    "# What is the index of sugars in feature_names?\n",
    "\n",
    "\n",
    "\n",
    "# Is there any correlation between sugars and rating?\n",
    "import matplotlib.pyplot as plt\n",
    "%matplotlib inline\n",
    "# plt.plot(original_ratings, sugars_data)\n",
    "\n",
    "# change data type from str to float\n",
    "rating_data = original_ratings.astype(float)\n",
    "sugars_data = sugars_data.astype(float)\n",
    "# plt.plot(rating_data, sugars_data)\n",
    "\n",
    "# sort the ratings data (sugars data should be changed accordingly, how?)\n",
    "order = rating_data.argsort()\n",
    "print(\"order:\", order)\n",
    "plt.plot(rating_data[order], sugars_data[order], 'b.')\n"
   ]
  },
  {
   "cell_type": "code",
   "execution_count": null,
   "metadata": {
    "collapsed": true
   },
   "outputs": [],
   "source": [
    "# ------------- Weight -------------\n",
    "# What is the index of weight in feature_names?\n",
    "\n",
    "\n",
    "\n",
    "# How many different weights per serving are there?\n",
    "\n",
    "\n"
   ]
  },
  {
   "cell_type": "markdown",
   "metadata": {},
   "source": [
    "## Measure nutrition by serving\n",
    "\n",
    "The following project is inspired by [This Kaggle kernel](https://www.kaggle.com/frankwwu/how-cereal-manufacturers-mislead-consumers)\n",
    "\n",
    "Manufacturers like to measure nutrition with serving. Every manufacturer chaotically defines the serving with different weights and cups. Thus, for consumers, comparing nutrition measured with different serving is very confusing in practice. Imagine you are comparing nutrition facts of different cereals in a grocery store and they are measured with different serving, you definitely need a calculator and a piece of paper."
   ]
  },
  {
   "cell_type": "code",
   "execution_count": null,
   "metadata": {
    "collapsed": true
   },
   "outputs": [],
   "source": [
    "# Divide sugars by weight\n",
    "\n"
   ]
  },
  {
   "cell_type": "markdown",
   "metadata": {},
   "source": [
    "#### Arithmetic with NumPy arrays"
   ]
  },
  {
   "cell_type": "code",
   "execution_count": null,
   "metadata": {
    "collapsed": true
   },
   "outputs": [],
   "source": [
    "arr = np.array([[1., 2., 3.], [4., 5., 6.]])\n",
    "arr\n",
    "arr * arr\n",
    "arr - arr"
   ]
  },
  {
   "cell_type": "code",
   "execution_count": null,
   "metadata": {
    "collapsed": true
   },
   "outputs": [],
   "source": [
    "1 / arr\n",
    "arr ** 0.5"
   ]
  },
  {
   "cell_type": "code",
   "execution_count": null,
   "metadata": {
    "collapsed": true
   },
   "outputs": [],
   "source": [
    "arr2 = np.array([[0., 4., 1.], [7., 2., 12.]])\n",
    "arr2\n",
    "arr2 > arr"
   ]
  },
  {
   "cell_type": "code",
   "execution_count": 1,
   "metadata": {
    "collapsed": true
   },
   "outputs": [],
   "source": [
    "# Plot ratings vs. unified_sugars_data\n",
    "\n",
    "\n"
   ]
  },
  {
   "cell_type": "code",
   "execution_count": null,
   "metadata": {
    "collapsed": true
   },
   "outputs": [],
   "source": [
    "# What is the maximum and minimum amount of sugar in a unified serving?\n",
    "\n",
    "\n"
   ]
  },
  {
   "cell_type": "markdown",
   "metadata": {},
   "source": [
    "### Create our own ratings\n",
    "\n",
    "- good-cereal-rating = protein + fiber + vitamins\n",
    "- bad-cereal-rating = fat + sodium + potass + sugars"
   ]
  },
  {
   "cell_type": "code",
   "execution_count": null,
   "metadata": {
    "collapsed": true
   },
   "outputs": [],
   "source": [
    "good_rating = data[:, 4].astype(float) + data[:, 7].astype(float) + data[:, 11].astype(float)\n",
    "print(good_rating)"
   ]
  },
  {
   "cell_type": "code",
   "execution_count": null,
   "metadata": {
    "collapsed": true
   },
   "outputs": [],
   "source": [
    "plt.plot(rating_data, good_rating, 'b.')"
   ]
  },
  {
   "cell_type": "markdown",
   "metadata": {},
   "source": []
  },
  {
   "cell_type": "markdown",
   "metadata": {},
   "source": [
    "# Week 2 Homework\n",
    "1. Fat\n",
    "    - Calculate fat per gram\n",
    "    - What is the maximum and minimum value for fat per gram?\n",
    "2. Calories\n",
    "    - Calculate calories per gram\n",
    "    - find the top 5 cereals with highest calories\n",
    "    - find the top 5 cereals with lowest calories\n",
    "3. Bad rating\n",
    "    - Calculate bad-cereal-rating for each cereal\n",
    "    - Plot Ratings vs. Bad-Cereal-Ratings.\n",
    "    - Do they agree each other?"
   ]
  },
  {
   "cell_type": "code",
   "execution_count": 2,
   "metadata": {},
   "outputs": [
    {
     "name": "stdout",
     "output_type": "stream",
     "text": [
      "name, mfr, type, calories, protein, fat, sodium, fiber, carbo, sugars, potass, vitamins, shelf, weight, cups, rating\n"
     ]
    }
   ],
   "source": [
    "import numpy as np\n",
    "cereal = np.loadtxt(\"C:/Users/Emeka Bazor/Documents/GitHub/ds_coursework_python/cmp_464/cereal.csv\",\n",
    "                    dtype = str,\n",
    "                    delimiter = \",\")\n",
    "\n",
    "cereal_columns = cereal[0,:]\n",
    "print(\", \".join(cereal_columns))\n",
    "\n",
    "cereal_data = cereal[1:,:]"
   ]
  },
  {
   "cell_type": "markdown",
   "metadata": {},
   "source": [
    "1)"
   ]
  },
  {
   "cell_type": "code",
   "execution_count": 23,
   "metadata": {},
   "outputs": [
    {
     "name": "stdout",
     "output_type": "stream",
     "text": [
      "(array([5], dtype=int64),)\n",
      "(array([13], dtype=int64),)\n",
      "\n",
      "Fat Per Gram\n",
      "------------\n",
      "0.04\n",
      "0.18\n",
      "0.04\n",
      "0.00\n",
      "0.07\n",
      "0.07\n",
      "0.00\n",
      "0.05\n",
      "0.04\n",
      "0.00\n",
      "0.07\n",
      "0.07\n",
      "0.11\n",
      "0.07\n",
      "0.04\n",
      "0.00\n",
      "0.00\n",
      "0.00\n",
      "0.04\n",
      "0.11\n",
      "0.00\n",
      "0.00\n",
      "0.04\n",
      "0.00\n",
      "0.04\n",
      "0.00\n",
      "0.00\n",
      "0.06\n",
      "0.00\n",
      "0.04\n",
      "0.00\n",
      "0.04\n",
      "0.04\n",
      "0.00\n",
      "0.11\n",
      "0.07\n",
      "0.04\n",
      "0.00\n",
      "0.04\n",
      "0.03\n",
      "0.04\n",
      "0.07\n",
      "0.04\n",
      "0.04\n",
      "0.11\n",
      "0.11\n",
      "0.05\n",
      "0.04\n",
      "0.04\n",
      "0.05\n",
      "0.00\n",
      "0.06\n",
      "0.03\n",
      "0.00\n",
      "0.00\n",
      "0.00\n",
      "0.04\n",
      "0.07\n",
      "0.03\n",
      "0.07\n",
      "0.00\n",
      "0.00\n",
      "0.00\n",
      "0.00\n",
      "0.00\n",
      "0.00\n",
      "0.04\n",
      "0.00\n",
      "0.00\n",
      "0.04\n",
      "0.02\n",
      "0.04\n",
      "0.04\n",
      "0.04\n",
      "0.04\n",
      "0.04\n",
      "0.04\n"
     ]
    }
   ],
   "source": [
    "print(np.where(cereal_columns == \"fat\"))\n",
    "print(np.where(cereal_columns == \"weight\"))\n",
    "\n",
    "fat = cereal_data[:,5]\n",
    "ounces = cereal_data[:,13]\n",
    "\n",
    "fat = fat.astype(float)\n",
    "ounces = ounces.astype(float)\n",
    "grams = ounces * 28.3495\n",
    "\n",
    "fat_per_gram = fat / grams\n",
    "\n",
    "print(\"\\nFat Per Gram\")\n",
    "print(\"------------\")\n",
    "for element in fat_per_gram:\n",
    "        print(\"%.2f\" % (element))\n",
    "\n",
    "\n"
   ]
  },
  {
   "cell_type": "code",
   "execution_count": 29,
   "metadata": {},
   "outputs": [
    {
     "name": "stdout",
     "output_type": "stream",
     "text": [
      "max: 0.18\n",
      "min: 0.00\n"
     ]
    }
   ],
   "source": [
    "print(\"max: %.2f\" % np.max(fat_per_gram))\n",
    "print(\"min: %.2f\" % np.min(fat_per_gram))"
   ]
  },
  {
   "cell_type": "markdown",
   "metadata": {},
   "source": [
    "2)"
   ]
  },
  {
   "cell_type": "code",
   "execution_count": 31,
   "metadata": {},
   "outputs": [
    {
     "name": "stdout",
     "output_type": "stream",
     "text": [
      "(array([3], dtype=int64),)\n",
      "(array([13], dtype=int64),)\n",
      "\n",
      "Calories Per Gram\n",
      "------------\n",
      "2.47\n",
      "4.23\n",
      "2.47\n",
      "1.76\n",
      "3.88\n",
      "3.88\n",
      "3.88\n",
      "3.45\n",
      "3.17\n",
      "3.17\n",
      "4.23\n",
      "3.88\n",
      "4.23\n",
      "3.88\n",
      "3.88\n",
      "3.88\n",
      "3.53\n",
      "3.88\n",
      "3.88\n",
      "3.88\n",
      "3.53\n",
      "3.88\n",
      "3.53\n",
      "3.53\n",
      "3.88\n",
      "3.88\n",
      "3.53\n",
      "3.39\n",
      "3.18\n",
      "3.88\n",
      "3.53\n",
      "3.88\n",
      "3.53\n",
      "3.88\n",
      "4.23\n",
      "4.23\n",
      "3.88\n",
      "3.88\n",
      "3.88\n",
      "3.80\n",
      "3.88\n",
      "3.53\n",
      "3.88\n",
      "3.53\n",
      "5.29\n",
      "5.29\n",
      "3.76\n",
      "3.53\n",
      "4.23\n",
      "3.71\n",
      "3.17\n",
      "3.67\n",
      "3.18\n",
      "3.53\n",
      "3.53\n",
      "3.53\n",
      "3.53\n",
      "3.53\n",
      "3.18\n",
      "3.53\n",
      "3.17\n",
      "3.88\n",
      "3.88\n",
      "3.40\n",
      "3.17\n",
      "3.17\n",
      "3.88\n",
      "3.88\n",
      "3.17\n",
      "3.88\n",
      "3.29\n",
      "3.53\n",
      "3.88\n",
      "3.88\n",
      "3.53\n",
      "3.53\n",
      "3.88\n"
     ]
    }
   ],
   "source": [
    "print(np.where(cereal_columns == \"calories\"))\n",
    "print(np.where(cereal_columns == \"weight\"))\n",
    "\n",
    "calories = cereal_data[:,3]\n",
    "calories = calories.astype(float)\n",
    "\n",
    "\n",
    "\n",
    "calories_per_gram = calories / grams\n",
    "\n",
    "print(\"\\nCalories Per Gram\")\n",
    "print(\"------------\")\n",
    "for element in calories_per_gram:\n",
    "        print(\"%.2f\" % (element))\n"
   ]
  },
  {
   "cell_type": "code",
   "execution_count": 50,
   "metadata": {},
   "outputs": [
    {
     "name": "stdout",
     "output_type": "stream",
     "text": [
      "5 cereals with the lowest calories:  All-Bran with Extra Fiber|| Puffed Rice|| Puffed Wheat|| 100% Bran|| All-Bran\n",
      "5 cereals with the highest calories:  Mueslix Crispy Blend|| Muesli Raisins; Peaches; & Pecans|| Muesli Raisins; Dates; & Almonds|| Just Right Fruit & Nut|| Nutri-Grain Almond-Raisin\n"
     ]
    }
   ],
   "source": [
    "calories = calories.astype(int)\n",
    "cereal_names = cereal_data[:,0]\n",
    "\n",
    "\n",
    "sorted_indexes_calories = calories.argsort()\n",
    "min_calories = sorted_indexes_calories[0:5]\n",
    "print(\"5 cereals with the lowest calories: \", \"|| \".join(cereal_names[min_calories]))\n",
    "\n",
    "reverse_calories = sorted_indexes_calories[::-1]\n",
    "max_calories = reverse_calories[0:5]\n",
    "print(\"5 cereals with the highest calories: \", \"|| \".join(cereal_names[max_calories]))"
   ]
  },
  {
   "cell_type": "markdown",
   "metadata": {},
   "source": [
    "3)"
   ]
  },
  {
   "cell_type": "code",
   "execution_count": 33,
   "metadata": {},
   "outputs": [
    {
     "name": "stdout",
     "output_type": "stream",
     "text": [
      "rating index: (array([15], dtype=int64),)\n",
      "fat index:  (array([5], dtype=int64),)\n",
      "sodium index (array([6], dtype=int64),)\n",
      "potass index (array([10], dtype=int64),)\n",
      "sugars index (array([9], dtype=int64),)\n",
      "\n",
      "\n",
      "Bad Cereal Ratings\n",
      "------------------\n",
      "417\n",
      "163\n",
      "586\n",
      "470\n",
      "209\n",
      "262\n",
      "169\n",
      "320\n",
      "332\n",
      "405\n",
      "269\n",
      "398\n",
      "267\n",
      "254\n",
      "249\n",
      "308\n",
      "327\n",
      "122\n",
      "259\n",
      "310\n",
      "79\n",
      "253\n",
      "271\n",
      "275\n",
      "169\n",
      "236\n",
      "107\n",
      "372\n",
      "442\n",
      "173\n",
      "100\n",
      "335\n",
      "231\n",
      "263\n",
      "182\n",
      "278\n",
      "351\n",
      "226\n",
      "237\n",
      "275\n",
      "304\n",
      "253\n",
      "248\n",
      "99\n",
      "279\n",
      "334\n",
      "325\n",
      "317\n",
      "240\n",
      "359\n",
      "262\n",
      "302\n",
      "475\n",
      "368\n",
      "15\n",
      "50\n",
      "252\n",
      "111\n",
      "463\n",
      "290\n",
      "116\n",
      "272\n",
      "328\n",
      "95\n",
      "140\n",
      "120\n",
      "126\n",
      "288\n",
      "110\n",
      "239\n",
      "435\n",
      "314\n",
      "314\n",
      "178\n",
      "349\n",
      "314\n",
      "269\n"
     ]
    },
    {
     "data": {
      "text/plain": [
       "Text(0, 0.5, 'Bad Cereal Ratings')"
      ]
     },
     "execution_count": 33,
     "metadata": {},
     "output_type": "execute_result"
    },
    {
     "data": {
      "image/png": "[encoded data removed]",
      "text/plain": [
       "<Figure size 432x288 with 1 Axes>"
      ]
     },
     "metadata": {
      "needs_background": "light"
     },
     "output_type": "display_data"
    }
   ],
   "source": [
    "# bad-cereal-rating = fat + sodium + potass + sugars\n",
    "\n",
    "rating = cereal_data[:,15].astype(float)\n",
    "\n",
    "print(\"rating index:\", np.where(cereal_columns == \"rating\"))\n",
    "print(\"fat index: \", np.where(cereal_columns == \"fat\"))\n",
    "print(\"sodium index\", np.where(cereal_columns == \"sodium\"))\n",
    "print(\"potass index\", np.where(cereal_columns == \"potass\"))\n",
    "print(\"sugars index\", np.where(cereal_columns == \"sugars\"))\n",
    "print(\"\\n\")\n",
    "\n",
    "bad_cereal_rating = cereal_data[:,5].astype(int) + cereal_data[:,6].astype(int) + cereal_data[:,10].astype(int) + cereal_data[:,9].astype(int)\n",
    "\n",
    "print(\"Bad Cereal Ratings\")\n",
    "print(\"------------------\")\n",
    "for element in bad_cereal_rating:\n",
    "    print(element)\n",
    "\n",
    "import matplotlib.pyplot as plt\n",
    "%matplotlib inline\n",
    "\n",
    "order = cereal_data.argsort()\n",
    "plt.plot(rating, bad_cereal_rating,\".b\")\n",
    "plt.title(\"Normal Ratings vs. Bad Cereal Ratings\")\n",
    "plt.xlabel(\"Ratings\")\n",
    "plt.ylabel(\"Bad Cereal Ratings\")\n"
   ]
  },
  {
   "cell_type": "markdown",
   "metadata": {},
   "source": [
    "There's no obvious correlation between normal ratings and bad ratings (some cereals with high normal ratings have high bad ratings and some cereals with high normal ratings have low bad ratings). So they don't really agree with each other. "
   ]
  }
 ],
 "metadata": {
  "kernelspec": {
   "display_name": "Python 3",
   "language": "python",
   "name": "python3"
  },
  "language_info": {
   "codemirror_mode": {
    "name": "ipython",
    "version": 3
   },
   "file_extension": ".py",
   "mimetype": "text/x-python",
   "name": "python",
   "nbconvert_exporter": "python",
   "pygments_lexer": "ipython3",
   "version": "3.7.3"
  }
 },
 "nbformat": 4,
 "nbformat_minor": 2
}
