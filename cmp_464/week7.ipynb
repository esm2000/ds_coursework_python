{
 "cells": [
  {
   "cell_type": "markdown",
   "metadata": {},
   "source": [
    "# Chapter 9 Plotting and Visualization\n",
    "\n",
    "Making informative visualizations is one of the most important tasks in data analysis. It may serve the purpose for:\n",
    "\n",
    "- Data exploration\n",
    "- Getting ideas for building models\n",
    "- Present findings\n",
    "\n",
    "Let's start with matplotlib, a widely-used Python library for making plots."
   ]
  },
  {
   "cell_type": "code",
   "execution_count": 2,
   "metadata": {},
   "outputs": [],
   "source": [
    "import os\n",
    "import numpy as np\n",
    "import pandas as pd\n",
    "import matplotlib.pyplot as plt\n",
    "%matplotlib inline"
   ]
  },
  {
   "cell_type": "markdown",
   "metadata": {},
   "source": [
    "# Exercise: Exploring NYC Taxi Data\n",
    "Please download train.zip from [Kaggle](https://www.kaggle.com/c/nyc-taxi-trip-duration/data)"
   ]
  },
  {
   "cell_type": "code",
   "execution_count": 4,
   "metadata": {},
   "outputs": [
    {
     "name": "stdout",
     "output_type": "stream",
     "text": [
      "File Name                                             Modified             Size\n",
      "train.csv                                      2017-07-19 11:26:56    200589097\n"
     ]
    }
   ],
   "source": [
    "# Extract files\n",
    "import zipfile\n",
    "# if not os.path.exists(\"Data\"):\n",
    "#     os.mkdir(\"Data\")\n",
    "with zipfile.ZipFile(\"train.zip\", \"r\") as file:\n",
    "    file.printdir()\n",
    "    file.extractall(\"Data/nyctaxi\")"
   ]
  },
  {
   "cell_type": "code",
   "execution_count": 5,
   "metadata": {},
   "outputs": [],
   "source": [
    "taxidata = pd.read_csv(\"Data/nyctaxi/train.csv\", delimiter=\",\")"
   ]
  },
  {
   "cell_type": "code",
   "execution_count": 6,
   "metadata": {
    "scrolled": true
   },
   "outputs": [
    {
     "data": {
      "text/html": [
       "<div>\n",
       "<style scoped>\n",
       "    .dataframe tbody tr th:only-of-type {\n",
       "        vertical-align: middle;\n",
       "    }\n",
       "\n",
       "    .dataframe tbody tr th {\n",
       "        vertical-align: top;\n",
       "    }\n",
       "\n",
       "    .dataframe thead th {\n",
       "        text-align: right;\n",
       "    }\n",
       "</style>\n",
       "<table border=\"1\" class=\"dataframe\">\n",
       "  <thead>\n",
       "    <tr style=\"text-align: right;\">\n",
       "      <th></th>\n",
       "      <th>id</th>\n",
       "      <th>vendor_id</th>\n",
       "      <th>pickup_datetime</th>\n",
       "      <th>dropoff_datetime</th>\n",
       "      <th>passenger_count</th>\n",
       "      <th>pickup_longitude</th>\n",
       "      <th>pickup_latitude</th>\n",
       "      <th>dropoff_longitude</th>\n",
       "      <th>dropoff_latitude</th>\n",
       "      <th>store_and_fwd_flag</th>\n",
       "      <th>trip_duration</th>\n",
       "    </tr>\n",
       "  </thead>\n",
       "  <tbody>\n",
       "    <tr>\n",
       "      <th>0</th>\n",
       "      <td>id2875421</td>\n",
       "      <td>2</td>\n",
       "      <td>2016-03-14 17:24:55</td>\n",
       "      <td>2016-03-14 17:32:30</td>\n",
       "      <td>1</td>\n",
       "      <td>-73.982155</td>\n",
       "      <td>40.767937</td>\n",
       "      <td>-73.964630</td>\n",
       "      <td>40.765602</td>\n",
       "      <td>N</td>\n",
       "      <td>455</td>\n",
       "    </tr>\n",
       "    <tr>\n",
       "      <th>1</th>\n",
       "      <td>id2377394</td>\n",
       "      <td>1</td>\n",
       "      <td>2016-06-12 00:43:35</td>\n",
       "      <td>2016-06-12 00:54:38</td>\n",
       "      <td>1</td>\n",
       "      <td>-73.980415</td>\n",
       "      <td>40.738564</td>\n",
       "      <td>-73.999481</td>\n",
       "      <td>40.731152</td>\n",
       "      <td>N</td>\n",
       "      <td>663</td>\n",
       "    </tr>\n",
       "    <tr>\n",
       "      <th>2</th>\n",
       "      <td>id3858529</td>\n",
       "      <td>2</td>\n",
       "      <td>2016-01-19 11:35:24</td>\n",
       "      <td>2016-01-19 12:10:48</td>\n",
       "      <td>1</td>\n",
       "      <td>-73.979027</td>\n",
       "      <td>40.763939</td>\n",
       "      <td>-74.005333</td>\n",
       "      <td>40.710087</td>\n",
       "      <td>N</td>\n",
       "      <td>2124</td>\n",
       "    </tr>\n",
       "    <tr>\n",
       "      <th>3</th>\n",
       "      <td>id3504673</td>\n",
       "      <td>2</td>\n",
       "      <td>2016-04-06 19:32:31</td>\n",
       "      <td>2016-04-06 19:39:40</td>\n",
       "      <td>1</td>\n",
       "      <td>-74.010040</td>\n",
       "      <td>40.719971</td>\n",
       "      <td>-74.012268</td>\n",
       "      <td>40.706718</td>\n",
       "      <td>N</td>\n",
       "      <td>429</td>\n",
       "    </tr>\n",
       "    <tr>\n",
       "      <th>4</th>\n",
       "      <td>id2181028</td>\n",
       "      <td>2</td>\n",
       "      <td>2016-03-26 13:30:55</td>\n",
       "      <td>2016-03-26 13:38:10</td>\n",
       "      <td>1</td>\n",
       "      <td>-73.973053</td>\n",
       "      <td>40.793209</td>\n",
       "      <td>-73.972923</td>\n",
       "      <td>40.782520</td>\n",
       "      <td>N</td>\n",
       "      <td>435</td>\n",
       "    </tr>\n",
       "  </tbody>\n",
       "</table>\n",
       "</div>"
      ],
      "text/plain": [
       "          id  vendor_id      pickup_datetime     dropoff_datetime  \\\n",
       "0  id2875421          2  2016-03-14 17:24:55  2016-03-14 17:32:30   \n",
       "1  id2377394          1  2016-06-12 00:43:35  2016-06-12 00:54:38   \n",
       "2  id3858529          2  2016-01-19 11:35:24  2016-01-19 12:10:48   \n",
       "3  id3504673          2  2016-04-06 19:32:31  2016-04-06 19:39:40   \n",
       "4  id2181028          2  2016-03-26 13:30:55  2016-03-26 13:38:10   \n",
       "\n",
       "   passenger_count  pickup_longitude  pickup_latitude  dropoff_longitude  \\\n",
       "0                1        -73.982155        40.767937         -73.964630   \n",
       "1                1        -73.980415        40.738564         -73.999481   \n",
       "2                1        -73.979027        40.763939         -74.005333   \n",
       "3                1        -74.010040        40.719971         -74.012268   \n",
       "4                1        -73.973053        40.793209         -73.972923   \n",
       "\n",
       "   dropoff_latitude store_and_fwd_flag  trip_duration  \n",
       "0         40.765602                  N            455  \n",
       "1         40.731152                  N            663  \n",
       "2         40.710087                  N           2124  \n",
       "3         40.706718                  N            429  \n",
       "4         40.782520                  N            435  "
      ]
     },
     "execution_count": 6,
     "metadata": {},
     "output_type": "execute_result"
    }
   ],
   "source": [
    "taxidata.head()"
   ]
  },
  {
   "cell_type": "code",
   "execution_count": 7,
   "metadata": {},
   "outputs": [
    {
     "name": "stdout",
     "output_type": "stream",
     "text": [
      "Shape: (1458644, 11)\n"
     ]
    }
   ],
   "source": [
    "print(\"Shape:\", taxidata.shape)"
   ]
  },
  {
   "cell_type": "code",
   "execution_count": 8,
   "metadata": {},
   "outputs": [
    {
     "name": "stdout",
     "output_type": "stream",
     "text": [
      "Feature names: id, vendor_id, pickup_datetime, dropoff_datetime, passenger_count, pickup_longitude, pickup_latitude, dropoff_longitude, dropoff_latitude, store_and_fwd_flag, trip_duration\n"
     ]
    }
   ],
   "source": [
    "print(\"Feature names:\", \", \".join(taxidata.columns))"
   ]
  },
  {
   "cell_type": "code",
   "execution_count": 9,
   "metadata": {},
   "outputs": [
    {
     "name": "stdout",
     "output_type": "stream",
     "text": [
      "Data types: id                     object\n",
      "vendor_id               int64\n",
      "pickup_datetime        object\n",
      "dropoff_datetime       object\n",
      "passenger_count         int64\n",
      "pickup_longitude      float64\n",
      "pickup_latitude       float64\n",
      "dropoff_longitude     float64\n",
      "dropoff_latitude      float64\n",
      "store_and_fwd_flag     object\n",
      "trip_duration           int64\n",
      "dtype: object\n"
     ]
    }
   ],
   "source": [
    "print(\"Data types:\", taxidata.dtypes)"
   ]
  },
  {
   "cell_type": "code",
   "execution_count": 10,
   "metadata": {},
   "outputs": [],
   "source": [
    "# Change the data type of datetime columns\n",
    "taxidata['pickup_datetime'] = taxidata['pickup_datetime'].astype(\n",
    "    np.datetime64)"
   ]
  },
  {
   "cell_type": "code",
   "execution_count": 11,
   "metadata": {},
   "outputs": [],
   "source": [
    "taxidata['dropoff_datetime'] = taxidata['dropoff_datetime'].astype(\n",
    "                                np.datetime64)"
   ]
  },
  {
   "cell_type": "code",
   "execution_count": 12,
   "metadata": {},
   "outputs": [
    {
     "name": "stdout",
     "output_type": "stream",
     "text": [
      "Data Types: id                            object\n",
      "vendor_id                      int64\n",
      "pickup_datetime       datetime64[ns]\n",
      "dropoff_datetime      datetime64[ns]\n",
      "passenger_count                int64\n",
      "pickup_longitude             float64\n",
      "pickup_latitude              float64\n",
      "dropoff_longitude            float64\n",
      "dropoff_latitude             float64\n",
      "store_and_fwd_flag            object\n",
      "trip_duration                  int64\n",
      "dtype: object\n"
     ]
    }
   ],
   "source": [
    "print(\"Data Types:\", taxidata.dtypes)"
   ]
  },
  {
   "cell_type": "code",
   "execution_count": 13,
   "metadata": {},
   "outputs": [
    {
     "data": {
      "text/plain": [
       "id                    0\n",
       "vendor_id             0\n",
       "pickup_datetime       0\n",
       "dropoff_datetime      0\n",
       "passenger_count       0\n",
       "pickup_longitude      0\n",
       "pickup_latitude       0\n",
       "dropoff_longitude     0\n",
       "dropoff_latitude      0\n",
       "store_and_fwd_flag    0\n",
       "trip_duration         0\n",
       "dtype: int64"
      ]
     },
     "execution_count": 13,
     "metadata": {},
     "output_type": "execute_result"
    }
   ],
   "source": [
    "# Missing values?\n",
    "pd.isnull(taxidata).sum()"
   ]
  },
  {
   "cell_type": "code",
   "execution_count": 14,
   "metadata": {},
   "outputs": [
    {
     "data": {
      "text/html": [
       "<div>\n",
       "<style scoped>\n",
       "    .dataframe tbody tr th:only-of-type {\n",
       "        vertical-align: middle;\n",
       "    }\n",
       "\n",
       "    .dataframe tbody tr th {\n",
       "        vertical-align: top;\n",
       "    }\n",
       "\n",
       "    .dataframe thead th {\n",
       "        text-align: right;\n",
       "    }\n",
       "</style>\n",
       "<table border=\"1\" class=\"dataframe\">\n",
       "  <thead>\n",
       "    <tr style=\"text-align: right;\">\n",
       "      <th></th>\n",
       "      <th>vendor_id</th>\n",
       "      <th>passenger_count</th>\n",
       "      <th>pickup_longitude</th>\n",
       "      <th>pickup_latitude</th>\n",
       "      <th>dropoff_longitude</th>\n",
       "      <th>dropoff_latitude</th>\n",
       "      <th>trip_duration</th>\n",
       "    </tr>\n",
       "  </thead>\n",
       "  <tbody>\n",
       "    <tr>\n",
       "      <th>count</th>\n",
       "      <td>1.458644e+06</td>\n",
       "      <td>1.458644e+06</td>\n",
       "      <td>1.458644e+06</td>\n",
       "      <td>1.458644e+06</td>\n",
       "      <td>1.458644e+06</td>\n",
       "      <td>1.458644e+06</td>\n",
       "      <td>1.458644e+06</td>\n",
       "    </tr>\n",
       "    <tr>\n",
       "      <th>mean</th>\n",
       "      <td>1.534950e+00</td>\n",
       "      <td>1.664530e+00</td>\n",
       "      <td>-7.397349e+01</td>\n",
       "      <td>4.075092e+01</td>\n",
       "      <td>-7.397342e+01</td>\n",
       "      <td>4.075180e+01</td>\n",
       "      <td>9.594923e+02</td>\n",
       "    </tr>\n",
       "    <tr>\n",
       "      <th>std</th>\n",
       "      <td>4.987772e-01</td>\n",
       "      <td>1.314242e+00</td>\n",
       "      <td>7.090186e-02</td>\n",
       "      <td>3.288119e-02</td>\n",
       "      <td>7.064327e-02</td>\n",
       "      <td>3.589056e-02</td>\n",
       "      <td>5.237432e+03</td>\n",
       "    </tr>\n",
       "    <tr>\n",
       "      <th>min</th>\n",
       "      <td>1.000000e+00</td>\n",
       "      <td>0.000000e+00</td>\n",
       "      <td>-1.219333e+02</td>\n",
       "      <td>3.435970e+01</td>\n",
       "      <td>-1.219333e+02</td>\n",
       "      <td>3.218114e+01</td>\n",
       "      <td>1.000000e+00</td>\n",
       "    </tr>\n",
       "    <tr>\n",
       "      <th>25%</th>\n",
       "      <td>1.000000e+00</td>\n",
       "      <td>1.000000e+00</td>\n",
       "      <td>-7.399187e+01</td>\n",
       "      <td>4.073735e+01</td>\n",
       "      <td>-7.399133e+01</td>\n",
       "      <td>4.073588e+01</td>\n",
       "      <td>3.970000e+02</td>\n",
       "    </tr>\n",
       "    <tr>\n",
       "      <th>50%</th>\n",
       "      <td>2.000000e+00</td>\n",
       "      <td>1.000000e+00</td>\n",
       "      <td>-7.398174e+01</td>\n",
       "      <td>4.075410e+01</td>\n",
       "      <td>-7.397975e+01</td>\n",
       "      <td>4.075452e+01</td>\n",
       "      <td>6.620000e+02</td>\n",
       "    </tr>\n",
       "    <tr>\n",
       "      <th>75%</th>\n",
       "      <td>2.000000e+00</td>\n",
       "      <td>2.000000e+00</td>\n",
       "      <td>-7.396733e+01</td>\n",
       "      <td>4.076836e+01</td>\n",
       "      <td>-7.396301e+01</td>\n",
       "      <td>4.076981e+01</td>\n",
       "      <td>1.075000e+03</td>\n",
       "    </tr>\n",
       "    <tr>\n",
       "      <th>max</th>\n",
       "      <td>2.000000e+00</td>\n",
       "      <td>9.000000e+00</td>\n",
       "      <td>-6.133553e+01</td>\n",
       "      <td>5.188108e+01</td>\n",
       "      <td>-6.133553e+01</td>\n",
       "      <td>4.392103e+01</td>\n",
       "      <td>3.526282e+06</td>\n",
       "    </tr>\n",
       "  </tbody>\n",
       "</table>\n",
       "</div>"
      ],
      "text/plain": [
       "          vendor_id  passenger_count  pickup_longitude  pickup_latitude  \\\n",
       "count  1.458644e+06     1.458644e+06      1.458644e+06     1.458644e+06   \n",
       "mean   1.534950e+00     1.664530e+00     -7.397349e+01     4.075092e+01   \n",
       "std    4.987772e-01     1.314242e+00      7.090186e-02     3.288119e-02   \n",
       "min    1.000000e+00     0.000000e+00     -1.219333e+02     3.435970e+01   \n",
       "25%    1.000000e+00     1.000000e+00     -7.399187e+01     4.073735e+01   \n",
       "50%    2.000000e+00     1.000000e+00     -7.398174e+01     4.075410e+01   \n",
       "75%    2.000000e+00     2.000000e+00     -7.396733e+01     4.076836e+01   \n",
       "max    2.000000e+00     9.000000e+00     -6.133553e+01     5.188108e+01   \n",
       "\n",
       "       dropoff_longitude  dropoff_latitude  trip_duration  \n",
       "count       1.458644e+06      1.458644e+06   1.458644e+06  \n",
       "mean       -7.397342e+01      4.075180e+01   9.594923e+02  \n",
       "std         7.064327e-02      3.589056e-02   5.237432e+03  \n",
       "min        -1.219333e+02      3.218114e+01   1.000000e+00  \n",
       "25%        -7.399133e+01      4.073588e+01   3.970000e+02  \n",
       "50%        -7.397975e+01      4.075452e+01   6.620000e+02  \n",
       "75%        -7.396301e+01      4.076981e+01   1.075000e+03  \n",
       "max        -6.133553e+01      4.392103e+01   3.526282e+06  "
      ]
     },
     "execution_count": 14,
     "metadata": {},
     "output_type": "execute_result"
    }
   ],
   "source": [
    "# Look at statistics of numerical features\n",
    "taxidata.describe()"
   ]
  },
  {
   "cell_type": "markdown",
   "metadata": {},
   "source": [
    "## Visualization Task 1: Distribution of each column"
   ]
  },
  {
   "cell_type": "markdown",
   "metadata": {},
   "source": [
    "**Vender IDs**"
   ]
  },
  {
   "cell_type": "code",
   "execution_count": 19,
   "metadata": {},
   "outputs": [
    {
     "data": {
      "text/plain": [
       "Text(0, 0.5, 'Frequency')"
      ]
     },
     "execution_count": 19,
     "metadata": {},
     "output_type": "execute_result"
    },
    {
     "data": {
      "image/png": "[encoded data removed]",
      "text/plain": [
       "<Figure size 432x288 with 1 Axes>"
      ]
     },
     "metadata": {
      "needs_background": "light"
     },
     "output_type": "display_data"
    }
   ],
   "source": [
    "# plt.hist(taxidata['vendor_id'])\n",
    "vendor_id_counts = taxidata['vendor_id'].value_counts()\n",
    "\n",
    "#plt.bar(vendor_id_counts.index,\n",
    "#       vendor_id_counts.values)\n",
    "#plt.title(\"Vendor ID Counts\")\n",
    "#plt.xlabel(\"Vendor (1, 2)\")\n",
    "#plt.ylabel(\"Frequency\")\n",
    "\n",
    "fig = plt.figure()\n",
    "ax = fig.add_subplot(1,1,1)\n",
    "ax.set_title(\"Vendor ID Counts\")\n",
    "ax.bar(vendor_id_counts.index,\n",
    "      vendor_id_counts.values)\n",
    "ax.set_xticks([1,2])\n",
    "ax.set_xlabel(\"Vendor ID\")\n",
    "ax.set_ylabel(\"Frequency\")"
   ]
  },
  {
   "cell_type": "code",
   "execution_count": 40,
   "metadata": {},
   "outputs": [
    {
     "data": {
      "text/plain": [
       "Text(0, 0.5, 'Frequency')"
      ]
     },
     "execution_count": 40,
     "metadata": {},
     "output_type": "execute_result"
    },
    {
     "data": {
      "image/png": "[encoded data removed]",
      "text/plain": [
       "<Figure size 720x360 with 2 Axes>"
      ]
     },
     "metadata": {
      "needs_background": "light"
     },
     "output_type": "display_data"
    }
   ],
   "source": [
    "# Extract trips with Vendor ID 1.\n",
    "\n",
    "id1_filter = taxidata[\"vendor_id\"] == 1\n",
    "taxidata_id1 = taxidata[id1_filter]\n",
    "\n",
    "# Extract trips with Vendor ID 2.\n",
    "\n",
    "id2_filter = taxidata[\"vendor_id\"] == 2\n",
    "taxidata_id2 = taxidata[id2_filter]\n",
    "\n",
    "# Show the histogram of trip duration\n",
    "\n",
    "fig = plt.figure(figsize = (10, 5))\n",
    "\n",
    "ax1 = fig.add_subplot(1, 2, 1)\n",
    "ax2 = fig.add_subplot(1, 2, 2)\n",
    "\n",
    "ax1.hist(taxidata_id1[\"trip_duration\"], range = (0,3600), edgecolor = \"w\")\n",
    "ax1.set_ylim(0,280000)\n",
    "ax1.set_title(\"Distribution of Trip Durations for Vendor 1\")\n",
    "ax1.set_xlabel(\"Trip Duration in Seconds\")\n",
    "ax1.set_ylabel(\"Frequency\")\n",
    "\n",
    "ax2.hist(taxidata_id2[\"trip_duration\"], range = (0,3600), edgecolor = \"w\", color = 'r')\n",
    "ax2.set_ylim(0,280000)\n",
    "ax2.set_title(\"Distribution of Trip Durations for Vendor 2\")\n",
    "ax2.set_xlabel(\"Trip Duration in Seconds\")\n",
    "ax2.set_ylabel(\"Frequency\")"
   ]
  },
  {
   "cell_type": "markdown",
   "metadata": {},
   "source": [
    "**Passenger count**"
   ]
  },
  {
   "cell_type": "code",
   "execution_count": 42,
   "metadata": {},
   "outputs": [
    {
     "data": {
      "text/plain": [
       "0         60\n",
       "1    1033540\n",
       "2     210318\n",
       "3      59896\n",
       "4      28404\n",
       "5      78088\n",
       "6      48333\n",
       "7          3\n",
       "8          1\n",
       "9          1\n",
       "Name: passenger_count, dtype: int64"
      ]
     },
     "execution_count": 42,
     "metadata": {},
     "output_type": "execute_result"
    }
   ],
   "source": [
    "taxidata[\"passenger_count\"].value_counts().sort_index()"
   ]
  },
  {
   "cell_type": "code",
   "execution_count": 50,
   "metadata": {},
   "outputs": [
    {
     "data": {
      "text/plain": [
       "Text(0, 0.5, 'Frequency')"
      ]
     },
     "execution_count": 50,
     "metadata": {},
     "output_type": "execute_result"
    },
    {
     "data": {
      "image/png": "[encoded data removed]",
      "text/plain": [
       "<Figure size 432x288 with 1 Axes>"
      ]
     },
     "metadata": {
      "needs_background": "light"
     },
     "output_type": "display_data"
    }
   ],
   "source": [
    "taxidata[\"passenger_count\"].hist(bins = 5,\n",
    "                                 range = (1,6),\n",
    "                                edgecolor = \"w\",\n",
    "                                grid = False)\n",
    "plt.title(\"Distribution of Passenger Counts\")\n",
    "plt.xlabel(\"Passenger Count\")\n",
    "plt.ylabel(\"Frequency\")"
   ]
  },
  {
   "cell_type": "markdown",
   "metadata": {},
   "source": [
    "There are 60 trips with no passenger. We should remove those instaces from the data frame."
   ]
  },
  {
   "cell_type": "code",
   "execution_count": 46,
   "metadata": {},
   "outputs": [],
   "source": [
    "zero_pass_filter = taxidata[\"passenger_count\"] > 0\n",
    "taxidata = taxidata[zero_pass_filter]"
   ]
  },
  {
   "cell_type": "code",
   "execution_count": 55,
   "metadata": {},
   "outputs": [],
   "source": [
    "#taxidata.to_csv(\"filtered_taxi.csv\")"
   ]
  },
  {
   "cell_type": "markdown",
   "metadata": {},
   "source": [
    "**Flag**"
   ]
  },
  {
   "cell_type": "code",
   "execution_count": 53,
   "metadata": {},
   "outputs": [
    {
     "name": "stdout",
     "output_type": "stream",
     "text": [
      "{'N', 'Y'}\n",
      "N    1450542\n",
      "Y       8042\n",
      "Name: store_and_fwd_flag, dtype: int64\n"
     ]
    }
   ],
   "source": [
    "# What are the values in this column?\n",
    "print(set(taxidata[\"store_and_fwd_flag\"]))\n",
    "\n",
    "# What are the frequencies?\n",
    "print(taxidata[\"store_and_fwd_flag\"].value_counts())\n",
    "\n",
    "# compare the histogram of trip duration for Yes and No (HOMEWORK #1)\n"
   ]
  },
  {
   "cell_type": "markdown",
   "metadata": {},
   "source": [
    "**Trip duration**"
   ]
  },
  {
   "cell_type": "code",
   "execution_count": 67,
   "metadata": {},
   "outputs": [],
   "source": [
    "# Investigate outliers\n",
    "\n",
    "# extract trips longer than 1 hour\n",
    "# long_filter = taxidata[\"trip_duration\"] > 36000\n",
    "# taxidata[long_filter].head(5)\n",
    "\n",
    "# extract trips shorter than 10 seconds\n",
    "taxidata_short = taxidata[taxidata[\"trip_duration\"] < 60]\n",
    "taxidata_short.sample(10)\n",
    "taxidata_short.shape\n",
    "\n",
    "# remove trips whose duration si longer than 7200 or less than 60 \n",
    "duration_filter = (taxidata[\"trip_duration\"] >= 60) & (taxidata[\"trip_duration\"] < 7200)\n",
    "taxidata = taxidata[duration_filter]"
   ]
  },
  {
   "cell_type": "code",
   "execution_count": 68,
   "metadata": {},
   "outputs": [],
   "source": [
    "taxidata.to_csv(\"filtered_taxi.csv\")"
   ]
  },
  {
   "cell_type": "code",
   "execution_count": 70,
   "metadata": {},
   "outputs": [
    {
     "data": {
      "text/plain": [
       "<matplotlib.axes._subplots.AxesSubplot at 0x21d079a8898>"
      ]
     },
     "execution_count": 70,
     "metadata": {},
     "output_type": "execute_result"
    },
    {
     "data": {
      "image/png": "[encoded data removed]",
      "text/plain": [
       "<Figure size 432x288 with 1 Axes>"
      ]
     },
     "metadata": {
      "needs_background": "light"
     },
     "output_type": "display_data"
    }
   ],
   "source": [
    "taxidata[\"trip_duration\"].hist(bins = 20, grid = False, edgecolor = 'w')"
   ]
  },
  {
   "cell_type": "markdown",
   "metadata": {
    "collapsed": true
   },
   "source": [
    "**Pick-up and drop-off datetime**"
   ]
  },
  {
   "cell_type": "code",
   "execution_count": null,
   "metadata": {},
   "outputs": [],
   "source": []
  },
  {
   "cell_type": "markdown",
   "metadata": {},
   "source": [
    "**Longitudes and Latitudes**"
   ]
  },
  {
   "cell_type": "code",
   "execution_count": null,
   "metadata": {},
   "outputs": [],
   "source": []
  },
  {
   "cell_type": "markdown",
   "metadata": {},
   "source": [
    "## Consistency Check\n",
    "- Is dropoff_time always greater than pickup_time?\n",
    "- Is the difference between dropoff_time and pickup_time equal to trip_duration?\n",
    "- Is the difference between dropoff_time and pickup_time too large to be accurate?\n",
    "- Is the difference between dropoff_time and pickup_time too small to be accurate?"
   ]
  },
  {
   "cell_type": "code",
   "execution_count": null,
   "metadata": {},
   "outputs": [],
   "source": [
    "# Is dropoff_time always greater than pickup_time?\n",
    "\n"
   ]
  },
  {
   "cell_type": "code",
   "execution_count": null,
   "metadata": {},
   "outputs": [],
   "source": [
    "# Is the difference between dropoff_time and pickup_time equal to trip_duration?\n",
    "\n"
   ]
  },
  {
   "cell_type": "code",
   "execution_count": null,
   "metadata": {},
   "outputs": [],
   "source": [
    "# Is the difference between dropoff_time and pickup_time too large to be accurate?\n",
    "\n"
   ]
  },
  {
   "cell_type": "code",
   "execution_count": null,
   "metadata": {},
   "outputs": [],
   "source": [
    "# Is the difference between dropoff_time and pickup_time too small to be accurate?\n",
    "\n"
   ]
  },
  {
   "cell_type": "markdown",
   "metadata": {},
   "source": [
    "## Visualization Task 2: Correlations between a feature and trip_duration"
   ]
  },
  {
   "cell_type": "code",
   "execution_count": null,
   "metadata": {},
   "outputs": [],
   "source": [
    "# passenger count vs. trip duration\n",
    "\n"
   ]
  },
  {
   "cell_type": "code",
   "execution_count": null,
   "metadata": {},
   "outputs": [],
   "source": [
    "# pickup location vs. trip duration\n",
    "\n"
   ]
  },
  {
   "cell_type": "code",
   "execution_count": 78,
   "metadata": {},
   "outputs": [],
   "source": [
    "# dropoff location vs. trip duration\n",
    "\n"
   ]
  },
  {
   "cell_type": "markdown",
   "metadata": {},
   "source": [
    "## Feature engineering\n",
    "The raw data usually is not the best way to provide useful features for a specific task. Therefore it is a crucial ability for a data scientist to create more meaningful features from the dataset.\n",
    "\n",
    "- Hour of the day\n",
    "- Day of the week\n",
    "- Aerial distance"
   ]
  },
  {
   "cell_type": "code",
   "execution_count": null,
   "metadata": {},
   "outputs": [],
   "source": [
    "# hour of the day vs. trip duration\n",
    "\n"
   ]
  },
  {
   "cell_type": "code",
   "execution_count": 79,
   "metadata": {},
   "outputs": [],
   "source": [
    "# day of the week vs. trip duration\n",
    "\n"
   ]
  },
  {
   "cell_type": "code",
   "execution_count": 80,
   "metadata": {},
   "outputs": [],
   "source": [
    "# Aerial distance vs. trip duration\n",
    "\n"
   ]
  },
  {
   "cell_type": "markdown",
   "metadata": {},
   "source": [
    "The trip duration is affected by many factors at the same time, and thus a good prediction method should account for all these factors. To further investigate the problem of predicting taxi trip duration, one would need to develop multi-variate statistical models (strong assumption on the distribution of data) or machine learning models (weak assumption on the distribution of data). If you are interested, look into the discussion in the [notebook section on Kaggle.com](https://www.kaggle.com/c/nyc-taxi-trip-duration/notebooks)."
   ]
  },
  {
   "cell_type": "markdown",
   "metadata": {},
   "source": [
    "## Annotations "
   ]
  },
  {
   "cell_type": "code",
   "execution_count": 81,
   "metadata": {},
   "outputs": [
    {
     "data": {
      "text/html": [
       "<div>\n",
       "<style scoped>\n",
       "    .dataframe tbody tr th:only-of-type {\n",
       "        vertical-align: middle;\n",
       "    }\n",
       "\n",
       "    .dataframe tbody tr th {\n",
       "        vertical-align: top;\n",
       "    }\n",
       "\n",
       "    .dataframe thead th {\n",
       "        text-align: right;\n",
       "    }\n",
       "</style>\n",
       "<table border=\"1\" class=\"dataframe\">\n",
       "  <thead>\n",
       "    <tr style=\"text-align: right;\">\n",
       "      <th></th>\n",
       "      <th>close</th>\n",
       "      <th>high</th>\n",
       "      <th>low</th>\n",
       "      <th>open</th>\n",
       "      <th>volumefrom</th>\n",
       "      <th>volumeto</th>\n",
       "    </tr>\n",
       "    <tr>\n",
       "      <th>time</th>\n",
       "      <th></th>\n",
       "      <th></th>\n",
       "      <th></th>\n",
       "      <th></th>\n",
       "      <th></th>\n",
       "      <th></th>\n",
       "    </tr>\n",
       "  </thead>\n",
       "  <tbody>\n",
       "    <tr>\n",
       "      <td>2019-10-05</td>\n",
       "      <td>8172.48</td>\n",
       "      <td>8232.25</td>\n",
       "      <td>8052.51</td>\n",
       "      <td>8168.05</td>\n",
       "      <td>17371.63</td>\n",
       "      <td>1.416857e+08</td>\n",
       "    </tr>\n",
       "    <tr>\n",
       "      <td>2019-10-06</td>\n",
       "      <td>7868.31</td>\n",
       "      <td>8221.03</td>\n",
       "      <td>7822.65</td>\n",
       "      <td>8172.48</td>\n",
       "      <td>30026.91</td>\n",
       "      <td>2.396367e+08</td>\n",
       "    </tr>\n",
       "    <tr>\n",
       "      <td>2019-10-07</td>\n",
       "      <td>8224.80</td>\n",
       "      <td>8249.46</td>\n",
       "      <td>7798.09</td>\n",
       "      <td>7868.31</td>\n",
       "      <td>27157.74</td>\n",
       "      <td>2.180912e+08</td>\n",
       "    </tr>\n",
       "  </tbody>\n",
       "</table>\n",
       "</div>"
      ],
      "text/plain": [
       "              close     high      low     open  volumefrom      volumeto\n",
       "time                                                                    \n",
       "2019-10-05  8172.48  8232.25  8052.51  8168.05    17371.63  1.416857e+08\n",
       "2019-10-06  7868.31  8221.03  7822.65  8172.48    30026.91  2.396367e+08\n",
       "2019-10-07  8224.80  8249.46  7798.09  7868.31    27157.74  2.180912e+08"
      ]
     },
     "execution_count": 81,
     "metadata": {},
     "output_type": "execute_result"
    }
   ],
   "source": [
    "# Load the bitcoin price data\n",
    "import json\n",
    "import requests\n",
    "endpoint = 'https://min-api.cryptocompare.com/data/histoday'\n",
    "res = requests.get(endpoint + '?fsym=BTC&tsym=USD&limit=2000')\n",
    "data = pd.DataFrame(json.loads(res.content)['Data'])\n",
    "data = data.set_index('time')\n",
    "data.index = pd.to_datetime(data.index, unit='s')\n",
    "data.tail(3)"
   ]
  },
  {
   "cell_type": "code",
   "execution_count": 116,
   "metadata": {},
   "outputs": [
    {
     "data": {
      "image/png": "[encoded data removed]",
      "text/plain": [
       "<Figure size 432x288 with 1 Axes>"
      ]
     },
     "metadata": {
      "needs_background": "light"
     },
     "output_type": "display_data"
    }
   ],
   "source": [
    "from datetime import datetime\n",
    "fig = plt.figure()\n",
    "ax = fig.add_subplot(111)\n",
    "\n",
    "ax.plot(data['close'])\n",
    "\n",
    "peaks = [\n",
    "    (datetime(2017, 12, 6), '19345.49'),\n",
    "    (datetime(2019, 6, 26), '12913.28')\n",
    "]\n",
    "\n",
    "for date, label in peaks:\n",
    "    ax.annotate(label,\n",
    "                xy=(date, data.asof(date)['close']+100),\n",
    "                xytext=(date, data.asof(date)['close']-10000),\n",
    "                arrowprops=dict(facecolor='black', headwidth=4, width=2, headlength=4),\n",
    "                horizontalalignment='left',\n",
    "                verticalalignment='top')"
   ]
  },
  {
   "cell_type": "code",
   "execution_count": null,
   "metadata": {},
   "outputs": [],
   "source": [
    "# Add low points to the figure\n",
    "\n"
   ]
  },
  {
   "cell_type": "code",
   "execution_count": null,
   "metadata": {},
   "outputs": [],
   "source": [
    "# Add shapes\n",
    "\n"
   ]
  },
  {
   "cell_type": "code",
   "execution_count": null,
   "metadata": {},
   "outputs": [],
   "source": []
  },
  {
   "cell_type": "markdown",
   "metadata": {},
   "source": [
    "# Homework (not due yet)\n",
    "The JFK international airport is located within longitude -73.82 to -73.78 and latitude 40.63 to 40.67. Extract all taxi trips who picked up passengers from this area.\n",
    "1. For this sub-dataset only, visualize the correlation between the aerial distance and the trip duration.\n",
    "2. For this sub-dataset only, visualize the drop-off location using dropoff_longitude and dropoff_latitude.\n",
    "3. There was a snow storm on Jan 23, 2016. Is the distribution of trip_duration on that day different from the rest of the year?"
   ]
  },
  {
   "cell_type": "code",
   "execution_count": null,
   "metadata": {},
   "outputs": [],
   "source": []
  }
 ],
 "metadata": {
  "kernelspec": {
   "display_name": "Python 3",
   "language": "python",
   "name": "python3"
  },
  "language_info": {
   "codemirror_mode": {
    "name": "ipython",
    "version": 3
   },
   "file_extension": ".py",
   "mimetype": "text/x-python",
   "name": "python",
   "nbconvert_exporter": "python",
   "pygments_lexer": "ipython3",
   "version": "3.7.3"
  }
 },
 "nbformat": 4,
 "nbformat_minor": 2
}
