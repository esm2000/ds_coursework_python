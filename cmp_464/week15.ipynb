{
 "cells": [
  {
   "cell_type": "markdown",
   "metadata": {},
   "source": [
    "# Chapter 11 Time Series\n",
    "\n",
    "Time series data is a data set where instances are indexed by time. It is an important form of structured data in many fields such as finance, economics, ecology, neuroscience, and physics. "
   ]
  },
  {
   "cell_type": "code",
   "execution_count": 1,
   "metadata": {},
   "outputs": [],
   "source": [
    "import numpy as np\n",
    "import pandas as pd\n",
    "import matplotlib.pyplot as plt\n",
    "%matplotlib inline"
   ]
  },
  {
   "cell_type": "markdown",
   "metadata": {},
   "source": [
    "## 1. Date and Time Data Types and Tools\n",
    "\n",
    "In Python, the `datetime.datetime` class is widely used to represent date and time data."
   ]
  },
  {
   "cell_type": "code",
   "execution_count": 2,
   "metadata": {},
   "outputs": [
    {
     "data": {
      "text/plain": [
       "datetime.datetime(2019, 12, 4, 15, 26, 52, 267972)"
      ]
     },
     "execution_count": 2,
     "metadata": {},
     "output_type": "execute_result"
    }
   ],
   "source": [
    "from datetime import datetime\n",
    "\n",
    "datetime.now()"
   ]
  },
  {
   "cell_type": "code",
   "execution_count": 3,
   "metadata": {},
   "outputs": [
    {
     "data": {
      "text/plain": [
       "2019"
      ]
     },
     "execution_count": 3,
     "metadata": {},
     "output_type": "execute_result"
    }
   ],
   "source": [
    "datetime.now().year"
   ]
  },
  {
   "cell_type": "code",
   "execution_count": 4,
   "metadata": {},
   "outputs": [
    {
     "data": {
      "text/plain": [
       "4"
      ]
     },
     "execution_count": 4,
     "metadata": {},
     "output_type": "execute_result"
    }
   ],
   "source": [
    "datetime.now().day"
   ]
  },
  {
   "cell_type": "code",
   "execution_count": 5,
   "metadata": {},
   "outputs": [
    {
     "data": {
      "text/plain": [
       "12"
      ]
     },
     "execution_count": 5,
     "metadata": {},
     "output_type": "execute_result"
    }
   ],
   "source": [
    "datetime.now().month"
   ]
  },
  {
   "cell_type": "markdown",
   "metadata": {},
   "source": [
    "We can use `datetime.timedelta` to represent the temporal difference between two `datetime` objects."
   ]
  },
  {
   "cell_type": "code",
   "execution_count": 6,
   "metadata": {},
   "outputs": [
    {
     "data": {
      "text/plain": [
       "datetime.datetime(2019, 12, 14, 15, 27, 45, 134635)"
      ]
     },
     "execution_count": 6,
     "metadata": {},
     "output_type": "execute_result"
    }
   ],
   "source": [
    "from datetime import timedelta\n",
    "\n",
    "delta = timedelta(10)\n",
    "\n",
    "datetime.now() + delta"
   ]
  },
  {
   "cell_type": "code",
   "execution_count": 7,
   "metadata": {},
   "outputs": [
    {
     "data": {
      "text/plain": [
       "datetime.timedelta(days=7, seconds=30703, microseconds=295256)"
      ]
     },
     "execution_count": 7,
     "metadata": {},
     "output_type": "execute_result"
    }
   ],
   "source": [
    "date1 = datetime(2019, 12, 12)\n",
    "date2 = datetime.now()\n",
    "date1 - date2"
   ]
  },
  {
   "cell_type": "markdown",
   "metadata": {},
   "source": [
    "**Convert between string and datetime**"
   ]
  },
  {
   "cell_type": "code",
   "execution_count": 8,
   "metadata": {},
   "outputs": [
    {
     "data": {
      "text/plain": [
       "'2011-01-03 23:30:45'"
      ]
     },
     "execution_count": 8,
     "metadata": {},
     "output_type": "execute_result"
    }
   ],
   "source": [
    "# datetime to string\n",
    "date = datetime(2011, 1, 3, 23, 30, 45)\n",
    "str(date)"
   ]
  },
  {
   "cell_type": "code",
   "execution_count": 9,
   "metadata": {},
   "outputs": [
    {
     "data": {
      "text/plain": [
       "'2011/01/03 23:30, Monday'"
      ]
     },
     "execution_count": 9,
     "metadata": {},
     "output_type": "execute_result"
    }
   ],
   "source": [
    "# Convert to format \"YYYY-MM-DD\"\n",
    "date.strftime(\"%Y/%m/%d %H:%M, %A\")"
   ]
  },
  {
   "cell_type": "code",
   "execution_count": 10,
   "metadata": {},
   "outputs": [
    {
     "data": {
      "text/plain": [
       "'01/03/2011'"
      ]
     },
     "execution_count": 10,
     "metadata": {},
     "output_type": "execute_result"
    }
   ],
   "source": [
    "# COnvert to format \"MM-DD-YYYY\"\n",
    "date.strftime(\"%m/%d/%Y\")"
   ]
  },
  {
   "cell_type": "markdown",
   "metadata": {},
   "source": [
    "Datetime formats:\n",
    "- %Y: Four-digit year\n",
    "- %y: Two-digit year\n",
    "- %m: Two-digit month\n",
    "- %d: Two-digit day\n",
    "- %H: Hour 0 - 23\n",
    "- %I: Hour 1 - 12\n",
    "- %M: Two-digit minute\n",
    "- %S: Second\n",
    "- %w: Weekday\n",
    "\n",
    "[More on this](https://docs.python.org/2/library/datetime.html)"
   ]
  },
  {
   "cell_type": "code",
   "execution_count": 11,
   "metadata": {},
   "outputs": [
    {
     "data": {
      "text/plain": [
       "'01/03/2011'"
      ]
     },
     "execution_count": 11,
     "metadata": {},
     "output_type": "execute_result"
    }
   ],
   "source": [
    "# Exercise: convert date to \"01/03/2011\"\n",
    "date = datetime(2011, 1, 3)\n",
    "date.strftime(\"%m/%d/%Y\") # the formats are case-sensitive"
   ]
  },
  {
   "cell_type": "code",
   "execution_count": 12,
   "metadata": {},
   "outputs": [
    {
     "data": {
      "text/plain": [
       "'01-03-2011 00:00'"
      ]
     },
     "execution_count": 12,
     "metadata": {},
     "output_type": "execute_result"
    }
   ],
   "source": [
    "# Exercise: convert date to \"01-03-2011 00:00\"\n",
    "date.strftime(\"%m-%d-%Y %H:%M\")"
   ]
  },
  {
   "cell_type": "code",
   "execution_count": 17,
   "metadata": {},
   "outputs": [
    {
     "data": {
      "text/plain": [
       "0"
      ]
     },
     "execution_count": 17,
     "metadata": {},
     "output_type": "execute_result"
    }
   ],
   "source": [
    "# String to datetime\n",
    "from dateutil.parser import parse\n",
    "parse(\"2011-01-03\").second"
   ]
  },
  {
   "cell_type": "code",
   "execution_count": 18,
   "metadata": {},
   "outputs": [
    {
     "data": {
      "text/plain": [
       "datetime.datetime(1997, 1, 31, 22, 45)"
      ]
     },
     "execution_count": 18,
     "metadata": {},
     "output_type": "execute_result"
    }
   ],
   "source": [
    "parse(\"Jan 31, 1997 10:45 PM\")"
   ]
  },
  {
   "cell_type": "code",
   "execution_count": 19,
   "metadata": {},
   "outputs": [
    {
     "data": {
      "text/plain": [
       "datetime.datetime(2011, 12, 6, 0, 0)"
      ]
     },
     "execution_count": 19,
     "metadata": {},
     "output_type": "execute_result"
    }
   ],
   "source": [
    "# Many countries use format \"DD/MM/YYYY\". We need to set dayfirst=True\n",
    "# so that the date is correctly recognized.\n",
    "parse(\"06/12/2011\", dayfirst=True)"
   ]
  },
  {
   "cell_type": "code",
   "execution_count": 20,
   "metadata": {},
   "outputs": [
    {
     "data": {
      "text/plain": [
       "datetime.datetime(2011, 6, 12, 0, 0)"
      ]
     },
     "execution_count": 20,
     "metadata": {},
     "output_type": "execute_result"
    }
   ],
   "source": [
    "parse(\"06/12/2011\")"
   ]
  },
  {
   "cell_type": "markdown",
   "metadata": {},
   "source": [
    "## 2. Time Series Basics"
   ]
  },
  {
   "cell_type": "code",
   "execution_count": 21,
   "metadata": {},
   "outputs": [
    {
     "data": {
      "text/plain": [
       "2011-01-02    0.597994\n",
       "2011-01-05    0.076584\n",
       "2011-02-07    0.478282\n",
       "2011-02-08   -0.212246\n",
       "2011-03-10    0.457621\n",
       "2011-03-12   -1.862221\n",
       "dtype: float64"
      ]
     },
     "execution_count": 21,
     "metadata": {},
     "output_type": "execute_result"
    }
   ],
   "source": [
    "# Create a list of datetime objects\n",
    "dates = [datetime(2011, 1, 2), datetime(2011, 1, 5),\n",
    "         datetime(2011, 2, 7), datetime(2011, 2, 8),\n",
    "         datetime(2011, 3, 10), datetime(2011, 3, 12)]\n",
    "ts = pd.Series(np.random.randn(6), index=dates)\n",
    "ts"
   ]
  },
  {
   "cell_type": "code",
   "execution_count": 22,
   "metadata": {},
   "outputs": [
    {
     "data": {
      "text/plain": [
       "0.07658426770489192"
      ]
     },
     "execution_count": 22,
     "metadata": {},
     "output_type": "execute_result"
    }
   ],
   "source": [
    "# Select 01/05\n",
    "ts['2011-01-05']"
   ]
  },
  {
   "cell_type": "code",
   "execution_count": 23,
   "metadata": {},
   "outputs": [
    {
     "data": {
      "text/plain": [
       "0.07658426770489192"
      ]
     },
     "execution_count": 23,
     "metadata": {},
     "output_type": "execute_result"
    }
   ],
   "source": [
    "ts[1]"
   ]
  },
  {
   "cell_type": "code",
   "execution_count": 24,
   "metadata": {},
   "outputs": [
    {
     "data": {
      "text/plain": [
       "0.07658426770489192"
      ]
     },
     "execution_count": 24,
     "metadata": {},
     "output_type": "execute_result"
    }
   ],
   "source": [
    "ts['01/05/2011']"
   ]
  },
  {
   "cell_type": "code",
   "execution_count": 25,
   "metadata": {},
   "outputs": [
    {
     "data": {
      "text/plain": [
       "0.07658426770489192"
      ]
     },
     "execution_count": 25,
     "metadata": {},
     "output_type": "execute_result"
    }
   ],
   "source": [
    "ts['20110105']"
   ]
  },
  {
   "cell_type": "code",
   "execution_count": 26,
   "metadata": {},
   "outputs": [
    {
     "data": {
      "text/plain": [
       "2011-02-07    0.478282\n",
       "2011-02-08   -0.212246\n",
       "dtype: float64"
      ]
     },
     "execution_count": 26,
     "metadata": {},
     "output_type": "execute_result"
    }
   ],
   "source": [
    "# Select a range of dates\n",
    "ts['2011-02']"
   ]
  },
  {
   "cell_type": "code",
   "execution_count": 27,
   "metadata": {},
   "outputs": [
    {
     "data": {
      "text/plain": [
       "2011-02-07    0.478282\n",
       "2011-02-08   -0.212246\n",
       "dtype: float64"
      ]
     },
     "execution_count": 27,
     "metadata": {},
     "output_type": "execute_result"
    }
   ],
   "source": [
    "ts['2011-02-01':'2011-02-8'] # the end datetime is also included"
   ]
  },
  {
   "cell_type": "code",
   "execution_count": 28,
   "metadata": {},
   "outputs": [
    {
     "data": {
      "text/plain": [
       "2011-02-07    0.478282\n",
       "2011-02-08   -0.212246\n",
       "2011-03-10    0.457621\n",
       "2011-03-12   -1.862221\n",
       "dtype: float64"
      ]
     },
     "execution_count": 28,
     "metadata": {},
     "output_type": "execute_result"
    }
   ],
   "source": [
    "ts['2011-02-01':]"
   ]
  },
  {
   "cell_type": "code",
   "execution_count": 29,
   "metadata": {},
   "outputs": [
    {
     "data": {
      "text/plain": [
       "2011-01-02    0.597994\n",
       "2011-01-05    0.076584\n",
       "2011-02-07    0.478282\n",
       "2011-02-08   -0.212246\n",
       "2011-03-10    0.457621\n",
       "dtype: float64"
      ]
     },
     "execution_count": 29,
     "metadata": {},
     "output_type": "execute_result"
    }
   ],
   "source": [
    "ts[:\"2011-03-10\"]"
   ]
  },
  {
   "cell_type": "markdown",
   "metadata": {},
   "source": [
    "## 3. Date Ranges"
   ]
  },
  {
   "cell_type": "code",
   "execution_count": 30,
   "metadata": {},
   "outputs": [
    {
     "name": "stderr",
     "output_type": "stream",
     "text": [
      "C:\\Anaconda3\\lib\\site-packages\\pandas\\core\\series.py:951: FutureWarning: \n",
      "Passing list-likes to .loc or [] with any missing label will raise\n",
      "KeyError in the future, you can use .reindex() as an alternative.\n",
      "\n",
      "See the documentation here:\n",
      "https://pandas.pydata.org/pandas-docs/stable/indexing.html#deprecate-loc-reindex-listlike\n",
      "  return self.loc[key]\n"
     ]
    },
    {
     "data": {
      "text/plain": [
       "2011-01-02    0.597994\n",
       "2011-03-10    0.457621\n",
       "2011-04-01         NaN\n",
       "dtype: float64"
      ]
     },
     "execution_count": 30,
     "metadata": {},
     "output_type": "execute_result"
    }
   ],
   "source": [
    "# manually populate a list of dates\n",
    "dates = [datetime(2011, 1, 2), datetime(2011, 3, 10), datetime(2011, 4, 1)]\n",
    "ts[dates]"
   ]
  },
  {
   "cell_type": "code",
   "execution_count": 31,
   "metadata": {},
   "outputs": [
    {
     "name": "stdout",
     "output_type": "stream",
     "text": [
      "DatetimeIndex(['2011-01-01', '2011-01-02', '2011-01-03', '2011-01-04',\n",
      "               '2011-01-05', '2011-01-06', '2011-01-07', '2011-01-08'],\n",
      "              dtype='datetime64[ns]', freq='D')\n"
     ]
    }
   ],
   "source": [
    "# Create a range of dates\n",
    "daterange = pd.date_range('2011-01-01', periods=8)\n",
    "print(daterange)"
   ]
  },
  {
   "cell_type": "code",
   "execution_count": 32,
   "metadata": {},
   "outputs": [
    {
     "name": "stdout",
     "output_type": "stream",
     "text": [
      "DatetimeIndex(['2011-01-01', '2011-01-03', '2011-01-05', '2011-01-07',\n",
      "               '2011-01-09'],\n",
      "              dtype='datetime64[ns]', freq='2D')\n"
     ]
    }
   ],
   "source": [
    "daterange = pd.date_range('2011-01-01', periods=5, freq='2D')\n",
    "print(daterange)"
   ]
  },
  {
   "cell_type": "code",
   "execution_count": 33,
   "metadata": {},
   "outputs": [
    {
     "name": "stdout",
     "output_type": "stream",
     "text": [
      "DatetimeIndex(['2011-01-01 00:00:00', '2011-01-01 10:00:00',\n",
      "               '2011-01-01 20:00:00', '2011-01-02 06:00:00',\n",
      "               '2011-01-02 16:00:00'],\n",
      "              dtype='datetime64[ns]', freq='10H')\n"
     ]
    }
   ],
   "source": [
    "daterange = pd.date_range(\"2011-01-01\", periods=5, freq=\"10H\")\n",
    "print(daterange)"
   ]
  },
  {
   "cell_type": "code",
   "execution_count": 34,
   "metadata": {},
   "outputs": [
    {
     "name": "stdout",
     "output_type": "stream",
     "text": [
      "DatetimeIndex(['2011-01-03', '2011-01-04', '2011-01-05', '2011-01-06',\n",
      "               '2011-01-07', '2011-01-10', '2011-01-11', '2011-01-12',\n",
      "               '2011-01-13', '2011-01-14'],\n",
      "              dtype='datetime64[ns]', freq='B')\n"
     ]
    }
   ],
   "source": [
    "# Sample business days only\n",
    "daterange = pd.date_range(\"2011-01-01\", periods=10, freq=\"B\")\n",
    "print(daterange)"
   ]
  },
  {
   "cell_type": "code",
   "execution_count": 35,
   "metadata": {},
   "outputs": [
    {
     "data": {
      "text/plain": [
       "2011-01-03         NaN\n",
       "2011-01-04         NaN\n",
       "2011-01-05    0.076584\n",
       "2011-01-06         NaN\n",
       "2011-01-07         NaN\n",
       "2011-01-10         NaN\n",
       "2011-01-11         NaN\n",
       "2011-01-12         NaN\n",
       "2011-01-13         NaN\n",
       "2011-01-14         NaN\n",
       "Freq: B, dtype: float64"
      ]
     },
     "execution_count": 35,
     "metadata": {},
     "output_type": "execute_result"
    }
   ],
   "source": [
    "ts[daterange]"
   ]
  },
  {
   "cell_type": "code",
   "execution_count": 36,
   "metadata": {},
   "outputs": [
    {
     "data": {
      "text/plain": [
       "2011-01-05    0.076584\n",
       "dtype: float64"
      ]
     },
     "execution_count": 36,
     "metadata": {},
     "output_type": "execute_result"
    }
   ],
   "source": [
    "ts[ts.index.isin(daterange)]"
   ]
  },
  {
   "cell_type": "markdown",
   "metadata": {},
   "source": [
    "## 4. Shifting Data\n"
   ]
  },
  {
   "cell_type": "code",
   "execution_count": 37,
   "metadata": {},
   "outputs": [
    {
     "data": {
      "text/html": [
       "<div>\n",
       "<style scoped>\n",
       "    .dataframe tbody tr th:only-of-type {\n",
       "        vertical-align: middle;\n",
       "    }\n",
       "\n",
       "    .dataframe tbody tr th {\n",
       "        vertical-align: top;\n",
       "    }\n",
       "\n",
       "    .dataframe thead th {\n",
       "        text-align: right;\n",
       "    }\n",
       "</style>\n",
       "<table border=\"1\" class=\"dataframe\">\n",
       "  <thead>\n",
       "    <tr style=\"text-align: right;\">\n",
       "      <th></th>\n",
       "      <th>Price</th>\n",
       "    </tr>\n",
       "  </thead>\n",
       "  <tbody>\n",
       "    <tr>\n",
       "      <th>2019-11-01</th>\n",
       "      <td>100.057831</td>\n",
       "    </tr>\n",
       "    <tr>\n",
       "      <th>2019-11-02</th>\n",
       "      <td>100.339692</td>\n",
       "    </tr>\n",
       "    <tr>\n",
       "      <th>2019-11-03</th>\n",
       "      <td>100.755093</td>\n",
       "    </tr>\n",
       "    <tr>\n",
       "      <th>2019-11-04</th>\n",
       "      <td>100.091329</td>\n",
       "    </tr>\n",
       "  </tbody>\n",
       "</table>\n",
       "</div>"
      ],
      "text/plain": [
       "                 Price\n",
       "2019-11-01  100.057831\n",
       "2019-11-02  100.339692\n",
       "2019-11-03  100.755093\n",
       "2019-11-04  100.091329"
      ]
     },
     "execution_count": 37,
     "metadata": {},
     "output_type": "execute_result"
    }
   ],
   "source": [
    "prices = pd.DataFrame(np.random.rand(4) + 100,\n",
    "                      index=pd.date_range('2019-11-01', periods=4),\n",
    "                      columns=['Price'])\n",
    "prices"
   ]
  },
  {
   "cell_type": "code",
   "execution_count": 38,
   "metadata": {},
   "outputs": [
    {
     "data": {
      "text/html": [
       "<div>\n",
       "<style scoped>\n",
       "    .dataframe tbody tr th:only-of-type {\n",
       "        vertical-align: middle;\n",
       "    }\n",
       "\n",
       "    .dataframe tbody tr th {\n",
       "        vertical-align: top;\n",
       "    }\n",
       "\n",
       "    .dataframe thead th {\n",
       "        text-align: right;\n",
       "    }\n",
       "</style>\n",
       "<table border=\"1\" class=\"dataframe\">\n",
       "  <thead>\n",
       "    <tr style=\"text-align: right;\">\n",
       "      <th></th>\n",
       "      <th>Price</th>\n",
       "    </tr>\n",
       "  </thead>\n",
       "  <tbody>\n",
       "    <tr>\n",
       "      <th>2019-11-01</th>\n",
       "      <td>0.057831</td>\n",
       "    </tr>\n",
       "    <tr>\n",
       "      <th>2019-11-02</th>\n",
       "      <td>0.339692</td>\n",
       "    </tr>\n",
       "    <tr>\n",
       "      <th>2019-11-03</th>\n",
       "      <td>0.755093</td>\n",
       "    </tr>\n",
       "    <tr>\n",
       "      <th>2019-11-04</th>\n",
       "      <td>0.091329</td>\n",
       "    </tr>\n",
       "  </tbody>\n",
       "</table>\n",
       "</div>"
      ],
      "text/plain": [
       "               Price\n",
       "2019-11-01  0.057831\n",
       "2019-11-02  0.339692\n",
       "2019-11-03  0.755093\n",
       "2019-11-04  0.091329"
      ]
     },
     "execution_count": 38,
     "metadata": {},
     "output_type": "execute_result"
    }
   ],
   "source": [
    "prices - 100"
   ]
  },
  {
   "cell_type": "code",
   "execution_count": 39,
   "metadata": {},
   "outputs": [
    {
     "data": {
      "text/html": [
       "<div>\n",
       "<style scoped>\n",
       "    .dataframe tbody tr th:only-of-type {\n",
       "        vertical-align: middle;\n",
       "    }\n",
       "\n",
       "    .dataframe tbody tr th {\n",
       "        vertical-align: top;\n",
       "    }\n",
       "\n",
       "    .dataframe thead th {\n",
       "        text-align: right;\n",
       "    }\n",
       "</style>\n",
       "<table border=\"1\" class=\"dataframe\">\n",
       "  <thead>\n",
       "    <tr style=\"text-align: right;\">\n",
       "      <th></th>\n",
       "      <th>Price</th>\n",
       "      <th>Yesterday's Price</th>\n",
       "    </tr>\n",
       "  </thead>\n",
       "  <tbody>\n",
       "    <tr>\n",
       "      <th>2019-11-01</th>\n",
       "      <td>100.057831</td>\n",
       "      <td>NaN</td>\n",
       "    </tr>\n",
       "    <tr>\n",
       "      <th>2019-11-02</th>\n",
       "      <td>100.339692</td>\n",
       "      <td>100.057831</td>\n",
       "    </tr>\n",
       "    <tr>\n",
       "      <th>2019-11-03</th>\n",
       "      <td>100.755093</td>\n",
       "      <td>100.339692</td>\n",
       "    </tr>\n",
       "    <tr>\n",
       "      <th>2019-11-04</th>\n",
       "      <td>100.091329</td>\n",
       "      <td>100.755093</td>\n",
       "    </tr>\n",
       "  </tbody>\n",
       "</table>\n",
       "</div>"
      ],
      "text/plain": [
       "                 Price  Yesterday's Price\n",
       "2019-11-01  100.057831                NaN\n",
       "2019-11-02  100.339692         100.057831\n",
       "2019-11-03  100.755093         100.339692\n",
       "2019-11-04  100.091329         100.755093"
      ]
     },
     "execution_count": 39,
     "metadata": {},
     "output_type": "execute_result"
    }
   ],
   "source": [
    "# How to create a column storing yesterday's price?\n",
    "for date in prices.index:\n",
    "    yesterday = date - timedelta(days=1)\n",
    "    if yesterday in prices.index:\n",
    "#         print(prices.loc[yesterday])\n",
    "        prices.loc[date, \"Yesterday's Price\"] = prices.loc[yesterday, \"Price\"]\n",
    "prices"
   ]
  },
  {
   "cell_type": "code",
   "execution_count": 40,
   "metadata": {},
   "outputs": [
    {
     "data": {
      "text/html": [
       "<div>\n",
       "<style scoped>\n",
       "    .dataframe tbody tr th:only-of-type {\n",
       "        vertical-align: middle;\n",
       "    }\n",
       "\n",
       "    .dataframe tbody tr th {\n",
       "        vertical-align: top;\n",
       "    }\n",
       "\n",
       "    .dataframe thead th {\n",
       "        text-align: right;\n",
       "    }\n",
       "</style>\n",
       "<table border=\"1\" class=\"dataframe\">\n",
       "  <thead>\n",
       "    <tr style=\"text-align: right;\">\n",
       "      <th></th>\n",
       "      <th>Price</th>\n",
       "    </tr>\n",
       "  </thead>\n",
       "  <tbody>\n",
       "    <tr>\n",
       "      <th>2019-11-01</th>\n",
       "      <td>NaN</td>\n",
       "    </tr>\n",
       "    <tr>\n",
       "      <th>2019-11-02</th>\n",
       "      <td>100.407032</td>\n",
       "    </tr>\n",
       "    <tr>\n",
       "      <th>2019-11-03</th>\n",
       "      <td>100.955824</td>\n",
       "    </tr>\n",
       "    <tr>\n",
       "      <th>2019-11-04</th>\n",
       "      <td>100.877107</td>\n",
       "    </tr>\n",
       "  </tbody>\n",
       "</table>\n",
       "</div>"
      ],
      "text/plain": [
       "                 Price\n",
       "2019-11-01         NaN\n",
       "2019-11-02  100.407032\n",
       "2019-11-03  100.955824\n",
       "2019-11-04  100.877107"
      ]
     },
     "execution_count": 40,
     "metadata": {},
     "output_type": "execute_result"
    }
   ],
   "source": [
    "prices = pd.DataFrame(np.random.rand(4) + 100,\n",
    "                      index=pd.date_range('2019-11-01', periods=4),\n",
    "                      columns=['Price'])\n",
    "prices_yesterday = prices.shift(1)\n",
    "prices_yesterday"
   ]
  },
  {
   "cell_type": "code",
   "execution_count": 41,
   "metadata": {},
   "outputs": [
    {
     "data": {
      "text/html": [
       "<div>\n",
       "<style scoped>\n",
       "    .dataframe tbody tr th:only-of-type {\n",
       "        vertical-align: middle;\n",
       "    }\n",
       "\n",
       "    .dataframe tbody tr th {\n",
       "        vertical-align: top;\n",
       "    }\n",
       "\n",
       "    .dataframe thead th {\n",
       "        text-align: right;\n",
       "    }\n",
       "</style>\n",
       "<table border=\"1\" class=\"dataframe\">\n",
       "  <thead>\n",
       "    <tr style=\"text-align: right;\">\n",
       "      <th></th>\n",
       "      <th>PriceToday</th>\n",
       "      <th>PriceYesterday</th>\n",
       "    </tr>\n",
       "  </thead>\n",
       "  <tbody>\n",
       "    <tr>\n",
       "      <th>2019-11-01</th>\n",
       "      <td>100.407032</td>\n",
       "      <td>NaN</td>\n",
       "    </tr>\n",
       "    <tr>\n",
       "      <th>2019-11-02</th>\n",
       "      <td>100.955824</td>\n",
       "      <td>100.407032</td>\n",
       "    </tr>\n",
       "    <tr>\n",
       "      <th>2019-11-03</th>\n",
       "      <td>100.877107</td>\n",
       "      <td>100.955824</td>\n",
       "    </tr>\n",
       "    <tr>\n",
       "      <th>2019-11-04</th>\n",
       "      <td>100.413497</td>\n",
       "      <td>100.877107</td>\n",
       "    </tr>\n",
       "  </tbody>\n",
       "</table>\n",
       "</div>"
      ],
      "text/plain": [
       "            PriceToday  PriceYesterday\n",
       "2019-11-01  100.407032             NaN\n",
       "2019-11-02  100.955824      100.407032\n",
       "2019-11-03  100.877107      100.955824\n",
       "2019-11-04  100.413497      100.877107"
      ]
     },
     "execution_count": 41,
     "metadata": {},
     "output_type": "execute_result"
    }
   ],
   "source": [
    "prices = pd.merge(prices, prices_yesterday, left_index=True, right_index=True,\n",
    "                  suffixes=[\"Today\", \"Yesterday\"])\n",
    "prices"
   ]
  },
  {
   "cell_type": "code",
   "execution_count": 42,
   "metadata": {},
   "outputs": [
    {
     "data": {
      "text/html": [
       "<div>\n",
       "<style scoped>\n",
       "    .dataframe tbody tr th:only-of-type {\n",
       "        vertical-align: middle;\n",
       "    }\n",
       "\n",
       "    .dataframe tbody tr th {\n",
       "        vertical-align: top;\n",
       "    }\n",
       "\n",
       "    .dataframe thead th {\n",
       "        text-align: right;\n",
       "    }\n",
       "</style>\n",
       "<table border=\"1\" class=\"dataframe\">\n",
       "  <thead>\n",
       "    <tr style=\"text-align: right;\">\n",
       "      <th></th>\n",
       "      <th>PriceToday</th>\n",
       "      <th>PriceYesterday</th>\n",
       "      <th>PercentOfChange</th>\n",
       "    </tr>\n",
       "  </thead>\n",
       "  <tbody>\n",
       "    <tr>\n",
       "      <th>2019-11-01</th>\n",
       "      <td>100.407032</td>\n",
       "      <td>NaN</td>\n",
       "      <td>NaN</td>\n",
       "    </tr>\n",
       "    <tr>\n",
       "      <th>2019-11-02</th>\n",
       "      <td>100.955824</td>\n",
       "      <td>100.407032</td>\n",
       "      <td>0.005466</td>\n",
       "    </tr>\n",
       "    <tr>\n",
       "      <th>2019-11-03</th>\n",
       "      <td>100.877107</td>\n",
       "      <td>100.955824</td>\n",
       "      <td>-0.000780</td>\n",
       "    </tr>\n",
       "    <tr>\n",
       "      <th>2019-11-04</th>\n",
       "      <td>100.413497</td>\n",
       "      <td>100.877107</td>\n",
       "      <td>-0.004596</td>\n",
       "    </tr>\n",
       "  </tbody>\n",
       "</table>\n",
       "</div>"
      ],
      "text/plain": [
       "            PriceToday  PriceYesterday  PercentOfChange\n",
       "2019-11-01  100.407032             NaN              NaN\n",
       "2019-11-02  100.955824      100.407032         0.005466\n",
       "2019-11-03  100.877107      100.955824        -0.000780\n",
       "2019-11-04  100.413497      100.877107        -0.004596"
      ]
     },
     "execution_count": 42,
     "metadata": {},
     "output_type": "execute_result"
    }
   ],
   "source": [
    "# Exercise: Compute the percent changes between yesterday and today's price\n",
    "# Formula: percent = (today's price - yesterday's price) / yesterday's price\n",
    "prices['PercentOfChange'] = (prices['PriceToday'] - prices['PriceYesterday']) \\\n",
    "                            / prices['PriceYesterday']\n",
    "prices"
   ]
  },
  {
   "cell_type": "markdown",
   "metadata": {},
   "source": [
    "## Analyzing Stock Prices"
   ]
  },
  {
   "cell_type": "code",
   "execution_count": 45,
   "metadata": {
    "scrolled": true
   },
   "outputs": [
    {
     "name": "stdout",
     "output_type": "stream",
     "text": [
      "Collecting pip\n",
      "  Downloading https://files.pythonhosted.org/packages/00/b6/9cfa56b4081ad13874b0c6f96af8ce16cfbc1cb06bedf8e9164ce5551ec1/pip-19.3.1-py2.py3-none-any.whl (1.4MB)\n",
      "Installing collected packages: pip\n",
      "  Found existing installation: pip 19.3\n",
      "    Uninstalling pip-19.3:\n",
      "      Successfully uninstalled pip-19.3\n",
      "Successfully installed pip-19.3.1\n",
      "Collecting pandas-datareader\n",
      "  Downloading https://files.pythonhosted.org/packages/14/52/accb990baebe0063977f26e02df36aa7eb4015ed4e86f828cd76273cd6f1/pandas_datareader-0.8.1-py2.py3-none-any.whl (107kB)\n",
      "Requirement already satisfied: lxml in c:\\anaconda3\\lib\\site-packages (from pandas-datareader) (4.3.4)\n",
      "Requirement already satisfied: requests>=2.3.0 in c:\\anaconda3\\lib\\site-packages (from pandas-datareader) (2.22.0)\n",
      "Requirement already satisfied: pandas>=0.21 in c:\\anaconda3\\lib\\site-packages (from pandas-datareader) (0.24.2)\n",
      "Requirement already satisfied: urllib3!=1.25.0,!=1.25.1,<1.26,>=1.21.1 in c:\\anaconda3\\lib\\site-packages (from requests>=2.3.0->pandas-datareader) (1.24.2)\n",
      "Requirement already satisfied: idna<2.9,>=2.5 in c:\\anaconda3\\lib\\site-packages (from requests>=2.3.0->pandas-datareader) (2.8)\n",
      "Requirement already satisfied: certifi>=2017.4.17 in c:\\anaconda3\\lib\\site-packages (from requests>=2.3.0->pandas-datareader) (2019.6.16)\n",
      "Requirement already satisfied: chardet<3.1.0,>=3.0.2 in c:\\anaconda3\\lib\\site-packages (from requests>=2.3.0->pandas-datareader) (3.0.4)\n",
      "Requirement already satisfied: pytz>=2011k in c:\\anaconda3\\lib\\site-packages (from pandas>=0.21->pandas-datareader) (2019.1)\n",
      "Requirement already satisfied: python-dateutil>=2.5.0 in c:\\anaconda3\\lib\\site-packages (from pandas>=0.21->pandas-datareader) (2.8.0)\n",
      "Requirement already satisfied: numpy>=1.12.0 in c:\\anaconda3\\lib\\site-packages (from pandas>=0.21->pandas-datareader) (1.16.4)\n",
      "Requirement already satisfied: six>=1.5 in c:\\anaconda3\\lib\\site-packages (from python-dateutil>=2.5.0->pandas>=0.21->pandas-datareader) (1.12.0)\n",
      "Installing collected packages: pandas-datareader\n",
      "Successfully installed pandas-datareader-0.8.1\n"
     ]
    }
   ],
   "source": [
    "# Install pandas-datareader to download data\n",
    "# https://pydata.github.io/pandas-datareader/devel/remote_data.html#tiingo\n",
    "!python -m pip install --upgrade pip \n",
    "# upgrade pip\n",
    "!pip install pandas-datareader \n",
    "# install package"
   ]
  },
  {
   "cell_type": "code",
   "execution_count": 46,
   "metadata": {},
   "outputs": [
    {
     "data": {
      "text/html": [
       "<div>\n",
       "<style scoped>\n",
       "    .dataframe tbody tr th:only-of-type {\n",
       "        vertical-align: middle;\n",
       "    }\n",
       "\n",
       "    .dataframe tbody tr th {\n",
       "        vertical-align: top;\n",
       "    }\n",
       "\n",
       "    .dataframe thead th {\n",
       "        text-align: right;\n",
       "    }\n",
       "</style>\n",
       "<table border=\"1\" class=\"dataframe\">\n",
       "  <thead>\n",
       "    <tr style=\"text-align: right;\">\n",
       "      <th></th>\n",
       "      <th></th>\n",
       "      <th>adjClose</th>\n",
       "      <th>adjHigh</th>\n",
       "      <th>adjLow</th>\n",
       "      <th>adjOpen</th>\n",
       "      <th>adjVolume</th>\n",
       "      <th>close</th>\n",
       "      <th>divCash</th>\n",
       "      <th>high</th>\n",
       "      <th>low</th>\n",
       "      <th>open</th>\n",
       "      <th>splitFactor</th>\n",
       "      <th>volume</th>\n",
       "    </tr>\n",
       "    <tr>\n",
       "      <th>symbol</th>\n",
       "      <th>date</th>\n",
       "      <th></th>\n",
       "      <th></th>\n",
       "      <th></th>\n",
       "      <th></th>\n",
       "      <th></th>\n",
       "      <th></th>\n",
       "      <th></th>\n",
       "      <th></th>\n",
       "      <th></th>\n",
       "      <th></th>\n",
       "      <th></th>\n",
       "      <th></th>\n",
       "    </tr>\n",
       "  </thead>\n",
       "  <tbody>\n",
       "    <tr>\n",
       "      <th rowspan=\"5\" valign=\"top\">GOOG</th>\n",
       "      <th>2014-12-05 00:00:00+00:00</th>\n",
       "      <td>525.26</td>\n",
       "      <td>532.89</td>\n",
       "      <td>524.28</td>\n",
       "      <td>531.00</td>\n",
       "      <td>2558649</td>\n",
       "      <td>525.26</td>\n",
       "      <td>0.0</td>\n",
       "      <td>532.89</td>\n",
       "      <td>524.28</td>\n",
       "      <td>531.00</td>\n",
       "      <td>1.0</td>\n",
       "      <td>2558649</td>\n",
       "    </tr>\n",
       "    <tr>\n",
       "      <th>2014-12-08 00:00:00+00:00</th>\n",
       "      <td>526.98</td>\n",
       "      <td>531.00</td>\n",
       "      <td>523.79</td>\n",
       "      <td>527.13</td>\n",
       "      <td>2327127</td>\n",
       "      <td>526.98</td>\n",
       "      <td>0.0</td>\n",
       "      <td>531.00</td>\n",
       "      <td>523.79</td>\n",
       "      <td>527.13</td>\n",
       "      <td>1.0</td>\n",
       "      <td>2327127</td>\n",
       "    </tr>\n",
       "    <tr>\n",
       "      <th>2014-12-09 00:00:00+00:00</th>\n",
       "      <td>533.37</td>\n",
       "      <td>534.19</td>\n",
       "      <td>520.50</td>\n",
       "      <td>522.14</td>\n",
       "      <td>1871268</td>\n",
       "      <td>533.37</td>\n",
       "      <td>0.0</td>\n",
       "      <td>534.19</td>\n",
       "      <td>520.50</td>\n",
       "      <td>522.14</td>\n",
       "      <td>1.0</td>\n",
       "      <td>1871268</td>\n",
       "    </tr>\n",
       "    <tr>\n",
       "      <th>2014-12-10 00:00:00+00:00</th>\n",
       "      <td>526.06</td>\n",
       "      <td>536.33</td>\n",
       "      <td>525.56</td>\n",
       "      <td>533.08</td>\n",
       "      <td>1716835</td>\n",
       "      <td>526.06</td>\n",
       "      <td>0.0</td>\n",
       "      <td>536.33</td>\n",
       "      <td>525.56</td>\n",
       "      <td>533.08</td>\n",
       "      <td>1.0</td>\n",
       "      <td>1716835</td>\n",
       "    </tr>\n",
       "    <tr>\n",
       "      <th>2014-12-11 00:00:00+00:00</th>\n",
       "      <td>528.34</td>\n",
       "      <td>533.92</td>\n",
       "      <td>527.10</td>\n",
       "      <td>527.80</td>\n",
       "      <td>1610964</td>\n",
       "      <td>528.34</td>\n",
       "      <td>0.0</td>\n",
       "      <td>533.92</td>\n",
       "      <td>527.10</td>\n",
       "      <td>527.80</td>\n",
       "      <td>1.0</td>\n",
       "      <td>1610964</td>\n",
       "    </tr>\n",
       "  </tbody>\n",
       "</table>\n",
       "</div>"
      ],
      "text/plain": [
       "                                  adjClose  adjHigh  adjLow  adjOpen  \\\n",
       "symbol date                                                            \n",
       "GOOG   2014-12-05 00:00:00+00:00    525.26   532.89  524.28   531.00   \n",
       "       2014-12-08 00:00:00+00:00    526.98   531.00  523.79   527.13   \n",
       "       2014-12-09 00:00:00+00:00    533.37   534.19  520.50   522.14   \n",
       "       2014-12-10 00:00:00+00:00    526.06   536.33  525.56   533.08   \n",
       "       2014-12-11 00:00:00+00:00    528.34   533.92  527.10   527.80   \n",
       "\n",
       "                                  adjVolume   close  divCash    high     low  \\\n",
       "symbol date                                                                    \n",
       "GOOG   2014-12-05 00:00:00+00:00    2558649  525.26      0.0  532.89  524.28   \n",
       "       2014-12-08 00:00:00+00:00    2327127  526.98      0.0  531.00  523.79   \n",
       "       2014-12-09 00:00:00+00:00    1871268  533.37      0.0  534.19  520.50   \n",
       "       2014-12-10 00:00:00+00:00    1716835  526.06      0.0  536.33  525.56   \n",
       "       2014-12-11 00:00:00+00:00    1610964  528.34      0.0  533.92  527.10   \n",
       "\n",
       "                                    open  splitFactor   volume  \n",
       "symbol date                                                     \n",
       "GOOG   2014-12-05 00:00:00+00:00  531.00          1.0  2558649  \n",
       "       2014-12-08 00:00:00+00:00  527.13          1.0  2327127  \n",
       "       2014-12-09 00:00:00+00:00  522.14          1.0  1871268  \n",
       "       2014-12-10 00:00:00+00:00  533.08          1.0  1716835  \n",
       "       2014-12-11 00:00:00+00:00  527.80          1.0  1610964  "
      ]
     },
     "execution_count": 46,
     "metadata": {},
     "output_type": "execute_result"
    }
   ],
   "source": [
    "import os\n",
    "import pandas_datareader as pdr\n",
    "api_key = \"1add15c49f55eca6cfdce0109f11c6d477974b14\"\n",
    "# api_key = \"Find-your-key-on-tiingo\"\n",
    "df = pdr.get_data_tiingo('GOOG', api_key=api_key)\n",
    "df.head()"
   ]
  },
  {
   "cell_type": "code",
   "execution_count": 47,
   "metadata": {},
   "outputs": [
    {
     "data": {
      "text/html": [
       "<div>\n",
       "<style scoped>\n",
       "    .dataframe tbody tr th:only-of-type {\n",
       "        vertical-align: middle;\n",
       "    }\n",
       "\n",
       "    .dataframe tbody tr th {\n",
       "        vertical-align: top;\n",
       "    }\n",
       "\n",
       "    .dataframe thead th {\n",
       "        text-align: right;\n",
       "    }\n",
       "</style>\n",
       "<table border=\"1\" class=\"dataframe\">\n",
       "  <thead>\n",
       "    <tr style=\"text-align: right;\">\n",
       "      <th></th>\n",
       "      <th></th>\n",
       "      <th>adjClose</th>\n",
       "      <th>adjHigh</th>\n",
       "      <th>adjLow</th>\n",
       "      <th>adjOpen</th>\n",
       "      <th>adjVolume</th>\n",
       "      <th>close</th>\n",
       "      <th>divCash</th>\n",
       "      <th>high</th>\n",
       "      <th>low</th>\n",
       "      <th>open</th>\n",
       "      <th>splitFactor</th>\n",
       "      <th>volume</th>\n",
       "    </tr>\n",
       "    <tr>\n",
       "      <th>symbol</th>\n",
       "      <th>date</th>\n",
       "      <th></th>\n",
       "      <th></th>\n",
       "      <th></th>\n",
       "      <th></th>\n",
       "      <th></th>\n",
       "      <th></th>\n",
       "      <th></th>\n",
       "      <th></th>\n",
       "      <th></th>\n",
       "      <th></th>\n",
       "      <th></th>\n",
       "      <th></th>\n",
       "    </tr>\n",
       "  </thead>\n",
       "  <tbody>\n",
       "    <tr>\n",
       "      <th rowspan=\"5\" valign=\"top\">AAPL</th>\n",
       "      <th>2014-01-02 00:00:00+00:00</th>\n",
       "      <td>71.104796</td>\n",
       "      <td>71.606140</td>\n",
       "      <td>70.962234</td>\n",
       "      <td>71.432598</td>\n",
       "      <td>58671258</td>\n",
       "      <td>553.1300</td>\n",
       "      <td>0.0</td>\n",
       "      <td>557.03</td>\n",
       "      <td>552.021</td>\n",
       "      <td>555.68</td>\n",
       "      <td>1.0</td>\n",
       "      <td>8381600</td>\n",
       "    </tr>\n",
       "    <tr>\n",
       "      <th>2014-01-03 00:00:00+00:00</th>\n",
       "      <td>69.542914</td>\n",
       "      <td>71.178069</td>\n",
       "      <td>69.472212</td>\n",
       "      <td>71.070087</td>\n",
       "      <td>98116998</td>\n",
       "      <td>540.9800</td>\n",
       "      <td>0.0</td>\n",
       "      <td>553.70</td>\n",
       "      <td>540.430</td>\n",
       "      <td>552.86</td>\n",
       "      <td>1.0</td>\n",
       "      <td>14016700</td>\n",
       "    </tr>\n",
       "    <tr>\n",
       "      <th>2014-01-06 00:00:00+00:00</th>\n",
       "      <td>69.922137</td>\n",
       "      <td>70.291075</td>\n",
       "      <td>68.594216</td>\n",
       "      <td>69.089133</td>\n",
       "      <td>103152803</td>\n",
       "      <td>543.9300</td>\n",
       "      <td>0.0</td>\n",
       "      <td>546.80</td>\n",
       "      <td>533.600</td>\n",
       "      <td>537.45</td>\n",
       "      <td>1.0</td>\n",
       "      <td>14736100</td>\n",
       "    </tr>\n",
       "    <tr>\n",
       "      <th>2014-01-07 00:00:00+00:00</th>\n",
       "      <td>69.421756</td>\n",
       "      <td>70.183093</td>\n",
       "      <td>69.150195</td>\n",
       "      <td>69.972271</td>\n",
       "      <td>79302379</td>\n",
       "      <td>540.0375</td>\n",
       "      <td>0.0</td>\n",
       "      <td>545.96</td>\n",
       "      <td>537.925</td>\n",
       "      <td>544.32</td>\n",
       "      <td>1.0</td>\n",
       "      <td>11328900</td>\n",
       "    </tr>\n",
       "    <tr>\n",
       "      <th>2014-01-08 00:00:00+00:00</th>\n",
       "      <td>69.861718</td>\n",
       "      <td>70.131673</td>\n",
       "      <td>69.248535</td>\n",
       "      <td>69.263961</td>\n",
       "      <td>64632464</td>\n",
       "      <td>543.4600</td>\n",
       "      <td>0.0</td>\n",
       "      <td>545.56</td>\n",
       "      <td>538.690</td>\n",
       "      <td>538.81</td>\n",
       "      <td>1.0</td>\n",
       "      <td>9233200</td>\n",
       "    </tr>\n",
       "  </tbody>\n",
       "</table>\n",
       "</div>"
      ],
      "text/plain": [
       "                                   adjClose    adjHigh     adjLow    adjOpen  \\\n",
       "symbol date                                                                    \n",
       "AAPL   2014-01-02 00:00:00+00:00  71.104796  71.606140  70.962234  71.432598   \n",
       "       2014-01-03 00:00:00+00:00  69.542914  71.178069  69.472212  71.070087   \n",
       "       2014-01-06 00:00:00+00:00  69.922137  70.291075  68.594216  69.089133   \n",
       "       2014-01-07 00:00:00+00:00  69.421756  70.183093  69.150195  69.972271   \n",
       "       2014-01-08 00:00:00+00:00  69.861718  70.131673  69.248535  69.263961   \n",
       "\n",
       "                                  adjVolume     close  divCash    high  \\\n",
       "symbol date                                                              \n",
       "AAPL   2014-01-02 00:00:00+00:00   58671258  553.1300      0.0  557.03   \n",
       "       2014-01-03 00:00:00+00:00   98116998  540.9800      0.0  553.70   \n",
       "       2014-01-06 00:00:00+00:00  103152803  543.9300      0.0  546.80   \n",
       "       2014-01-07 00:00:00+00:00   79302379  540.0375      0.0  545.96   \n",
       "       2014-01-08 00:00:00+00:00   64632464  543.4600      0.0  545.56   \n",
       "\n",
       "                                      low    open  splitFactor    volume  \n",
       "symbol date                                                               \n",
       "AAPL   2014-01-02 00:00:00+00:00  552.021  555.68          1.0   8381600  \n",
       "       2014-01-03 00:00:00+00:00  540.430  552.86          1.0  14016700  \n",
       "       2014-01-06 00:00:00+00:00  533.600  537.45          1.0  14736100  \n",
       "       2014-01-07 00:00:00+00:00  537.925  544.32          1.0  11328900  \n",
       "       2014-01-08 00:00:00+00:00  538.690  538.81          1.0   9233200  "
      ]
     },
     "execution_count": 47,
     "metadata": {},
     "output_type": "execute_result"
    }
   ],
   "source": [
    "# Download the daily prices of Apple (\"AAPL\") from 2019-01-01 to 2019-12-01\n",
    "aapl = pdr.get_data_tiingo(\"AAPL\",\n",
    "                           api_key=api_key,\n",
    "                           start=\"2014-01-01\",\n",
    "                           end=\"2019-12-01\")\n",
    "aapl.head()"
   ]
  },
  {
   "cell_type": "code",
   "execution_count": 48,
   "metadata": {},
   "outputs": [
    {
     "data": {
      "text/html": [
       "<div>\n",
       "<style scoped>\n",
       "    .dataframe tbody tr th:only-of-type {\n",
       "        vertical-align: middle;\n",
       "    }\n",
       "\n",
       "    .dataframe tbody tr th {\n",
       "        vertical-align: top;\n",
       "    }\n",
       "\n",
       "    .dataframe thead th {\n",
       "        text-align: right;\n",
       "    }\n",
       "</style>\n",
       "<table border=\"1\" class=\"dataframe\">\n",
       "  <thead>\n",
       "    <tr style=\"text-align: right;\">\n",
       "      <th></th>\n",
       "      <th></th>\n",
       "      <th>adjClose</th>\n",
       "      <th>adjHigh</th>\n",
       "      <th>adjLow</th>\n",
       "      <th>adjOpen</th>\n",
       "      <th>adjVolume</th>\n",
       "      <th>close</th>\n",
       "      <th>divCash</th>\n",
       "      <th>high</th>\n",
       "      <th>low</th>\n",
       "      <th>open</th>\n",
       "      <th>splitFactor</th>\n",
       "      <th>volume</th>\n",
       "    </tr>\n",
       "    <tr>\n",
       "      <th>symbol</th>\n",
       "      <th>date</th>\n",
       "      <th></th>\n",
       "      <th></th>\n",
       "      <th></th>\n",
       "      <th></th>\n",
       "      <th></th>\n",
       "      <th></th>\n",
       "      <th></th>\n",
       "      <th></th>\n",
       "      <th></th>\n",
       "      <th></th>\n",
       "      <th></th>\n",
       "      <th></th>\n",
       "    </tr>\n",
       "  </thead>\n",
       "  <tbody>\n",
       "    <tr>\n",
       "      <th rowspan=\"5\" valign=\"top\">AAPL</th>\n",
       "      <th>2019-11-22 00:00:00+00:00</th>\n",
       "      <td>261.78</td>\n",
       "      <td>263.18</td>\n",
       "      <td>260.84</td>\n",
       "      <td>262.59</td>\n",
       "      <td>16331263</td>\n",
       "      <td>261.78</td>\n",
       "      <td>0.0</td>\n",
       "      <td>263.18</td>\n",
       "      <td>260.84</td>\n",
       "      <td>262.59</td>\n",
       "      <td>1.0</td>\n",
       "      <td>16331263</td>\n",
       "    </tr>\n",
       "    <tr>\n",
       "      <th>2019-11-25 00:00:00+00:00</th>\n",
       "      <td>266.37</td>\n",
       "      <td>266.44</td>\n",
       "      <td>262.52</td>\n",
       "      <td>262.71</td>\n",
       "      <td>21029517</td>\n",
       "      <td>266.37</td>\n",
       "      <td>0.0</td>\n",
       "      <td>266.44</td>\n",
       "      <td>262.52</td>\n",
       "      <td>262.71</td>\n",
       "      <td>1.0</td>\n",
       "      <td>21029517</td>\n",
       "    </tr>\n",
       "    <tr>\n",
       "      <th>2019-11-26 00:00:00+00:00</th>\n",
       "      <td>264.29</td>\n",
       "      <td>267.16</td>\n",
       "      <td>262.50</td>\n",
       "      <td>266.94</td>\n",
       "      <td>26334882</td>\n",
       "      <td>264.29</td>\n",
       "      <td>0.0</td>\n",
       "      <td>267.16</td>\n",
       "      <td>262.50</td>\n",
       "      <td>266.94</td>\n",
       "      <td>1.0</td>\n",
       "      <td>26334882</td>\n",
       "    </tr>\n",
       "    <tr>\n",
       "      <th>2019-11-27 00:00:00+00:00</th>\n",
       "      <td>267.84</td>\n",
       "      <td>267.98</td>\n",
       "      <td>265.31</td>\n",
       "      <td>265.58</td>\n",
       "      <td>16386122</td>\n",
       "      <td>267.84</td>\n",
       "      <td>0.0</td>\n",
       "      <td>267.98</td>\n",
       "      <td>265.31</td>\n",
       "      <td>265.58</td>\n",
       "      <td>1.0</td>\n",
       "      <td>16386122</td>\n",
       "    </tr>\n",
       "    <tr>\n",
       "      <th>2019-11-29 00:00:00+00:00</th>\n",
       "      <td>267.25</td>\n",
       "      <td>268.00</td>\n",
       "      <td>265.90</td>\n",
       "      <td>266.60</td>\n",
       "      <td>11654363</td>\n",
       "      <td>267.25</td>\n",
       "      <td>0.0</td>\n",
       "      <td>268.00</td>\n",
       "      <td>265.90</td>\n",
       "      <td>266.60</td>\n",
       "      <td>1.0</td>\n",
       "      <td>11654363</td>\n",
       "    </tr>\n",
       "  </tbody>\n",
       "</table>\n",
       "</div>"
      ],
      "text/plain": [
       "                                  adjClose  adjHigh  adjLow  adjOpen  \\\n",
       "symbol date                                                            \n",
       "AAPL   2019-11-22 00:00:00+00:00    261.78   263.18  260.84   262.59   \n",
       "       2019-11-25 00:00:00+00:00    266.37   266.44  262.52   262.71   \n",
       "       2019-11-26 00:00:00+00:00    264.29   267.16  262.50   266.94   \n",
       "       2019-11-27 00:00:00+00:00    267.84   267.98  265.31   265.58   \n",
       "       2019-11-29 00:00:00+00:00    267.25   268.00  265.90   266.60   \n",
       "\n",
       "                                  adjVolume   close  divCash    high     low  \\\n",
       "symbol date                                                                    \n",
       "AAPL   2019-11-22 00:00:00+00:00   16331263  261.78      0.0  263.18  260.84   \n",
       "       2019-11-25 00:00:00+00:00   21029517  266.37      0.0  266.44  262.52   \n",
       "       2019-11-26 00:00:00+00:00   26334882  264.29      0.0  267.16  262.50   \n",
       "       2019-11-27 00:00:00+00:00   16386122  267.84      0.0  267.98  265.31   \n",
       "       2019-11-29 00:00:00+00:00   11654363  267.25      0.0  268.00  265.90   \n",
       "\n",
       "                                    open  splitFactor    volume  \n",
       "symbol date                                                      \n",
       "AAPL   2019-11-22 00:00:00+00:00  262.59          1.0  16331263  \n",
       "       2019-11-25 00:00:00+00:00  262.71          1.0  21029517  \n",
       "       2019-11-26 00:00:00+00:00  266.94          1.0  26334882  \n",
       "       2019-11-27 00:00:00+00:00  265.58          1.0  16386122  \n",
       "       2019-11-29 00:00:00+00:00  266.60          1.0  11654363  "
      ]
     },
     "execution_count": 48,
     "metadata": {},
     "output_type": "execute_result"
    }
   ],
   "source": [
    "aapl.tail()"
   ]
  },
  {
   "cell_type": "code",
   "execution_count": 49,
   "metadata": {},
   "outputs": [],
   "source": [
    "# Remove zeros from the index\n",
    "aapl = aapl.reset_index()"
   ]
  },
  {
   "cell_type": "code",
   "execution_count": 50,
   "metadata": {},
   "outputs": [
    {
     "data": {
      "text/html": [
       "<div>\n",
       "<style scoped>\n",
       "    .dataframe tbody tr th:only-of-type {\n",
       "        vertical-align: middle;\n",
       "    }\n",
       "\n",
       "    .dataframe tbody tr th {\n",
       "        vertical-align: top;\n",
       "    }\n",
       "\n",
       "    .dataframe thead th {\n",
       "        text-align: right;\n",
       "    }\n",
       "</style>\n",
       "<table border=\"1\" class=\"dataframe\">\n",
       "  <thead>\n",
       "    <tr style=\"text-align: right;\">\n",
       "      <th></th>\n",
       "      <th>symbol</th>\n",
       "      <th>date</th>\n",
       "      <th>adjClose</th>\n",
       "      <th>adjHigh</th>\n",
       "      <th>adjLow</th>\n",
       "      <th>adjOpen</th>\n",
       "      <th>adjVolume</th>\n",
       "      <th>close</th>\n",
       "      <th>divCash</th>\n",
       "      <th>high</th>\n",
       "      <th>low</th>\n",
       "      <th>open</th>\n",
       "      <th>splitFactor</th>\n",
       "      <th>volume</th>\n",
       "    </tr>\n",
       "  </thead>\n",
       "  <tbody>\n",
       "    <tr>\n",
       "      <th>0</th>\n",
       "      <td>AAPL</td>\n",
       "      <td>2014-01-02</td>\n",
       "      <td>71.104796</td>\n",
       "      <td>71.606140</td>\n",
       "      <td>70.962234</td>\n",
       "      <td>71.432598</td>\n",
       "      <td>58671258</td>\n",
       "      <td>553.1300</td>\n",
       "      <td>0.0</td>\n",
       "      <td>557.03</td>\n",
       "      <td>552.021</td>\n",
       "      <td>555.68</td>\n",
       "      <td>1.0</td>\n",
       "      <td>8381600</td>\n",
       "    </tr>\n",
       "    <tr>\n",
       "      <th>1</th>\n",
       "      <td>AAPL</td>\n",
       "      <td>2014-01-03</td>\n",
       "      <td>69.542914</td>\n",
       "      <td>71.178069</td>\n",
       "      <td>69.472212</td>\n",
       "      <td>71.070087</td>\n",
       "      <td>98116998</td>\n",
       "      <td>540.9800</td>\n",
       "      <td>0.0</td>\n",
       "      <td>553.70</td>\n",
       "      <td>540.430</td>\n",
       "      <td>552.86</td>\n",
       "      <td>1.0</td>\n",
       "      <td>14016700</td>\n",
       "    </tr>\n",
       "    <tr>\n",
       "      <th>2</th>\n",
       "      <td>AAPL</td>\n",
       "      <td>2014-01-06</td>\n",
       "      <td>69.922137</td>\n",
       "      <td>70.291075</td>\n",
       "      <td>68.594216</td>\n",
       "      <td>69.089133</td>\n",
       "      <td>103152803</td>\n",
       "      <td>543.9300</td>\n",
       "      <td>0.0</td>\n",
       "      <td>546.80</td>\n",
       "      <td>533.600</td>\n",
       "      <td>537.45</td>\n",
       "      <td>1.0</td>\n",
       "      <td>14736100</td>\n",
       "    </tr>\n",
       "    <tr>\n",
       "      <th>3</th>\n",
       "      <td>AAPL</td>\n",
       "      <td>2014-01-07</td>\n",
       "      <td>69.421756</td>\n",
       "      <td>70.183093</td>\n",
       "      <td>69.150195</td>\n",
       "      <td>69.972271</td>\n",
       "      <td>79302379</td>\n",
       "      <td>540.0375</td>\n",
       "      <td>0.0</td>\n",
       "      <td>545.96</td>\n",
       "      <td>537.925</td>\n",
       "      <td>544.32</td>\n",
       "      <td>1.0</td>\n",
       "      <td>11328900</td>\n",
       "    </tr>\n",
       "    <tr>\n",
       "      <th>4</th>\n",
       "      <td>AAPL</td>\n",
       "      <td>2014-01-08</td>\n",
       "      <td>69.861718</td>\n",
       "      <td>70.131673</td>\n",
       "      <td>69.248535</td>\n",
       "      <td>69.263961</td>\n",
       "      <td>64632464</td>\n",
       "      <td>543.4600</td>\n",
       "      <td>0.0</td>\n",
       "      <td>545.56</td>\n",
       "      <td>538.690</td>\n",
       "      <td>538.81</td>\n",
       "      <td>1.0</td>\n",
       "      <td>9233200</td>\n",
       "    </tr>\n",
       "  </tbody>\n",
       "</table>\n",
       "</div>"
      ],
      "text/plain": [
       "  symbol        date   adjClose    adjHigh     adjLow    adjOpen  adjVolume  \\\n",
       "0   AAPL  2014-01-02  71.104796  71.606140  70.962234  71.432598   58671258   \n",
       "1   AAPL  2014-01-03  69.542914  71.178069  69.472212  71.070087   98116998   \n",
       "2   AAPL  2014-01-06  69.922137  70.291075  68.594216  69.089133  103152803   \n",
       "3   AAPL  2014-01-07  69.421756  70.183093  69.150195  69.972271   79302379   \n",
       "4   AAPL  2014-01-08  69.861718  70.131673  69.248535  69.263961   64632464   \n",
       "\n",
       "      close  divCash    high      low    open  splitFactor    volume  \n",
       "0  553.1300      0.0  557.03  552.021  555.68          1.0   8381600  \n",
       "1  540.9800      0.0  553.70  540.430  552.86          1.0  14016700  \n",
       "2  543.9300      0.0  546.80  533.600  537.45          1.0  14736100  \n",
       "3  540.0375      0.0  545.96  537.925  544.32          1.0  11328900  \n",
       "4  543.4600      0.0  545.56  538.690  538.81          1.0   9233200  "
      ]
     },
     "execution_count": 50,
     "metadata": {},
     "output_type": "execute_result"
    }
   ],
   "source": [
    "aapl['date'] = aapl['date'].apply(lambda x: x.strftime(\"%Y-%m-%d\"))\n",
    "aapl.head()"
   ]
  },
  {
   "cell_type": "code",
   "execution_count": 51,
   "metadata": {},
   "outputs": [
    {
     "data": {
      "text/html": [
       "<div>\n",
       "<style scoped>\n",
       "    .dataframe tbody tr th:only-of-type {\n",
       "        vertical-align: middle;\n",
       "    }\n",
       "\n",
       "    .dataframe tbody tr th {\n",
       "        vertical-align: top;\n",
       "    }\n",
       "\n",
       "    .dataframe thead th {\n",
       "        text-align: right;\n",
       "    }\n",
       "</style>\n",
       "<table border=\"1\" class=\"dataframe\">\n",
       "  <thead>\n",
       "    <tr style=\"text-align: right;\">\n",
       "      <th></th>\n",
       "      <th>symbol</th>\n",
       "      <th>date</th>\n",
       "      <th>adjClose</th>\n",
       "      <th>adjHigh</th>\n",
       "      <th>adjLow</th>\n",
       "      <th>adjOpen</th>\n",
       "      <th>adjVolume</th>\n",
       "      <th>close</th>\n",
       "      <th>divCash</th>\n",
       "      <th>high</th>\n",
       "      <th>low</th>\n",
       "      <th>open</th>\n",
       "      <th>splitFactor</th>\n",
       "      <th>volume</th>\n",
       "    </tr>\n",
       "  </thead>\n",
       "  <tbody>\n",
       "    <tr>\n",
       "      <th>0</th>\n",
       "      <td>AAPL</td>\n",
       "      <td>2014-01-02</td>\n",
       "      <td>71.104796</td>\n",
       "      <td>71.606140</td>\n",
       "      <td>70.962234</td>\n",
       "      <td>71.432598</td>\n",
       "      <td>58671258</td>\n",
       "      <td>553.1300</td>\n",
       "      <td>0.0</td>\n",
       "      <td>557.03</td>\n",
       "      <td>552.021</td>\n",
       "      <td>555.68</td>\n",
       "      <td>1.0</td>\n",
       "      <td>8381600</td>\n",
       "    </tr>\n",
       "    <tr>\n",
       "      <th>1</th>\n",
       "      <td>AAPL</td>\n",
       "      <td>2014-01-03</td>\n",
       "      <td>69.542914</td>\n",
       "      <td>71.178069</td>\n",
       "      <td>69.472212</td>\n",
       "      <td>71.070087</td>\n",
       "      <td>98116998</td>\n",
       "      <td>540.9800</td>\n",
       "      <td>0.0</td>\n",
       "      <td>553.70</td>\n",
       "      <td>540.430</td>\n",
       "      <td>552.86</td>\n",
       "      <td>1.0</td>\n",
       "      <td>14016700</td>\n",
       "    </tr>\n",
       "    <tr>\n",
       "      <th>2</th>\n",
       "      <td>AAPL</td>\n",
       "      <td>2014-01-06</td>\n",
       "      <td>69.922137</td>\n",
       "      <td>70.291075</td>\n",
       "      <td>68.594216</td>\n",
       "      <td>69.089133</td>\n",
       "      <td>103152803</td>\n",
       "      <td>543.9300</td>\n",
       "      <td>0.0</td>\n",
       "      <td>546.80</td>\n",
       "      <td>533.600</td>\n",
       "      <td>537.45</td>\n",
       "      <td>1.0</td>\n",
       "      <td>14736100</td>\n",
       "    </tr>\n",
       "    <tr>\n",
       "      <th>3</th>\n",
       "      <td>AAPL</td>\n",
       "      <td>2014-01-07</td>\n",
       "      <td>69.421756</td>\n",
       "      <td>70.183093</td>\n",
       "      <td>69.150195</td>\n",
       "      <td>69.972271</td>\n",
       "      <td>79302379</td>\n",
       "      <td>540.0375</td>\n",
       "      <td>0.0</td>\n",
       "      <td>545.96</td>\n",
       "      <td>537.925</td>\n",
       "      <td>544.32</td>\n",
       "      <td>1.0</td>\n",
       "      <td>11328900</td>\n",
       "    </tr>\n",
       "    <tr>\n",
       "      <th>4</th>\n",
       "      <td>AAPL</td>\n",
       "      <td>2014-01-08</td>\n",
       "      <td>69.861718</td>\n",
       "      <td>70.131673</td>\n",
       "      <td>69.248535</td>\n",
       "      <td>69.263961</td>\n",
       "      <td>64632464</td>\n",
       "      <td>543.4600</td>\n",
       "      <td>0.0</td>\n",
       "      <td>545.56</td>\n",
       "      <td>538.690</td>\n",
       "      <td>538.81</td>\n",
       "      <td>1.0</td>\n",
       "      <td>9233200</td>\n",
       "    </tr>\n",
       "  </tbody>\n",
       "</table>\n",
       "</div>"
      ],
      "text/plain": [
       "  symbol       date   adjClose    adjHigh     adjLow    adjOpen  adjVolume  \\\n",
       "0   AAPL 2014-01-02  71.104796  71.606140  70.962234  71.432598   58671258   \n",
       "1   AAPL 2014-01-03  69.542914  71.178069  69.472212  71.070087   98116998   \n",
       "2   AAPL 2014-01-06  69.922137  70.291075  68.594216  69.089133  103152803   \n",
       "3   AAPL 2014-01-07  69.421756  70.183093  69.150195  69.972271   79302379   \n",
       "4   AAPL 2014-01-08  69.861718  70.131673  69.248535  69.263961   64632464   \n",
       "\n",
       "      close  divCash    high      low    open  splitFactor    volume  \n",
       "0  553.1300      0.0  557.03  552.021  555.68          1.0   8381600  \n",
       "1  540.9800      0.0  553.70  540.430  552.86          1.0  14016700  \n",
       "2  543.9300      0.0  546.80  533.600  537.45          1.0  14736100  \n",
       "3  540.0375      0.0  545.96  537.925  544.32          1.0  11328900  \n",
       "4  543.4600      0.0  545.56  538.690  538.81          1.0   9233200  "
      ]
     },
     "execution_count": 51,
     "metadata": {},
     "output_type": "execute_result"
    }
   ],
   "source": [
    "aapl['date'] = aapl['date'].apply(parse)\n",
    "aapl.head()"
   ]
  },
  {
   "cell_type": "code",
   "execution_count": 52,
   "metadata": {},
   "outputs": [
    {
     "data": {
      "text/html": [
       "<div>\n",
       "<style scoped>\n",
       "    .dataframe tbody tr th:only-of-type {\n",
       "        vertical-align: middle;\n",
       "    }\n",
       "\n",
       "    .dataframe tbody tr th {\n",
       "        vertical-align: top;\n",
       "    }\n",
       "\n",
       "    .dataframe thead th {\n",
       "        text-align: right;\n",
       "    }\n",
       "</style>\n",
       "<table border=\"1\" class=\"dataframe\">\n",
       "  <thead>\n",
       "    <tr style=\"text-align: right;\">\n",
       "      <th></th>\n",
       "      <th>symbol</th>\n",
       "      <th>adjClose</th>\n",
       "      <th>adjHigh</th>\n",
       "      <th>adjLow</th>\n",
       "      <th>adjOpen</th>\n",
       "      <th>adjVolume</th>\n",
       "      <th>close</th>\n",
       "      <th>divCash</th>\n",
       "      <th>high</th>\n",
       "      <th>low</th>\n",
       "      <th>open</th>\n",
       "      <th>splitFactor</th>\n",
       "      <th>volume</th>\n",
       "    </tr>\n",
       "    <tr>\n",
       "      <th>date</th>\n",
       "      <th></th>\n",
       "      <th></th>\n",
       "      <th></th>\n",
       "      <th></th>\n",
       "      <th></th>\n",
       "      <th></th>\n",
       "      <th></th>\n",
       "      <th></th>\n",
       "      <th></th>\n",
       "      <th></th>\n",
       "      <th></th>\n",
       "      <th></th>\n",
       "      <th></th>\n",
       "    </tr>\n",
       "  </thead>\n",
       "  <tbody>\n",
       "    <tr>\n",
       "      <th>2014-01-02</th>\n",
       "      <td>AAPL</td>\n",
       "      <td>71.104796</td>\n",
       "      <td>71.606140</td>\n",
       "      <td>70.962234</td>\n",
       "      <td>71.432598</td>\n",
       "      <td>58671258</td>\n",
       "      <td>553.1300</td>\n",
       "      <td>0.0</td>\n",
       "      <td>557.03</td>\n",
       "      <td>552.021</td>\n",
       "      <td>555.68</td>\n",
       "      <td>1.0</td>\n",
       "      <td>8381600</td>\n",
       "    </tr>\n",
       "    <tr>\n",
       "      <th>2014-01-03</th>\n",
       "      <td>AAPL</td>\n",
       "      <td>69.542914</td>\n",
       "      <td>71.178069</td>\n",
       "      <td>69.472212</td>\n",
       "      <td>71.070087</td>\n",
       "      <td>98116998</td>\n",
       "      <td>540.9800</td>\n",
       "      <td>0.0</td>\n",
       "      <td>553.70</td>\n",
       "      <td>540.430</td>\n",
       "      <td>552.86</td>\n",
       "      <td>1.0</td>\n",
       "      <td>14016700</td>\n",
       "    </tr>\n",
       "    <tr>\n",
       "      <th>2014-01-06</th>\n",
       "      <td>AAPL</td>\n",
       "      <td>69.922137</td>\n",
       "      <td>70.291075</td>\n",
       "      <td>68.594216</td>\n",
       "      <td>69.089133</td>\n",
       "      <td>103152803</td>\n",
       "      <td>543.9300</td>\n",
       "      <td>0.0</td>\n",
       "      <td>546.80</td>\n",
       "      <td>533.600</td>\n",
       "      <td>537.45</td>\n",
       "      <td>1.0</td>\n",
       "      <td>14736100</td>\n",
       "    </tr>\n",
       "    <tr>\n",
       "      <th>2014-01-07</th>\n",
       "      <td>AAPL</td>\n",
       "      <td>69.421756</td>\n",
       "      <td>70.183093</td>\n",
       "      <td>69.150195</td>\n",
       "      <td>69.972271</td>\n",
       "      <td>79302379</td>\n",
       "      <td>540.0375</td>\n",
       "      <td>0.0</td>\n",
       "      <td>545.96</td>\n",
       "      <td>537.925</td>\n",
       "      <td>544.32</td>\n",
       "      <td>1.0</td>\n",
       "      <td>11328900</td>\n",
       "    </tr>\n",
       "    <tr>\n",
       "      <th>2014-01-08</th>\n",
       "      <td>AAPL</td>\n",
       "      <td>69.861718</td>\n",
       "      <td>70.131673</td>\n",
       "      <td>69.248535</td>\n",
       "      <td>69.263961</td>\n",
       "      <td>64632464</td>\n",
       "      <td>543.4600</td>\n",
       "      <td>0.0</td>\n",
       "      <td>545.56</td>\n",
       "      <td>538.690</td>\n",
       "      <td>538.81</td>\n",
       "      <td>1.0</td>\n",
       "      <td>9233200</td>\n",
       "    </tr>\n",
       "  </tbody>\n",
       "</table>\n",
       "</div>"
      ],
      "text/plain": [
       "           symbol   adjClose    adjHigh     adjLow    adjOpen  adjVolume  \\\n",
       "date                                                                       \n",
       "2014-01-02   AAPL  71.104796  71.606140  70.962234  71.432598   58671258   \n",
       "2014-01-03   AAPL  69.542914  71.178069  69.472212  71.070087   98116998   \n",
       "2014-01-06   AAPL  69.922137  70.291075  68.594216  69.089133  103152803   \n",
       "2014-01-07   AAPL  69.421756  70.183093  69.150195  69.972271   79302379   \n",
       "2014-01-08   AAPL  69.861718  70.131673  69.248535  69.263961   64632464   \n",
       "\n",
       "               close  divCash    high      low    open  splitFactor    volume  \n",
       "date                                                                           \n",
       "2014-01-02  553.1300      0.0  557.03  552.021  555.68          1.0   8381600  \n",
       "2014-01-03  540.9800      0.0  553.70  540.430  552.86          1.0  14016700  \n",
       "2014-01-06  543.9300      0.0  546.80  533.600  537.45          1.0  14736100  \n",
       "2014-01-07  540.0375      0.0  545.96  537.925  544.32          1.0  11328900  \n",
       "2014-01-08  543.4600      0.0  545.56  538.690  538.81          1.0   9233200  "
      ]
     },
     "execution_count": 52,
     "metadata": {},
     "output_type": "execute_result"
    }
   ],
   "source": [
    "aapl = aapl.set_index('date')\n",
    "aapl.head()"
   ]
  },
  {
   "cell_type": "code",
   "execution_count": 53,
   "metadata": {},
   "outputs": [
    {
     "data": {
      "text/plain": [
       "<matplotlib.axes._subplots.AxesSubplot at 0x255e6aaf7f0>"
      ]
     },
     "execution_count": 53,
     "metadata": {},
     "output_type": "execute_result"
    },
    {
     "data": {
      "image/png": "[encoded data removed]",
      "text/plain": [
       "<Figure size 1080x360 with 1 Axes>"
      ]
     },
     "metadata": {
      "needs_background": "light"
     },
     "output_type": "display_data"
    }
   ],
   "source": [
    "# Draw a line chart of close prices\n",
    "aapl['adjClose'].plot(figsize=(15, 5))"
   ]
  },
  {
   "cell_type": "markdown",
   "metadata": {},
   "source": [
    "**1. Check for missing values**"
   ]
  },
  {
   "cell_type": "code",
   "execution_count": null,
   "metadata": {},
   "outputs": [],
   "source": []
  },
  {
   "cell_type": "markdown",
   "metadata": {},
   "source": [
    "**2. Daily Change**\n",
    "\n",
    "- Abosolute daily change is the difference between open and close.\n",
    "- Relative daily change is ratio of absolute daily change and the open price, converted to a percentage. This is especially helpful if you want to compare the daily price change in multiple stocks."
   ]
  },
  {
   "cell_type": "code",
   "execution_count": null,
   "metadata": {},
   "outputs": [],
   "source": []
  },
  {
   "cell_type": "markdown",
   "metadata": {},
   "source": [
    "**3. Day-To-Day Change**\n",
    "\n",
    "The open price does not necessarily coincide with the previous close price, possibly due to change of price expections over night. Thus it is helpful to calculate percent changes of each close price over the previous close price."
   ]
  },
  {
   "cell_type": "code",
   "execution_count": null,
   "metadata": {},
   "outputs": [],
   "source": []
  },
  {
   "cell_type": "markdown",
   "metadata": {},
   "source": [
    "**4. Monthly Performance**\n",
    "\n",
    "For long-term investors, they may prefer monthly performance data. Create a new data frame containing adjOpen, adjHigh, adjLow, adjClose, and adjVolume for each month between 2014 and 2019."
   ]
  },
  {
   "cell_type": "code",
   "execution_count": null,
   "metadata": {},
   "outputs": [],
   "source": []
  },
  {
   "cell_type": "markdown",
   "metadata": {},
   "source": [
    "**5. Moving Average**\n",
    "\n",
    "The daily price is full of random ups and downs, making it difficult to see the long-term trend. It is important to find the average performance over a fairly longer period (10 days, 30 days, etc.). A moving average (or rolling average) is a calculation that find the average price for each period of time."
   ]
  },
  {
   "cell_type": "code",
   "execution_count": null,
   "metadata": {},
   "outputs": [],
   "source": []
  },
  {
   "cell_type": "markdown",
   "metadata": {},
   "source": [
    "**6. Volatility**\n",
    "\n",
    "Volatility means the risk of the stock over a period of time. It is often measured as the standard deviation of prices over each period. The higher the volatility, the risker the stock."
   ]
  },
  {
   "cell_type": "code",
   "execution_count": null,
   "metadata": {},
   "outputs": [],
   "source": []
  },
  {
   "cell_type": "markdown",
   "metadata": {},
   "source": [
    "**7. Change Points**\n",
    "\n",
    "Changepoints occur when the price goes from increasing to decreasing or vice versa). These times are extremely important because knowing when a stock will reach a peak or is about to take off could have significant economic benefits. However, it is trickly to properly recognize changepoints, since we cannot make decisions based on future data. For simplicity, let say a day is a positive changepoint if its day-to-day change is positive, while the three previous day-to-day changes are all negative. Similarly, we recognize a day as a negative changepoint if its day-to-day change is negative, while all three previous day-to-day changes are positive."
   ]
  },
  {
   "cell_type": "code",
   "execution_count": null,
   "metadata": {},
   "outputs": [],
   "source": []
  },
  {
   "cell_type": "markdown",
   "metadata": {},
   "source": [
    "**8. Prediction**\n",
    "\n",
    "Being able to predict future stock prices is every investor's dream. While it is very challenging to do so, data analysis does help. Today let's test a basic modeling technique called linear regression."
   ]
  },
  {
   "cell_type": "code",
   "execution_count": null,
   "metadata": {},
   "outputs": [],
   "source": []
  }
 ],
 "metadata": {
  "kernelspec": {
   "display_name": "Python 3",
   "language": "python",
   "name": "python3"
  },
  "language_info": {
   "codemirror_mode": {
    "name": "ipython",
    "version": 3
   },
   "file_extension": ".py",
   "mimetype": "text/x-python",
   "name": "python",
   "nbconvert_exporter": "python",
   "pygments_lexer": "ipython3",
   "version": "3.7.3"
  }
 },
 "nbformat": 4,
 "nbformat_minor": 2
}
