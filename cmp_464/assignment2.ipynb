{
 "cells": [
  {
   "cell_type": "markdown",
   "metadata": {},
   "source": [
    "# Week 2 Homework\n",
    "1. Fat\n",
    "    - Calculate fat per gram\n",
    "    - What is the maximum and minimum value for fat per gram?\n",
    "2. Calories\n",
    "    - Calculate calories per gram\n",
    "    - find the top 5 cereals with highest calories\n",
    "    - find the top 5 cereals with lowest calories\n",
    "3. Bad rating\n",
    "    - Calculate bad-cereal-rating for each cereal\n",
    "    - Plot Ratings vs. Bad-Cereal-Ratings.\n",
    "    - Do they agree each other?"
   ]
  },
  {
   "cell_type": "code",
   "execution_count": 2,
   "metadata": {},
   "outputs": [
    {
     "name": "stdout",
     "output_type": "stream",
     "text": [
      "name, mfr, type, calories, protein, fat, sodium, fiber, carbo, sugars, potass, vitamins, shelf, weight, cups, rating\n"
     ]
    }
   ],
   "source": [
    "import numpy as np\n",
    "cereal = np.loadtxt(\"cereal.csv\",\n",
    "                    dtype = str,\n",
    "                    delimiter = \",\")\n",
    "\n",
    "cereal_columns = cereal[0,:]\n",
    "print(\", \".join(cereal_columns))\n",
    "\n",
    "cereal_data = cereal[1:,:]"
   ]
  },
  {
   "cell_type": "markdown",
   "metadata": {},
   "source": [
    "1)"
   ]
  },
  {
   "cell_type": "code",
   "execution_count": 3,
   "metadata": {},
   "outputs": [
    {
     "name": "stdout",
     "output_type": "stream",
     "text": [
      "(array([5], dtype=int64),)\n",
      "(array([13], dtype=int64),)\n",
      "\n",
      "Fat Per Gram\n",
      "------------\n",
      "0.04\n",
      "0.18\n",
      "0.04\n",
      "0.00\n",
      "0.07\n",
      "0.07\n",
      "0.00\n",
      "0.05\n",
      "0.04\n",
      "0.00\n",
      "0.07\n",
      "0.07\n",
      "0.11\n",
      "0.07\n",
      "0.04\n",
      "0.00\n",
      "0.00\n",
      "0.00\n",
      "0.04\n",
      "0.11\n",
      "0.00\n",
      "0.00\n",
      "0.04\n",
      "0.00\n",
      "0.04\n",
      "0.00\n",
      "0.00\n",
      "0.06\n",
      "0.00\n",
      "0.04\n",
      "0.00\n",
      "0.04\n",
      "0.04\n",
      "0.00\n",
      "0.11\n",
      "0.07\n",
      "0.04\n",
      "0.00\n",
      "0.04\n",
      "0.03\n",
      "0.04\n",
      "0.07\n",
      "0.04\n",
      "0.04\n",
      "0.11\n",
      "0.11\n",
      "0.05\n",
      "0.04\n",
      "0.04\n",
      "0.05\n",
      "0.00\n",
      "0.06\n",
      "0.03\n",
      "0.00\n",
      "0.00\n",
      "0.00\n",
      "0.04\n",
      "0.07\n",
      "0.03\n",
      "0.07\n",
      "0.00\n",
      "0.00\n",
      "0.00\n",
      "0.00\n",
      "0.00\n",
      "0.00\n",
      "0.04\n",
      "0.00\n",
      "0.00\n",
      "0.04\n",
      "0.02\n",
      "0.04\n",
      "0.04\n",
      "0.04\n",
      "0.04\n",
      "0.04\n",
      "0.04\n"
     ]
    }
   ],
   "source": [
    "print(np.where(cereal_columns == \"fat\"))\n",
    "print(np.where(cereal_columns == \"weight\"))\n",
    "\n",
    "fat = cereal_data[:,5]\n",
    "ounces = cereal_data[:,13]\n",
    "\n",
    "fat = fat.astype(float)\n",
    "ounces = ounces.astype(float)\n",
    "grams = ounces * 28.3495\n",
    "\n",
    "fat_per_gram = fat / grams\n",
    "\n",
    "print(\"\\nFat Per Gram\")\n",
    "print(\"------------\")\n",
    "for element in fat_per_gram:\n",
    "        print(\"%.2f\" % (element))\n",
    "\n",
    "\n"
   ]
  },
  {
   "cell_type": "code",
   "execution_count": 4,
   "metadata": {},
   "outputs": [
    {
     "name": "stdout",
     "output_type": "stream",
     "text": [
      "max: 0.18\n",
      "min: 0.00\n"
     ]
    }
   ],
   "source": [
    "print(\"max: %.2f\" % np.max(fat_per_gram))\n",
    "print(\"min: %.2f\" % np.min(fat_per_gram))"
   ]
  },
  {
   "cell_type": "markdown",
   "metadata": {},
   "source": [
    "2)"
   ]
  },
  {
   "cell_type": "code",
   "execution_count": 5,
   "metadata": {},
   "outputs": [
    {
     "name": "stdout",
     "output_type": "stream",
     "text": [
      "(array([3], dtype=int64),)\n",
      "(array([13], dtype=int64),)\n",
      "\n",
      "Calories Per Gram\n",
      "------------\n",
      "2.47\n",
      "4.23\n",
      "2.47\n",
      "1.76\n",
      "3.88\n",
      "3.88\n",
      "3.88\n",
      "3.45\n",
      "3.17\n",
      "3.17\n",
      "4.23\n",
      "3.88\n",
      "4.23\n",
      "3.88\n",
      "3.88\n",
      "3.88\n",
      "3.53\n",
      "3.88\n",
      "3.88\n",
      "3.88\n",
      "3.53\n",
      "3.88\n",
      "3.53\n",
      "3.53\n",
      "3.88\n",
      "3.88\n",
      "3.53\n",
      "3.39\n",
      "3.18\n",
      "3.88\n",
      "3.53\n",
      "3.88\n",
      "3.53\n",
      "3.88\n",
      "4.23\n",
      "4.23\n",
      "3.88\n",
      "3.88\n",
      "3.88\n",
      "3.80\n",
      "3.88\n",
      "3.53\n",
      "3.88\n",
      "3.53\n",
      "5.29\n",
      "5.29\n",
      "3.76\n",
      "3.53\n",
      "4.23\n",
      "3.71\n",
      "3.17\n",
      "3.67\n",
      "3.18\n",
      "3.53\n",
      "3.53\n",
      "3.53\n",
      "3.53\n",
      "3.53\n",
      "3.18\n",
      "3.53\n",
      "3.17\n",
      "3.88\n",
      "3.88\n",
      "3.40\n",
      "3.17\n",
      "3.17\n",
      "3.88\n",
      "3.88\n",
      "3.17\n",
      "3.88\n",
      "3.29\n",
      "3.53\n",
      "3.88\n",
      "3.88\n",
      "3.53\n",
      "3.53\n",
      "3.88\n"
     ]
    }
   ],
   "source": [
    "print(np.where(cereal_columns == \"calories\"))\n",
    "print(np.where(cereal_columns == \"weight\"))\n",
    "\n",
    "calories = cereal_data[:,3]\n",
    "calories = calories.astype(float)\n",
    "\n",
    "\n",
    "\n",
    "calories_per_gram = calories / grams\n",
    "\n",
    "print(\"\\nCalories Per Gram\")\n",
    "print(\"------------\")\n",
    "for element in calories_per_gram:\n",
    "        print(\"%.2f\" % (element))\n"
   ]
  },
  {
   "cell_type": "code",
   "execution_count": 6,
   "metadata": {},
   "outputs": [
    {
     "name": "stdout",
     "output_type": "stream",
     "text": [
      "5 cereals with the lowest calories:  All-Bran with Extra Fiber|| Puffed Rice|| Puffed Wheat|| 100% Bran|| All-Bran\n",
      "5 cereals with the highest calories:  Mueslix Crispy Blend|| Muesli Raisins; Peaches; & Pecans|| Muesli Raisins; Dates; & Almonds|| Just Right Fruit & Nut|| Nutri-Grain Almond-Raisin\n"
     ]
    }
   ],
   "source": [
    "calories = calories.astype(int)\n",
    "cereal_names = cereal_data[:,0]\n",
    "\n",
    "\n",
    "sorted_indexes_calories = calories.argsort()\n",
    "min_calories = sorted_indexes_calories[0:5]\n",
    "print(\"5 cereals with the lowest calories: \", \"|| \".join(cereal_names[min_calories]))\n",
    "\n",
    "reverse_calories = sorted_indexes_calories[::-1]\n",
    "max_calories = reverse_calories[0:5]\n",
    "print(\"5 cereals with the highest calories: \", \"|| \".join(cereal_names[max_calories]))"
   ]
  },
  {
   "cell_type": "markdown",
   "metadata": {},
   "source": [
    "3)"
   ]
  },
  {
   "cell_type": "code",
   "execution_count": 8,
   "metadata": {},
   "outputs": [
    {
     "name": "stdout",
     "output_type": "stream",
     "text": [
      "rating index: (array([15], dtype=int64),)\n",
      "fat index:  (array([5], dtype=int64),)\n",
      "sodium index (array([6], dtype=int64),)\n",
      "potass index (array([10], dtype=int64),)\n",
      "sugars index (array([9], dtype=int64),)\n",
      "\n",
      "\n",
      "Bad Cereal Ratings\n",
      "------------------\n",
      "417\n",
      "163\n",
      "586\n",
      "470\n",
      "209\n",
      "262\n",
      "169\n",
      "320\n",
      "332\n",
      "405\n",
      "269\n",
      "398\n",
      "267\n",
      "254\n",
      "249\n",
      "308\n",
      "327\n",
      "122\n",
      "259\n",
      "310\n",
      "79\n",
      "253\n",
      "271\n",
      "275\n",
      "169\n",
      "236\n",
      "107\n",
      "372\n",
      "442\n",
      "173\n",
      "100\n",
      "335\n",
      "231\n",
      "263\n",
      "182\n",
      "278\n",
      "351\n",
      "226\n",
      "237\n",
      "275\n",
      "304\n",
      "253\n",
      "248\n",
      "99\n",
      "279\n",
      "334\n",
      "325\n",
      "317\n",
      "240\n",
      "359\n",
      "262\n",
      "302\n",
      "475\n",
      "368\n",
      "15\n",
      "50\n",
      "252\n",
      "111\n",
      "463\n",
      "290\n",
      "116\n",
      "272\n",
      "328\n",
      "95\n",
      "140\n",
      "120\n",
      "126\n",
      "288\n",
      "110\n",
      "239\n",
      "435\n",
      "314\n",
      "314\n",
      "178\n",
      "349\n",
      "314\n",
      "269\n"
     ]
    },
    {
     "data": {
      "text/plain": [
       "Text(0, 0.5, 'Bad Cereal Ratings')"
      ]
     },
     "execution_count": 8,
     "metadata": {},
     "output_type": "execute_result"
    },
    {
     "data": {
      "image/png": "[encoded data removed]",
      "text/plain": [
       "<Figure size 432x288 with 1 Axes>"
      ]
     },
     "metadata": {
      "needs_background": "light"
     },
     "output_type": "display_data"
    }
   ],
   "source": [
    "# bad-cereal-rating = fat + sodium + potass + sugars\n",
    "\n",
    "rating = cereal_data[:,15].astype(float)\n",
    "\n",
    "print(\"rating index:\", np.where(cereal_columns == \"rating\"))\n",
    "print(\"fat index: \", np.where(cereal_columns == \"fat\"))\n",
    "print(\"sodium index\", np.where(cereal_columns == \"sodium\"))\n",
    "print(\"potass index\", np.where(cereal_columns == \"potass\"))\n",
    "print(\"sugars index\", np.where(cereal_columns == \"sugars\"))\n",
    "print(\"\\n\")\n",
    "\n",
    "bad_cereal_rating = cereal_data[:,5].astype(int) + cereal_data[:,6].astype(int) + cereal_data[:,10].astype(int) + cereal_data[:,9].astype(int)\n",
    "\n",
    "print(\"Bad Cereal Ratings\")\n",
    "print(\"------------------\")\n",
    "for element in bad_cereal_rating:\n",
    "    print(element)\n",
    "\n",
    "import matplotlib.pyplot as plt\n",
    "%matplotlib inline\n",
    "\n",
    "order = cereal_data.argsort()\n",
    "plt.plot(rating, bad_cereal_rating,\".b\")\n",
    "plt.title(\"Normal Ratings vs. Bad Cereal Ratings\")\n",
    "plt.xlabel(\"Ratings\")\n",
    "plt.ylabel(\"Bad Cereal Ratings\")\n"
   ]
  },
  {
   "cell_type": "markdown",
   "metadata": {},
   "source": [
    "There's no obvious correlation between normal ratings and bad ratings (some cereals with high normal ratings have high bad ratings and some cereals with high normal ratings have low bad ratings). So they don't really agree with each other. "
   ]
  }
 ],
 "metadata": {
  "kernelspec": {
   "display_name": "Python 3",
   "language": "python",
   "name": "python3"
  },
  "language_info": {
   "codemirror_mode": {
    "name": "ipython",
    "version": 3
   },
   "file_extension": ".py",
   "mimetype": "text/x-python",
   "name": "python",
   "nbconvert_exporter": "python",
   "pygments_lexer": "ipython3",
   "version": "3.7.3"
  }
 },
 "nbformat": 4,
 "nbformat_minor": 2
}
