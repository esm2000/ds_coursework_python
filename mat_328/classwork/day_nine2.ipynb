{
 "cells": [
  {
   "cell_type": "markdown",
   "metadata": {},
   "source": [
    "# Lab 9b - 2-fold cross validation\n",
    "\n",
    "We will finish Lab 9 in this notebook."
   ]
  },
  {
   "cell_type": "code",
   "execution_count": 1,
   "metadata": {},
   "outputs": [],
   "source": [
    "import pandas as pd\n",
    "import matplotlib.pyplot as plt\n",
    "import statsmodels.formula.api as smf\n",
    "import seaborn as sns\n",
    "import numpy as np\n",
    "from sklearn.model_selection import train_test_split\n",
    "from sklearn import datasets, linear_model\n",
    "from sklearn.model_selection import KFold\n",
    "\n",
    "\n",
    "%matplotlib inline"
   ]
  },
  {
   "cell_type": "code",
   "execution_count": 2,
   "metadata": {},
   "outputs": [
    {
     "data": {
      "text/html": [
       "<div>\n",
       "<style scoped>\n",
       "    .dataframe tbody tr th:only-of-type {\n",
       "        vertical-align: middle;\n",
       "    }\n",
       "\n",
       "    .dataframe tbody tr th {\n",
       "        vertical-align: top;\n",
       "    }\n",
       "\n",
       "    .dataframe thead th {\n",
       "        text-align: right;\n",
       "    }\n",
       "</style>\n",
       "<table border=\"1\" class=\"dataframe\">\n",
       "  <thead>\n",
       "    <tr style=\"text-align: right;\">\n",
       "      <th></th>\n",
       "      <th>dataset</th>\n",
       "      <th>x</th>\n",
       "      <th>y</th>\n",
       "    </tr>\n",
       "  </thead>\n",
       "  <tbody>\n",
       "    <tr>\n",
       "      <th>0</th>\n",
       "      <td>I</td>\n",
       "      <td>10.0</td>\n",
       "      <td>8.04</td>\n",
       "    </tr>\n",
       "    <tr>\n",
       "      <th>1</th>\n",
       "      <td>I</td>\n",
       "      <td>8.0</td>\n",
       "      <td>6.95</td>\n",
       "    </tr>\n",
       "    <tr>\n",
       "      <th>2</th>\n",
       "      <td>I</td>\n",
       "      <td>13.0</td>\n",
       "      <td>7.58</td>\n",
       "    </tr>\n",
       "    <tr>\n",
       "      <th>3</th>\n",
       "      <td>I</td>\n",
       "      <td>9.0</td>\n",
       "      <td>8.81</td>\n",
       "    </tr>\n",
       "    <tr>\n",
       "      <th>4</th>\n",
       "      <td>I</td>\n",
       "      <td>11.0</td>\n",
       "      <td>8.33</td>\n",
       "    </tr>\n",
       "  </tbody>\n",
       "</table>\n",
       "</div>"
      ],
      "text/plain": [
       "  dataset     x     y\n",
       "0       I  10.0  8.04\n",
       "1       I   8.0  6.95\n",
       "2       I  13.0  7.58\n",
       "3       I   9.0  8.81\n",
       "4       I  11.0  8.33"
      ]
     },
     "execution_count": 2,
     "metadata": {},
     "output_type": "execute_result"
    }
   ],
   "source": [
    "# Load the Anscombe quartet data\n",
    "anscombe = sns.load_dataset(\"anscombe\")\n",
    "anscombe.head()"
   ]
  },
  {
   "cell_type": "code",
   "execution_count": 3,
   "metadata": {},
   "outputs": [
    {
     "data": {
      "text/html": [
       "<div>\n",
       "<style scoped>\n",
       "    .dataframe tbody tr th:only-of-type {\n",
       "        vertical-align: middle;\n",
       "    }\n",
       "\n",
       "    .dataframe tbody tr th {\n",
       "        vertical-align: top;\n",
       "    }\n",
       "\n",
       "    .dataframe thead th {\n",
       "        text-align: right;\n",
       "    }\n",
       "</style>\n",
       "<table border=\"1\" class=\"dataframe\">\n",
       "  <thead>\n",
       "    <tr style=\"text-align: right;\">\n",
       "      <th></th>\n",
       "      <th>x</th>\n",
       "      <th>y</th>\n",
       "    </tr>\n",
       "  </thead>\n",
       "  <tbody>\n",
       "    <tr>\n",
       "      <th>22</th>\n",
       "      <td>10.0</td>\n",
       "      <td>7.46</td>\n",
       "    </tr>\n",
       "    <tr>\n",
       "      <th>23</th>\n",
       "      <td>8.0</td>\n",
       "      <td>6.77</td>\n",
       "    </tr>\n",
       "    <tr>\n",
       "      <th>24</th>\n",
       "      <td>13.0</td>\n",
       "      <td>12.74</td>\n",
       "    </tr>\n",
       "    <tr>\n",
       "      <th>25</th>\n",
       "      <td>9.0</td>\n",
       "      <td>7.11</td>\n",
       "    </tr>\n",
       "    <tr>\n",
       "      <th>26</th>\n",
       "      <td>11.0</td>\n",
       "      <td>7.81</td>\n",
       "    </tr>\n",
       "    <tr>\n",
       "      <th>27</th>\n",
       "      <td>14.0</td>\n",
       "      <td>8.84</td>\n",
       "    </tr>\n",
       "    <tr>\n",
       "      <th>28</th>\n",
       "      <td>6.0</td>\n",
       "      <td>6.08</td>\n",
       "    </tr>\n",
       "    <tr>\n",
       "      <th>29</th>\n",
       "      <td>4.0</td>\n",
       "      <td>5.39</td>\n",
       "    </tr>\n",
       "    <tr>\n",
       "      <th>30</th>\n",
       "      <td>12.0</td>\n",
       "      <td>8.15</td>\n",
       "    </tr>\n",
       "    <tr>\n",
       "      <th>31</th>\n",
       "      <td>7.0</td>\n",
       "      <td>6.42</td>\n",
       "    </tr>\n",
       "    <tr>\n",
       "      <th>32</th>\n",
       "      <td>5.0</td>\n",
       "      <td>5.73</td>\n",
       "    </tr>\n",
       "  </tbody>\n",
       "</table>\n",
       "</div>"
      ],
      "text/plain": [
       "       x      y\n",
       "22  10.0   7.46\n",
       "23   8.0   6.77\n",
       "24  13.0  12.74\n",
       "25   9.0   7.11\n",
       "26  11.0   7.81\n",
       "27  14.0   8.84\n",
       "28   6.0   6.08\n",
       "29   4.0   5.39\n",
       "30  12.0   8.15\n",
       "31   7.0   6.42\n",
       "32   5.0   5.73"
      ]
     },
     "execution_count": 3,
     "metadata": {},
     "output_type": "execute_result"
    }
   ],
   "source": [
    "# Separate out the Anscombe 3 data\n",
    "anscombe_3 = anscombe[anscombe[\"dataset\"] == \"III\"]\n",
    "anscombe_3 = anscombe_3[[\"x\",\"y\"]]\n",
    "anscombe_3"
   ]
  },
  {
   "cell_type": "code",
   "execution_count": 4,
   "metadata": {},
   "outputs": [
    {
     "data": {
      "text/plain": [
       "<matplotlib.axes._subplots.AxesSubplot at 0x20228d74080>"
      ]
     },
     "execution_count": 4,
     "metadata": {},
     "output_type": "execute_result"
    },
    {
     "data": {
      "image/png": "[encoded data removed]",
      "text/plain": [
       "<Figure size 432x288 with 1 Axes>"
      ]
     },
     "metadata": {
      "needs_background": "light"
     },
     "output_type": "display_data"
    }
   ],
   "source": [
    "# Plot Anscombe 3\n",
    "sns.regplot(x = \"x\", y = \"y\", data = anscombe_3)"
   ]
  },
  {
   "cell_type": "code",
   "execution_count": 5,
   "metadata": {},
   "outputs": [],
   "source": [
    "# Split the data in half into fold 1 and fold 2\n",
    "X_fold1, X_fold2, y_fold1, y_fold2 = train_test_split(anscombe_3[[\"x\"]], anscombe_3[\"y\"], test_size=0.5)"
   ]
  },
  {
   "cell_type": "code",
   "execution_count": 6,
   "metadata": {},
   "outputs": [
    {
     "data": {
      "text/html": [
       "<div>\n",
       "<style scoped>\n",
       "    .dataframe tbody tr th:only-of-type {\n",
       "        vertical-align: middle;\n",
       "    }\n",
       "\n",
       "    .dataframe tbody tr th {\n",
       "        vertical-align: top;\n",
       "    }\n",
       "\n",
       "    .dataframe thead th {\n",
       "        text-align: right;\n",
       "    }\n",
       "</style>\n",
       "<table border=\"1\" class=\"dataframe\">\n",
       "  <thead>\n",
       "    <tr style=\"text-align: right;\">\n",
       "      <th></th>\n",
       "      <th>x</th>\n",
       "    </tr>\n",
       "  </thead>\n",
       "  <tbody>\n",
       "    <tr>\n",
       "      <th>27</th>\n",
       "      <td>14.0</td>\n",
       "    </tr>\n",
       "    <tr>\n",
       "      <th>29</th>\n",
       "      <td>4.0</td>\n",
       "    </tr>\n",
       "    <tr>\n",
       "      <th>23</th>\n",
       "      <td>8.0</td>\n",
       "    </tr>\n",
       "    <tr>\n",
       "      <th>28</th>\n",
       "      <td>6.0</td>\n",
       "    </tr>\n",
       "    <tr>\n",
       "      <th>32</th>\n",
       "      <td>5.0</td>\n",
       "    </tr>\n",
       "  </tbody>\n",
       "</table>\n",
       "</div>"
      ],
      "text/plain": [
       "       x\n",
       "27  14.0\n",
       "29   4.0\n",
       "23   8.0\n",
       "28   6.0\n",
       "32   5.0"
      ]
     },
     "execution_count": 6,
     "metadata": {},
     "output_type": "execute_result"
    }
   ],
   "source": [
    "X_fold1"
   ]
  },
  {
   "cell_type": "markdown",
   "metadata": {},
   "source": [
    "Use the training data to fit the linear model using the sci-kit learn version:"
   ]
  },
  {
   "cell_type": "code",
   "execution_count": 7,
   "metadata": {},
   "outputs": [],
   "source": [
    "lm = linear_model.LinearRegression()\n",
    "model = lm.fit(X_fold1, y_fold1)"
   ]
  },
  {
   "cell_type": "markdown",
   "metadata": {},
   "source": [
    "Use this linear model to make predictions for the fold 2 data:"
   ]
  },
  {
   "cell_type": "code",
   "execution_count": 8,
   "metadata": {},
   "outputs": [],
   "source": [
    "predictions = model.predict(X_fold2)"
   ]
  },
  {
   "cell_type": "markdown",
   "metadata": {},
   "source": [
    "Compute the mean squared error for the fold 2 predictions:"
   ]
  },
  {
   "cell_type": "code",
   "execution_count": 16,
   "metadata": {},
   "outputs": [
    {
     "data": {
      "text/plain": [
       "3.0032583533621744"
      ]
     },
     "execution_count": 16,
     "metadata": {},
     "output_type": "execute_result"
    }
   ],
   "source": [
    "mse = ((y_fold2 - predictions)**2).mean()\n",
    "mse"
   ]
  },
  {
   "cell_type": "markdown",
   "metadata": {},
   "source": [
    "Now let's do the reverse.  Use the fold2 data to create the linear model:"
   ]
  },
  {
   "cell_type": "code",
   "execution_count": 12,
   "metadata": {},
   "outputs": [],
   "source": [
    "model2 = lm.fit(X_fold2, y_fold2)"
   ]
  },
  {
   "cell_type": "markdown",
   "metadata": {},
   "source": [
    "Use this linear model to make predictions for the fold 1 data:"
   ]
  },
  {
   "cell_type": "code",
   "execution_count": 13,
   "metadata": {},
   "outputs": [],
   "source": [
    "predictions2 = model2.predict(X_fold1)"
   ]
  },
  {
   "cell_type": "markdown",
   "metadata": {},
   "source": [
    "Compute the mean squared error for the fold 1 predictions:"
   ]
  },
  {
   "cell_type": "code",
   "execution_count": 17,
   "metadata": {},
   "outputs": [
    {
     "data": {
      "text/plain": [
       "3.503330975510214"
      ]
     },
     "execution_count": 17,
     "metadata": {},
     "output_type": "execute_result"
    }
   ],
   "source": [
    "mse2 = ((y_fold1 - predictions2)**2).mean()\n",
    "mse2"
   ]
  },
  {
   "cell_type": "markdown",
   "metadata": {},
   "source": [
    "How do the two mean squared errors compare?  What might be happening here?\n",
    "\n",
    "__The MSE for the model fitted to the second half of the dataset is larger than the MSE for the model fitted to the first half of the dataset. The first half of the dataset resembles a straight line much more than the second half of the dataset.__\n",
    "\n",
    "To better understand whaat's happening, let's plot the two training data sets using `regplot()` in Seaborn.  \n",
    "\n",
    "First plot the fold 1 data, where x is `X_fold1[\"x\"]` and y is `y_fold1`."
   ]
  },
  {
   "cell_type": "code",
   "execution_count": 19,
   "metadata": {},
   "outputs": [
    {
     "data": {
      "text/plain": [
       "<matplotlib.axes._subplots.AxesSubplot at 0x2022932c588>"
      ]
     },
     "execution_count": 19,
     "metadata": {},
     "output_type": "execute_result"
    },
    {
     "data": {
      "image/png": "[encoded data removed]",
      "text/plain": [
       "<Figure size 432x288 with 1 Axes>"
      ]
     },
     "metadata": {
      "needs_background": "light"
     },
     "output_type": "display_data"
    }
   ],
   "source": [
    "sns.regplot(x = X_fold1[\"x\"], y = y_fold1, fit_reg = True)"
   ]
  },
  {
   "cell_type": "markdown",
   "metadata": {},
   "source": [
    "Next plot the fold 2 data, where x is `X_fold2[\"x\"]` and y is `y_fold2`."
   ]
  },
  {
   "cell_type": "code",
   "execution_count": 20,
   "metadata": {},
   "outputs": [
    {
     "data": {
      "text/plain": [
       "<matplotlib.axes._subplots.AxesSubplot at 0x2022937f828>"
      ]
     },
     "execution_count": 20,
     "metadata": {},
     "output_type": "execute_result"
    },
    {
     "data": {
      "image/png": "[encoded data removed]",
      "text/plain": [
       "<Figure size 432x288 with 1 Axes>"
      ]
     },
     "metadata": {
      "needs_background": "light"
     },
     "output_type": "display_data"
    }
   ],
   "source": [
    "sns.regplot(x = X_fold2[\"x\"], y = y_fold2, fit_reg = True)"
   ]
  },
  {
   "cell_type": "code",
   "execution_count": 21,
   "metadata": {},
   "outputs": [
    {
     "name": "stderr",
     "output_type": "stream",
     "text": [
      "C:\\Anaconda3\\lib\\site-packages\\seaborn\\regression.py:237: RankWarning: Polyfit may be poorly conditioned\n",
      "  return np.polyval(np.polyfit(_x, _y, order), grid)\n",
      "C:\\Anaconda3\\lib\\site-packages\\seaborn\\regression.py:237: RankWarning: Polyfit may be poorly conditioned\n",
      "  return np.polyval(np.polyfit(_x, _y, order), grid)\n",
      "C:\\Anaconda3\\lib\\site-packages\\seaborn\\regression.py:237: RankWarning: Polyfit may be poorly conditioned\n",
      "  return np.polyval(np.polyfit(_x, _y, order), grid)\n",
      "C:\\Anaconda3\\lib\\site-packages\\seaborn\\regression.py:237: RankWarning: Polyfit may be poorly conditioned\n",
      "  return np.polyval(np.polyfit(_x, _y, order), grid)\n",
      "C:\\Anaconda3\\lib\\site-packages\\seaborn\\regression.py:237: RankWarning: Polyfit may be poorly conditioned\n",
      "  return np.polyval(np.polyfit(_x, _y, order), grid)\n",
      "C:\\Anaconda3\\lib\\site-packages\\seaborn\\regression.py:237: RankWarning: Polyfit may be poorly conditioned\n",
      "  return np.polyval(np.polyfit(_x, _y, order), grid)\n",
      "C:\\Anaconda3\\lib\\site-packages\\seaborn\\regression.py:237: RankWarning: Polyfit may be poorly conditioned\n",
      "  return np.polyval(np.polyfit(_x, _y, order), grid)\n",
      "C:\\Anaconda3\\lib\\site-packages\\seaborn\\regression.py:237: RankWarning: Polyfit may be poorly conditioned\n",
      "  return np.polyval(np.polyfit(_x, _y, order), grid)\n",
      "C:\\Anaconda3\\lib\\site-packages\\seaborn\\regression.py:237: RankWarning: Polyfit may be poorly conditioned\n",
      "  return np.polyval(np.polyfit(_x, _y, order), grid)\n",
      "C:\\Anaconda3\\lib\\site-packages\\seaborn\\regression.py:237: RankWarning: Polyfit may be poorly conditioned\n",
      "  return np.polyval(np.polyfit(_x, _y, order), grid)\n",
      "C:\\Anaconda3\\lib\\site-packages\\seaborn\\regression.py:237: RankWarning: Polyfit may be poorly conditioned\n",
      "  return np.polyval(np.polyfit(_x, _y, order), grid)\n",
      "C:\\Anaconda3\\lib\\site-packages\\seaborn\\regression.py:237: RankWarning: Polyfit may be poorly conditioned\n",
      "  return np.polyval(np.polyfit(_x, _y, order), grid)\n",
      "C:\\Anaconda3\\lib\\site-packages\\seaborn\\regression.py:237: RankWarning: Polyfit may be poorly conditioned\n",
      "  return np.polyval(np.polyfit(_x, _y, order), grid)\n",
      "C:\\Anaconda3\\lib\\site-packages\\seaborn\\regression.py:237: RankWarning: Polyfit may be poorly conditioned\n",
      "  return np.polyval(np.polyfit(_x, _y, order), grid)\n",
      "C:\\Anaconda3\\lib\\site-packages\\seaborn\\regression.py:237: RankWarning: Polyfit may be poorly conditioned\n",
      "  return np.polyval(np.polyfit(_x, _y, order), grid)\n",
      "C:\\Anaconda3\\lib\\site-packages\\seaborn\\regression.py:237: RankWarning: Polyfit may be poorly conditioned\n",
      "  return np.polyval(np.polyfit(_x, _y, order), grid)\n",
      "C:\\Anaconda3\\lib\\site-packages\\seaborn\\regression.py:237: RankWarning: Polyfit may be poorly conditioned\n",
      "  return np.polyval(np.polyfit(_x, _y, order), grid)\n",
      "C:\\Anaconda3\\lib\\site-packages\\seaborn\\regression.py:237: RankWarning: Polyfit may be poorly conditioned\n",
      "  return np.polyval(np.polyfit(_x, _y, order), grid)\n",
      "C:\\Anaconda3\\lib\\site-packages\\seaborn\\regression.py:237: RankWarning: Polyfit may be poorly conditioned\n",
      "  return np.polyval(np.polyfit(_x, _y, order), grid)\n",
      "C:\\Anaconda3\\lib\\site-packages\\seaborn\\regression.py:237: RankWarning: Polyfit may be poorly conditioned\n",
      "  return np.polyval(np.polyfit(_x, _y, order), grid)\n",
      "C:\\Anaconda3\\lib\\site-packages\\seaborn\\regression.py:237: RankWarning: Polyfit may be poorly conditioned\n",
      "  return np.polyval(np.polyfit(_x, _y, order), grid)\n",
      "C:\\Anaconda3\\lib\\site-packages\\seaborn\\regression.py:237: RankWarning: Polyfit may be poorly conditioned\n",
      "  return np.polyval(np.polyfit(_x, _y, order), grid)\n"
     ]
    },
    {
     "data": {
      "text/plain": [
       "<matplotlib.axes._subplots.AxesSubplot at 0x202293e52e8>"
      ]
     },
     "execution_count": 21,
     "metadata": {},
     "output_type": "execute_result"
    },
    {
     "data": {
      "image/png": "[encoded data removed]",
      "text/plain": [
       "<Figure size 432x288 with 1 Axes>"
      ]
     },
     "metadata": {
      "needs_background": "light"
     },
     "output_type": "display_data"
    }
   ],
   "source": [
    "sns.regplot(x = X_fold2[\"x\"], y = y_fold2, order= 2, fit_reg = True)"
   ]
  }
 ],
 "metadata": {
  "kernelspec": {
   "display_name": "Python 3",
   "language": "python",
   "name": "python3"
  },
  "language_info": {
   "codemirror_mode": {
    "name": "ipython",
    "version": 3
   },
   "file_extension": ".py",
   "mimetype": "text/x-python",
   "name": "python",
   "nbconvert_exporter": "python",
   "pygments_lexer": "ipython3",
   "version": "3.7.3"
  }
 },
 "nbformat": 4,
 "nbformat_minor": 2
}
