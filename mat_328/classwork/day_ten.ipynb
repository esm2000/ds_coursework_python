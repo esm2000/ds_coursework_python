{
 "cells": [
  {
   "cell_type": "markdown",
   "metadata": {},
   "source": [
    "# Lab 10 - Logistic Regression\n",
    "\n",
    "The Challenger Space Shuttle tragically explored in 1986, killing all astronauts on board.  The explosion was shown to have been caused by an O-ring failure, likely due to cold temperatures the day of the launch (and also poor engineering that allowed this failure to cause such catastrophy).\n",
    "\n",
    "This lab will use experimental data from tests on whether O-rings failed at different temperatures.  The data set can be downloaded [here](http://comet.lehman.cuny.edu/owen/teaching/mat328/chall.txt)\n",
    "\n",
    "Some of this lab is based off the Harvard Data Science CS109 Lab 4, Fall 2015."
   ]
  },
  {
   "cell_type": "code",
   "execution_count": 1,
   "metadata": {},
   "outputs": [],
   "source": [
    "import pandas as pd\n",
    "import matplotlib.pyplot as plt\n",
    "import seaborn as sns\n",
    "import numpy as np\n",
    "import statsmodels.formula.api as smf\n",
    "\n",
    "\n",
    "%matplotlib inline"
   ]
  },
  {
   "cell_type": "markdown",
   "metadata": {},
   "source": [
    "Read the data into a dataframe."
   ]
  },
  {
   "cell_type": "code",
   "execution_count": 9,
   "metadata": {},
   "outputs": [
    {
     "data": {
      "text/html": [
       "<div>\n",
       "<style scoped>\n",
       "    .dataframe tbody tr th:only-of-type {\n",
       "        vertical-align: middle;\n",
       "    }\n",
       "\n",
       "    .dataframe tbody tr th {\n",
       "        vertical-align: top;\n",
       "    }\n",
       "\n",
       "    .dataframe thead th {\n",
       "        text-align: right;\n",
       "    }\n",
       "</style>\n",
       "<table border=\"1\" class=\"dataframe\">\n",
       "  <thead>\n",
       "    <tr style=\"text-align: right;\">\n",
       "      <th></th>\n",
       "      <th>temp</th>\n",
       "      <th>failure</th>\n",
       "    </tr>\n",
       "  </thead>\n",
       "  <tbody>\n",
       "    <tr>\n",
       "      <th>0</th>\n",
       "      <td>66</td>\n",
       "      <td>0</td>\n",
       "    </tr>\n",
       "    <tr>\n",
       "      <th>1</th>\n",
       "      <td>70</td>\n",
       "      <td>1</td>\n",
       "    </tr>\n",
       "    <tr>\n",
       "      <th>2</th>\n",
       "      <td>69</td>\n",
       "      <td>0</td>\n",
       "    </tr>\n",
       "    <tr>\n",
       "      <th>3</th>\n",
       "      <td>68</td>\n",
       "      <td>0</td>\n",
       "    </tr>\n",
       "    <tr>\n",
       "      <th>4</th>\n",
       "      <td>67</td>\n",
       "      <td>0</td>\n",
       "    </tr>\n",
       "  </tbody>\n",
       "</table>\n",
       "</div>"
      ],
      "text/plain": [
       "   temp  failure\n",
       "0    66        0\n",
       "1    70        1\n",
       "2    69        0\n",
       "3    68        0\n",
       "4    67        0"
      ]
     },
     "execution_count": 9,
     "metadata": {},
     "output_type": "execute_result"
    }
   ],
   "source": [
    "challenger = pd.read_csv(\"chall.txt\", names = [\"temp\", \"failure\"], sep = \"\\s+\")\n",
    "challenger.head()"
   ]
  },
  {
   "cell_type": "markdown",
   "metadata": {},
   "source": [
    "Create a scatter plot with temperature on the x axis and failure on the y axis.  What do you notice?\n",
    "\n",
    "__We're dealing with discrete data, instead of continuous.__"
   ]
  },
  {
   "cell_type": "code",
   "execution_count": 10,
   "metadata": {},
   "outputs": [
    {
     "data": {
      "text/plain": [
       "<matplotlib.collections.PathCollection at 0x1db04c176d8>"
      ]
     },
     "execution_count": 10,
     "metadata": {},
     "output_type": "execute_result"
    },
    {
     "data": {
      "image/png": "[encoded data removed]",
      "text/plain": [
       "<Figure size 432x288 with 1 Axes>"
      ]
     },
     "metadata": {
      "needs_background": "light"
     },
     "output_type": "display_data"
    }
   ],
   "source": [
    "plt.scatter(x = challenger[\"temp\"], y = challenger[\"failure\"])"
   ]
  },
  {
   "cell_type": "markdown",
   "metadata": {},
   "source": [
    "We will now use statsmodel to fit a logistic regression model to the data.  Notice that the code is similar to when we fit a linear regression model to the data."
   ]
  },
  {
   "cell_type": "code",
   "execution_count": 14,
   "metadata": {},
   "outputs": [
    {
     "name": "stdout",
     "output_type": "stream",
     "text": [
      "Optimization terminated successfully.\n",
      "         Current function value: 0.441635\n",
      "         Iterations 7\n"
     ]
    },
    {
     "data": {
      "text/html": [
       "<table class=\"simpletable\">\n",
       "<caption>Logit Regression Results</caption>\n",
       "<tr>\n",
       "  <th>Dep. Variable:</th>        <td>failure</td>     <th>  No. Observations:  </th>  <td>    23</td> \n",
       "</tr>\n",
       "<tr>\n",
       "  <th>Model:</th>                 <td>Logit</td>      <th>  Df Residuals:      </th>  <td>    21</td> \n",
       "</tr>\n",
       "<tr>\n",
       "  <th>Method:</th>                 <td>MLE</td>       <th>  Df Model:          </th>  <td>     1</td> \n",
       "</tr>\n",
       "<tr>\n",
       "  <th>Date:</th>            <td>Thu, 03 Oct 2019</td> <th>  Pseudo R-squ.:     </th>  <td>0.2813</td> \n",
       "</tr>\n",
       "<tr>\n",
       "  <th>Time:</th>                <td>16:38:55</td>     <th>  Log-Likelihood:    </th> <td> -10.158</td>\n",
       "</tr>\n",
       "<tr>\n",
       "  <th>converged:</th>             <td>True</td>       <th>  LL-Null:           </th> <td> -14.134</td>\n",
       "</tr>\n",
       "<tr>\n",
       "  <th>Covariance Type:</th>     <td>nonrobust</td>    <th>  LLR p-value:       </th> <td>0.004804</td>\n",
       "</tr>\n",
       "</table>\n",
       "<table class=\"simpletable\">\n",
       "<tr>\n",
       "      <td></td>         <th>coef</th>     <th>std err</th>      <th>z</th>      <th>P>|z|</th>  <th>[0.025</th>    <th>0.975]</th>  \n",
       "</tr>\n",
       "<tr>\n",
       "  <th>Intercept</th> <td>   15.0429</td> <td>    7.379</td> <td>    2.039</td> <td> 0.041</td> <td>    0.581</td> <td>   29.505</td>\n",
       "</tr>\n",
       "<tr>\n",
       "  <th>temp</th>      <td>   -0.2322</td> <td>    0.108</td> <td>   -2.145</td> <td> 0.032</td> <td>   -0.444</td> <td>   -0.020</td>\n",
       "</tr>\n",
       "</table>"
      ],
      "text/plain": [
       "<class 'statsmodels.iolib.summary.Summary'>\n",
       "\"\"\"\n",
       "                           Logit Regression Results                           \n",
       "==============================================================================\n",
       "Dep. Variable:                failure   No. Observations:                   23\n",
       "Model:                          Logit   Df Residuals:                       21\n",
       "Method:                           MLE   Df Model:                            1\n",
       "Date:                Thu, 03 Oct 2019   Pseudo R-squ.:                  0.2813\n",
       "Time:                        16:38:55   Log-Likelihood:                -10.158\n",
       "converged:                       True   LL-Null:                       -14.134\n",
       "Covariance Type:            nonrobust   LLR p-value:                  0.004804\n",
       "==============================================================================\n",
       "                 coef    std err          z      P>|z|      [0.025      0.975]\n",
       "------------------------------------------------------------------------------\n",
       "Intercept     15.0429      7.379      2.039      0.041       0.581      29.505\n",
       "temp          -0.2322      0.108     -2.145      0.032      -0.444      -0.020\n",
       "==============================================================================\n",
       "\"\"\""
      ]
     },
     "execution_count": 14,
     "metadata": {},
     "output_type": "execute_result"
    }
   ],
   "source": [
    "logit_model = smf.logit('failure ~ temp', challenger).fit()\n",
    "logit_model.summary()"
   ]
  },
  {
   "cell_type": "markdown",
   "metadata": {},
   "source": [
    "Is there an R-squared value in the summary?  What is the formula for the model?\n",
    "\n",
    "There is another way to get the model parameters:"
   ]
  },
  {
   "cell_type": "code",
   "execution_count": 15,
   "metadata": {},
   "outputs": [
    {
     "data": {
      "text/plain": [
       "Intercept    15.042902\n",
       "temp         -0.232163\n",
       "dtype: float64"
      ]
     },
     "execution_count": 15,
     "metadata": {},
     "output_type": "execute_result"
    }
   ],
   "source": [
    "logit_model.params"
   ]
  },
  {
   "cell_type": "markdown",
   "metadata": {},
   "source": [
    "We can use these parameters to graph the model equation on the data.  \n",
    "\n",
    "First, create 200 evenly spaced x values (look at the data to see what their range should be): "
   ]
  },
  {
   "cell_type": "code",
   "execution_count": 18,
   "metadata": {},
   "outputs": [
    {
     "data": {
      "text/plain": [
       "array([53.        , 53.14070352, 53.28140704, 53.42211055, 53.56281407,\n",
       "       53.70351759, 53.84422111, 53.98492462, 54.12562814, 54.26633166,\n",
       "       54.40703518, 54.54773869, 54.68844221, 54.82914573, 54.96984925,\n",
       "       55.11055276, 55.25125628, 55.3919598 , 55.53266332, 55.67336683,\n",
       "       55.81407035, 55.95477387, 56.09547739, 56.2361809 , 56.37688442,\n",
       "       56.51758794, 56.65829146, 56.79899497, 56.93969849, 57.08040201,\n",
       "       57.22110553, 57.36180905, 57.50251256, 57.64321608, 57.7839196 ,\n",
       "       57.92462312, 58.06532663, 58.20603015, 58.34673367, 58.48743719,\n",
       "       58.6281407 , 58.76884422, 58.90954774, 59.05025126, 59.19095477,\n",
       "       59.33165829, 59.47236181, 59.61306533, 59.75376884, 59.89447236,\n",
       "       60.03517588, 60.1758794 , 60.31658291, 60.45728643, 60.59798995,\n",
       "       60.73869347, 60.87939698, 61.0201005 , 61.16080402, 61.30150754,\n",
       "       61.44221106, 61.58291457, 61.72361809, 61.86432161, 62.00502513,\n",
       "       62.14572864, 62.28643216, 62.42713568, 62.5678392 , 62.70854271,\n",
       "       62.84924623, 62.98994975, 63.13065327, 63.27135678, 63.4120603 ,\n",
       "       63.55276382, 63.69346734, 63.83417085, 63.97487437, 64.11557789,\n",
       "       64.25628141, 64.39698492, 64.53768844, 64.67839196, 64.81909548,\n",
       "       64.95979899, 65.10050251, 65.24120603, 65.38190955, 65.52261307,\n",
       "       65.66331658, 65.8040201 , 65.94472362, 66.08542714, 66.22613065,\n",
       "       66.36683417, 66.50753769, 66.64824121, 66.78894472, 66.92964824,\n",
       "       67.07035176, 67.21105528, 67.35175879, 67.49246231, 67.63316583,\n",
       "       67.77386935, 67.91457286, 68.05527638, 68.1959799 , 68.33668342,\n",
       "       68.47738693, 68.61809045, 68.75879397, 68.89949749, 69.04020101,\n",
       "       69.18090452, 69.32160804, 69.46231156, 69.60301508, 69.74371859,\n",
       "       69.88442211, 70.02512563, 70.16582915, 70.30653266, 70.44723618,\n",
       "       70.5879397 , 70.72864322, 70.86934673, 71.01005025, 71.15075377,\n",
       "       71.29145729, 71.4321608 , 71.57286432, 71.71356784, 71.85427136,\n",
       "       71.99497487, 72.13567839, 72.27638191, 72.41708543, 72.55778894,\n",
       "       72.69849246, 72.83919598, 72.9798995 , 73.12060302, 73.26130653,\n",
       "       73.40201005, 73.54271357, 73.68341709, 73.8241206 , 73.96482412,\n",
       "       74.10552764, 74.24623116, 74.38693467, 74.52763819, 74.66834171,\n",
       "       74.80904523, 74.94974874, 75.09045226, 75.23115578, 75.3718593 ,\n",
       "       75.51256281, 75.65326633, 75.79396985, 75.93467337, 76.07537688,\n",
       "       76.2160804 , 76.35678392, 76.49748744, 76.63819095, 76.77889447,\n",
       "       76.91959799, 77.06030151, 77.20100503, 77.34170854, 77.48241206,\n",
       "       77.62311558, 77.7638191 , 77.90452261, 78.04522613, 78.18592965,\n",
       "       78.32663317, 78.46733668, 78.6080402 , 78.74874372, 78.88944724,\n",
       "       79.03015075, 79.17085427, 79.31155779, 79.45226131, 79.59296482,\n",
       "       79.73366834, 79.87437186, 80.01507538, 80.15577889, 80.29648241,\n",
       "       80.43718593, 80.57788945, 80.71859296, 80.85929648, 81.        ])"
      ]
     },
     "execution_count": 18,
     "metadata": {},
     "output_type": "execute_result"
    }
   ],
   "source": [
    "x = np.linspace(challenger[\"temp\"].min(), challenger[\"temp\"].max(), 200)\n",
    "x"
   ]
  },
  {
   "cell_type": "markdown",
   "metadata": {},
   "source": [
    "Next, we can compute $\\beta_0 + \\beta_1 x$ for all of these x values:"
   ]
  },
  {
   "cell_type": "code",
   "execution_count": 20,
   "metadata": {},
   "outputs": [],
   "source": [
    "p = logit_model.params\n",
    "reg = p['Intercept'] + x*p['temp']"
   ]
  },
  {
   "cell_type": "markdown",
   "metadata": {},
   "source": [
    "Finally we can plug `reg` into the logistic equation to get the y values:"
   ]
  },
  {
   "cell_type": "code",
   "execution_count": 21,
   "metadata": {},
   "outputs": [],
   "source": [
    "y = np.exp(reg)/(1 + np.exp(reg))"
   ]
  },
  {
   "cell_type": "markdown",
   "metadata": {},
   "source": [
    "Plot another scatter plot of the data, plus the plot of our calculated x and y values:"
   ]
  },
  {
   "cell_type": "code",
   "execution_count": 23,
   "metadata": {},
   "outputs": [
    {
     "data": {
      "text/plain": [
       "[<matplotlib.lines.Line2D at 0x1db04d7ddd8>]"
      ]
     },
     "execution_count": 23,
     "metadata": {},
     "output_type": "execute_result"
    },
    {
     "data": {
      "image/png": "[encoded data removed]",
      "text/plain": [
       "<Figure size 432x288 with 1 Axes>"
      ]
     },
     "metadata": {
      "needs_background": "light"
     },
     "output_type": "display_data"
    }
   ],
   "source": [
    "plt.scatter(x = challenger[\"temp\"], y = challenger[\"failure\"])\n",
    "plt.plot(x, y)"
   ]
  },
  {
   "cell_type": "markdown",
   "metadata": {},
   "source": [
    "One way to understand how well our model works is to make a *confusion table* or *confusion matrix*, which counts how many of each type of error there are.  We can create the table using the `pred_table()` function."
   ]
  },
  {
   "cell_type": "code",
   "execution_count": 24,
   "metadata": {},
   "outputs": [
    {
     "data": {
      "text/plain": [
       "array([[16.,  0.],\n",
       "       [ 3.,  4.]])"
      ]
     },
     "execution_count": 24,
     "metadata": {},
     "output_type": "execute_result"
    }
   ],
   "source": [
    "logit_model.pred_table()"
   ]
  },
  {
   "cell_type": "markdown",
   "metadata": {},
   "source": [
    "The confusion matrix can be read as follows:\n",
    "<code>   \n",
    "                        predicted\n",
    "             |    0           |      1      |\n",
    "             --------------------------------\n",
    "observed | 0 | true negative  | false positive\n",
    "         | 1 | false negative | true positive\n",
    "</code>\n"
   ]
  },
  {
   "cell_type": "markdown",
   "metadata": {},
   "source": [
    "How many correct predictions did the model make?   What kind of wrong predictions did the model make?\n",
    "\n",
    "__The model made 20 correct predictions. The model made 3 false negatives.__"
   ]
  },
  {
   "cell_type": "markdown",
   "metadata": {},
   "source": [
    "# Pima (Akimel Oʼodham) Indian Diabetes data\n",
    "\n",
    "The Akimel O'odham people, who were also known as the Pima Indians since European colonization of the US, currently have a high prevalence of diabetes.   A data set of different possible diabetes indicators and whether the person has diabetes is on [Kaggle](ttps://www.kaggle.com/uciml/pima-indians-diabetes-database) or available [here](http://comet.lehman.cuny.edu/owen/teaching/mat328/diabetes.csv).\n",
    "\n",
    "Read in the dataset."
   ]
  },
  {
   "cell_type": "code",
   "execution_count": 26,
   "metadata": {},
   "outputs": [
    {
     "data": {
      "text/html": [
       "<div>\n",
       "<style scoped>\n",
       "    .dataframe tbody tr th:only-of-type {\n",
       "        vertical-align: middle;\n",
       "    }\n",
       "\n",
       "    .dataframe tbody tr th {\n",
       "        vertical-align: top;\n",
       "    }\n",
       "\n",
       "    .dataframe thead th {\n",
       "        text-align: right;\n",
       "    }\n",
       "</style>\n",
       "<table border=\"1\" class=\"dataframe\">\n",
       "  <thead>\n",
       "    <tr style=\"text-align: right;\">\n",
       "      <th></th>\n",
       "      <th>Pregnancies</th>\n",
       "      <th>Glucose</th>\n",
       "      <th>BloodPressure</th>\n",
       "      <th>SkinThickness</th>\n",
       "      <th>Insulin</th>\n",
       "      <th>BMI</th>\n",
       "      <th>DiabetesPedigreeFunction</th>\n",
       "      <th>Age</th>\n",
       "      <th>Outcome</th>\n",
       "    </tr>\n",
       "  </thead>\n",
       "  <tbody>\n",
       "    <tr>\n",
       "      <th>0</th>\n",
       "      <td>6</td>\n",
       "      <td>148</td>\n",
       "      <td>72</td>\n",
       "      <td>35</td>\n",
       "      <td>0</td>\n",
       "      <td>33.6</td>\n",
       "      <td>0.627</td>\n",
       "      <td>50</td>\n",
       "      <td>1</td>\n",
       "    </tr>\n",
       "    <tr>\n",
       "      <th>1</th>\n",
       "      <td>1</td>\n",
       "      <td>85</td>\n",
       "      <td>66</td>\n",
       "      <td>29</td>\n",
       "      <td>0</td>\n",
       "      <td>26.6</td>\n",
       "      <td>0.351</td>\n",
       "      <td>31</td>\n",
       "      <td>0</td>\n",
       "    </tr>\n",
       "    <tr>\n",
       "      <th>2</th>\n",
       "      <td>8</td>\n",
       "      <td>183</td>\n",
       "      <td>64</td>\n",
       "      <td>0</td>\n",
       "      <td>0</td>\n",
       "      <td>23.3</td>\n",
       "      <td>0.672</td>\n",
       "      <td>32</td>\n",
       "      <td>1</td>\n",
       "    </tr>\n",
       "    <tr>\n",
       "      <th>3</th>\n",
       "      <td>1</td>\n",
       "      <td>89</td>\n",
       "      <td>66</td>\n",
       "      <td>23</td>\n",
       "      <td>94</td>\n",
       "      <td>28.1</td>\n",
       "      <td>0.167</td>\n",
       "      <td>21</td>\n",
       "      <td>0</td>\n",
       "    </tr>\n",
       "    <tr>\n",
       "      <th>4</th>\n",
       "      <td>0</td>\n",
       "      <td>137</td>\n",
       "      <td>40</td>\n",
       "      <td>35</td>\n",
       "      <td>168</td>\n",
       "      <td>43.1</td>\n",
       "      <td>2.288</td>\n",
       "      <td>33</td>\n",
       "      <td>1</td>\n",
       "    </tr>\n",
       "  </tbody>\n",
       "</table>\n",
       "</div>"
      ],
      "text/plain": [
       "   Pregnancies  Glucose  BloodPressure  SkinThickness  Insulin   BMI  \\\n",
       "0            6      148             72             35        0  33.6   \n",
       "1            1       85             66             29        0  26.6   \n",
       "2            8      183             64              0        0  23.3   \n",
       "3            1       89             66             23       94  28.1   \n",
       "4            0      137             40             35      168  43.1   \n",
       "\n",
       "   DiabetesPedigreeFunction  Age  Outcome  \n",
       "0                     0.627   50        1  \n",
       "1                     0.351   31        0  \n",
       "2                     0.672   32        1  \n",
       "3                     0.167   21        0  \n",
       "4                     2.288   33        1  "
      ]
     },
     "execution_count": 26,
     "metadata": {},
     "output_type": "execute_result"
    }
   ],
   "source": [
    "diabetes = pd.read_csv(\"diabetes.csv\")\n",
    "diabetes.head()"
   ]
  },
  {
   "cell_type": "markdown",
   "metadata": {},
   "source": [
    "Plot a scatter plot of glucose vs. diabetes."
   ]
  },
  {
   "cell_type": "code",
   "execution_count": 27,
   "metadata": {},
   "outputs": [
    {
     "data": {
      "text/plain": [
       "<seaborn.axisgrid.FacetGrid at 0x1db0504de10>"
      ]
     },
     "execution_count": 27,
     "metadata": {},
     "output_type": "execute_result"
    },
    {
     "data": {
      "image/png": "[encoded data removed]",
      "text/plain": [
       "<Figure size 360x360 with 1 Axes>"
      ]
     },
     "metadata": {
      "needs_background": "light"
     },
     "output_type": "display_data"
    }
   ],
   "source": [
    "sns.relplot(x = \"Glucose\", y = \"Outcome\", data = diabetes)"
   ]
  },
  {
   "cell_type": "markdown",
   "metadata": {},
   "source": [
    "Fit a logistic regression model to this data."
   ]
  },
  {
   "cell_type": "code",
   "execution_count": 32,
   "metadata": {},
   "outputs": [
    {
     "name": "stdout",
     "output_type": "stream",
     "text": [
      "Optimization terminated successfully.\n",
      "         Current function value: 0.526510\n",
      "         Iterations 6\n"
     ]
    },
    {
     "data": {
      "text/html": [
       "<table class=\"simpletable\">\n",
       "<caption>Logit Regression Results</caption>\n",
       "<tr>\n",
       "  <th>Dep. Variable:</th>        <td>Outcome</td>     <th>  No. Observations:  </th>  <td>   768</td>  \n",
       "</tr>\n",
       "<tr>\n",
       "  <th>Model:</th>                 <td>Logit</td>      <th>  Df Residuals:      </th>  <td>   766</td>  \n",
       "</tr>\n",
       "<tr>\n",
       "  <th>Method:</th>                 <td>MLE</td>       <th>  Df Model:          </th>  <td>     1</td>  \n",
       "</tr>\n",
       "<tr>\n",
       "  <th>Date:</th>            <td>Thu, 03 Oct 2019</td> <th>  Pseudo R-squ.:     </th>  <td>0.1860</td>  \n",
       "</tr>\n",
       "<tr>\n",
       "  <th>Time:</th>                <td>16:59:12</td>     <th>  Log-Likelihood:    </th> <td> -404.36</td> \n",
       "</tr>\n",
       "<tr>\n",
       "  <th>converged:</th>             <td>True</td>       <th>  LL-Null:           </th> <td> -496.74</td> \n",
       "</tr>\n",
       "<tr>\n",
       "  <th>Covariance Type:</th>     <td>nonrobust</td>    <th>  LLR p-value:       </th> <td>4.418e-42</td>\n",
       "</tr>\n",
       "</table>\n",
       "<table class=\"simpletable\">\n",
       "<tr>\n",
       "      <td></td>         <th>coef</th>     <th>std err</th>      <th>z</th>      <th>P>|z|</th>  <th>[0.025</th>    <th>0.975]</th>  \n",
       "</tr>\n",
       "<tr>\n",
       "  <th>Intercept</th> <td>   -5.3501</td> <td>    0.421</td> <td>  -12.713</td> <td> 0.000</td> <td>   -6.175</td> <td>   -4.525</td>\n",
       "</tr>\n",
       "<tr>\n",
       "  <th>Glucose</th>   <td>    0.0379</td> <td>    0.003</td> <td>   11.647</td> <td> 0.000</td> <td>    0.031</td> <td>    0.044</td>\n",
       "</tr>\n",
       "</table>"
      ],
      "text/plain": [
       "<class 'statsmodels.iolib.summary.Summary'>\n",
       "\"\"\"\n",
       "                           Logit Regression Results                           \n",
       "==============================================================================\n",
       "Dep. Variable:                Outcome   No. Observations:                  768\n",
       "Model:                          Logit   Df Residuals:                      766\n",
       "Method:                           MLE   Df Model:                            1\n",
       "Date:                Thu, 03 Oct 2019   Pseudo R-squ.:                  0.1860\n",
       "Time:                        16:59:12   Log-Likelihood:                -404.36\n",
       "converged:                       True   LL-Null:                       -496.74\n",
       "Covariance Type:            nonrobust   LLR p-value:                 4.418e-42\n",
       "==============================================================================\n",
       "                 coef    std err          z      P>|z|      [0.025      0.975]\n",
       "------------------------------------------------------------------------------\n",
       "Intercept     -5.3501      0.421    -12.713      0.000      -6.175      -4.525\n",
       "Glucose        0.0379      0.003     11.647      0.000       0.031       0.044\n",
       "==============================================================================\n",
       "\"\"\""
      ]
     },
     "execution_count": 32,
     "metadata": {},
     "output_type": "execute_result"
    }
   ],
   "source": [
    "logit_model2 = smf.logit(\"Outcome ~ Glucose\", diabetes).fit()\n",
    "logit_model2.summary()"
   ]
  },
  {
   "cell_type": "markdown",
   "metadata": {},
   "source": [
    "Plot the model equation on top of your scatter plot."
   ]
  },
  {
   "cell_type": "code",
   "execution_count": 34,
   "metadata": {},
   "outputs": [
    {
     "data": {
      "text/plain": [
       "array([  0.,   1.,   2.,   3.,   4.,   5.,   6.,   7.,   8.,   9.,  10.,\n",
       "        11.,  12.,  13.,  14.,  15.,  16.,  17.,  18.,  19.,  20.,  21.,\n",
       "        22.,  23.,  24.,  25.,  26.,  27.,  28.,  29.,  30.,  31.,  32.,\n",
       "        33.,  34.,  35.,  36.,  37.,  38.,  39.,  40.,  41.,  42.,  43.,\n",
       "        44.,  45.,  46.,  47.,  48.,  49.,  50.,  51.,  52.,  53.,  54.,\n",
       "        55.,  56.,  57.,  58.,  59.,  60.,  61.,  62.,  63.,  64.,  65.,\n",
       "        66.,  67.,  68.,  69.,  70.,  71.,  72.,  73.,  74.,  75.,  76.,\n",
       "        77.,  78.,  79.,  80.,  81.,  82.,  83.,  84.,  85.,  86.,  87.,\n",
       "        88.,  89.,  90.,  91.,  92.,  93.,  94.,  95.,  96.,  97.,  98.,\n",
       "        99., 100., 101., 102., 103., 104., 105., 106., 107., 108., 109.,\n",
       "       110., 111., 112., 113., 114., 115., 116., 117., 118., 119., 120.,\n",
       "       121., 122., 123., 124., 125., 126., 127., 128., 129., 130., 131.,\n",
       "       132., 133., 134., 135., 136., 137., 138., 139., 140., 141., 142.,\n",
       "       143., 144., 145., 146., 147., 148., 149., 150., 151., 152., 153.,\n",
       "       154., 155., 156., 157., 158., 159., 160., 161., 162., 163., 164.,\n",
       "       165., 166., 167., 168., 169., 170., 171., 172., 173., 174., 175.,\n",
       "       176., 177., 178., 179., 180., 181., 182., 183., 184., 185., 186.,\n",
       "       187., 188., 189., 190., 191., 192., 193., 194., 195., 196., 197.,\n",
       "       198., 199.])"
      ]
     },
     "execution_count": 34,
     "metadata": {},
     "output_type": "execute_result"
    }
   ],
   "source": [
    "x = np.linspace(diabetes[\"Glucose\"].min(), diabetes[\"Glucose\"].max(), 200)\n",
    "x"
   ]
  },
  {
   "cell_type": "code",
   "execution_count": 37,
   "metadata": {},
   "outputs": [
    {
     "data": {
      "text/plain": [
       "array([0.00472533, 0.00490683, 0.00509527, 0.0052909 , 0.00549401,\n",
       "       0.00570486, 0.00592376, 0.00615101, 0.00638692, 0.00663181,\n",
       "       0.00688603, 0.00714993, 0.00742386, 0.00770821, 0.00800336,\n",
       "       0.00830972, 0.0086277 , 0.00895774, 0.00930029, 0.00965581,\n",
       "       0.01002478, 0.01040771, 0.0108051 , 0.01121749, 0.01164543,\n",
       "       0.0120895 , 0.01255029, 0.01302842, 0.0135245 , 0.01403921,\n",
       "       0.01457322, 0.01512723, 0.01570196, 0.01629817, 0.01691662,\n",
       "       0.01755813, 0.01822351, 0.01891362, 0.01962935, 0.02037159,\n",
       "       0.0211413 , 0.02193943, 0.022767  , 0.02362503, 0.02451459,\n",
       "       0.02543677, 0.0263927 , 0.02738354, 0.0284105 , 0.0294748 ,\n",
       "       0.03057772, 0.03172056, 0.03290467, 0.03413142, 0.03540223,\n",
       "       0.03671856, 0.03808189, 0.03949378, 0.04095578, 0.04246951,\n",
       "       0.04403661, 0.04565879, 0.04733776, 0.0490753 , 0.0508732 ,\n",
       "       0.05273333, 0.05465754, 0.05664778, 0.05870598, 0.06083414,\n",
       "       0.06303429, 0.06530847, 0.06765878, 0.07008732, 0.07259625,\n",
       "       0.07518773, 0.07786395, 0.08062713, 0.08347948, 0.08642326,\n",
       "       0.08946071, 0.0925941 , 0.09582568, 0.09915773, 0.10259249,\n",
       "       0.10613221, 0.10977912, 0.11353543, 0.11740331, 0.12138493,\n",
       "       0.12548237, 0.12969772, 0.13403296, 0.13849006, 0.14307089,\n",
       "       0.14777724, 0.15261084, 0.1575733 , 0.16266616, 0.16789081,\n",
       "       0.17324856, 0.17874055, 0.18436782, 0.19013124, 0.19603152,\n",
       "       0.20206921, 0.2082447 , 0.21455817, 0.22100962, 0.22759884,\n",
       "       0.23432542, 0.24118872, 0.24818789, 0.25532183, 0.26258921,\n",
       "       0.26998844, 0.2775177 , 0.28517491, 0.29295773, 0.30086355,\n",
       "       0.30888951, 0.31703249, 0.3252891 , 0.33365569, 0.34212835,\n",
       "       0.35070292, 0.359375  , 0.36813994, 0.37699285, 0.38592862,\n",
       "       0.39494193, 0.40402724, 0.41317883, 0.4223908 , 0.43165707,\n",
       "       0.44097143, 0.45032752, 0.45971888, 0.46913893, 0.47858102,\n",
       "       0.48803845, 0.49750445, 0.50697223, 0.51643502, 0.52588604,\n",
       "       0.53531854, 0.54472585, 0.55410135, 0.56343851, 0.57273091,\n",
       "       0.58197227, 0.59115643, 0.60027741, 0.60932937, 0.61830669,\n",
       "       0.62720393, 0.63601587, 0.6447375 , 0.65336404, 0.66189095,\n",
       "       0.67031396, 0.67862901, 0.68683233, 0.69492038, 0.70288991,\n",
       "       0.71073791, 0.71846164, 0.72605863, 0.73352665, 0.74086374,\n",
       "       0.7480682 , 0.75513857, 0.76207361, 0.76887236, 0.77553406,\n",
       "       0.78205817, 0.78844439, 0.7946926 , 0.8008029 , 0.80677556,\n",
       "       0.81261104, 0.81830998, 0.82387316, 0.82930154, 0.8345962 ,\n",
       "       0.83975837, 0.84478938, 0.84969072, 0.85446394, 0.85911072,\n",
       "       0.86363281, 0.86803205, 0.87231035, 0.87646969, 0.88051211,\n",
       "       0.88443968, 0.88825454, 0.89195884, 0.89555479, 0.8990446 ])"
      ]
     },
     "execution_count": 37,
     "metadata": {},
     "output_type": "execute_result"
    }
   ],
   "source": [
    "p = logit_model2.params\n",
    "reg = p[\"Intercept\"] + p[\"Glucose\"] * x\n",
    "y = np.exp(reg) / (1 + np.exp(reg))\n",
    "y"
   ]
  },
  {
   "cell_type": "code",
   "execution_count": 38,
   "metadata": {},
   "outputs": [
    {
     "data": {
      "text/plain": [
       "[<matplotlib.lines.Line2D at 0x1db050c9630>]"
      ]
     },
     "execution_count": 38,
     "metadata": {},
     "output_type": "execute_result"
    },
    {
     "data": {
      "image/png": "[encoded data removed]",
      "text/plain": [
       "<Figure size 360x360 with 1 Axes>"
      ]
     },
     "metadata": {
      "needs_background": "light"
     },
     "output_type": "display_data"
    }
   ],
   "source": [
    "sns.relplot(x = \"Glucose\", y = \"Outcome\", data = diabetes)\n",
    "plt.plot(x,y)"
   ]
  },
  {
   "cell_type": "markdown",
   "metadata": {},
   "source": [
    "What does the confusion table tell you about the fit of this model?\n",
    "\n",
    "* __The model correctly predicted that 443 people don't have diabetes and that 130 people have diabetes.__\n",
    "* __The model incorrectly predicted that 57 people have diabetes when they don't.__\n",
    "* __The model incorrectly predicted that 138 people with diabetes don't have diabetes.__"
   ]
  },
  {
   "cell_type": "code",
   "execution_count": 40,
   "metadata": {},
   "outputs": [
    {
     "data": {
      "text/plain": [
       "array([[443.,  57.],\n",
       "       [138., 130.]])"
      ]
     },
     "execution_count": 40,
     "metadata": {},
     "output_type": "execute_result"
    }
   ],
   "source": [
    "logit_model2.pred_table()"
   ]
  }
 ],
 "metadata": {
  "kernelspec": {
   "display_name": "Python 3",
   "language": "python",
   "name": "python3"
  },
  "language_info": {
   "codemirror_mode": {
    "name": "ipython",
    "version": 3
   },
   "file_extension": ".py",
   "mimetype": "text/x-python",
   "name": "python",
   "nbconvert_exporter": "python",
   "pygments_lexer": "ipython3",
   "version": "3.7.3"
  }
 },
 "nbformat": 4,
 "nbformat_minor": 2
}
