{
 "cells": [
  {
   "cell_type": "markdown",
   "metadata": {},
   "source": [
    "If you were not here for Lab 12, and need to install the graphviz package:"
   ]
  },
  {
   "cell_type": "code",
   "execution_count": null,
   "metadata": {},
   "outputs": [],
   "source": [
    "!pip install --user graphviz"
   ]
  },
  {
   "cell_type": "markdown",
   "metadata": {},
   "source": [
    "# Lab 13 - Decision Trees for regression\n",
    "\n",
    "For this lab, we will return to the insurance data from Labs 7 and 8.  Recall we are trying to predict the insurance cost, a quantitative value.  \n",
    "\n",
    "If you don't have the dataset, download it from GitHub: [https://github.com/stedy/Machine-Learning-with-R-datasets/blob/master/insurance.csv](https://github.com/stedy/Machine-Learning-with-R-datasets/blob/master/insurance.csv)\n",
    "\n",
    "In this data, each row represents an insurance policy and the 7 columns contain the following information about it:\n",
    "- age: age of policy holder\n",
    "- sex: sex of policy holder\n",
    "- bmi: boday mass index (bmi) of policy holder.  bmi is a (sometimes unreliable) measurement of body fat in adults\n",
    "- children: number of children (dependents) on the policy\n",
    "- smoker: whether the policy holder is a smoker\n",
    "- region: region of the country the policy holder lives in\n",
    "- charges: price for insurance policy"
   ]
  },
  {
   "cell_type": "code",
   "execution_count": 1,
   "metadata": {},
   "outputs": [],
   "source": [
    "import pandas as pd\n",
    "import matplotlib.pyplot as plt\n",
    "import numpy as np\n",
    "from sklearn import tree\n",
    "import graphviz\n",
    "from graphviz import Source\n",
    " \n",
    "from sklearn.model_selection import train_test_split\n",
    "\n",
    "from sklearn.tree import export_graphviz\n",
    "import sklearn.metrics as met\n",
    "from sklearn.metrics import confusion_matrix\n",
    "\n",
    "%matplotlib inline"
   ]
  },
  {
   "cell_type": "markdown",
   "metadata": {},
   "source": [
    "Read the data into a dataframe and display it to make sure it was read in correctly:"
   ]
  },
  {
   "cell_type": "code",
   "execution_count": 7,
   "metadata": {},
   "outputs": [
    {
     "data": {
      "text/html": [
       "<div>\n",
       "<style scoped>\n",
       "    .dataframe tbody tr th:only-of-type {\n",
       "        vertical-align: middle;\n",
       "    }\n",
       "\n",
       "    .dataframe tbody tr th {\n",
       "        vertical-align: top;\n",
       "    }\n",
       "\n",
       "    .dataframe thead th {\n",
       "        text-align: right;\n",
       "    }\n",
       "</style>\n",
       "<table border=\"1\" class=\"dataframe\">\n",
       "  <thead>\n",
       "    <tr style=\"text-align: right;\">\n",
       "      <th></th>\n",
       "      <th>age</th>\n",
       "      <th>sex</th>\n",
       "      <th>bmi</th>\n",
       "      <th>children</th>\n",
       "      <th>smoker</th>\n",
       "      <th>region</th>\n",
       "      <th>charges</th>\n",
       "    </tr>\n",
       "  </thead>\n",
       "  <tbody>\n",
       "    <tr>\n",
       "      <th>0</th>\n",
       "      <td>19</td>\n",
       "      <td>female</td>\n",
       "      <td>27.900</td>\n",
       "      <td>0</td>\n",
       "      <td>yes</td>\n",
       "      <td>southwest</td>\n",
       "      <td>16884.92400</td>\n",
       "    </tr>\n",
       "    <tr>\n",
       "      <th>1</th>\n",
       "      <td>18</td>\n",
       "      <td>male</td>\n",
       "      <td>33.770</td>\n",
       "      <td>1</td>\n",
       "      <td>no</td>\n",
       "      <td>southeast</td>\n",
       "      <td>1725.55230</td>\n",
       "    </tr>\n",
       "    <tr>\n",
       "      <th>2</th>\n",
       "      <td>28</td>\n",
       "      <td>male</td>\n",
       "      <td>33.000</td>\n",
       "      <td>3</td>\n",
       "      <td>no</td>\n",
       "      <td>southeast</td>\n",
       "      <td>4449.46200</td>\n",
       "    </tr>\n",
       "    <tr>\n",
       "      <th>3</th>\n",
       "      <td>33</td>\n",
       "      <td>male</td>\n",
       "      <td>22.705</td>\n",
       "      <td>0</td>\n",
       "      <td>no</td>\n",
       "      <td>northwest</td>\n",
       "      <td>21984.47061</td>\n",
       "    </tr>\n",
       "    <tr>\n",
       "      <th>4</th>\n",
       "      <td>32</td>\n",
       "      <td>male</td>\n",
       "      <td>28.880</td>\n",
       "      <td>0</td>\n",
       "      <td>no</td>\n",
       "      <td>northwest</td>\n",
       "      <td>3866.85520</td>\n",
       "    </tr>\n",
       "  </tbody>\n",
       "</table>\n",
       "</div>"
      ],
      "text/plain": [
       "   age     sex     bmi  children smoker     region      charges\n",
       "0   19  female  27.900         0    yes  southwest  16884.92400\n",
       "1   18    male  33.770         1     no  southeast   1725.55230\n",
       "2   28    male  33.000         3     no  southeast   4449.46200\n",
       "3   33    male  22.705         0     no  northwest  21984.47061\n",
       "4   32    male  28.880         0     no  northwest   3866.85520"
      ]
     },
     "execution_count": 7,
     "metadata": {},
     "output_type": "execute_result"
    }
   ],
   "source": [
    "insurance = pd.read_csv(\"insurance.txt\")\n",
    "insurance.head()"
   ]
  },
  {
   "cell_type": "markdown",
   "metadata": {},
   "source": [
    "Sci-kit learn decision trees require numeric data.  How can we convert the categorical columns into numeric data?  \n",
    "Hint:  see Lab 8"
   ]
  },
  {
   "cell_type": "code",
   "execution_count": 8,
   "metadata": {},
   "outputs": [
    {
     "data": {
      "text/html": [
       "<div>\n",
       "<style scoped>\n",
       "    .dataframe tbody tr th:only-of-type {\n",
       "        vertical-align: middle;\n",
       "    }\n",
       "\n",
       "    .dataframe tbody tr th {\n",
       "        vertical-align: top;\n",
       "    }\n",
       "\n",
       "    .dataframe thead th {\n",
       "        text-align: right;\n",
       "    }\n",
       "</style>\n",
       "<table border=\"1\" class=\"dataframe\">\n",
       "  <thead>\n",
       "    <tr style=\"text-align: right;\">\n",
       "      <th></th>\n",
       "      <th>age</th>\n",
       "      <th>bmi</th>\n",
       "      <th>children</th>\n",
       "      <th>charges</th>\n",
       "      <th>sex_female</th>\n",
       "      <th>sex_male</th>\n",
       "      <th>smoker_no</th>\n",
       "      <th>smoker_yes</th>\n",
       "      <th>region_northeast</th>\n",
       "      <th>region_northwest</th>\n",
       "      <th>region_southeast</th>\n",
       "      <th>region_southwest</th>\n",
       "    </tr>\n",
       "  </thead>\n",
       "  <tbody>\n",
       "    <tr>\n",
       "      <th>0</th>\n",
       "      <td>19</td>\n",
       "      <td>27.900</td>\n",
       "      <td>0</td>\n",
       "      <td>16884.92400</td>\n",
       "      <td>1</td>\n",
       "      <td>0</td>\n",
       "      <td>0</td>\n",
       "      <td>1</td>\n",
       "      <td>0</td>\n",
       "      <td>0</td>\n",
       "      <td>0</td>\n",
       "      <td>1</td>\n",
       "    </tr>\n",
       "    <tr>\n",
       "      <th>1</th>\n",
       "      <td>18</td>\n",
       "      <td>33.770</td>\n",
       "      <td>1</td>\n",
       "      <td>1725.55230</td>\n",
       "      <td>0</td>\n",
       "      <td>1</td>\n",
       "      <td>1</td>\n",
       "      <td>0</td>\n",
       "      <td>0</td>\n",
       "      <td>0</td>\n",
       "      <td>1</td>\n",
       "      <td>0</td>\n",
       "    </tr>\n",
       "    <tr>\n",
       "      <th>2</th>\n",
       "      <td>28</td>\n",
       "      <td>33.000</td>\n",
       "      <td>3</td>\n",
       "      <td>4449.46200</td>\n",
       "      <td>0</td>\n",
       "      <td>1</td>\n",
       "      <td>1</td>\n",
       "      <td>0</td>\n",
       "      <td>0</td>\n",
       "      <td>0</td>\n",
       "      <td>1</td>\n",
       "      <td>0</td>\n",
       "    </tr>\n",
       "    <tr>\n",
       "      <th>3</th>\n",
       "      <td>33</td>\n",
       "      <td>22.705</td>\n",
       "      <td>0</td>\n",
       "      <td>21984.47061</td>\n",
       "      <td>0</td>\n",
       "      <td>1</td>\n",
       "      <td>1</td>\n",
       "      <td>0</td>\n",
       "      <td>0</td>\n",
       "      <td>1</td>\n",
       "      <td>0</td>\n",
       "      <td>0</td>\n",
       "    </tr>\n",
       "    <tr>\n",
       "      <th>4</th>\n",
       "      <td>32</td>\n",
       "      <td>28.880</td>\n",
       "      <td>0</td>\n",
       "      <td>3866.85520</td>\n",
       "      <td>0</td>\n",
       "      <td>1</td>\n",
       "      <td>1</td>\n",
       "      <td>0</td>\n",
       "      <td>0</td>\n",
       "      <td>1</td>\n",
       "      <td>0</td>\n",
       "      <td>0</td>\n",
       "    </tr>\n",
       "  </tbody>\n",
       "</table>\n",
       "</div>"
      ],
      "text/plain": [
       "   age     bmi  children      charges  sex_female  sex_male  smoker_no  \\\n",
       "0   19  27.900         0  16884.92400           1         0          0   \n",
       "1   18  33.770         1   1725.55230           0         1          1   \n",
       "2   28  33.000         3   4449.46200           0         1          1   \n",
       "3   33  22.705         0  21984.47061           0         1          1   \n",
       "4   32  28.880         0   3866.85520           0         1          1   \n",
       "\n",
       "   smoker_yes  region_northeast  region_northwest  region_southeast  \\\n",
       "0           1                 0                 0                 0   \n",
       "1           0                 0                 0                 1   \n",
       "2           0                 0                 0                 1   \n",
       "3           0                 0                 1                 0   \n",
       "4           0                 0                 1                 0   \n",
       "\n",
       "   region_southwest  \n",
       "0                 1  \n",
       "1                 0  \n",
       "2                 0  \n",
       "3                 0  \n",
       "4                 0  "
      ]
     },
     "execution_count": 8,
     "metadata": {},
     "output_type": "execute_result"
    }
   ],
   "source": [
    "insurance = pd.get_dummies(insurance, columns = [\"sex\", \"smoker\", \"region\"])\n",
    "insurance.head()"
   ]
  },
  {
   "cell_type": "markdown",
   "metadata": {},
   "source": [
    "## Fitting a decision tree with sci-kit learn\n",
    "\n",
    "We can get just the independent variables (x's) using the following:"
   ]
  },
  {
   "cell_type": "code",
   "execution_count": 9,
   "metadata": {},
   "outputs": [
    {
     "data": {
      "text/html": [
       "<div>\n",
       "<style scoped>\n",
       "    .dataframe tbody tr th:only-of-type {\n",
       "        vertical-align: middle;\n",
       "    }\n",
       "\n",
       "    .dataframe tbody tr th {\n",
       "        vertical-align: top;\n",
       "    }\n",
       "\n",
       "    .dataframe thead th {\n",
       "        text-align: right;\n",
       "    }\n",
       "</style>\n",
       "<table border=\"1\" class=\"dataframe\">\n",
       "  <thead>\n",
       "    <tr style=\"text-align: right;\">\n",
       "      <th></th>\n",
       "      <th>age</th>\n",
       "      <th>bmi</th>\n",
       "      <th>children</th>\n",
       "      <th>sex_female</th>\n",
       "      <th>sex_male</th>\n",
       "      <th>smoker_no</th>\n",
       "      <th>smoker_yes</th>\n",
       "      <th>region_northeast</th>\n",
       "    </tr>\n",
       "  </thead>\n",
       "  <tbody>\n",
       "    <tr>\n",
       "      <th>0</th>\n",
       "      <td>19</td>\n",
       "      <td>27.900</td>\n",
       "      <td>0</td>\n",
       "      <td>1</td>\n",
       "      <td>0</td>\n",
       "      <td>0</td>\n",
       "      <td>1</td>\n",
       "      <td>0</td>\n",
       "    </tr>\n",
       "    <tr>\n",
       "      <th>1</th>\n",
       "      <td>18</td>\n",
       "      <td>33.770</td>\n",
       "      <td>1</td>\n",
       "      <td>0</td>\n",
       "      <td>1</td>\n",
       "      <td>1</td>\n",
       "      <td>0</td>\n",
       "      <td>0</td>\n",
       "    </tr>\n",
       "    <tr>\n",
       "      <th>2</th>\n",
       "      <td>28</td>\n",
       "      <td>33.000</td>\n",
       "      <td>3</td>\n",
       "      <td>0</td>\n",
       "      <td>1</td>\n",
       "      <td>1</td>\n",
       "      <td>0</td>\n",
       "      <td>0</td>\n",
       "    </tr>\n",
       "    <tr>\n",
       "      <th>3</th>\n",
       "      <td>33</td>\n",
       "      <td>22.705</td>\n",
       "      <td>0</td>\n",
       "      <td>0</td>\n",
       "      <td>1</td>\n",
       "      <td>1</td>\n",
       "      <td>0</td>\n",
       "      <td>0</td>\n",
       "    </tr>\n",
       "    <tr>\n",
       "      <th>4</th>\n",
       "      <td>32</td>\n",
       "      <td>28.880</td>\n",
       "      <td>0</td>\n",
       "      <td>0</td>\n",
       "      <td>1</td>\n",
       "      <td>1</td>\n",
       "      <td>0</td>\n",
       "      <td>0</td>\n",
       "    </tr>\n",
       "  </tbody>\n",
       "</table>\n",
       "</div>"
      ],
      "text/plain": [
       "   age     bmi  children  sex_female  sex_male  smoker_no  smoker_yes  \\\n",
       "0   19  27.900         0           1         0          0           1   \n",
       "1   18  33.770         1           0         1          1           0   \n",
       "2   28  33.000         3           0         1          1           0   \n",
       "3   33  22.705         0           0         1          1           0   \n",
       "4   32  28.880         0           0         1          1           0   \n",
       "\n",
       "   region_northeast  \n",
       "0                 0  \n",
       "1                 0  \n",
       "2                 0  \n",
       "3                 0  \n",
       "4                 0  "
      ]
     },
     "execution_count": 9,
     "metadata": {},
     "output_type": "execute_result"
    }
   ],
   "source": [
    "X = insurance.iloc[:,[0,1,2,4,5,6,7,8]]\n",
    "X.head()"
   ]
  },
  {
   "cell_type": "markdown",
   "metadata": {},
   "source": [
    "Next we created the decision tree variable (object) and then fit it to our data:"
   ]
  },
  {
   "cell_type": "code",
   "execution_count": 10,
   "metadata": {},
   "outputs": [],
   "source": [
    "reg = tree.DecisionTreeRegressor(max_depth = 5)\n",
    "reg = reg.fit(X, insurance[\"charges\"])"
   ]
  },
  {
   "cell_type": "markdown",
   "metadata": {},
   "source": [
    "If you are running Jupyter Hub on your own computer, you may be able to display the decision tree by:"
   ]
  },
  {
   "cell_type": "code",
   "execution_count": 11,
   "metadata": {},
   "outputs": [
    {
     "data": {
      "text/plain": [
       "[Text(166.70250000000001, 199.32, 'X[5] <= 0.5\\nentropy = 146542766.494\\nsamples = 1338\\nvalue = 13270.422'),\n",
       " Text(87.885, 163.07999999999998, 'X[1] <= 30.01\\nentropy = 132721153.136\\nsamples = 274\\nvalue = 32050.232'),\n",
       " Text(44.64, 126.83999999999999, 'X[0] <= 41.0\\nentropy = 25281960.654\\nsamples = 130\\nvalue = 21369.223'),\n",
       " Text(22.32, 90.6, 'X[0] <= 29.5\\nentropy = 12049437.126\\nsamples = 73\\nvalue = 18474.022'),\n",
       " Text(11.16, 54.359999999999985, 'X[1] <= 28.495\\nentropy = 12673222.306\\nsamples = 41\\nvalue = 17373.665'),\n",
       " Text(5.58, 18.119999999999976, 'entropy = 5209187.378\\nsamples = 34\\nvalue = 16674.483'),\n",
       " Text(16.740000000000002, 18.119999999999976, 'entropy = 35019677.873\\nsamples = 7\\nvalue = 20769.69'),\n",
       " Text(33.480000000000004, 54.359999999999985, 'X[1] <= 18.032\\nentropy = 7711265.211\\nsamples = 32\\nvalue = 19883.854'),\n",
       " Text(27.9, 18.119999999999976, 'entropy = 0.0\\nsamples = 1\\nvalue = 32734.186'),\n",
       " Text(39.06, 18.119999999999976, 'entropy = 2461375.846\\nsamples = 31\\nvalue = 19469.328'),\n",
       " Text(66.96000000000001, 90.6, 'X[1] <= 25.96\\nentropy = 17745345.573\\nsamples = 57\\nvalue = 25077.113'),\n",
       " Text(55.8, 54.359999999999985, 'X[0] <= 44.5\\nentropy = 9496676.259\\nsamples = 30\\nvalue = 23178.806'),\n",
       " Text(50.22, 18.119999999999976, 'entropy = 1175772.771\\nsamples = 8\\nvalue = 20319.054'),\n",
       " Text(61.38, 18.119999999999976, 'entropy = 8467161.057\\nsamples = 22\\nvalue = 24218.716'),\n",
       " Text(78.12, 54.359999999999985, 'X[1] <= 26.097\\nentropy = 18457721.576\\nsamples = 27\\nvalue = 27186.342'),\n",
       " Text(72.54, 18.119999999999976, 'entropy = 0.0\\nsamples = 1\\nvalue = 38245.593'),\n",
       " Text(83.7, 18.119999999999976, 'entropy = 14282589.615\\nsamples = 26\\nvalue = 26760.986'),\n",
       " Text(131.13, 126.83999999999999, 'X[0] <= 41.5\\nentropy = 33743125.229\\nsamples = 144\\nvalue = 41692.809'),\n",
       " Text(111.6, 90.6, 'X[1] <= 35.4\\nentropy = 19630324.142\\nsamples = 78\\nvalue = 38354.292'),\n",
       " Text(100.44, 54.359999999999985, 'X[0] <= 30.5\\nentropy = 5947377.358\\nsamples = 45\\nvalue = 36483.047'),\n",
       " Text(94.86, 18.119999999999976, 'entropy = 1280195.647\\nsamples = 27\\nvalue = 34857.394'),\n",
       " Text(106.02, 18.119999999999976, 'entropy = 3037851.656\\nsamples = 18\\nvalue = 38921.526'),\n",
       " Text(122.76, 54.359999999999985, 'X[0] <= 27.5\\nentropy = 27002870.06\\nsamples = 33\\nvalue = 40905.991'),\n",
       " Text(117.18, 18.119999999999976, 'entropy = 5152577.43\\nsamples = 17\\nvalue = 38478.74'),\n",
       " Text(128.34, 18.119999999999976, 'entropy = 37308038.002\\nsamples = 16\\nvalue = 43484.944'),\n",
       " Text(150.66, 90.6, 'X[1] <= 46.805\\nentropy = 21682580.293\\nsamples = 66\\nvalue = 45638.329'),\n",
       " Text(145.08, 54.359999999999985, 'X[0] <= 50.5\\nentropy = 16880295.835\\nsamples = 65\\nvalue = 45359.373'),\n",
       " Text(139.5, 18.119999999999976, 'entropy = 18984997.555\\nsamples = 28\\nvalue = 43289.468'),\n",
       " Text(150.66, 18.119999999999976, 'entropy = 9591564.134\\nsamples = 37\\nvalue = 46925.788'),\n",
       " Text(156.24, 54.359999999999985, 'entropy = 0.0\\nsamples = 1\\nvalue = 63770.428'),\n",
       " Text(245.52, 163.07999999999998, 'X[0] <= 42.5\\nentropy = 35891656.003\\nsamples = 1064\\nvalue = 8434.268'),\n",
       " Text(200.88, 126.83999999999999, 'X[2] <= 0.5\\nentropy = 22145208.607\\nsamples = 596\\nvalue = 5398.85'),\n",
       " Text(178.56, 90.6, 'X[0] <= 32.5\\nentropy = 16936983.559\\nsamples = 253\\nvalue = 3850.841'),\n",
       " Text(167.4, 54.359999999999985, 'X[0] <= 22.5\\nentropy = 15402722.978\\nsamples = 207\\nvalue = 3269.547'),\n",
       " Text(161.82, 18.119999999999976, 'entropy = 11536916.879\\nsamples = 121\\nvalue = 2585.698'),\n",
       " Text(172.98, 18.119999999999976, 'entropy = 19258096.923\\nsamples = 86\\nvalue = 4231.708'),\n",
       " Text(189.72, 54.359999999999985, 'X[1] <= 23.132\\nentropy = 15478063.204\\nsamples = 46\\nvalue = 6466.664'),\n",
       " Text(184.14000000000001, 18.119999999999976, 'entropy = 64414972.001\\nsamples = 3\\nvalue = 10647.619'),\n",
       " Text(195.3, 18.119999999999976, 'entropy = 10759213.224\\nsamples = 43\\nvalue = 6174.97'),\n",
       " Text(223.2, 90.6, 'X[7] <= 0.5\\nentropy = 22915523.402\\nsamples = 343\\nvalue = 6540.675'),\n",
       " Text(212.04, 54.359999999999985, 'X[0] <= 38.5\\nentropy = 18368871.439\\nsamples = 267\\nvalue = 6056.883'),\n",
       " Text(206.46, 18.119999999999976, 'entropy = 18035107.106\\nsamples = 215\\nvalue = 5588.338'),\n",
       " Text(217.62, 18.119999999999976, 'entropy = 15088225.043\\nsamples = 52\\nvalue = 7994.134'),\n",
       " Text(234.36, 54.359999999999985, 'X[0] <= 22.5\\nentropy = 35177584.054\\nsamples = 76\\nvalue = 8240.314'),\n",
       " Text(228.78, 18.119999999999976, 'entropy = 5247398.595\\nsamples = 10\\nvalue = 4586.352'),\n",
       " Text(239.94, 18.119999999999976, 'entropy = 37383008.242\\nsamples = 66\\nvalue = 8793.945'),\n",
       " Text(290.16, 126.83999999999999, 'X[0] <= 51.5\\nentropy = 26721037.099\\nsamples = 468\\nvalue = 12299.887'),\n",
       " Text(267.84000000000003, 90.6, 'X[0] <= 46.5\\nentropy = 20456563.503\\nsamples = 199\\nvalue = 10193.097'),\n",
       " Text(256.68, 54.359999999999985, 'X[1] <= 27.55\\nentropy = 18615140.146\\nsamples = 84\\nvalue = 9378.791'),\n",
       " Text(251.1, 18.119999999999976, 'entropy = 2145361.056\\nsamples = 29\\nvalue = 8434.081'),\n",
       " Text(262.26, 18.119999999999976, 'entropy = 26580504.169\\nsamples = 55\\nvalue = 9876.91'),\n",
       " Text(279.0, 54.359999999999985, 'X[1] <= 36.76\\nentropy = 20963472.325\\nsamples = 115\\nvalue = 10787.894'),\n",
       " Text(273.42, 18.119999999999976, 'entropy = 24240279.345\\nsamples = 97\\nvalue = 11060.908'),\n",
       " Text(284.58, 18.119999999999976, 'entropy = 738890.687\\nsamples = 18\\nvalue = 9316.649'),\n",
       " Text(312.48, 90.6, 'X[0] <= 58.5\\nentropy = 25642708.343\\nsamples = 269\\nvalue = 13858.442'),\n",
       " Text(301.32, 54.359999999999985, 'X[2] <= 1.5\\nentropy = 23507747.143\\nsamples = 161\\nvalue = 12937.945'),\n",
       " Text(295.74, 18.119999999999976, 'entropy = 18340058.6\\nsamples = 114\\nvalue = 12348.432'),\n",
       " Text(306.9, 18.119999999999976, 'entropy = 33154637.105\\nsamples = 47\\nvalue = 14367.829'),\n",
       " Text(323.64, 54.359999999999985, 'X[2] <= 3.5\\nentropy = 25679262.401\\nsamples = 108\\nvalue = 15230.664'),\n",
       " Text(318.06, 18.119999999999976, 'entropy = 21619572.631\\nsamples = 107\\nvalue = 15031.135'),\n",
       " Text(329.22, 18.119999999999976, 'entropy = 0.0\\nsamples = 1\\nvalue = 36580.282')]"
      ]
     },
     "execution_count": 11,
     "metadata": {},
     "output_type": "execute_result"
    },
    {
     "data": {
      "image/png": "[encoded data removed]",
      "text/plain": [
       "<Figure size 432x288 with 1 Axes>"
      ]
     },
     "metadata": {
      "needs_background": "light"
     },
     "output_type": "display_data"
    }
   ],
   "source": [
    "tree.plot_tree(reg)"
   ]
  },
  {
   "cell_type": "markdown",
   "metadata": {},
   "source": [
    "If you are using the Jupyter Hub server, run the following code (which will give an error):"
   ]
  },
  {
   "cell_type": "code",
   "execution_count": null,
   "metadata": {
    "scrolled": true
   },
   "outputs": [],
   "source": [
    "dot_data = tree.export_graphviz(reg, out_file=None) \n",
    "graph = graphviz.Source(dot_data) \n",
    "graph.render(\"insurance.dot\")"
   ]
  },
  {
   "cell_type": "markdown",
   "metadata": {},
   "source": [
    "However, despite the error, there should now be a file called happiness.dot in your directory.  To view the fitted decision tree, open the happiness.dot file in Jupyter and copy the text.  Paste this text into the text box at [http://www.webgraphviz.com](http://www.webgraphviz.com) and click the \"Generate graph!\" button at the bottom.\n",
    "\n",
    "The column names have been replaced by `X[0], X[1], ..., X[7]`.  Run the following code to change `X[0], X[1], ..., X[7]` to the column names in insurance.dot."
   ]
  },
  {
   "cell_type": "code",
   "execution_count": null,
   "metadata": {},
   "outputs": [],
   "source": [
    "with open (\"insurance.dot\", \"r\") as fin:\n",
    "    with open(\"insurance_fixed.dot\",\"w\") as fout:\n",
    "        for line in fin.readlines():\n",
    "            line = line.replace(\"X[0]\",\"age\")\n",
    "            line = line.replace(\"X[1]\",\"bmi\")\n",
    "            line = line.replace(\"X[2]\",\"children\")\n",
    "            line = line.replace(\"X[3]\",\"sex_male\")\n",
    "            line = line.replace(\"X[4]\",\"smoker_yes\")\n",
    "            line = line.replace(\"X[5]\",\"region_northwest\")            \n",
    "            line = line.replace(\"X[4]\",\"region_southeast\")\n",
    "            line = line.replace(\"X[5]\",\"region_southwest\")\n",
    "            fout.write(line)"
   ]
  },
  {
   "cell_type": "markdown",
   "metadata": {},
   "source": [
    "Copy the contents of insurance_fixed.dot into the textbox in [http://www.webgraphviz.com](http://www.webgraphviz.com) to display the decision tree with the column names.  How does it compare the the decision tree you made?\n",
    "\n",
    "What happens if you change the `max_depth` parameter to 5 in DecisionTreeRegressor?\n",
    "\n",
    "Look at the leaves of your new tree.  What's the smallest sample?  \n",
    "\n",
    "A few of the leaves only have 1 sample.  How do you think this tree would work on other insurance data?\n",
    "\n",
    "The single samples are a sign of over-fitting, and to fix it we can make `max_depth` smaller (but too small and our model will not be as good as it could be).\n",
    "\n",
    "### Testing and training data\n",
    "\n",
    "To figure out what `max_depth` should be, let's split our data into training and testing data. "
   ]
  },
  {
   "cell_type": "code",
   "execution_count": 14,
   "metadata": {},
   "outputs": [],
   "source": [
    "X_train, X_test, y_train, y_test = train_test_split(X, insurance[\"charges\"], test_size = 0.2)"
   ]
  },
  {
   "cell_type": "markdown",
   "metadata": {},
   "source": [
    "Create a decision tree with `max_depth = 3` from the training data:"
   ]
  },
  {
   "cell_type": "code",
   "execution_count": 16,
   "metadata": {},
   "outputs": [],
   "source": [
    "reg1 = tree.DecisionTreeRegressor(max_depth = 3)\n",
    "reg1 = reg1.fit(X_train, y_train)"
   ]
  },
  {
   "cell_type": "markdown",
   "metadata": {},
   "source": [
    "Make predictions for the test data:"
   ]
  },
  {
   "cell_type": "code",
   "execution_count": 17,
   "metadata": {
    "scrolled": true
   },
   "outputs": [],
   "source": [
    "predictions1 = reg1.predict(X_test)"
   ]
  },
  {
   "cell_type": "markdown",
   "metadata": {},
   "source": [
    "Compute the mean squared error for these predictions:"
   ]
  },
  {
   "cell_type": "code",
   "execution_count": 23,
   "metadata": {},
   "outputs": [
    {
     "name": "stdout",
     "output_type": "stream",
     "text": [
      "20080596.291950904\n",
      "4481.137834518249\n"
     ]
    }
   ],
   "source": [
    "import math\n",
    "mse1 = ((y_test - predictions1)**2).mean()\n",
    "print(mse1)\n",
    "\n",
    "rmse1 = math.sqrt(mse1)\n",
    "print(rmse1)"
   ]
  },
  {
   "cell_type": "markdown",
   "metadata": {},
   "source": [
    "What is the mean squared error if you use `max_depth = 4`?"
   ]
  },
  {
   "cell_type": "code",
   "execution_count": 27,
   "metadata": {},
   "outputs": [
    {
     "name": "stdout",
     "output_type": "stream",
     "text": [
      "16851873.931218345\n",
      "4105.10340079496\n"
     ]
    }
   ],
   "source": [
    "reg2 = tree.DecisionTreeRegressor(max_depth = 4)\n",
    "reg2 = reg2.fit(X, insurance[\"charges\"])\n",
    "\n",
    "predictions2 = reg2.predict(X_test)\n",
    "\n",
    "mse2 = ((y_test - predictions2)**2).mean()\n",
    "print(mse2)\n",
    "\n",
    "rmse2 = math.sqrt(mse2)\n",
    "print(rmse2)"
   ]
  },
  {
   "cell_type": "markdown",
   "metadata": {},
   "source": [
    "What is the mean squared error if you use `max_depth = 5`?"
   ]
  },
  {
   "cell_type": "code",
   "execution_count": 29,
   "metadata": {},
   "outputs": [
    {
     "name": "stdout",
     "output_type": "stream",
     "text": [
      "13962075.807870118\n",
      "3736.586116747494\n"
     ]
    }
   ],
   "source": [
    "reg3 = tree.DecisionTreeRegressor(max_depth = 5)\n",
    "reg3 = reg3.fit(X, insurance[\"charges\"])\n",
    "\n",
    "predictions3 = reg3.predict(X_test)\n",
    "\n",
    "mse3 = ((y_test - predictions3)**2).mean()\n",
    "print(mse3)\n",
    "\n",
    "rmse3 = math.sqrt(mse3)\n",
    "print(rmse3)"
   ]
  },
  {
   "cell_type": "markdown",
   "metadata": {},
   "source": [
    "What about if you use `max_depth = 2`?"
   ]
  },
  {
   "cell_type": "code",
   "execution_count": 30,
   "metadata": {},
   "outputs": [
    {
     "name": "stdout",
     "output_type": "stream",
     "text": [
      "23331004.26281238\n",
      "4830.217827677379\n"
     ]
    }
   ],
   "source": [
    "reg4 = tree.DecisionTreeRegressor(max_depth = 2)\n",
    "reg4 = reg4.fit(X, insurance[\"charges\"])\n",
    "\n",
    "predictions4 = reg4.predict(X_test)\n",
    "\n",
    "mse4 = ((y_test - predictions4)**2).mean()\n",
    "print(mse4)\n",
    "\n",
    "rmse4 = math.sqrt(mse4)\n",
    "print(rmse4)"
   ]
  },
  {
   "cell_type": "markdown",
   "metadata": {},
   "source": [
    "Which `max_depth` parameter should you use?  What is the corresponding decision tree?\n",
    "\n",
    "__`max_depth` = 5 because it has the lowest RMSE.__\n",
    "\n",
    "You can also use a loop to quickly check the different parameter values for `max_depth`.  "
   ]
  },
  {
   "cell_type": "code",
   "execution_count": null,
   "metadata": {},
   "outputs": [],
   "source": [
    "dot_data = tree.export_graphviz(reg_depth3, out_file=None) \n",
    "graph = graphviz.Source(dot_data) \n",
    "graph.render(\"insurance_depth3.dot\")"
   ]
  },
  {
   "cell_type": "code",
   "execution_count": null,
   "metadata": {},
   "outputs": [],
   "source": [
    "with open (\"insurance_depth3.dot\", \"r\") as fin:\n",
    "    with open(\"insurance_depth3_fixed.dot\",\"w\") as fout:\n",
    "        for line in fin.readlines():\n",
    "            line = line.replace(\"X[0]\",\"age\")\n",
    "            line = line.replace(\"X[1]\",\"bmi\")\n",
    "            line = line.replace(\"X[2]\",\"children\")\n",
    "            line = line.replace(\"X[3]\",\"sex_male\")\n",
    "            line = line.replace(\"X[4]\",\"smoker_yes\")\n",
    "            line = line.replace(\"X[5]\",\"region_northwest\")            \n",
    "            line = line.replace(\"X[4]\",\"region_southeast\")\n",
    "            line = line.replace(\"X[5]\",\"region_southwest\")\n",
    "            fout.write(line)"
   ]
  },
  {
   "cell_type": "markdown",
   "metadata": {},
   "source": [
    "Finally, we can compare the mean squared error using a Decision Tree regressor to the mean squared error computed using linear regression in Lab 8, also based on a training/testing split of 0.2.  It was 41142821.67547247 (for my training/testing data).\n",
    "\n",
    "Which model is better?\n",
    "\n",
    "__The decision tree classification model is better.__"
   ]
  },
  {
   "cell_type": "markdown",
   "metadata": {},
   "source": [
    "Return to the decision tree classifier from last lab.  Which `max_depth` is best?"
   ]
  }
 ],
 "metadata": {
  "kernelspec": {
   "display_name": "Python 3",
   "language": "python",
   "name": "python3"
  },
  "language_info": {
   "codemirror_mode": {
    "name": "ipython",
    "version": 3
   },
   "file_extension": ".py",
   "mimetype": "text/x-python",
   "name": "python",
   "nbconvert_exporter": "python",
   "pygments_lexer": "ipython3",
   "version": "3.7.3"
  }
 },
 "nbformat": 4,
 "nbformat_minor": 2
}
