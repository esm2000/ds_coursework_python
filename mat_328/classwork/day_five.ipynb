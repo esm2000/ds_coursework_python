{
 "cells": [
  {
   "cell_type": "markdown",
   "metadata": {},
   "source": [
    "# Lab 5 - Non-parametric distributions and bootstrap\n",
    "\n",
    "Last lab we looked at parametric distributions like the normal distribution and exponential distribution.  Parametric distributions can be described by a (mathematical) function and their exact shape is determined by parameters (mean and standard deviation for the normal distribution; the rate $\\lambda$ for the exponential distribution).\n",
    "\n",
    "Today we will look at *non-parametric distributions* which either cannot be described by a mathematical function or the exact mathematical function is unknown.\n",
    "\n",
    "We will start with the restaurant inspection data from Assignment 1."
   ]
  },
  {
   "cell_type": "code",
   "execution_count": 1,
   "metadata": {},
   "outputs": [],
   "source": [
    "import matplotlib.pyplot as plt\n",
    "import pandas as pd\n",
    "\n",
    "%matplotlib inline\n",
    "\n",
    "# show all columns\n",
    "pd.set_option('display.max_columns', None)"
   ]
  },
  {
   "cell_type": "markdown",
   "metadata": {},
   "source": [
    "Create a dataframe with the restaurant inspection data, remembering to make the type of the inspection date column datetime."
   ]
  },
  {
   "cell_type": "code",
   "execution_count": 2,
   "metadata": {},
   "outputs": [],
   "source": [
    "inspection_data = pd.read_csv(\"restaurant_inspection.csv\")"
   ]
  },
  {
   "cell_type": "code",
   "execution_count": 4,
   "metadata": {},
   "outputs": [
    {
     "data": {
      "text/html": [
       "<div>\n",
       "<style scoped>\n",
       "    .dataframe tbody tr th:only-of-type {\n",
       "        vertical-align: middle;\n",
       "    }\n",
       "\n",
       "    .dataframe tbody tr th {\n",
       "        vertical-align: top;\n",
       "    }\n",
       "\n",
       "    .dataframe thead th {\n",
       "        text-align: right;\n",
       "    }\n",
       "</style>\n",
       "<table border=\"1\" class=\"dataframe\">\n",
       "  <thead>\n",
       "    <tr style=\"text-align: right;\">\n",
       "      <th></th>\n",
       "      <th>CAMIS</th>\n",
       "      <th>DBA</th>\n",
       "      <th>BORO</th>\n",
       "      <th>BUILDING</th>\n",
       "      <th>STREET</th>\n",
       "      <th>ZIPCODE</th>\n",
       "      <th>PHONE</th>\n",
       "      <th>CUISINE DESCRIPTION</th>\n",
       "      <th>INSPECTION DATE</th>\n",
       "      <th>ACTION</th>\n",
       "      <th>VIOLATION CODE</th>\n",
       "      <th>VIOLATION DESCRIPTION</th>\n",
       "      <th>CRITICAL FLAG</th>\n",
       "      <th>SCORE</th>\n",
       "      <th>GRADE</th>\n",
       "      <th>GRADE DATE</th>\n",
       "      <th>RECORD DATE</th>\n",
       "      <th>INSPECTION TYPE</th>\n",
       "      <th>Latitude</th>\n",
       "      <th>Longitude</th>\n",
       "      <th>Community Board</th>\n",
       "      <th>Council District</th>\n",
       "      <th>Census Tract</th>\n",
       "      <th>BIN</th>\n",
       "      <th>BBL</th>\n",
       "      <th>NTA</th>\n",
       "    </tr>\n",
       "  </thead>\n",
       "  <tbody>\n",
       "    <tr>\n",
       "      <th>0</th>\n",
       "      <td>50074557</td>\n",
       "      <td>FISH VILLAGE</td>\n",
       "      <td>Queens</td>\n",
       "      <td>2007</td>\n",
       "      <td>127TH ST</td>\n",
       "      <td>11356.0</td>\n",
       "      <td>6468307299</td>\n",
       "      <td>Chinese</td>\n",
       "      <td>01/02/2019</td>\n",
       "      <td>Violations were cited in the following area(s).</td>\n",
       "      <td>08C</td>\n",
       "      <td>Pesticide use not in accordance with label or ...</td>\n",
       "      <td>N</td>\n",
       "      <td>22.0</td>\n",
       "      <td>NaN</td>\n",
       "      <td>NaN</td>\n",
       "      <td>08/30/2019</td>\n",
       "      <td>Cycle Inspection / Initial Inspection</td>\n",
       "      <td>40.781449</td>\n",
       "      <td>-73.841413</td>\n",
       "      <td>407.0</td>\n",
       "      <td>19.0</td>\n",
       "      <td>91900.0</td>\n",
       "      <td>4099328.0</td>\n",
       "      <td>4.041720e+09</td>\n",
       "      <td>QN23</td>\n",
       "    </tr>\n",
       "    <tr>\n",
       "      <th>1</th>\n",
       "      <td>50086382</td>\n",
       "      <td>IL POSTO</td>\n",
       "      <td>Brooklyn</td>\n",
       "      <td>7409</td>\n",
       "      <td>AVENUE U</td>\n",
       "      <td>11234.0</td>\n",
       "      <td>7182414317</td>\n",
       "      <td>Italian</td>\n",
       "      <td>01/02/2019</td>\n",
       "      <td>Violations were cited in the following area(s).</td>\n",
       "      <td>08A</td>\n",
       "      <td>Facility not vermin proof. Harborage or condit...</td>\n",
       "      <td>N</td>\n",
       "      <td>29.0</td>\n",
       "      <td>NaN</td>\n",
       "      <td>NaN</td>\n",
       "      <td>08/30/2019</td>\n",
       "      <td>Pre-permit (Operational) / Initial Inspection</td>\n",
       "      <td>40.621321</td>\n",
       "      <td>-73.905154</td>\n",
       "      <td>318.0</td>\n",
       "      <td>46.0</td>\n",
       "      <td>69602.0</td>\n",
       "      <td>3237484.0</td>\n",
       "      <td>3.084150e+09</td>\n",
       "      <td>BK45</td>\n",
       "    </tr>\n",
       "    <tr>\n",
       "      <th>2</th>\n",
       "      <td>41258823</td>\n",
       "      <td>LITTLE CAESARS</td>\n",
       "      <td>Bronx</td>\n",
       "      <td>1888</td>\n",
       "      <td>WESTCHESTER AVENUE</td>\n",
       "      <td>10472.0</td>\n",
       "      <td>3476571722</td>\n",
       "      <td>Pizza</td>\n",
       "      <td>01/02/2019</td>\n",
       "      <td>Violations were cited in the following area(s).</td>\n",
       "      <td>10F</td>\n",
       "      <td>Non-food contact surface improperly constructe...</td>\n",
       "      <td>N</td>\n",
       "      <td>4.0</td>\n",
       "      <td>A</td>\n",
       "      <td>01/02/2019</td>\n",
       "      <td>08/30/2019</td>\n",
       "      <td>Cycle Inspection / Re-inspection</td>\n",
       "      <td>40.832928</td>\n",
       "      <td>-73.861964</td>\n",
       "      <td>209.0</td>\n",
       "      <td>18.0</td>\n",
       "      <td>7200.0</td>\n",
       "      <td>NaN</td>\n",
       "      <td>2.000000e+00</td>\n",
       "      <td>BX55</td>\n",
       "    </tr>\n",
       "    <tr>\n",
       "      <th>3</th>\n",
       "      <td>50002053</td>\n",
       "      <td>THE LOCAL</td>\n",
       "      <td>Queens</td>\n",
       "      <td>13-02</td>\n",
       "      <td>44TH AVENUE</td>\n",
       "      <td>11101.0</td>\n",
       "      <td>3477385251</td>\n",
       "      <td>American</td>\n",
       "      <td>01/02/2019</td>\n",
       "      <td>Violations were cited in the following area(s).</td>\n",
       "      <td>06D</td>\n",
       "      <td>Food contact surface not properly washed, rins...</td>\n",
       "      <td>Y</td>\n",
       "      <td>7.0</td>\n",
       "      <td>A</td>\n",
       "      <td>01/02/2019</td>\n",
       "      <td>08/30/2019</td>\n",
       "      <td>Cycle Inspection / Initial Inspection</td>\n",
       "      <td>40.749644</td>\n",
       "      <td>-73.947487</td>\n",
       "      <td>402.0</td>\n",
       "      <td>26.0</td>\n",
       "      <td>1900.0</td>\n",
       "      <td>4005221.0</td>\n",
       "      <td>4.004460e+09</td>\n",
       "      <td>QN31</td>\n",
       "    </tr>\n",
       "    <tr>\n",
       "      <th>4</th>\n",
       "      <td>50055374</td>\n",
       "      <td>FLORA BAR</td>\n",
       "      <td>Manhattan</td>\n",
       "      <td>945</td>\n",
       "      <td>MADISON AVE</td>\n",
       "      <td>10021.0</td>\n",
       "      <td>6317038780</td>\n",
       "      <td>American</td>\n",
       "      <td>01/02/2019</td>\n",
       "      <td>Violations were cited in the following area(s).</td>\n",
       "      <td>04N</td>\n",
       "      <td>Filth flies or food/refuse/sewage-associated (...</td>\n",
       "      <td>Y</td>\n",
       "      <td>11.0</td>\n",
       "      <td>A</td>\n",
       "      <td>01/02/2019</td>\n",
       "      <td>08/30/2019</td>\n",
       "      <td>Cycle Inspection / Re-inspection</td>\n",
       "      <td>40.773450</td>\n",
       "      <td>-73.964199</td>\n",
       "      <td>108.0</td>\n",
       "      <td>4.0</td>\n",
       "      <td>13000.0</td>\n",
       "      <td>1041666.0</td>\n",
       "      <td>1.013890e+09</td>\n",
       "      <td>MN40</td>\n",
       "    </tr>\n",
       "  </tbody>\n",
       "</table>\n",
       "</div>"
      ],
      "text/plain": [
       "      CAMIS             DBA       BORO BUILDING              STREET  ZIPCODE  \\\n",
       "0  50074557    FISH VILLAGE     Queens     2007            127TH ST  11356.0   \n",
       "1  50086382        IL POSTO   Brooklyn     7409            AVENUE U  11234.0   \n",
       "2  41258823  LITTLE CAESARS      Bronx     1888  WESTCHESTER AVENUE  10472.0   \n",
       "3  50002053       THE LOCAL     Queens    13-02         44TH AVENUE  11101.0   \n",
       "4  50055374       FLORA BAR  Manhattan      945         MADISON AVE  10021.0   \n",
       "\n",
       "        PHONE CUISINE DESCRIPTION INSPECTION DATE  \\\n",
       "0  6468307299             Chinese      01/02/2019   \n",
       "1  7182414317             Italian      01/02/2019   \n",
       "2  3476571722               Pizza      01/02/2019   \n",
       "3  3477385251            American      01/02/2019   \n",
       "4  6317038780            American      01/02/2019   \n",
       "\n",
       "                                            ACTION VIOLATION CODE  \\\n",
       "0  Violations were cited in the following area(s).            08C   \n",
       "1  Violations were cited in the following area(s).            08A   \n",
       "2  Violations were cited in the following area(s).            10F   \n",
       "3  Violations were cited in the following area(s).            06D   \n",
       "4  Violations were cited in the following area(s).            04N   \n",
       "\n",
       "                               VIOLATION DESCRIPTION CRITICAL FLAG  SCORE  \\\n",
       "0  Pesticide use not in accordance with label or ...             N   22.0   \n",
       "1  Facility not vermin proof. Harborage or condit...             N   29.0   \n",
       "2  Non-food contact surface improperly constructe...             N    4.0   \n",
       "3  Food contact surface not properly washed, rins...             Y    7.0   \n",
       "4  Filth flies or food/refuse/sewage-associated (...             Y   11.0   \n",
       "\n",
       "  GRADE  GRADE DATE RECORD DATE  \\\n",
       "0   NaN         NaN  08/30/2019   \n",
       "1   NaN         NaN  08/30/2019   \n",
       "2     A  01/02/2019  08/30/2019   \n",
       "3     A  01/02/2019  08/30/2019   \n",
       "4     A  01/02/2019  08/30/2019   \n",
       "\n",
       "                                 INSPECTION TYPE   Latitude  Longitude  \\\n",
       "0          Cycle Inspection / Initial Inspection  40.781449 -73.841413   \n",
       "1  Pre-permit (Operational) / Initial Inspection  40.621321 -73.905154   \n",
       "2               Cycle Inspection / Re-inspection  40.832928 -73.861964   \n",
       "3          Cycle Inspection / Initial Inspection  40.749644 -73.947487   \n",
       "4               Cycle Inspection / Re-inspection  40.773450 -73.964199   \n",
       "\n",
       "   Community Board  Council District  Census Tract        BIN           BBL  \\\n",
       "0            407.0              19.0       91900.0  4099328.0  4.041720e+09   \n",
       "1            318.0              46.0       69602.0  3237484.0  3.084150e+09   \n",
       "2            209.0              18.0        7200.0        NaN  2.000000e+00   \n",
       "3            402.0              26.0        1900.0  4005221.0  4.004460e+09   \n",
       "4            108.0               4.0       13000.0  1041666.0  1.013890e+09   \n",
       "\n",
       "    NTA  \n",
       "0  QN23  \n",
       "1  BK45  \n",
       "2  BX55  \n",
       "3  QN31  \n",
       "4  MN40  "
      ]
     },
     "execution_count": 4,
     "metadata": {},
     "output_type": "execute_result"
    }
   ],
   "source": [
    "inspection_data.head()"
   ]
  },
  {
   "cell_type": "code",
   "execution_count": 7,
   "metadata": {},
   "outputs": [],
   "source": [
    "inspection_data[\"INSPECTION DATE\"] = pd.to_datetime(inspection_data[\"INSPECTION DATE\"])"
   ]
  },
  {
   "cell_type": "markdown",
   "metadata": {},
   "source": [
    "Question 3 of Assignment 1 asked if the mean inspection score in January was different from the mean inspection score in July.  We are going to look at this question in more detail.\n",
    "\n",
    "First let's create a dataframe with only the January inspections."
   ]
  },
  {
   "cell_type": "code",
   "execution_count": 17,
   "metadata": {},
   "outputs": [
    {
     "data": {
      "text/html": [
       "<div>\n",
       "<style scoped>\n",
       "    .dataframe tbody tr th:only-of-type {\n",
       "        vertical-align: middle;\n",
       "    }\n",
       "\n",
       "    .dataframe tbody tr th {\n",
       "        vertical-align: top;\n",
       "    }\n",
       "\n",
       "    .dataframe thead th {\n",
       "        text-align: right;\n",
       "    }\n",
       "</style>\n",
       "<table border=\"1\" class=\"dataframe\">\n",
       "  <thead>\n",
       "    <tr style=\"text-align: right;\">\n",
       "      <th></th>\n",
       "      <th>CAMIS</th>\n",
       "      <th>DBA</th>\n",
       "      <th>BORO</th>\n",
       "      <th>BUILDING</th>\n",
       "      <th>STREET</th>\n",
       "      <th>ZIPCODE</th>\n",
       "      <th>PHONE</th>\n",
       "      <th>CUISINE DESCRIPTION</th>\n",
       "      <th>INSPECTION DATE</th>\n",
       "      <th>ACTION</th>\n",
       "      <th>VIOLATION CODE</th>\n",
       "      <th>VIOLATION DESCRIPTION</th>\n",
       "      <th>CRITICAL FLAG</th>\n",
       "      <th>SCORE</th>\n",
       "      <th>GRADE</th>\n",
       "      <th>GRADE DATE</th>\n",
       "      <th>RECORD DATE</th>\n",
       "      <th>INSPECTION TYPE</th>\n",
       "      <th>Latitude</th>\n",
       "      <th>Longitude</th>\n",
       "      <th>Community Board</th>\n",
       "      <th>Council District</th>\n",
       "      <th>Census Tract</th>\n",
       "      <th>BIN</th>\n",
       "      <th>BBL</th>\n",
       "      <th>NTA</th>\n",
       "    </tr>\n",
       "  </thead>\n",
       "  <tbody>\n",
       "    <tr>\n",
       "      <th>0</th>\n",
       "      <td>50074557</td>\n",
       "      <td>FISH VILLAGE</td>\n",
       "      <td>Queens</td>\n",
       "      <td>2007</td>\n",
       "      <td>127TH ST</td>\n",
       "      <td>11356.0</td>\n",
       "      <td>6468307299</td>\n",
       "      <td>Chinese</td>\n",
       "      <td>2019-01-02</td>\n",
       "      <td>Violations were cited in the following area(s).</td>\n",
       "      <td>08C</td>\n",
       "      <td>Pesticide use not in accordance with label or ...</td>\n",
       "      <td>N</td>\n",
       "      <td>22.0</td>\n",
       "      <td>NaN</td>\n",
       "      <td>NaN</td>\n",
       "      <td>08/30/2019</td>\n",
       "      <td>Cycle Inspection / Initial Inspection</td>\n",
       "      <td>40.781449</td>\n",
       "      <td>-73.841413</td>\n",
       "      <td>407.0</td>\n",
       "      <td>19.0</td>\n",
       "      <td>91900.0</td>\n",
       "      <td>4099328.0</td>\n",
       "      <td>4.041720e+09</td>\n",
       "      <td>QN23</td>\n",
       "    </tr>\n",
       "    <tr>\n",
       "      <th>1</th>\n",
       "      <td>50086382</td>\n",
       "      <td>IL POSTO</td>\n",
       "      <td>Brooklyn</td>\n",
       "      <td>7409</td>\n",
       "      <td>AVENUE U</td>\n",
       "      <td>11234.0</td>\n",
       "      <td>7182414317</td>\n",
       "      <td>Italian</td>\n",
       "      <td>2019-01-02</td>\n",
       "      <td>Violations were cited in the following area(s).</td>\n",
       "      <td>08A</td>\n",
       "      <td>Facility not vermin proof. Harborage or condit...</td>\n",
       "      <td>N</td>\n",
       "      <td>29.0</td>\n",
       "      <td>NaN</td>\n",
       "      <td>NaN</td>\n",
       "      <td>08/30/2019</td>\n",
       "      <td>Pre-permit (Operational) / Initial Inspection</td>\n",
       "      <td>40.621321</td>\n",
       "      <td>-73.905154</td>\n",
       "      <td>318.0</td>\n",
       "      <td>46.0</td>\n",
       "      <td>69602.0</td>\n",
       "      <td>3237484.0</td>\n",
       "      <td>3.084150e+09</td>\n",
       "      <td>BK45</td>\n",
       "    </tr>\n",
       "    <tr>\n",
       "      <th>2</th>\n",
       "      <td>41258823</td>\n",
       "      <td>LITTLE CAESARS</td>\n",
       "      <td>Bronx</td>\n",
       "      <td>1888</td>\n",
       "      <td>WESTCHESTER AVENUE</td>\n",
       "      <td>10472.0</td>\n",
       "      <td>3476571722</td>\n",
       "      <td>Pizza</td>\n",
       "      <td>2019-01-02</td>\n",
       "      <td>Violations were cited in the following area(s).</td>\n",
       "      <td>10F</td>\n",
       "      <td>Non-food contact surface improperly constructe...</td>\n",
       "      <td>N</td>\n",
       "      <td>4.0</td>\n",
       "      <td>A</td>\n",
       "      <td>01/02/2019</td>\n",
       "      <td>08/30/2019</td>\n",
       "      <td>Cycle Inspection / Re-inspection</td>\n",
       "      <td>40.832928</td>\n",
       "      <td>-73.861964</td>\n",
       "      <td>209.0</td>\n",
       "      <td>18.0</td>\n",
       "      <td>7200.0</td>\n",
       "      <td>NaN</td>\n",
       "      <td>2.000000e+00</td>\n",
       "      <td>BX55</td>\n",
       "    </tr>\n",
       "    <tr>\n",
       "      <th>3</th>\n",
       "      <td>50002053</td>\n",
       "      <td>THE LOCAL</td>\n",
       "      <td>Queens</td>\n",
       "      <td>13-02</td>\n",
       "      <td>44TH AVENUE</td>\n",
       "      <td>11101.0</td>\n",
       "      <td>3477385251</td>\n",
       "      <td>American</td>\n",
       "      <td>2019-01-02</td>\n",
       "      <td>Violations were cited in the following area(s).</td>\n",
       "      <td>06D</td>\n",
       "      <td>Food contact surface not properly washed, rins...</td>\n",
       "      <td>Y</td>\n",
       "      <td>7.0</td>\n",
       "      <td>A</td>\n",
       "      <td>01/02/2019</td>\n",
       "      <td>08/30/2019</td>\n",
       "      <td>Cycle Inspection / Initial Inspection</td>\n",
       "      <td>40.749644</td>\n",
       "      <td>-73.947487</td>\n",
       "      <td>402.0</td>\n",
       "      <td>26.0</td>\n",
       "      <td>1900.0</td>\n",
       "      <td>4005221.0</td>\n",
       "      <td>4.004460e+09</td>\n",
       "      <td>QN31</td>\n",
       "    </tr>\n",
       "    <tr>\n",
       "      <th>4</th>\n",
       "      <td>50055374</td>\n",
       "      <td>FLORA BAR</td>\n",
       "      <td>Manhattan</td>\n",
       "      <td>945</td>\n",
       "      <td>MADISON AVE</td>\n",
       "      <td>10021.0</td>\n",
       "      <td>6317038780</td>\n",
       "      <td>American</td>\n",
       "      <td>2019-01-02</td>\n",
       "      <td>Violations were cited in the following area(s).</td>\n",
       "      <td>04N</td>\n",
       "      <td>Filth flies or food/refuse/sewage-associated (...</td>\n",
       "      <td>Y</td>\n",
       "      <td>11.0</td>\n",
       "      <td>A</td>\n",
       "      <td>01/02/2019</td>\n",
       "      <td>08/30/2019</td>\n",
       "      <td>Cycle Inspection / Re-inspection</td>\n",
       "      <td>40.773450</td>\n",
       "      <td>-73.964199</td>\n",
       "      <td>108.0</td>\n",
       "      <td>4.0</td>\n",
       "      <td>13000.0</td>\n",
       "      <td>1041666.0</td>\n",
       "      <td>1.013890e+09</td>\n",
       "      <td>MN40</td>\n",
       "    </tr>\n",
       "  </tbody>\n",
       "</table>\n",
       "</div>"
      ],
      "text/plain": [
       "      CAMIS             DBA       BORO BUILDING              STREET  ZIPCODE  \\\n",
       "0  50074557    FISH VILLAGE     Queens     2007            127TH ST  11356.0   \n",
       "1  50086382        IL POSTO   Brooklyn     7409            AVENUE U  11234.0   \n",
       "2  41258823  LITTLE CAESARS      Bronx     1888  WESTCHESTER AVENUE  10472.0   \n",
       "3  50002053       THE LOCAL     Queens    13-02         44TH AVENUE  11101.0   \n",
       "4  50055374       FLORA BAR  Manhattan      945         MADISON AVE  10021.0   \n",
       "\n",
       "        PHONE CUISINE DESCRIPTION INSPECTION DATE  \\\n",
       "0  6468307299             Chinese      2019-01-02   \n",
       "1  7182414317             Italian      2019-01-02   \n",
       "2  3476571722               Pizza      2019-01-02   \n",
       "3  3477385251            American      2019-01-02   \n",
       "4  6317038780            American      2019-01-02   \n",
       "\n",
       "                                            ACTION VIOLATION CODE  \\\n",
       "0  Violations were cited in the following area(s).            08C   \n",
       "1  Violations were cited in the following area(s).            08A   \n",
       "2  Violations were cited in the following area(s).            10F   \n",
       "3  Violations were cited in the following area(s).            06D   \n",
       "4  Violations were cited in the following area(s).            04N   \n",
       "\n",
       "                               VIOLATION DESCRIPTION CRITICAL FLAG  SCORE  \\\n",
       "0  Pesticide use not in accordance with label or ...             N   22.0   \n",
       "1  Facility not vermin proof. Harborage or condit...             N   29.0   \n",
       "2  Non-food contact surface improperly constructe...             N    4.0   \n",
       "3  Food contact surface not properly washed, rins...             Y    7.0   \n",
       "4  Filth flies or food/refuse/sewage-associated (...             Y   11.0   \n",
       "\n",
       "  GRADE  GRADE DATE RECORD DATE  \\\n",
       "0   NaN         NaN  08/30/2019   \n",
       "1   NaN         NaN  08/30/2019   \n",
       "2     A  01/02/2019  08/30/2019   \n",
       "3     A  01/02/2019  08/30/2019   \n",
       "4     A  01/02/2019  08/30/2019   \n",
       "\n",
       "                                 INSPECTION TYPE   Latitude  Longitude  \\\n",
       "0          Cycle Inspection / Initial Inspection  40.781449 -73.841413   \n",
       "1  Pre-permit (Operational) / Initial Inspection  40.621321 -73.905154   \n",
       "2               Cycle Inspection / Re-inspection  40.832928 -73.861964   \n",
       "3          Cycle Inspection / Initial Inspection  40.749644 -73.947487   \n",
       "4               Cycle Inspection / Re-inspection  40.773450 -73.964199   \n",
       "\n",
       "   Community Board  Council District  Census Tract        BIN           BBL  \\\n",
       "0            407.0              19.0       91900.0  4099328.0  4.041720e+09   \n",
       "1            318.0              46.0       69602.0  3237484.0  3.084150e+09   \n",
       "2            209.0              18.0        7200.0        NaN  2.000000e+00   \n",
       "3            402.0              26.0        1900.0  4005221.0  4.004460e+09   \n",
       "4            108.0               4.0       13000.0  1041666.0  1.013890e+09   \n",
       "\n",
       "    NTA  \n",
       "0  QN23  \n",
       "1  BK45  \n",
       "2  BX55  \n",
       "3  QN31  \n",
       "4  MN40  "
      ]
     },
     "execution_count": 17,
     "metadata": {},
     "output_type": "execute_result"
    }
   ],
   "source": [
    "\n",
    "january_filter = (inspection_data[\"INSPECTION DATE\"].dt.month == 1)\n",
    "jan_inspections = inspection_data[january_filter]\n",
    "jan_inspections.head()"
   ]
  },
  {
   "cell_type": "markdown",
   "metadata": {},
   "source": [
    "How many rows are in this new dataframe?  Recall we can find this out with the `.shape` property."
   ]
  },
  {
   "cell_type": "code",
   "execution_count": 18,
   "metadata": {},
   "outputs": [
    {
     "data": {
      "text/plain": [
       "(11463, 26)"
      ]
     },
     "execution_count": 18,
     "metadata": {},
     "output_type": "execute_result"
    }
   ],
   "source": [
    "jan_inspections.shape # 11463 rows"
   ]
  },
  {
   "cell_type": "markdown",
   "metadata": {},
   "source": [
    "Plot the histogram of the January inspection scores."
   ]
  },
  {
   "cell_type": "code",
   "execution_count": 23,
   "metadata": {},
   "outputs": [
    {
     "data": {
      "text/plain": [
       "<matplotlib.axes._subplots.AxesSubplot at 0x2bdc647c6a0>"
      ]
     },
     "execution_count": 23,
     "metadata": {},
     "output_type": "execute_result"
    },
    {
     "data": {
      "image/png": "[encoded data removed]",
      "text/plain": [
       "<Figure size 432x288 with 1 Axes>"
      ]
     },
     "metadata": {
      "needs_background": "light"
     },
     "output_type": "display_data"
    }
   ],
   "source": [
    "jan_inspections[\"SCORE\"].hist(bins = 35)"
   ]
  },
  {
   "cell_type": "markdown",
   "metadata": {},
   "source": [
    "Does the histogram look like either of the parametric distributions?\n",
    "\n",
    "__The histogram looks like an exponential distribution__\n",
    "\n",
    "It has some characteristics of an exponential distribution, but in this lab we will treat this sample as its own non-parametric distribution.\n",
    "\n",
    "We want to know what range of values are likely for its mean.  To find this, we will *re-sample* from the sample, meaning we will create new samples of the same size by *sampling with replacement* from the original sample.  For each of the new samples, we will compute the mean."
   ]
  },
  {
   "cell_type": "code",
   "execution_count": 27,
   "metadata": {},
   "outputs": [],
   "source": [
    "# create an empty list\n",
    "sample_means_jan = []\n",
    "# loop to create 500 samples\n",
    "for i in range(500):\n",
    "    # sample once from the SCORE column with replacement\n",
    "    sample = jan_inspections[\"SCORE\"].sample(11463, replace = True)\n",
    "    # compute the mean of the new sample\n",
    "    sample_mean = sample.mean()\n",
    "    # add the mean to the list\n",
    "    sample_means_jan.append(sample_mean)"
   ]
  },
  {
   "cell_type": "markdown",
   "metadata": {},
   "source": [
    "Plot a histogram of the sample means.  Remember to convert `sample_means_jan` into a Pandas Series first."
   ]
  },
  {
   "cell_type": "code",
   "execution_count": 34,
   "metadata": {},
   "outputs": [
    {
     "data": {
      "text/plain": [
       "<matplotlib.axes._subplots.AxesSubplot at 0x2bdc6743898>"
      ]
     },
     "execution_count": 34,
     "metadata": {},
     "output_type": "execute_result"
    },
    {
     "data": {
      "image/png": "[encoded data removed]",
      "text/plain": [
       "<Figure size 432x288 with 1 Axes>"
      ]
     },
     "metadata": {
      "needs_background": "light"
     },
     "output_type": "display_data"
    }
   ],
   "source": [
    "sample_means_jan = pd.Series(sample_means_jan)\n",
    "sample_means_jan.hist(bins = 35)"
   ]
  },
  {
   "cell_type": "markdown",
   "metadata": {},
   "source": [
    "This histogram is approximating the *sampling distribution of the mean*.\n",
    "\n",
    "What parametric distribution does this histogram look like?  Do you remember why?\n",
    "\n",
    "__This histogram looks like a normal distribution because of the Central Limit Theorem__\n",
    "\n",
    "Let's find the range containing 95% of the sample means, which is also called the *95% confidence interval*."
   ]
  },
  {
   "cell_type": "code",
   "execution_count": 37,
   "metadata": {},
   "outputs": [
    {
     "data": {
      "text/plain": [
       "20.046429653253014"
      ]
     },
     "execution_count": 37,
     "metadata": {},
     "output_type": "execute_result"
    }
   ],
   "source": [
    "# Find the 2.5 percentile of the means.  Only 2.5% of the sample means are smaller than this number.\n",
    "sample_means_jan.quantile(0.025)"
   ]
  },
  {
   "cell_type": "code",
   "execution_count": 38,
   "metadata": {},
   "outputs": [
    {
     "data": {
      "text/plain": [
       "20.61168450551188"
      ]
     },
     "execution_count": 38,
     "metadata": {},
     "output_type": "execute_result"
    }
   ],
   "source": [
    "# Find the 97.5 percentile of the means.  97.5% of the sample means are smaller than this number, \n",
    "# so only 2.5% of the sample means are larger than this number.\n",
    "sample_means_jan.quantile(0.975)"
   ]
  },
  {
   "cell_type": "markdown",
   "metadata": {},
   "source": [
    "Therefore, the 95% confidence interval is approximately [20.0, 20.6].  The interpretation of a confidence interval is if we sample from a distribution and compute the 95% confidence interval, then 95% of the time this confidence interval will contain the true mean of the distribution.\n",
    "\n",
    "Now, compute the 95% confidence interval for the mean of the July scores.\n",
    "\n",
    "First, create a dataframe containing only the July inspections and find the number of rows."
   ]
  },
  {
   "cell_type": "code",
   "execution_count": 53,
   "metadata": {},
   "outputs": [
    {
     "data": {
      "text/html": [
       "<div>\n",
       "<style scoped>\n",
       "    .dataframe tbody tr th:only-of-type {\n",
       "        vertical-align: middle;\n",
       "    }\n",
       "\n",
       "    .dataframe tbody tr th {\n",
       "        vertical-align: top;\n",
       "    }\n",
       "\n",
       "    .dataframe thead th {\n",
       "        text-align: right;\n",
       "    }\n",
       "</style>\n",
       "<table border=\"1\" class=\"dataframe\">\n",
       "  <thead>\n",
       "    <tr style=\"text-align: right;\">\n",
       "      <th></th>\n",
       "      <th>CAMIS</th>\n",
       "      <th>DBA</th>\n",
       "      <th>BORO</th>\n",
       "      <th>BUILDING</th>\n",
       "      <th>STREET</th>\n",
       "      <th>ZIPCODE</th>\n",
       "      <th>PHONE</th>\n",
       "      <th>CUISINE DESCRIPTION</th>\n",
       "      <th>INSPECTION DATE</th>\n",
       "      <th>ACTION</th>\n",
       "      <th>VIOLATION CODE</th>\n",
       "      <th>VIOLATION DESCRIPTION</th>\n",
       "      <th>CRITICAL FLAG</th>\n",
       "      <th>SCORE</th>\n",
       "      <th>GRADE</th>\n",
       "      <th>GRADE DATE</th>\n",
       "      <th>RECORD DATE</th>\n",
       "      <th>INSPECTION TYPE</th>\n",
       "      <th>Latitude</th>\n",
       "      <th>Longitude</th>\n",
       "      <th>Community Board</th>\n",
       "      <th>Council District</th>\n",
       "      <th>Census Tract</th>\n",
       "      <th>BIN</th>\n",
       "      <th>BBL</th>\n",
       "      <th>NTA</th>\n",
       "    </tr>\n",
       "  </thead>\n",
       "  <tbody>\n",
       "    <tr>\n",
       "      <th>81776</th>\n",
       "      <td>50084649</td>\n",
       "      <td>FOUNDATION RESTAURANT &amp; LOUNGE</td>\n",
       "      <td>Brooklyn</td>\n",
       "      <td>1254</td>\n",
       "      <td>FLATBUSH AVE</td>\n",
       "      <td>11226.0</td>\n",
       "      <td>7189752122</td>\n",
       "      <td>American</td>\n",
       "      <td>2019-07-01</td>\n",
       "      <td>Violations were cited in the following area(s).</td>\n",
       "      <td>04L</td>\n",
       "      <td>Evidence of mice or live mice present in facil...</td>\n",
       "      <td>Y</td>\n",
       "      <td>48.0</td>\n",
       "      <td>NaN</td>\n",
       "      <td>NaN</td>\n",
       "      <td>08/30/2019</td>\n",
       "      <td>Cycle Inspection / Initial Inspection</td>\n",
       "      <td>40.639777</td>\n",
       "      <td>-73.954938</td>\n",
       "      <td>314.0</td>\n",
       "      <td>40.0</td>\n",
       "      <td>51601.0</td>\n",
       "      <td>3120303.0</td>\n",
       "      <td>3.052090e+09</td>\n",
       "      <td>BK42</td>\n",
       "    </tr>\n",
       "    <tr>\n",
       "      <th>81777</th>\n",
       "      <td>50072931</td>\n",
       "      <td>FENG CHA</td>\n",
       "      <td>Manhattan</td>\n",
       "      <td>99B</td>\n",
       "      <td>CHRYSTIE ST</td>\n",
       "      <td>10002.0</td>\n",
       "      <td>9175582988</td>\n",
       "      <td>Café/Coffee/Tea</td>\n",
       "      <td>2019-07-01</td>\n",
       "      <td>Violations were cited in the following area(s).</td>\n",
       "      <td>04A</td>\n",
       "      <td>Food Protection Certificate not held by superv...</td>\n",
       "      <td>Y</td>\n",
       "      <td>20.0</td>\n",
       "      <td>NaN</td>\n",
       "      <td>NaN</td>\n",
       "      <td>08/30/2019</td>\n",
       "      <td>Cycle Inspection / Initial Inspection</td>\n",
       "      <td>40.717855</td>\n",
       "      <td>-73.993983</td>\n",
       "      <td>103.0</td>\n",
       "      <td>1.0</td>\n",
       "      <td>1600.0</td>\n",
       "      <td>NaN</td>\n",
       "      <td>1.000000e+00</td>\n",
       "      <td>MN27</td>\n",
       "    </tr>\n",
       "    <tr>\n",
       "      <th>81778</th>\n",
       "      <td>50052779</td>\n",
       "      <td>AMAMI SUSHI</td>\n",
       "      <td>Brooklyn</td>\n",
       "      <td>57</td>\n",
       "      <td>NASSAU AVE</td>\n",
       "      <td>11222.0</td>\n",
       "      <td>9179091568</td>\n",
       "      <td>Japanese</td>\n",
       "      <td>2019-07-01</td>\n",
       "      <td>Violations were cited in the following area(s).</td>\n",
       "      <td>06F</td>\n",
       "      <td>Wiping cloths soiled or not stored in sanitizi...</td>\n",
       "      <td>Y</td>\n",
       "      <td>27.0</td>\n",
       "      <td>NaN</td>\n",
       "      <td>NaN</td>\n",
       "      <td>08/30/2019</td>\n",
       "      <td>Cycle Inspection / Initial Inspection</td>\n",
       "      <td>40.723340</td>\n",
       "      <td>-73.952118</td>\n",
       "      <td>301.0</td>\n",
       "      <td>33.0</td>\n",
       "      <td>56900.0</td>\n",
       "      <td>3066005.0</td>\n",
       "      <td>3.026440e+09</td>\n",
       "      <td>BK76</td>\n",
       "    </tr>\n",
       "    <tr>\n",
       "      <th>81779</th>\n",
       "      <td>50091736</td>\n",
       "      <td>DOMINO'S PIZZA</td>\n",
       "      <td>Bronx</td>\n",
       "      <td>946</td>\n",
       "      <td>SOUTHERN BLVD</td>\n",
       "      <td>10459.0</td>\n",
       "      <td>2035360660</td>\n",
       "      <td>Pizza</td>\n",
       "      <td>2019-07-01</td>\n",
       "      <td>Violations were cited in the following area(s).</td>\n",
       "      <td>02G</td>\n",
       "      <td>Cold food item held above 41º F (smoked fish a...</td>\n",
       "      <td>Y</td>\n",
       "      <td>11.0</td>\n",
       "      <td>NaN</td>\n",
       "      <td>NaN</td>\n",
       "      <td>08/30/2019</td>\n",
       "      <td>Pre-permit (Operational) / Initial Inspection</td>\n",
       "      <td>40.821476</td>\n",
       "      <td>-73.891666</td>\n",
       "      <td>202.0</td>\n",
       "      <td>17.0</td>\n",
       "      <td>11900.0</td>\n",
       "      <td>2094369.0</td>\n",
       "      <td>2.027420e+09</td>\n",
       "      <td>BX27</td>\n",
       "    </tr>\n",
       "    <tr>\n",
       "      <th>81780</th>\n",
       "      <td>40873138</td>\n",
       "      <td>WIMPY'S RESTAURANT</td>\n",
       "      <td>Manhattan</td>\n",
       "      <td>1822</td>\n",
       "      <td>AMSTERDAM AVENUE</td>\n",
       "      <td>10031.0</td>\n",
       "      <td>2122818989</td>\n",
       "      <td>American</td>\n",
       "      <td>2019-07-01</td>\n",
       "      <td>Violations were cited in the following area(s).</td>\n",
       "      <td>08A</td>\n",
       "      <td>Facility not vermin proof. Harborage or condit...</td>\n",
       "      <td>N</td>\n",
       "      <td>24.0</td>\n",
       "      <td>B</td>\n",
       "      <td>07/01/2019</td>\n",
       "      <td>08/30/2019</td>\n",
       "      <td>Cycle Inspection / Re-inspection</td>\n",
       "      <td>40.828576</td>\n",
       "      <td>-73.945173</td>\n",
       "      <td>109.0</td>\n",
       "      <td>7.0</td>\n",
       "      <td>23700.0</td>\n",
       "      <td>1062155.0</td>\n",
       "      <td>1.020820e+09</td>\n",
       "      <td>MN04</td>\n",
       "    </tr>\n",
       "  </tbody>\n",
       "</table>\n",
       "</div>"
      ],
      "text/plain": [
       "          CAMIS                             DBA       BORO BUILDING  \\\n",
       "81776  50084649  FOUNDATION RESTAURANT & LOUNGE   Brooklyn     1254   \n",
       "81777  50072931                        FENG CHA  Manhattan      99B   \n",
       "81778  50052779                     AMAMI SUSHI   Brooklyn       57   \n",
       "81779  50091736                  DOMINO'S PIZZA      Bronx      946   \n",
       "81780  40873138              WIMPY'S RESTAURANT  Manhattan     1822   \n",
       "\n",
       "                 STREET  ZIPCODE       PHONE CUISINE DESCRIPTION  \\\n",
       "81776      FLATBUSH AVE  11226.0  7189752122            American   \n",
       "81777       CHRYSTIE ST  10002.0  9175582988     Café/Coffee/Tea   \n",
       "81778        NASSAU AVE  11222.0  9179091568            Japanese   \n",
       "81779     SOUTHERN BLVD  10459.0  2035360660               Pizza   \n",
       "81780  AMSTERDAM AVENUE  10031.0  2122818989            American   \n",
       "\n",
       "      INSPECTION DATE                                           ACTION  \\\n",
       "81776      2019-07-01  Violations were cited in the following area(s).   \n",
       "81777      2019-07-01  Violations were cited in the following area(s).   \n",
       "81778      2019-07-01  Violations were cited in the following area(s).   \n",
       "81779      2019-07-01  Violations were cited in the following area(s).   \n",
       "81780      2019-07-01  Violations were cited in the following area(s).   \n",
       "\n",
       "      VIOLATION CODE                              VIOLATION DESCRIPTION  \\\n",
       "81776            04L  Evidence of mice or live mice present in facil...   \n",
       "81777            04A  Food Protection Certificate not held by superv...   \n",
       "81778            06F  Wiping cloths soiled or not stored in sanitizi...   \n",
       "81779            02G  Cold food item held above 41º F (smoked fish a...   \n",
       "81780            08A  Facility not vermin proof. Harborage or condit...   \n",
       "\n",
       "      CRITICAL FLAG  SCORE GRADE  GRADE DATE RECORD DATE  \\\n",
       "81776             Y   48.0   NaN         NaN  08/30/2019   \n",
       "81777             Y   20.0   NaN         NaN  08/30/2019   \n",
       "81778             Y   27.0   NaN         NaN  08/30/2019   \n",
       "81779             Y   11.0   NaN         NaN  08/30/2019   \n",
       "81780             N   24.0     B  07/01/2019  08/30/2019   \n",
       "\n",
       "                                     INSPECTION TYPE   Latitude  Longitude  \\\n",
       "81776          Cycle Inspection / Initial Inspection  40.639777 -73.954938   \n",
       "81777          Cycle Inspection / Initial Inspection  40.717855 -73.993983   \n",
       "81778          Cycle Inspection / Initial Inspection  40.723340 -73.952118   \n",
       "81779  Pre-permit (Operational) / Initial Inspection  40.821476 -73.891666   \n",
       "81780               Cycle Inspection / Re-inspection  40.828576 -73.945173   \n",
       "\n",
       "       Community Board  Council District  Census Tract        BIN  \\\n",
       "81776            314.0              40.0       51601.0  3120303.0   \n",
       "81777            103.0               1.0        1600.0        NaN   \n",
       "81778            301.0              33.0       56900.0  3066005.0   \n",
       "81779            202.0              17.0       11900.0  2094369.0   \n",
       "81780            109.0               7.0       23700.0  1062155.0   \n",
       "\n",
       "                BBL   NTA  \n",
       "81776  3.052090e+09  BK42  \n",
       "81777  1.000000e+00  MN27  \n",
       "81778  3.026440e+09  BK76  \n",
       "81779  2.027420e+09  BX27  \n",
       "81780  1.020820e+09  MN04  "
      ]
     },
     "execution_count": 53,
     "metadata": {},
     "output_type": "execute_result"
    }
   ],
   "source": [
    "july_filter = (inspection_data[\"INSPECTION DATE\"].dt.month == 7)\n",
    "july_data = inspection_data[july_filter]\n",
    "july_data.head()"
   ]
  },
  {
   "cell_type": "markdown",
   "metadata": {},
   "source": [
    "Next create 500 bootstrap samples (samples of the same size with replacement) of the July inspection scores:"
   ]
  },
  {
   "cell_type": "code",
   "execution_count": 54,
   "metadata": {},
   "outputs": [],
   "source": [
    "july_score_means = []\n",
    "for i in range(500): \n",
    "    sample = july_data[\"SCORE\"].sample(len(july_data[\"SCORE\"]), replace = True) \n",
    "    sample_mean = sample.mean()\n",
    "    july_score_means.append(sample_mean)"
   ]
  },
  {
   "cell_type": "markdown",
   "metadata": {},
   "source": [
    "Plot the histogram of the means:"
   ]
  },
  {
   "cell_type": "code",
   "execution_count": 56,
   "metadata": {},
   "outputs": [
    {
     "data": {
      "text/plain": [
       "<matplotlib.axes._subplots.AxesSubplot at 0x2bdc671bb38>"
      ]
     },
     "execution_count": 56,
     "metadata": {},
     "output_type": "execute_result"
    },
    {
     "data": {
      "image/png": "[encoded data removed]",
      "text/plain": [
       "<Figure size 432x288 with 1 Axes>"
      ]
     },
     "metadata": {
      "needs_background": "light"
     },
     "output_type": "display_data"
    }
   ],
   "source": [
    "july_score_means = pd.Series(july_score_means)\n",
    "july_score_means.hist(bins = 30)"
   ]
  },
  {
   "cell_type": "markdown",
   "metadata": {},
   "source": [
    "Compute the 95% confidence interval for the means of the bootstrap samples of the July scores:"
   ]
  },
  {
   "cell_type": "code",
   "execution_count": 58,
   "metadata": {},
   "outputs": [
    {
     "data": {
      "text/plain": [
       "25.942365421526134"
      ]
     },
     "execution_count": 58,
     "metadata": {},
     "output_type": "execute_result"
    }
   ],
   "source": [
    "low = july_score_means.quantile(0.025)\n",
    "low"
   ]
  },
  {
   "cell_type": "code",
   "execution_count": 63,
   "metadata": {},
   "outputs": [
    {
     "name": "stdout",
     "output_type": "stream",
     "text": [
      "The confidence interval is (25.94,26.47)\n"
     ]
    }
   ],
   "source": [
    "high = july_score_means.quantile(0.975)\n",
    "high\n",
    "\n",
    "print(\"The confidence interval is (%.2f,%.2f)\" % (low,high))"
   ]
  },
  {
   "cell_type": "markdown",
   "metadata": {},
   "source": [
    "What's your 95% confidence interval?\n",
    "\n",
    "__(25.94,26.47)__\n",
    "\n",
    "Does it overlap with your 95% confidence interval of the mean of the January scores?\n",
    "\n",
    "__They do not overlap__\n",
    "\n",
    "Since these two confidence intervals will contain the true means 95% of the time, if the intervals do not overlap, we can say that there is a statistically significant difference in the January and July score means.\n",
    "\n",
    "We can visually check this too by plotting the two histograms of the means on the same plot:"
   ]
  },
  {
   "cell_type": "code",
   "execution_count": 68,
   "metadata": {},
   "outputs": [
    {
     "data": {
      "text/plain": [
       "<matplotlib.axes._subplots.AxesSubplot at 0x2bdc83a9898>"
      ]
     },
     "execution_count": 68,
     "metadata": {},
     "output_type": "execute_result"
    },
    {
     "data": {
      "image/png": "[encoded data removed]",
      "text/plain": [
       "<Figure size 432x288 with 1 Axes>"
      ]
     },
     "metadata": {
      "needs_background": "light"
     },
     "output_type": "display_data"
    }
   ],
   "source": [
    "july_score_means.hist(bins = 30)\n",
    "sample_means_jan.hist(bins = 30)"
   ]
  },
  {
   "cell_type": "markdown",
   "metadata": {},
   "source": [
    "What do you think this difference in means implies about the distributions of the January and July inspection scores?  Do you think the scores have the same distribution?\n",
    "\n",
    "Let's plot the histograms of the distributions of the January and July scores on the same plot to visually compare:"
   ]
  },
  {
   "cell_type": "code",
   "execution_count": 74,
   "metadata": {},
   "outputs": [
    {
     "data": {
      "text/plain": [
       "<matplotlib.axes._subplots.AxesSubplot at 0x2bdc880df98>"
      ]
     },
     "execution_count": 74,
     "metadata": {},
     "output_type": "execute_result"
    },
    {
     "data": {
      "image/png": "[encoded data removed]",
      "text/plain": [
       "<Figure size 432x288 with 1 Axes>"
      ]
     },
     "metadata": {
      "needs_background": "light"
     },
     "output_type": "display_data"
    }
   ],
   "source": [
    "jan_inspections[\"SCORE\"].hist(bins = 30, alpha = 0.5)\n",
    "july_data[\"SCORE\"].hist(bins = 30, alpha = 0.5)"
   ]
  },
  {
   "cell_type": "markdown",
   "metadata": {},
   "source": [
    "Recall we can make the histograms transparent by adding the parameter `alpha = 0.5`."
   ]
  },
  {
   "cell_type": "markdown",
   "metadata": {},
   "source": [
    "### If you are finished early:\n",
    "- Is there a statistically significant difference in the means of the January scores and the February scores?\n",
    "- In Lab 4, we fit a normal distribution to the babies' weights.  If we take a sample of size 44 from that fitted normal distribution, how does its mean compare to the mean of the babies weights?  Does this result tell us anything about whether the babies' weights come from a normal distribution? "
   ]
  }
 ],
 "metadata": {
  "kernelspec": {
   "display_name": "Python 3",
   "language": "python",
   "name": "python3"
  },
  "language_info": {
   "codemirror_mode": {
    "name": "ipython",
    "version": 3
   },
   "file_extension": ".py",
   "mimetype": "text/x-python",
   "name": "python",
   "nbconvert_exporter": "python",
   "pygments_lexer": "ipython3",
   "version": "3.7.3"
  }
 },
 "nbformat": 4,
 "nbformat_minor": 2
}
