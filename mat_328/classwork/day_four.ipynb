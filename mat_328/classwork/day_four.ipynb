{
 "cells": [
  {
   "cell_type": "code",
   "execution_count": 1,
   "metadata": {},
   "outputs": [
    {
     "name": "stdout",
     "output_type": "stream",
     "text": [
      "Requirement already satisfied: numpy in c:\\anaconda3\\lib\\site-packages (1.16.4)\n"
     ]
    }
   ],
   "source": [
    "# Install the numpy library if needed\n",
    "!pip install --user numpy"
   ]
  },
  {
   "cell_type": "code",
   "execution_count": 2,
   "metadata": {},
   "outputs": [
    {
     "name": "stdout",
     "output_type": "stream",
     "text": [
      "Requirement already satisfied: scipy in c:\\anaconda3\\lib\\site-packages (1.2.1)\n"
     ]
    }
   ],
   "source": [
    "# Install the scipy library if needed\n",
    "!pip install --user scipy"
   ]
  },
  {
   "cell_type": "code",
   "execution_count": 3,
   "metadata": {},
   "outputs": [],
   "source": [
    "import matplotlib.pyplot as plt\n",
    "import pandas as pd\n",
    "import numpy as np\n",
    "import scipy.stats as stats\n",
    "\n",
    "%matplotlib inline"
   ]
  },
  {
   "cell_type": "markdown",
   "metadata": {},
   "source": [
    "# Lab 4 - Probability distributions: Normal and Exponential\n",
    "\n",
    "Recall that a *probability distribution* is a math function that describes the probabilities of different outcomes.  Sometimes, we want to find the probability distribution that describes the distribution of the data (called the *empirical distribution*).\n",
    "\n",
    "## Normal or Gaussian distribution\n",
    "\n",
    "In MAT 128 we looked at the normal (or Gaussian) distribution, which has the equation:  $${\\displaystyle f(x\\mid \\mu ,\\sigma ^{2})={\\frac {1}{\\sqrt {2\\pi \\sigma ^{2}}}}e^{-{\\frac {(x-\\mu )^{2}}{2\\sigma ^{2}}}}}$$\n",
    "\n",
    "This distribution is a *parametric distribution* because the function depends on two parameters:  the mean $\\mu$ (pronounced \"mu\"), and the standard deviation $\\sigma$ (pronounced \"sigma\").\n",
    "\n",
    "Let's plot the normal distribution.  First define variables for mu and sigma so we can easily change them."
   ]
  },
  {
   "cell_type": "code",
   "execution_count": 4,
   "metadata": {},
   "outputs": [],
   "source": [
    "mu = 0\n",
    "sigma = 1"
   ]
  },
  {
   "cell_type": "markdown",
   "metadata": {},
   "source": [
    "To plot graphs in Python, we actually plot a bunch of points very close together, and thus need to generate the x and y values for these points.  First we generate 100 evenly spaces x values between mu - 3*sigma = -3 and mu+3*sigma = 3."
   ]
  },
  {
   "cell_type": "code",
   "execution_count": 5,
   "metadata": {},
   "outputs": [
    {
     "data": {
      "text/plain": [
       "array([-3.        , -2.93939394, -2.87878788, -2.81818182, -2.75757576,\n",
       "       -2.6969697 , -2.63636364, -2.57575758, -2.51515152, -2.45454545,\n",
       "       -2.39393939, -2.33333333, -2.27272727, -2.21212121, -2.15151515,\n",
       "       -2.09090909, -2.03030303, -1.96969697, -1.90909091, -1.84848485,\n",
       "       -1.78787879, -1.72727273, -1.66666667, -1.60606061, -1.54545455,\n",
       "       -1.48484848, -1.42424242, -1.36363636, -1.3030303 , -1.24242424,\n",
       "       -1.18181818, -1.12121212, -1.06060606, -1.        , -0.93939394,\n",
       "       -0.87878788, -0.81818182, -0.75757576, -0.6969697 , -0.63636364,\n",
       "       -0.57575758, -0.51515152, -0.45454545, -0.39393939, -0.33333333,\n",
       "       -0.27272727, -0.21212121, -0.15151515, -0.09090909, -0.03030303,\n",
       "        0.03030303,  0.09090909,  0.15151515,  0.21212121,  0.27272727,\n",
       "        0.33333333,  0.39393939,  0.45454545,  0.51515152,  0.57575758,\n",
       "        0.63636364,  0.6969697 ,  0.75757576,  0.81818182,  0.87878788,\n",
       "        0.93939394,  1.        ,  1.06060606,  1.12121212,  1.18181818,\n",
       "        1.24242424,  1.3030303 ,  1.36363636,  1.42424242,  1.48484848,\n",
       "        1.54545455,  1.60606061,  1.66666667,  1.72727273,  1.78787879,\n",
       "        1.84848485,  1.90909091,  1.96969697,  2.03030303,  2.09090909,\n",
       "        2.15151515,  2.21212121,  2.27272727,  2.33333333,  2.39393939,\n",
       "        2.45454545,  2.51515152,  2.57575758,  2.63636364,  2.6969697 ,\n",
       "        2.75757576,  2.81818182,  2.87878788,  2.93939394,  3.        ])"
      ]
     },
     "execution_count": 5,
     "metadata": {},
     "output_type": "execute_result"
    }
   ],
   "source": [
    "x = np.linspace(mu - 3*sigma, mu + 3*sigma, 100)\n",
    "x"
   ]
  },
  {
   "cell_type": "markdown",
   "metadata": {},
   "source": [
    "For each x value, we can compute the value of the normal distribution (the y value):"
   ]
  },
  {
   "cell_type": "code",
   "execution_count": 6,
   "metadata": {},
   "outputs": [
    {
     "data": {
      "text/plain": [
       "array([0.00443185, 0.00530579, 0.00632878, 0.00752133, 0.00890582,\n",
       "       0.0105065 , 0.01234943, 0.01446241, 0.01687483, 0.01961746,\n",
       "       0.02272223, 0.02622189, 0.03014961, 0.03453857, 0.03942137,\n",
       "       0.0448295 , 0.05079264, 0.05733801, 0.06448952, 0.07226707,\n",
       "       0.08068571, 0.08975477, 0.09947714, 0.10984842, 0.12085626,\n",
       "       0.13247967, 0.14468855, 0.15744319, 0.17069405, 0.18438164,\n",
       "       0.1984366 , 0.21277993, 0.22732351, 0.24197072, 0.2566174 ,\n",
       "       0.27115285, 0.28546117, 0.29942268, 0.31291556, 0.3258175 ,\n",
       "       0.33800759, 0.34936814, 0.35978656, 0.36915722, 0.37738323,\n",
       "       0.38437808, 0.3900672 , 0.39438923, 0.39729716, 0.39875915,\n",
       "       0.39875915, 0.39729716, 0.39438923, 0.3900672 , 0.38437808,\n",
       "       0.37738323, 0.36915722, 0.35978656, 0.34936814, 0.33800759,\n",
       "       0.3258175 , 0.31291556, 0.29942268, 0.28546117, 0.27115285,\n",
       "       0.2566174 , 0.24197072, 0.22732351, 0.21277993, 0.1984366 ,\n",
       "       0.18438164, 0.17069405, 0.15744319, 0.14468855, 0.13247967,\n",
       "       0.12085626, 0.10984842, 0.09947714, 0.08975477, 0.08068571,\n",
       "       0.07226707, 0.06448952, 0.05733801, 0.05079264, 0.0448295 ,\n",
       "       0.03942137, 0.03453857, 0.03014961, 0.02622189, 0.02272223,\n",
       "       0.01961746, 0.01687483, 0.01446241, 0.01234943, 0.0105065 ,\n",
       "       0.00890582, 0.00752133, 0.00632878, 0.00530579, 0.00443185])"
      ]
     },
     "execution_count": 6,
     "metadata": {},
     "output_type": "execute_result"
    }
   ],
   "source": [
    "y = stats.norm.pdf(x, mu, sigma)\n",
    "y"
   ]
  },
  {
   "cell_type": "markdown",
   "metadata": {},
   "source": [
    "Note:  pdf standard for *probability density function* which is what a continuous probability distribution is called\n",
    "\n",
    "Now make a line plot of these x and y values:"
   ]
  },
  {
   "cell_type": "code",
   "execution_count": 7,
   "metadata": {},
   "outputs": [
    {
     "data": {
      "text/plain": [
       "[<matplotlib.lines.Line2D at 0x120ae8be780>]"
      ]
     },
     "execution_count": 7,
     "metadata": {},
     "output_type": "execute_result"
    },
    {
     "data": {
      "image/png": "[encoded data removed]",
      "text/plain": [
       "<Figure size 432x288 with 1 Axes>"
      ]
     },
     "metadata": {
      "needs_background": "light"
     },
     "output_type": "display_data"
    }
   ],
   "source": [
    "plt.plot(x,y)"
   ]
  },
  {
   "cell_type": "markdown",
   "metadata": {},
   "source": [
    "Because the x values were so close together, we can't tell that it is made up of a bunch of straight lines.\n",
    "\n",
    "In MAT 128 we sampled values from the normal distribution using the numpy library:\n",
    "We can sample 1000 values from this normal distribution (as done in MAT 128):"
   ]
  },
  {
   "cell_type": "code",
   "execution_count": 8,
   "metadata": {},
   "outputs": [
    {
     "data": {
      "text/plain": [
       "array([ 2.37921313e-01,  5.93419640e-01,  5.67679819e-01, -1.42301930e+00,\n",
       "       -9.70533688e-01, -7.26570764e-01,  3.90042399e-01, -1.44940119e+00,\n",
       "        7.19107520e-01, -3.48485294e-01,  3.56981765e-01,  2.90028659e-02,\n",
       "       -6.34752242e-01, -2.44104863e-02, -2.86029066e-03, -1.00035877e+00,\n",
       "       -2.60114953e-01, -9.17266145e-01, -1.29710314e+00,  4.85783516e-01,\n",
       "       -1.36499588e-01, -2.83690982e+00,  6.75185689e-01, -1.79861964e-01,\n",
       "       -1.24453779e+00, -4.15574325e-01,  1.32047517e+00,  4.20284879e-01,\n",
       "       -2.41842943e-01,  3.47962576e-01, -1.12193384e+00, -9.09988808e-01,\n",
       "        2.35857138e-01, -4.18888169e-01,  2.24031681e-01,  1.89360044e+00,\n",
       "        1.05274428e-01,  1.40237417e+00, -2.29845639e+00,  2.31571895e-01,\n",
       "       -3.40818440e-01, -6.69081547e-01,  9.72646576e-01, -3.45884015e-01,\n",
       "        1.19890200e+00,  3.42605976e-01, -2.74162789e+00,  1.84968844e-01,\n",
       "        4.19347747e-01, -1.21792155e+00, -1.06206335e+00, -1.38664771e+00,\n",
       "       -8.13804002e-03, -4.80476262e-01, -1.39326520e+00, -1.19996166e+00,\n",
       "        1.77790718e+00, -9.80801561e-01,  1.85641478e+00, -1.23772709e+00,\n",
       "        2.12939650e+00,  7.63891595e-02, -4.24791810e-01, -1.64525409e-01,\n",
       "       -6.69108597e-02,  1.23526566e+00,  1.39934694e-01,  5.72558539e-01,\n",
       "       -7.64484163e-01, -1.59363786e-01, -1.63593055e+00,  9.03758305e-01,\n",
       "       -1.73208817e-01, -3.37378033e-01,  3.60628276e-01, -4.47710827e-01,\n",
       "       -1.02298886e+00, -8.44669404e-01, -2.19840405e-01, -6.96807566e-01,\n",
       "       -2.59508050e+00,  5.29581816e-01, -1.67937240e-01, -8.53433930e-01,\n",
       "        2.61079663e-01, -7.10917287e-01,  2.14990530e+00, -1.73765359e-01,\n",
       "        8.82611374e-01,  1.16494263e-01, -2.55519138e+00, -2.03672226e+00,\n",
       "        2.30143896e-01, -3.46361708e-01,  2.69623709e-01,  1.30889234e-01,\n",
       "       -5.48531464e-02, -1.37217814e+00,  1.62619499e+00,  1.65800432e+00,\n",
       "       -3.77694079e-01,  1.35161506e+00,  4.55950395e-01, -5.21261490e-02,\n",
       "        4.56457360e-01,  1.25242791e+00,  1.44812189e+00, -6.44283652e-01,\n",
       "       -2.08634396e+00,  9.21281986e-01,  5.28091334e-01,  1.43284729e-01,\n",
       "        1.45237843e-01, -1.14175447e+00,  1.14038851e+00, -4.71576631e-02,\n",
       "        3.76521068e-01, -1.79039590e+00, -6.21575831e-03,  1.33583546e+00,\n",
       "        8.35413633e-01,  5.81421876e-01, -1.26868074e+00,  1.16230256e-01,\n",
       "       -2.85945102e-01, -2.52225336e-01,  4.96073966e-01, -1.88226424e+00,\n",
       "       -1.90961776e+00,  9.10783473e-01, -6.73021463e-01, -4.83062556e-01,\n",
       "       -1.34852683e-01, -2.70905210e-01, -2.35418496e-01,  7.44259396e-01,\n",
       "       -3.08080439e-01,  3.51439022e-01, -7.80573411e-01,  1.07031495e+00,\n",
       "        1.43434441e+00,  1.02102816e-01,  1.37998538e+00, -1.31269259e+00,\n",
       "       -7.45198619e-01,  9.74522479e-01,  1.18610575e+00, -1.12074895e+00,\n",
       "       -1.67644493e-01, -1.03648573e-01, -1.00674642e+00, -1.08605718e+00,\n",
       "       -2.82976329e-01, -6.28551843e-01, -6.66849220e-02, -4.29238679e-02,\n",
       "        8.50481686e-01,  8.02249638e-01,  9.95736360e-02, -4.18096776e-01,\n",
       "       -6.75306839e-01, -5.83544575e-01,  1.33847212e+00,  1.94562674e-01,\n",
       "        2.84437040e+00, -3.01698719e-01,  2.58112273e+00, -7.89371044e-02,\n",
       "        3.57328156e-01, -1.18752260e+00,  1.07549538e+00,  8.11062916e-01,\n",
       "        7.02003641e-03,  1.68623623e+00, -2.13252169e-01,  1.17420606e+00,\n",
       "        4.60445770e-01,  3.19645962e-01, -7.53110166e-01,  1.71167010e+00,\n",
       "       -8.97914218e-01, -8.96322876e-01,  8.49890680e-01,  1.27194352e+00,\n",
       "       -1.04038248e-01,  5.37058913e-01, -1.44252186e+00, -1.20709472e+00,\n",
       "       -6.35516007e-01, -7.95642069e-01, -6.50002987e-01,  8.38969590e-01,\n",
       "       -1.18754983e+00, -5.43906673e-01, -3.90756603e-01,  7.06861801e-01,\n",
       "       -9.79021577e-01,  9.51820199e-01, -9.33653978e-01, -1.39800164e+00,\n",
       "        6.13234881e-01, -4.33324117e-01,  5.53366280e-02,  9.04810098e-01,\n",
       "        4.47307619e-01,  3.08883041e-01,  4.32254968e-01, -6.98384112e-01,\n",
       "       -1.17549379e+00,  3.16320760e-01,  1.17719085e+00,  1.48941008e-01,\n",
       "        1.13723030e+00, -9.28773202e-01, -1.16449939e-01,  6.51472171e-01,\n",
       "       -6.53746445e-02,  4.75580893e-01,  3.01399845e-01,  5.28333372e-01,\n",
       "        7.10134922e-01, -1.05977405e+00,  1.41253270e+00,  4.54933241e-01,\n",
       "       -3.95065442e-01, -1.87450566e+00,  2.09858415e+00, -3.01234755e-03,\n",
       "        2.41741140e+00,  5.06472735e-01,  5.41856170e-01, -2.45685060e-01,\n",
       "        1.50460949e-01, -7.81972952e-01,  8.62015695e-01, -2.84955558e-02,\n",
       "        5.41421545e-01,  3.11657642e-01, -1.04821006e+00,  1.20385142e+00,\n",
       "       -3.93627153e-01,  3.19153510e-01,  1.89456163e-01, -1.00560737e+00,\n",
       "       -3.78766036e-01, -9.46814493e-02, -2.88683026e-01,  1.85583798e-01,\n",
       "       -1.64018482e+00, -1.15961261e+00,  2.94842899e-01,  5.03241666e-02,\n",
       "        9.71000925e-01,  3.70843008e-01,  4.49470770e-01,  1.39799634e+00,\n",
       "        1.21329076e+00, -6.77030731e-01,  8.73287074e-01,  9.98970050e-01,\n",
       "       -2.24183621e-01, -7.36135980e-01, -1.84274651e+00,  1.65352901e+00,\n",
       "       -1.79665255e-01, -1.22966203e+00, -2.70159148e+00,  5.83016586e-01,\n",
       "       -8.70162066e-01, -8.40988156e-01, -7.77789555e-02, -6.92005955e-02,\n",
       "        5.73645876e-01,  4.03148933e-01,  1.89974066e+00,  1.34109678e+00,\n",
       "        2.67071285e-01,  6.26488240e-02,  2.03992621e+00, -1.84882846e+00,\n",
       "        4.59442911e-03,  1.10416399e+00, -2.00265695e+00, -2.18232662e-01,\n",
       "        3.37913972e-01, -4.24893133e-01,  1.03662902e+00, -8.95527537e-01,\n",
       "        2.76033543e+00,  1.16062084e+00,  2.57750303e-01,  6.85407565e-01,\n",
       "        6.88149751e-01,  1.17725830e+00, -8.28448185e-01, -5.66719670e-01,\n",
       "        8.99897435e-01, -2.12476014e-01, -2.60805565e-01,  7.71485282e-01,\n",
       "        6.71921180e-01,  1.17241246e+00, -2.93769671e-01, -1.02384118e+00,\n",
       "        1.49930182e+00, -6.73167383e-03,  8.98984820e-01, -9.10029171e-01,\n",
       "        6.79728389e-01, -6.42867275e-02, -1.92821570e+00, -4.16802411e-01,\n",
       "        4.32686839e-01,  1.90727754e+00, -1.93238577e+00,  1.50078313e+00,\n",
       "        3.54704465e+00, -2.74876488e-02, -2.01030654e+00, -9.95463964e-01,\n",
       "       -8.33487363e-01,  6.37176633e-01,  6.75647117e-01,  1.29875498e+00,\n",
       "       -9.75918968e-01,  1.35189756e+00, -1.44687796e+00, -3.19622196e-01,\n",
       "        3.31746296e-01,  1.00429657e+00,  7.67868657e-01, -1.46372641e+00,\n",
       "        1.76674019e+00, -1.84843379e+00, -1.72764861e+00,  8.25913645e-01,\n",
       "        6.41769020e-01,  3.98992024e-01, -1.79206999e+00,  1.81703277e+00,\n",
       "       -1.64133813e-01, -4.73045843e-01,  2.07037060e+00,  1.83796870e+00,\n",
       "        2.49284814e+00, -4.85979610e-01,  4.00060612e-03,  1.74866784e+00,\n",
       "       -2.60846006e-01, -2.18110096e-01, -3.10098688e-01, -1.18908585e+00,\n",
       "        3.87349709e-01,  1.03729920e+00, -1.31152762e+00,  9.97931055e-02,\n",
       "        1.65205446e-01,  2.71676305e-01, -2.18286836e+00,  1.36977167e+00,\n",
       "        4.10378015e-01,  7.43063869e-01, -9.88480433e-01, -5.73587495e-01,\n",
       "       -1.67413586e+00, -1.59127556e+00, -7.02685613e-01,  1.73138099e+00,\n",
       "       -5.95465999e-02,  1.79386427e+00,  1.09932581e+00,  5.98732605e-01,\n",
       "        4.84201242e-01,  9.20704063e-01,  2.57976668e-01, -6.29219362e-01,\n",
       "       -1.20708289e-01, -9.69016549e-01,  1.13765132e+00,  4.15085779e-02,\n",
       "        9.38995081e-01,  6.66231770e-01, -1.11719257e+00, -9.10655021e-01,\n",
       "        1.96189262e-01,  8.05167277e-02,  6.34623576e-01,  2.82305182e-01,\n",
       "       -1.25869779e+00, -2.09879622e+00, -2.12424457e+00, -6.09581897e-01,\n",
       "        8.23698865e-01, -1.14591705e+00, -1.06241377e+00,  1.26074516e-01,\n",
       "       -1.53116248e+00,  1.25819504e+00,  9.44023886e-01, -1.26454960e+00,\n",
       "       -4.88999483e-01, -7.53621131e-01,  3.05272079e-02, -1.38457960e+00,\n",
       "       -1.08161937e+00,  1.65207795e+00, -2.23421891e-01, -1.61216150e+00,\n",
       "        8.99133138e-03, -7.66410217e-01, -5.88926600e-01, -1.12828061e+00,\n",
       "       -9.81024196e-01,  1.87058484e+00, -1.72026249e+00, -1.43345953e+00,\n",
       "       -9.75496853e-01, -7.83313550e-01, -4.81857397e-01,  5.75331143e-01,\n",
       "       -1.51917150e+00, -1.44575052e+00, -4.82501478e-01,  9.93671619e-02,\n",
       "        3.53198337e-01, -7.07277432e-01, -2.37154164e-01, -4.82880231e-02,\n",
       "        1.91348587e+00,  7.68347007e-01, -1.02544870e+00, -1.24797996e+00,\n",
       "       -1.15143102e-01, -4.07039717e-01, -1.63512625e+00,  1.52026267e-01,\n",
       "        7.96625178e-01, -2.11175312e-01, -4.39837975e-01,  4.86965068e-01,\n",
       "        4.47022688e-01,  9.67596429e-01, -7.29217461e-01,  6.60287900e-01,\n",
       "       -9.66839977e-01,  4.96159822e-01, -1.79416986e-01, -3.46809337e-02,\n",
       "        3.45228367e-01,  4.25788035e-02,  3.00257638e-01, -1.25646006e+00,\n",
       "        4.14338263e-01,  5.89593022e-01,  5.80430551e-01, -9.13414210e-01,\n",
       "       -1.55393974e+00,  1.46292500e+00,  1.21691798e+00,  1.59326943e+00,\n",
       "        2.40395894e-01, -8.92683255e-01,  8.43938192e-01, -1.24453334e+00,\n",
       "       -2.59991402e-01, -1.29086733e+00,  1.76198334e-01, -1.40355734e+00,\n",
       "       -1.02527543e+00, -1.80883961e+00,  4.39351067e-02, -1.80384309e+00,\n",
       "       -1.58768492e-01,  9.88042877e-01, -9.50471974e-01,  2.23615400e+00,\n",
       "        1.14103895e+00, -1.51702580e-01,  3.01225293e-01,  1.20579265e+00,\n",
       "        8.59796075e-01,  7.61146410e-01,  3.01642527e-01,  1.60181112e+00,\n",
       "       -1.17176438e-01, -5.07580428e-01,  4.49576301e-01, -7.50621531e-01,\n",
       "       -9.42019733e-02,  3.64475162e-01, -2.02045104e-01, -1.64627296e-01,\n",
       "        1.82254774e+00, -2.01513597e-01,  6.14679911e-01,  1.21542342e-01,\n",
       "       -4.06640182e-01, -3.99671670e-01,  1.12045585e+00,  9.90518573e-01,\n",
       "        1.11441067e+00, -8.42552585e-01, -1.87282517e-01,  4.95252121e-01,\n",
       "        3.89202514e-01, -6.42209925e-01,  1.03231647e+00, -1.62378263e-01,\n",
       "       -1.32222446e+00, -2.07771178e-01, -6.37619889e-01,  3.79192814e-01,\n",
       "       -1.02624881e+00, -1.54658592e-01,  1.12980475e-01, -4.49133239e-01,\n",
       "        6.23956296e-01,  8.71777784e-01,  1.35686085e+00, -5.77954181e-01,\n",
       "        9.10902363e-02,  2.83427100e-02, -9.56147861e-01,  6.19395740e-01,\n",
       "        5.28413440e-01, -1.39804854e-01,  1.12402020e+00, -2.68803375e-01,\n",
       "        1.37437806e-01,  5.38942358e-01, -1.98563109e-01,  8.04197748e-01,\n",
       "       -5.94811618e-01, -1.29593439e+00, -7.47380509e-01,  1.61969609e+00,\n",
       "        1.14535759e+00, -1.09821941e+00,  1.85919881e-01,  2.29112131e-01,\n",
       "       -5.15897063e-01,  5.21474955e-01, -5.91163924e-01, -6.71041626e-01,\n",
       "        6.32676198e-01,  2.05041405e+00, -1.06551809e+00, -2.05409601e-01,\n",
       "       -8.93896276e-02, -9.75117942e-02, -9.28723597e-02,  1.16296523e+00,\n",
       "        1.48716909e+00,  4.43258623e-01,  1.52030875e+00, -2.22333515e+00,\n",
       "       -6.83362025e-01,  1.82459980e+00,  1.62206402e+00,  1.31106279e+00,\n",
       "        1.15727576e+00, -1.88759011e+00, -7.19019180e-01,  1.91433420e+00,\n",
       "       -1.24627384e+00, -7.43603305e-01,  8.60632626e-01,  5.00875261e-02,\n",
       "       -7.46369853e-01,  5.58699224e-01,  5.65466645e-01,  2.64773219e-01,\n",
       "       -8.89562207e-01, -1.12573150e+00,  6.11076136e-01, -5.00325116e-01,\n",
       "        9.45223537e-01, -2.23096258e-01, -1.84719290e-02,  2.30041931e+00,\n",
       "        1.46261904e+00, -1.02826842e+00, -1.89896197e+00, -6.56178020e-01,\n",
       "       -5.53640268e-01,  3.96350977e-02, -8.22342902e-01,  1.24353418e+00,\n",
       "       -8.48221417e-01, -8.43561796e-01, -4.36330350e-02, -1.02532539e+00,\n",
       "       -1.86383553e-01, -1.94823349e+00, -1.66766963e-01, -9.59568813e-01,\n",
       "       -5.90164387e-01, -7.52051278e-01,  1.43048414e+00, -3.26967538e-01,\n",
       "       -1.04079764e+00, -1.51634542e-01, -2.30108574e-01, -1.82106776e-01,\n",
       "        1.70524529e-01, -5.69635254e-02,  2.00310823e-01,  1.88282835e+00,\n",
       "        3.17496451e-01, -8.94725315e-01,  1.33201532e+00,  9.08537476e-01,\n",
       "        4.25541682e-01,  1.02214830e+00, -8.66076426e-01,  8.61053088e-01,\n",
       "        8.27339604e-02, -1.20019330e+00,  1.38432766e+00,  1.46893314e+00,\n",
       "        1.83135920e-02,  2.94111730e-01,  2.41650267e-01, -1.16344499e+00,\n",
       "       -1.47880940e+00, -7.50303397e-01,  1.09457980e+00, -8.85335696e-02,\n",
       "        5.67350337e-01,  2.20927898e-01, -5.31445663e-01, -2.69738857e-01,\n",
       "       -1.20606856e+00,  1.20922524e-01, -5.49849030e-01,  2.45626269e-01,\n",
       "       -6.41928165e-01,  2.80818196e-01,  3.31456897e-01,  1.99846660e+00,\n",
       "       -1.36896007e+00, -1.26319812e+00, -5.53977617e-01,  4.33020422e-01,\n",
       "       -4.60302849e-01, -1.71404545e-01,  4.20487670e-01, -8.53865297e-01,\n",
       "        1.66388873e+00, -2.21450680e+00,  2.47734054e-02, -6.16995356e-01,\n",
       "       -9.01710474e-01, -1.61929117e+00,  1.30013835e+00, -7.89048058e-01,\n",
       "       -3.38188237e+00, -9.16320254e-01, -6.64582026e-01,  4.13136056e-01,\n",
       "       -7.73407313e-01,  1.04870985e+00,  3.86840195e-01, -1.12135328e-01,\n",
       "       -4.64313858e-01,  5.84162722e-01, -7.45642126e-01, -9.92752424e-03,\n",
       "       -1.65406361e+00, -2.21906289e+00, -7.65782266e-01,  2.33200346e+00,\n",
       "        1.94065373e-01, -1.82580241e+00, -7.48787638e-01, -1.82048690e+00,\n",
       "       -4.09531383e-01,  6.66021498e-01,  9.16957927e-01,  1.01493605e+00,\n",
       "        4.18706147e-02,  7.24943404e-01,  3.03520777e-01, -6.64830415e-01,\n",
       "        1.64569211e+00, -1.57224889e+00,  1.69233572e+00, -4.41752965e-01,\n",
       "        2.55421129e-01, -1.47904747e+00,  6.88322438e-01, -7.52034227e-01,\n",
       "        7.74903363e-01, -6.59170816e-01,  2.85535559e-01, -7.25195485e-01,\n",
       "       -7.62499384e-01, -3.52617512e-01, -1.24823533e+00,  5.32541262e-01,\n",
       "       -9.08136963e-01,  1.72904667e+00,  5.13425159e-01, -9.48015058e-01,\n",
       "       -2.58889914e-01, -3.34217171e-01, -7.13553397e-01, -6.98426317e-01,\n",
       "        1.39046581e-01, -1.39390624e+00, -4.73932611e-01,  1.14825865e+00,\n",
       "       -7.25349735e-01, -1.56284576e+00,  8.14987656e-02,  9.47563318e-02,\n",
       "       -5.44154186e-01, -1.56792237e-01, -1.76348250e+00,  5.34286280e-01,\n",
       "       -2.84407249e-01,  2.64512161e+00,  1.80236849e-02,  1.27514182e-01,\n",
       "        4.96417582e-01,  4.18619164e-01, -1.22342519e+00, -9.22210077e-02,\n",
       "       -2.09940171e+00, -1.43726049e+00,  2.07238486e+00,  8.24033573e-01,\n",
       "       -5.82652419e-01,  1.82139801e+00, -3.79475205e-01,  7.68858239e-01,\n",
       "       -1.59495616e-01, -1.57791994e+00,  2.45355294e-01,  3.23927715e-01,\n",
       "       -8.90728507e-01,  3.28688257e-01,  5.00064606e-02, -4.03489091e-01,\n",
       "       -1.58819899e+00, -1.55430351e+00, -5.44539731e-01, -1.06718192e+00,\n",
       "       -1.30296396e+00, -1.49938647e+00, -4.12266850e-01,  4.28450169e-01,\n",
       "       -7.63311916e-01,  1.19342418e-01,  8.41295028e-01, -1.00879093e+00,\n",
       "        3.18797018e-01,  6.31863990e-01, -1.59873548e+00, -7.70840432e-01,\n",
       "       -5.22359902e-01, -5.80372614e-01, -7.32826086e-01, -1.37856995e-01,\n",
       "        1.93045175e+00,  1.11003987e+00,  1.05420057e+00, -2.06758194e-01,\n",
       "        5.46069986e-01, -1.38317861e+00, -3.85991305e-01, -1.09768165e+00,\n",
       "        7.21171026e-01,  3.68498546e-01, -6.15255704e-01,  2.04675767e+00,\n",
       "        2.77689027e+00, -5.85330112e-02,  4.72473727e-01, -1.16640847e+00,\n",
       "       -6.44930811e-01,  1.33481772e+00,  1.00549474e+00, -3.52194851e-01,\n",
       "       -5.82850516e-01,  4.33492601e-01, -3.98144820e-02, -7.42389117e-01,\n",
       "        2.71833786e-01, -1.07873409e+00, -1.11611018e+00, -1.92112460e+00,\n",
       "        1.08883457e+00, -1.52452376e+00, -7.14430342e-02,  1.86818024e-01,\n",
       "        2.09020604e+00, -5.90589854e-01, -1.53726582e+00,  1.35150511e+00,\n",
       "       -5.84966807e-01,  2.63221004e-01,  6.78863975e-03,  1.79294931e+00,\n",
       "        6.66225526e-01, -2.02912843e-01,  1.58828136e+00,  6.25424791e-01,\n",
       "        4.27865433e-01, -1.09885754e+00,  6.74623356e-01,  2.06197759e-01,\n",
       "        1.17471205e-01,  1.76513201e-01,  9.97353413e-01,  1.55814404e+00,\n",
       "        8.58734516e-01, -5.80917369e-01, -9.95512091e-01,  8.57666765e-01,\n",
       "       -3.37813016e-02,  9.61316800e-01,  1.36278638e+00,  5.00438803e-01,\n",
       "       -7.21143270e-01,  9.28325752e-01, -4.80544757e-01,  2.28843498e-01,\n",
       "       -2.84531567e+00,  2.08763942e+00, -7.00804067e-02,  1.37861301e+00,\n",
       "        1.73347999e-01, -1.33661838e+00,  1.46242294e-01, -3.60445099e-01,\n",
       "       -9.32291054e-01,  3.35105160e-01, -1.21663426e+00,  6.98067481e-01,\n",
       "        1.82593628e+00,  2.23726043e-01,  4.33176794e-01,  1.06334916e+00,\n",
       "        6.42673380e-01,  1.48892667e+00,  1.13317197e-01, -4.73713110e-01,\n",
       "        1.02012663e+00, -4.27039346e-01, -7.13145516e-01,  5.10591651e-01,\n",
       "       -9.25994472e-01, -3.80343306e-01,  1.21572366e+00, -8.78139227e-01,\n",
       "        1.50465320e+00,  6.11239008e-01,  1.40982696e-01,  2.49819414e+00,\n",
       "       -3.37952064e-01, -1.10708841e-01, -9.13360740e-01,  8.07885726e-01,\n",
       "       -1.33241529e-02, -5.23415292e-01, -6.71107650e-01, -1.66212237e-01,\n",
       "       -1.66468235e-01,  1.55835110e-01, -3.58970458e-01, -8.25769895e-01,\n",
       "        8.89029246e-01,  1.54655423e+00, -2.29563320e-02,  1.75501554e+00,\n",
       "        2.03660819e-01,  5.22184303e-01,  2.70857303e-01,  8.83552062e-01,\n",
       "       -9.60362163e-01, -1.01581566e+00, -4.22061843e-01,  4.66552384e-02,\n",
       "       -1.08321187e+00, -4.53637652e-01, -6.96495570e-01,  2.09307410e-01,\n",
       "       -2.59606964e-01, -1.61793900e+00, -3.27156775e-01, -3.75184848e-01,\n",
       "        1.54013154e-01, -1.92013582e+00, -1.31515248e+00, -7.60749785e-01,\n",
       "       -8.55898580e-01, -6.29233366e-01, -1.52505908e+00,  1.26973940e+00,\n",
       "        6.49914708e-01, -1.33217377e+00, -9.13280666e-01,  5.81410299e-01,\n",
       "       -7.17431253e-02, -1.67525291e+00,  4.91389547e-01, -1.84621502e+00,\n",
       "        1.01365682e+00,  6.91421848e-01, -4.25424692e-01,  2.75442596e-01,\n",
       "       -4.31795362e-01,  6.17850074e-02,  3.46025537e-01,  2.69552247e-01,\n",
       "       -7.21011656e-01, -3.82881587e-01, -4.69283869e-01, -1.13980280e-01,\n",
       "       -1.50820380e-01,  8.65154823e-01, -1.71308645e-01,  1.54480942e+00,\n",
       "       -3.69595207e-01,  2.26427590e-01,  6.62924031e-01, -2.10173494e+00,\n",
       "       -3.61686197e-01, -1.54225544e+00, -9.11413837e-01,  1.77101843e-01,\n",
       "       -7.95542772e-01,  2.08192939e+00,  5.67048393e-01, -1.78479066e-01,\n",
       "       -2.65100350e+00, -1.65962738e+00,  3.09806038e-02,  2.46599532e+00,\n",
       "       -7.60834463e-01, -4.96672229e-01, -1.42287202e+00,  1.10498709e+00,\n",
       "        8.11781745e-01,  1.45538959e-01,  8.16292269e-01,  9.76397533e-01,\n",
       "        2.25141838e-01, -2.37465651e-01, -1.59324793e+00, -9.28544718e-01,\n",
       "       -3.14729810e-01,  5.44768735e-01,  8.43945936e-01, -1.63518725e+00,\n",
       "        1.15433780e-01, -4.81114882e-01, -1.26799391e+00,  8.57628252e-01,\n",
       "       -6.80082195e-01, -3.26179776e-01, -3.06193084e-01, -1.11411606e+00,\n",
       "        2.50797958e-01, -3.61078959e-01,  2.96944256e-01, -4.54080375e-01,\n",
       "        8.78567190e-01,  6.57899995e-01, -9.18238855e-01,  2.39910015e-01,\n",
       "       -9.57108715e-01, -7.98413707e-01,  2.69053687e-01, -1.03835496e+00,\n",
       "        8.88005194e-01,  4.60290049e-02, -3.45280726e-01, -2.94796603e-01,\n",
       "        5.26464390e-01, -8.26341265e-01,  7.61735749e-01, -9.05921275e-01,\n",
       "        4.50304424e-01,  1.39438622e+00,  2.28600581e-01,  1.53082496e+00,\n",
       "        6.71617062e-01, -1.38479230e+00,  2.29130896e+00, -4.83653786e-01,\n",
       "       -6.61771105e-01,  2.74610141e-01, -1.51877622e+00, -1.14068816e+00,\n",
       "       -7.46631563e-01, -1.24605410e+00,  5.02663044e-01,  1.01858425e+00])"
      ]
     },
     "execution_count": 8,
     "metadata": {},
     "output_type": "execute_result"
    }
   ],
   "source": [
    "sample = np.random.normal(loc = mu, scale = sigma, size = 1000)\n",
    "sample"
   ]
  },
  {
   "cell_type": "markdown",
   "metadata": {},
   "source": [
    "Plot a histogram of the sample.  Remember you will first have to make it into a Pandas Series:  `pd.Series(sample)` \n",
    "\n",
    "How does the histogram compare to the normal probability distribution?"
   ]
  },
  {
   "cell_type": "code",
   "execution_count": 15,
   "metadata": {},
   "outputs": [
    {
     "data": {
      "text/plain": [
       "<matplotlib.axes._subplots.AxesSubplot at 0x120aeaaff60>"
      ]
     },
     "execution_count": 15,
     "metadata": {},
     "output_type": "execute_result"
    },
    {
     "data": {
      "image/png": "[encoded data removed]",
      "text/plain": [
       "<Figure size 432x288 with 1 Axes>"
      ]
     },
     "metadata": {
      "needs_background": "light"
     },
     "output_type": "display_data"
    }
   ],
   "source": [
    "pd.Series(sample).hist(bins = 30)"
   ]
  },
  {
   "cell_type": "markdown",
   "metadata": {},
   "source": [
    "To really compare the probability distribution with the histogram, we can plot the two in the same plot, using the `density` option to change the y axis of the histogram to the same scale as the probability distribution."
   ]
  },
  {
   "cell_type": "code",
   "execution_count": 17,
   "metadata": {},
   "outputs": [
    {
     "data": {
      "text/plain": [
       "[<matplotlib.lines.Line2D at 0x120aeaa0ac8>]"
      ]
     },
     "execution_count": 17,
     "metadata": {},
     "output_type": "execute_result"
    },
    {
     "data": {
      "image/png": "[encoded data removed]",
      "text/plain": [
       "<Figure size 432x288 with 1 Axes>"
      ]
     },
     "metadata": {
      "needs_background": "light"
     },
     "output_type": "display_data"
    }
   ],
   "source": [
    "pd.Series(sample).hist(bins = 30, density = True)\n",
    "plt.plot(x,y)"
   ]
  },
  {
   "cell_type": "markdown",
   "metadata": {},
   "source": [
    "### Normally distributed data\n",
    "\n",
    "Let's look at some normally distributed data.  Download the text file `babyboom.dat.txt`.  It contains data about 44 babies that were born on December 18, 1997 at the Mater Mothers' Hospital in Brisbane, Australia.  \n",
    "\n",
    "Data Columns:\n",
    "   - Time of birth recorded on the 24-hour clock\n",
    "   - Sex of the child (1 = girl, 2 = boy)\n",
    "   - Birth weight in grams\n",
    "   - Number of minutes after midnight of each birth\n",
    "\n",
    "Data set from:  https://raw.githubusercontent.com/cs109/2015lab3/master/babyboom.dat.txt\n",
    "Original references:\n",
    "Steele, S. (December 21, 1997), \"Babies by the Dozen for Christmas: 24-Hour Baby Boom,\" The Sunday Mail (Brisbane), p. 7\n",
    "\n",
    "Open the dataset in a text editor.  How are the columns separated?   Are there any columns names?\n",
    "    - The columns are seperated by spaces\n",
    "    - There are no column names\n",
    "\n",
    "Despite these issues we can still use `pd.read_csv()`:"
   ]
  },
  {
   "cell_type": "code",
   "execution_count": 19,
   "metadata": {},
   "outputs": [],
   "source": [
    "babies = pd.read_csv(\"babyboom.dat.txt\", header=None, sep='\\s+', names=['24hrtime','sex','weight','minutes'])"
   ]
  },
  {
   "cell_type": "markdown",
   "metadata": {},
   "source": [
    "The parameter `header=None` tells `read_csv()` that there is no header row with columns names, and instead we specify the column names with the parameter `names=['24hrtime','sex','weight','minutes']`.  \n",
    "\n",
    "The parameter `sep='\\s+'` tells `read_csv()` that the columns are separated by white space (space, tab, etc.) instead of a comma."
   ]
  },
  {
   "cell_type": "code",
   "execution_count": 20,
   "metadata": {},
   "outputs": [
    {
     "data": {
      "text/html": [
       "<div>\n",
       "<style scoped>\n",
       "    .dataframe tbody tr th:only-of-type {\n",
       "        vertical-align: middle;\n",
       "    }\n",
       "\n",
       "    .dataframe tbody tr th {\n",
       "        vertical-align: top;\n",
       "    }\n",
       "\n",
       "    .dataframe thead th {\n",
       "        text-align: right;\n",
       "    }\n",
       "</style>\n",
       "<table border=\"1\" class=\"dataframe\">\n",
       "  <thead>\n",
       "    <tr style=\"text-align: right;\">\n",
       "      <th></th>\n",
       "      <th>24hrtime</th>\n",
       "      <th>sex</th>\n",
       "      <th>weight</th>\n",
       "      <th>minutes</th>\n",
       "    </tr>\n",
       "  </thead>\n",
       "  <tbody>\n",
       "    <tr>\n",
       "      <th>0</th>\n",
       "      <td>5</td>\n",
       "      <td>1</td>\n",
       "      <td>3837</td>\n",
       "      <td>5</td>\n",
       "    </tr>\n",
       "    <tr>\n",
       "      <th>1</th>\n",
       "      <td>104</td>\n",
       "      <td>1</td>\n",
       "      <td>3334</td>\n",
       "      <td>64</td>\n",
       "    </tr>\n",
       "    <tr>\n",
       "      <th>2</th>\n",
       "      <td>118</td>\n",
       "      <td>2</td>\n",
       "      <td>3554</td>\n",
       "      <td>78</td>\n",
       "    </tr>\n",
       "    <tr>\n",
       "      <th>3</th>\n",
       "      <td>155</td>\n",
       "      <td>2</td>\n",
       "      <td>3838</td>\n",
       "      <td>115</td>\n",
       "    </tr>\n",
       "    <tr>\n",
       "      <th>4</th>\n",
       "      <td>257</td>\n",
       "      <td>2</td>\n",
       "      <td>3625</td>\n",
       "      <td>177</td>\n",
       "    </tr>\n",
       "  </tbody>\n",
       "</table>\n",
       "</div>"
      ],
      "text/plain": [
       "   24hrtime  sex  weight  minutes\n",
       "0         5    1    3837        5\n",
       "1       104    1    3334       64\n",
       "2       118    2    3554       78\n",
       "3       155    2    3838      115\n",
       "4       257    2    3625      177"
      ]
     },
     "execution_count": 20,
     "metadata": {},
     "output_type": "execute_result"
    }
   ],
   "source": [
    "babies.head()"
   ]
  },
  {
   "cell_type": "markdown",
   "metadata": {},
   "source": [
    "Which column might be normally distributed?\n",
    "\n",
    "Let's plot a histogram of the weights:"
   ]
  },
  {
   "cell_type": "code",
   "execution_count": 28,
   "metadata": {},
   "outputs": [
    {
     "data": {
      "text/plain": [
       "<matplotlib.axes._subplots.AxesSubplot at 0x120b02067f0>"
      ]
     },
     "execution_count": 28,
     "metadata": {},
     "output_type": "execute_result"
    },
    {
     "data": {
      "image/png": "[encoded data removed]",
      "text/plain": [
       "<Figure size 432x288 with 1 Axes>"
      ]
     },
     "metadata": {
      "needs_background": "light"
     },
     "output_type": "display_data"
    }
   ],
   "source": [
    "babies[\"weight\"].hist(bins = 10)"
   ]
  },
  {
   "cell_type": "markdown",
   "metadata": {},
   "source": [
    "To compare to a normal distribution, we should compute the mean and standard deviation of the weights:"
   ]
  },
  {
   "cell_type": "code",
   "execution_count": 29,
   "metadata": {},
   "outputs": [],
   "source": [
    "mean_weight = babies[\"weight\"].mean()\n",
    "std_weight = babies[\"weight\"].std()"
   ]
  },
  {
   "cell_type": "markdown",
   "metadata": {},
   "source": [
    "Can you plot the normal distribution with this mean and standard deviation on top of your histogram?  Remember to change the y axis to `density`."
   ]
  },
  {
   "cell_type": "code",
   "execution_count": 60,
   "metadata": {},
   "outputs": [
    {
     "data": {
      "text/plain": [
       "[<matplotlib.lines.Line2D at 0x120b1e4bcf8>]"
      ]
     },
     "execution_count": 60,
     "metadata": {},
     "output_type": "execute_result"
    },
    {
     "data": {
      "image/png": "[encoded data removed]",
      "text/plain": [
       "<Figure size 432x288 with 1 Axes>"
      ]
     },
     "metadata": {
      "needs_background": "light"
     },
     "output_type": "display_data"
    }
   ],
   "source": [
    "x = np.linspace(mean_weight - 3 * std_weight,mean_weight + 3 * std_weight,100)\n",
    "y = stats.norm.pdf(x, mean_weight, std_weight)\n",
    "babies[\"weight\"].hist(bins = 10, density = True)\n",
    "plt.plot(x,y)"
   ]
  },
  {
   "cell_type": "markdown",
   "metadata": {},
   "source": [
    "Do you think the weights are normally distributed?\n",
    "\n",
    "- Hard to tell if the weights are normall distributed or not...\n",
    "\n",
    "## Exponential distribution\n",
    "\n",
    "Let's look at one more distribution.  The exponential distribution is used to model the time between events that happen independently.  Here, we will use it to model the time between the babies' births.\n",
    "\n",
    "The function for the exponential distribution is: $$\n",
    "f(x;\\lambda) = \\begin{cases}\n",
    "\\lambda e^{-\\lambda x} \\quad \\text{if } x \\ge 0, \\\\\n",
    "0 \\quad \\quad \\text{if } x < 0.\n",
    "\\end{cases}\n",
    "$$\n",
    "\n",
    "The exponential distribution is also a parametric distribution.  How many parameters does it have and what are they?\n",
    "\n",
    "$\\lambda$ (\"lambda\") is called the *rate parameter*, and is estimated as $\\frac{1}{\\text{mean of data}}$. \n",
    "\n",
    "\n",
    "Let's plot the explonential function.  First create a set of `x` values between -2 and 5."
   ]
  },
  {
   "cell_type": "code",
   "execution_count": 31,
   "metadata": {},
   "outputs": [
    {
     "data": {
      "text/plain": [
       "array([-2.        , -1.92929293, -1.85858586, -1.78787879, -1.71717172,\n",
       "       -1.64646465, -1.57575758, -1.50505051, -1.43434343, -1.36363636,\n",
       "       -1.29292929, -1.22222222, -1.15151515, -1.08080808, -1.01010101,\n",
       "       -0.93939394, -0.86868687, -0.7979798 , -0.72727273, -0.65656566,\n",
       "       -0.58585859, -0.51515152, -0.44444444, -0.37373737, -0.3030303 ,\n",
       "       -0.23232323, -0.16161616, -0.09090909, -0.02020202,  0.05050505,\n",
       "        0.12121212,  0.19191919,  0.26262626,  0.33333333,  0.4040404 ,\n",
       "        0.47474747,  0.54545455,  0.61616162,  0.68686869,  0.75757576,\n",
       "        0.82828283,  0.8989899 ,  0.96969697,  1.04040404,  1.11111111,\n",
       "        1.18181818,  1.25252525,  1.32323232,  1.39393939,  1.46464646,\n",
       "        1.53535354,  1.60606061,  1.67676768,  1.74747475,  1.81818182,\n",
       "        1.88888889,  1.95959596,  2.03030303,  2.1010101 ,  2.17171717,\n",
       "        2.24242424,  2.31313131,  2.38383838,  2.45454545,  2.52525253,\n",
       "        2.5959596 ,  2.66666667,  2.73737374,  2.80808081,  2.87878788,\n",
       "        2.94949495,  3.02020202,  3.09090909,  3.16161616,  3.23232323,\n",
       "        3.3030303 ,  3.37373737,  3.44444444,  3.51515152,  3.58585859,\n",
       "        3.65656566,  3.72727273,  3.7979798 ,  3.86868687,  3.93939394,\n",
       "        4.01010101,  4.08080808,  4.15151515,  4.22222222,  4.29292929,\n",
       "        4.36363636,  4.43434343,  4.50505051,  4.57575758,  4.64646465,\n",
       "        4.71717172,  4.78787879,  4.85858586,  4.92929293,  5.        ])"
      ]
     },
     "execution_count": 31,
     "metadata": {},
     "output_type": "execute_result"
    }
   ],
   "source": [
    "x = np.linspace(-2, 5, 100)\n",
    "x\n"
   ]
  },
  {
   "cell_type": "markdown",
   "metadata": {},
   "source": [
    "Next calculate the `y` values when lambda is 1.  Note that since `lambda` is a reserved word in Python, we can't use it as our variable name and will use `lambda_` instead."
   ]
  },
  {
   "cell_type": "code",
   "execution_count": 32,
   "metadata": {},
   "outputs": [
    {
     "data": {
      "text/plain": [
       "array([0.        , 0.        , 0.        , 0.        , 0.        ,\n",
       "       0.        , 0.        , 0.        , 0.        , 0.        ,\n",
       "       0.        , 0.        , 0.        , 0.        , 0.        ,\n",
       "       0.        , 0.        , 0.        , 0.        , 0.        ,\n",
       "       0.        , 0.        , 0.        , 0.        , 0.        ,\n",
       "       0.        , 0.        , 0.        , 0.        , 0.95074913,\n",
       "       0.88584603, 0.82537356, 0.76902926, 0.71653131, 0.66761715,\n",
       "       0.62204212, 0.57957828, 0.54001324, 0.50314912, 0.46880154,\n",
       "       0.4367987 , 0.40698054, 0.37919793, 0.3533119 , 0.32919299,\n",
       "       0.30672056, 0.28578221, 0.26627323, 0.24809603, 0.2311597 ,\n",
       "       0.21537953, 0.2006766 , 0.18697737, 0.17421332, 0.16232061,\n",
       "       0.15123976, 0.14091534, 0.13129573, 0.1223328 , 0.11398172,\n",
       "       0.10620074, 0.09895092, 0.09219601, 0.08590223, 0.0800381 ,\n",
       "       0.07457428, 0.06948345, 0.06474015, 0.06032065, 0.05620285,\n",
       "       0.05236615, 0.04879136, 0.04546061, 0.04235723, 0.0394657 ,\n",
       "       0.03677157, 0.03426135, 0.03192249, 0.0297433 , 0.02771286,\n",
       "       0.02582104, 0.02405836, 0.02241601, 0.02088578, 0.01946001,\n",
       "       0.01813156, 0.01689381, 0.01574055, 0.01466602, 0.01366484,\n",
       "       0.01273201, 0.01186285, 0.01105303, 0.01029849, 0.00959547,\n",
       "       0.00894043, 0.00833011, 0.00776145, 0.00723161, 0.00673795])"
      ]
     },
     "execution_count": 32,
     "metadata": {},
     "output_type": "execute_result"
    }
   ],
   "source": [
    "lambda_ = 1\n",
    "y = stats.expon.pdf(x, scale = 1/lambda_)\n",
    "y"
   ]
  },
  {
   "cell_type": "markdown",
   "metadata": {},
   "source": [
    "Plot the x and y values:"
   ]
  },
  {
   "cell_type": "code",
   "execution_count": 33,
   "metadata": {},
   "outputs": [
    {
     "data": {
      "text/plain": [
       "[<matplotlib.lines.Line2D at 0x120b03d1278>]"
      ]
     },
     "execution_count": 33,
     "metadata": {},
     "output_type": "execute_result"
    },
    {
     "data": {
      "image/png": "[encoded data removed]",
      "text/plain": [
       "<Figure size 432x288 with 1 Axes>"
      ]
     },
     "metadata": {
      "needs_background": "light"
     },
     "output_type": "display_data"
    }
   ],
   "source": [
    "plt.plot(x,y)"
   ]
  },
  {
   "cell_type": "markdown",
   "metadata": {},
   "source": [
    "### Sampling from the Exponential Distribution\n",
    "\n",
    "Sample 1000 values from the exponential distribution with $\\lambda = 1$, using the command:"
   ]
  },
  {
   "cell_type": "code",
   "execution_count": 35,
   "metadata": {},
   "outputs": [],
   "source": [
    "sample = np.random.exponential(scale = 1/lambda_, size = 1000)"
   ]
  },
  {
   "cell_type": "markdown",
   "metadata": {},
   "source": [
    "Plot a histogram of the sample to see its distribution: "
   ]
  },
  {
   "cell_type": "code",
   "execution_count": 36,
   "metadata": {},
   "outputs": [
    {
     "data": {
      "text/plain": [
       "<matplotlib.axes._subplots.AxesSubplot at 0x120b0408ac8>"
      ]
     },
     "execution_count": 36,
     "metadata": {},
     "output_type": "execute_result"
    },
    {
     "data": {
      "image/png": "[encoded data removed]",
      "text/plain": [
       "<Figure size 432x288 with 1 Axes>"
      ]
     },
     "metadata": {
      "needs_background": "light"
     },
     "output_type": "display_data"
    }
   ],
   "source": [
    "pd.Series(sample).hist(bins = 30)"
   ]
  },
  {
   "cell_type": "markdown",
   "metadata": {},
   "source": [
    "How does the histogram compare to the theoretical distribution (the probability density function or pdf)?\n",
    "\n",
    "### Exponentially distributed data\n",
    "\n",
    "The time between births might be exponentially distributed, but we just have the number of minutes after midnight each baby was born.  So we need to calculate the difference between the birth times.  Luckily this type of calculation is done frequently in data science and there is already a function for it."
   ]
  },
  {
   "cell_type": "code",
   "execution_count": 37,
   "metadata": {},
   "outputs": [
    {
     "data": {
      "text/plain": [
       "0       NaN\n",
       "1      59.0\n",
       "2      14.0\n",
       "3      37.0\n",
       "4      62.0\n",
       "5      68.0\n",
       "6       2.0\n",
       "7      15.0\n",
       "8       9.0\n",
       "9     157.0\n",
       "10     27.0\n",
       "11     37.0\n",
       "12      2.0\n",
       "13     55.0\n",
       "14     86.0\n",
       "15     14.0\n",
       "16      4.0\n",
       "17     40.0\n",
       "18     36.0\n",
       "19     47.0\n",
       "20      9.0\n",
       "21     61.0\n",
       "22      1.0\n",
       "23     26.0\n",
       "24     13.0\n",
       "25     28.0\n",
       "26     77.0\n",
       "27     26.0\n",
       "28     45.0\n",
       "29     25.0\n",
       "30     18.0\n",
       "31     29.0\n",
       "32     15.0\n",
       "33     38.0\n",
       "34      2.0\n",
       "35      2.0\n",
       "36     19.0\n",
       "37     27.0\n",
       "38     14.0\n",
       "39     13.0\n",
       "40     19.0\n",
       "41     54.0\n",
       "42     70.0\n",
       "43     28.0\n",
       "Name: minutes, dtype: float64"
      ]
     },
     "execution_count": 37,
     "metadata": {},
     "output_type": "execute_result"
    }
   ],
   "source": [
    "mins_btw_births = babies[\"minutes\"].diff()\n",
    "mins_btw_births"
   ]
  },
  {
   "cell_type": "markdown",
   "metadata": {},
   "source": [
    "Plot a histogram of the number of minutes between births."
   ]
  },
  {
   "cell_type": "code",
   "execution_count": 42,
   "metadata": {},
   "outputs": [
    {
     "data": {
      "text/plain": [
       "<matplotlib.axes._subplots.AxesSubplot at 0x120b0741e48>"
      ]
     },
     "execution_count": 42,
     "metadata": {},
     "output_type": "execute_result"
    },
    {
     "data": {
      "image/png": "[encoded data removed]",
      "text/plain": [
       "<Figure size 432x288 with 1 Axes>"
      ]
     },
     "metadata": {
      "needs_background": "light"
     },
     "output_type": "display_data"
    }
   ],
   "source": [
    "mins_btw_births.hist()"
   ]
  },
  {
   "cell_type": "markdown",
   "metadata": {},
   "source": [
    "Do you think the minutes between births has an exponential distribution?  Let's plot the pdf for the exponential function on top of the histogram to compare.  \n",
    "\n",
    "First, estimate $\\lambda$ by computing $\\frac{1}{\\text{mean time between births}}$:"
   ]
  },
  {
   "cell_type": "code",
   "execution_count": 44,
   "metadata": {},
   "outputs": [
    {
     "data": {
      "text/plain": [
       "0.03006993006993007"
      ]
     },
     "execution_count": 44,
     "metadata": {},
     "output_type": "execute_result"
    }
   ],
   "source": [
    "babies_lambda = 1 / mins_btw_births.mean()\n",
    "babies_lambda "
   ]
  },
  {
   "cell_type": "markdown",
   "metadata": {},
   "source": [
    "Next plot the pdf of the exponential function with that $\\lambda$ on top of your histogram (using the `density = True` parameter):"
   ]
  },
  {
   "cell_type": "code",
   "execution_count": 46,
   "metadata": {},
   "outputs": [
    {
     "data": {
      "text/plain": [
       "[<matplotlib.lines.Line2D at 0x120b07cca20>]"
      ]
     },
     "execution_count": 46,
     "metadata": {},
     "output_type": "execute_result"
    },
    {
     "data": {
      "image/png": "[encoded data removed]",
      "text/plain": [
       "<Figure size 432x288 with 1 Axes>"
      ]
     },
     "metadata": {
      "needs_background": "light"
     },
     "output_type": "display_data"
    }
   ],
   "source": [
    "mins_btw_births.hist(density = True)\n",
    "x = np.linspace(mins_btw_births.mean() - 3 * mins_btw_births.std(), mins_btw_births.mean() + 3 * mins_btw_births.std(), 100)\n",
    "y = stats.expon.pdf(x, scale = 1 / babies_lambda)\n",
    "plt.plot(x,y)"
   ]
  },
  {
   "cell_type": "markdown",
   "metadata": {},
   "source": [
    "Do you think the time between baby births follows an exponential distribution?\n",
    "- The time between baby births does follow an exponential distribution.\n",
    "\n",
    "The `scale` parameter is $1/\\lambda$ but since $\\lambda = \\frac{1}{\\text{mean time between births}}$ we could have just used the mean time between births as the scale."
   ]
  },
  {
   "cell_type": "markdown",
   "metadata": {},
   "source": [
    "### Challenges:\n",
    "- What happens if you plot the normal distribution only using 10 evenly spaces x values?\n",
    "- You can also sample from the normal distribution using the scipy library:  `sample = stats.norm.rvs(loc=mu, scale=sigma, size=1000)`. Try it.\n",
    "- Consider the green taxi trip dataset:  "
   ]
  },
  {
   "cell_type": "code",
   "execution_count": 55,
   "metadata": {},
   "outputs": [
    {
     "data": {
      "text/plain": [
       "[<matplotlib.lines.Line2D at 0x120b1cd40f0>]"
      ]
     },
     "execution_count": 55,
     "metadata": {},
     "output_type": "execute_result"
    },
    {
     "data": {
      "image/png": "[encoded data removed]",
      "text/plain": [
       "<Figure size 432x288 with 1 Axes>"
      ]
     },
     "metadata": {
      "needs_background": "light"
     },
     "output_type": "display_data"
    }
   ],
   "source": [
    "babies[\"weight\"].hist(density = True)\n",
    "x = np.linspace(babies[\"weight\"].mean() - 3 * babies[\"weight\"].std(), babies[\"weight\"].mean() + 3 * babies[\"weight\"].std(), 10)\n",
    "y = stats.norm.pdf(x, babies[\"weight\"].mean(), babies[\"weight\"].std())\n",
    "plt.plot(x,y)"
   ]
  },
  {
   "cell_type": "code",
   "execution_count": 59,
   "metadata": {},
   "outputs": [
    {
     "data": {
      "text/plain": [
       "<matplotlib.axes._subplots.AxesSubplot at 0x120b1de2048>"
      ]
     },
     "execution_count": 59,
     "metadata": {},
     "output_type": "execute_result"
    },
    {
     "data": {
      "image/png": "[encoded data removed]",
      "text/plain": [
       "<Figure size 432x288 with 1 Axes>"
      ]
     },
     "metadata": {
      "needs_background": "light"
     },
     "output_type": "display_data"
    }
   ],
   "source": [
    "sample = stats.norm.rvs(loc=mu, scale=sigma, size=1000)\n",
    "sample\n",
    "pd.Series(sample).hist(bins = 30)"
   ]
  }
 ],
 "metadata": {
  "kernelspec": {
   "display_name": "Python 3",
   "language": "python",
   "name": "python3"
  },
  "language_info": {
   "codemirror_mode": {
    "name": "ipython",
    "version": 3
   },
   "file_extension": ".py",
   "mimetype": "text/x-python",
   "name": "python",
   "nbconvert_exporter": "python",
   "pygments_lexer": "ipython3",
   "version": "3.7.3"
  }
 },
 "nbformat": 4,
 "nbformat_minor": 2
}
