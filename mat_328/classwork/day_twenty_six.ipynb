{
 "cells": [
  {
   "cell_type": "markdown",
   "metadata": {},
   "source": [
    "# Lab 26 - Permutation tests\n",
    "\n",
    "In Lab 5 we looked used confidence intervals to compare the means of two groups to determine if they were different.  In this lab, we'll use hypothesis testing to compare the means.\n",
    "\n",
    "First, we'll download the green taxi trip data for Dec. 5, 2018.\n",
    "\n",
    "The NYC Open Data datast of all 2018 green taxi trips is here: [https://data.cityofnewyork.us/Transportation/2018-Green-Taxi-Trip-Data/w7fs-fd9i](https://data.cityofnewyork.us/Transportation/2018-Green-Taxi-Trip-Data/w7fs-fd9i)\n",
    "\n",
    "The dataset contains almost 9 million rows, so we will filter the data to only be trips from Dec. 5, 2018 to make the dataset smaller.  To do this:\n",
    "- Click on the \"Filter\" button.\n",
    "- On the menu that appear, click on \"Add a New Filter Condition\".\n",
    "- Choose \"lpep_pickup_datetime\" but change the \"is\" to be \"is between\".\n",
    "- Click in the box below and a calendar will pop up. Highlight December 5, 2018.\n",
    "- Click the second box below and a calendar will pop up.  Highlight December 6, 2018.\n",
    "- It will take a few seconds (it's a large file) but the rows on the left will be filtered to be all trips with pickups between Dec. 5 2018 at 12am and Dec. 6 2018 at 12am, or all counts with pickups on Dec. 5.\n",
    "\n",
    "To download the file,\n",
    "- Click on the \"Export\" button.\n",
    "- Under \"Download\", choose \"CSV\".\n",
    "- The download will begin automatically (files are usually stored in \"Downloads\" folder).\n",
    "\n",
    "First, let's import the necessary libraries."
   ]
  },
  {
   "cell_type": "code",
   "execution_count": 1,
   "metadata": {},
   "outputs": [],
   "source": [
    "import numpy as np\n",
    "import matplotlib.pyplot as plt\n",
    "import pandas as pd\n",
    "%matplotlib inline"
   ]
  },
  {
   "cell_type": "markdown",
   "metadata": {},
   "source": [
    "### Comparing mean trip distances with 1 or more than 1 passengers\n",
    "\n",
    "Is there a difference in the mean trip distance for trips taken with only 1 passenger and trips taken with more than 1 passengers?\n",
    "\n",
    "We will test this hypothesis.\n",
    "\n",
    "#### Hypothesis testing step 1\n",
    "\n",
    "Null hypothesis: The mean trip distance for trips with only 1 passenger is the same as the mean trip distance for trips with 2 or more passengers.\n",
    "\n",
    "Alternative hypothesis:  The mean trip distance for trips with only 1 passenger is different than the mean trip distance for trips with 2 or more passengers.\n",
    "\n",
    "Before proceeding further, load the green taxi trip data into the dataframe `taxi`."
   ]
  },
  {
   "cell_type": "code",
   "execution_count": 4,
   "metadata": {},
   "outputs": [
    {
     "data": {
      "text/html": [
       "<div>\n",
       "<style scoped>\n",
       "    .dataframe tbody tr th:only-of-type {\n",
       "        vertical-align: middle;\n",
       "    }\n",
       "\n",
       "    .dataframe tbody tr th {\n",
       "        vertical-align: top;\n",
       "    }\n",
       "\n",
       "    .dataframe thead th {\n",
       "        text-align: right;\n",
       "    }\n",
       "</style>\n",
       "<table border=\"1\" class=\"dataframe\">\n",
       "  <thead>\n",
       "    <tr style=\"text-align: right;\">\n",
       "      <th></th>\n",
       "      <th>VendorID</th>\n",
       "      <th>lpep_pickup_datetime</th>\n",
       "      <th>lpep_dropoff_datetime</th>\n",
       "      <th>store_and_fwd_flag</th>\n",
       "      <th>RatecodeID</th>\n",
       "      <th>PULocationID</th>\n",
       "      <th>DOLocationID</th>\n",
       "      <th>passenger_count</th>\n",
       "      <th>trip_distance</th>\n",
       "      <th>fare_amount</th>\n",
       "      <th>extra</th>\n",
       "      <th>mta_tax</th>\n",
       "      <th>tip_amount</th>\n",
       "      <th>tolls_amount</th>\n",
       "      <th>ehail_fee</th>\n",
       "      <th>improvement_surcharge</th>\n",
       "      <th>total_amount</th>\n",
       "      <th>payment_type</th>\n",
       "      <th>trip_type</th>\n",
       "    </tr>\n",
       "  </thead>\n",
       "  <tbody>\n",
       "    <tr>\n",
       "      <th>0</th>\n",
       "      <td>2</td>\n",
       "      <td>12/06/2018 12:00:04 AM</td>\n",
       "      <td>12/06/2018 12:07:48 AM</td>\n",
       "      <td>N</td>\n",
       "      <td>1</td>\n",
       "      <td>41</td>\n",
       "      <td>244</td>\n",
       "      <td>1</td>\n",
       "      <td>1.65</td>\n",
       "      <td>7.5</td>\n",
       "      <td>0.5</td>\n",
       "      <td>0.5</td>\n",
       "      <td>0.00</td>\n",
       "      <td>0.0</td>\n",
       "      <td>NaN</td>\n",
       "      <td>0.3</td>\n",
       "      <td>8.80</td>\n",
       "      <td>2</td>\n",
       "      <td>1</td>\n",
       "    </tr>\n",
       "    <tr>\n",
       "      <th>1</th>\n",
       "      <td>2</td>\n",
       "      <td>12/06/2018 12:00:09 AM</td>\n",
       "      <td>12/06/2018 12:05:37 AM</td>\n",
       "      <td>N</td>\n",
       "      <td>1</td>\n",
       "      <td>260</td>\n",
       "      <td>82</td>\n",
       "      <td>1</td>\n",
       "      <td>0.74</td>\n",
       "      <td>5.5</td>\n",
       "      <td>0.5</td>\n",
       "      <td>0.5</td>\n",
       "      <td>0.00</td>\n",
       "      <td>0.0</td>\n",
       "      <td>NaN</td>\n",
       "      <td>0.3</td>\n",
       "      <td>6.80</td>\n",
       "      <td>2</td>\n",
       "      <td>1</td>\n",
       "    </tr>\n",
       "    <tr>\n",
       "      <th>2</th>\n",
       "      <td>2</td>\n",
       "      <td>12/06/2018 12:00:22 AM</td>\n",
       "      <td>12/06/2018 12:19:20 AM</td>\n",
       "      <td>N</td>\n",
       "      <td>1</td>\n",
       "      <td>255</td>\n",
       "      <td>198</td>\n",
       "      <td>1</td>\n",
       "      <td>4.27</td>\n",
       "      <td>15.5</td>\n",
       "      <td>0.5</td>\n",
       "      <td>0.5</td>\n",
       "      <td>3.36</td>\n",
       "      <td>0.0</td>\n",
       "      <td>NaN</td>\n",
       "      <td>0.3</td>\n",
       "      <td>20.16</td>\n",
       "      <td>1</td>\n",
       "      <td>1</td>\n",
       "    </tr>\n",
       "    <tr>\n",
       "      <th>3</th>\n",
       "      <td>2</td>\n",
       "      <td>12/06/2018 12:00:22 AM</td>\n",
       "      <td>12/06/2018 12:06:18 AM</td>\n",
       "      <td>N</td>\n",
       "      <td>1</td>\n",
       "      <td>42</td>\n",
       "      <td>41</td>\n",
       "      <td>2</td>\n",
       "      <td>1.19</td>\n",
       "      <td>6.5</td>\n",
       "      <td>0.5</td>\n",
       "      <td>0.5</td>\n",
       "      <td>0.00</td>\n",
       "      <td>0.0</td>\n",
       "      <td>NaN</td>\n",
       "      <td>0.3</td>\n",
       "      <td>7.80</td>\n",
       "      <td>1</td>\n",
       "      <td>1</td>\n",
       "    </tr>\n",
       "    <tr>\n",
       "      <th>4</th>\n",
       "      <td>2</td>\n",
       "      <td>12/06/2018 12:00:25 AM</td>\n",
       "      <td>12/06/2018 12:13:44 AM</td>\n",
       "      <td>N</td>\n",
       "      <td>1</td>\n",
       "      <td>82</td>\n",
       "      <td>56</td>\n",
       "      <td>1</td>\n",
       "      <td>2.56</td>\n",
       "      <td>11.5</td>\n",
       "      <td>0.5</td>\n",
       "      <td>0.5</td>\n",
       "      <td>0.00</td>\n",
       "      <td>0.0</td>\n",
       "      <td>NaN</td>\n",
       "      <td>0.3</td>\n",
       "      <td>12.80</td>\n",
       "      <td>2</td>\n",
       "      <td>1</td>\n",
       "    </tr>\n",
       "  </tbody>\n",
       "</table>\n",
       "</div>"
      ],
      "text/plain": [
       "   VendorID    lpep_pickup_datetime   lpep_dropoff_datetime  \\\n",
       "0         2  12/06/2018 12:00:04 AM  12/06/2018 12:07:48 AM   \n",
       "1         2  12/06/2018 12:00:09 AM  12/06/2018 12:05:37 AM   \n",
       "2         2  12/06/2018 12:00:22 AM  12/06/2018 12:19:20 AM   \n",
       "3         2  12/06/2018 12:00:22 AM  12/06/2018 12:06:18 AM   \n",
       "4         2  12/06/2018 12:00:25 AM  12/06/2018 12:13:44 AM   \n",
       "\n",
       "  store_and_fwd_flag  RatecodeID  PULocationID  DOLocationID  passenger_count  \\\n",
       "0                  N           1            41           244                1   \n",
       "1                  N           1           260            82                1   \n",
       "2                  N           1           255           198                1   \n",
       "3                  N           1            42            41                2   \n",
       "4                  N           1            82            56                1   \n",
       "\n",
       "   trip_distance  fare_amount  extra  mta_tax  tip_amount  tolls_amount  \\\n",
       "0           1.65          7.5    0.5      0.5        0.00           0.0   \n",
       "1           0.74          5.5    0.5      0.5        0.00           0.0   \n",
       "2           4.27         15.5    0.5      0.5        3.36           0.0   \n",
       "3           1.19          6.5    0.5      0.5        0.00           0.0   \n",
       "4           2.56         11.5    0.5      0.5        0.00           0.0   \n",
       "\n",
       "   ehail_fee  improvement_surcharge  total_amount  payment_type  trip_type  \n",
       "0        NaN                    0.3          8.80             2          1  \n",
       "1        NaN                    0.3          6.80             2          1  \n",
       "2        NaN                    0.3         20.16             1          1  \n",
       "3        NaN                    0.3          7.80             1          1  \n",
       "4        NaN                    0.3         12.80             2          1  "
      ]
     },
     "execution_count": 4,
     "metadata": {},
     "output_type": "execute_result"
    }
   ],
   "source": [
    "taxi = pd.read_csv(\"green_taxi.csv\")\n",
    "taxi.head()"
   ]
  },
  {
   "cell_type": "markdown",
   "metadata": {},
   "source": [
    "#### Hypothesis testing step 2\n",
    "\n",
    "Our test statistic will be the difference in mean trip distance between trips with only 1 passenger and trips with 2 or more passengers.  To calculate the test statistic for the data:\n",
    "\n",
    "1. Compute the mean trip distance when there is only 1 passenger.\n",
    "2. Compute the mean trip distance when there are 2 or more passengers.\n",
    "3. Subtract mean 1 from mean 2 and take the absolute value.\n",
    "\n",
    "Let's do step 1: compute the mean trip distance when there is only 1 passenger.\n",
    "\n",
    "<details> <summary>Hint:</summary>\n",
    "a. Use a filter to create a new dataframe containing only trips with 1 passenger.<br>\n",
    "b. Compute the mean trip distance in the new dataframe.\n",
    "</details>"
   ]
  },
  {
   "cell_type": "code",
   "execution_count": 8,
   "metadata": {},
   "outputs": [
    {
     "data": {
      "text/plain": [
       "3.4992739656210663"
      ]
     },
     "execution_count": 8,
     "metadata": {},
     "output_type": "execute_result"
    }
   ],
   "source": [
    "one_pass_filter = taxi[\"passenger_count\"] == 1\n",
    "one_pass_taxi = taxi[one_pass_filter]\n",
    "one_pass_mean = one_pass_taxi[\"trip_distance\"].mean()\n",
    "one_pass_mean"
   ]
  },
  {
   "cell_type": "markdown",
   "metadata": {},
   "source": [
    "Step 2: Compute the mean trip distance when there are 2 or more passengers."
   ]
  },
  {
   "cell_type": "code",
   "execution_count": 10,
   "metadata": {},
   "outputs": [
    {
     "data": {
      "text/plain": [
       "3.375921579851173"
      ]
     },
     "execution_count": 10,
     "metadata": {},
     "output_type": "execute_result"
    }
   ],
   "source": [
    "two_or_more_filter = taxi[\"passenger_count\"] > 1\n",
    "two_or_more_pass_taxi = taxi[two_or_more_filter]\n",
    "two_or_more_pass_mean = two_or_more_pass_taxi[\"trip_distance\"].mean()\n",
    "two_or_more_pass_mean"
   ]
  },
  {
   "cell_type": "markdown",
   "metadata": {},
   "source": [
    "Step 3: Subtract mean 1 from mean 2 and take the absolute value.\n",
    "\n",
    "This value is the test statistic for our data."
   ]
  },
  {
   "cell_type": "code",
   "execution_count": 11,
   "metadata": {},
   "outputs": [
    {
     "data": {
      "text/plain": [
       "-0.12335238576989349"
      ]
     },
     "execution_count": 11,
     "metadata": {},
     "output_type": "execute_result"
    }
   ],
   "source": [
    "two_or_more_pass_mean - one_pass_mean"
   ]
  },
  {
   "cell_type": "markdown",
   "metadata": {},
   "source": [
    "#### Hypothesis testing step 3\n",
    "Step 3 is to simulate the test statistic assuming the null hypothesis is true.\n",
    "\n",
    "We will do this by permuting (randomly changing) the passenger count data in the dataframe, without changing any other columns.  If the passenger count doesn't matter, then switching it around shouldn't change the difference in means. \n",
    "\n",
    "First let's make a new dataframe called `permuted_taxi` by loading the data from the CSV file again."
   ]
  },
  {
   "cell_type": "code",
   "execution_count": 12,
   "metadata": {},
   "outputs": [],
   "source": [
    "permuted_taxi = taxi"
   ]
  },
  {
   "cell_type": "markdown",
   "metadata": {},
   "source": [
    "The following code will permute the `passenger_count` column and then display the new dataframe:"
   ]
  },
  {
   "cell_type": "code",
   "execution_count": 27,
   "metadata": {},
   "outputs": [
    {
     "data": {
      "text/html": [
       "<div>\n",
       "<style scoped>\n",
       "    .dataframe tbody tr th:only-of-type {\n",
       "        vertical-align: middle;\n",
       "    }\n",
       "\n",
       "    .dataframe tbody tr th {\n",
       "        vertical-align: top;\n",
       "    }\n",
       "\n",
       "    .dataframe thead th {\n",
       "        text-align: right;\n",
       "    }\n",
       "</style>\n",
       "<table border=\"1\" class=\"dataframe\">\n",
       "  <thead>\n",
       "    <tr style=\"text-align: right;\">\n",
       "      <th></th>\n",
       "      <th>VendorID</th>\n",
       "      <th>lpep_pickup_datetime</th>\n",
       "      <th>lpep_dropoff_datetime</th>\n",
       "      <th>store_and_fwd_flag</th>\n",
       "      <th>RatecodeID</th>\n",
       "      <th>PULocationID</th>\n",
       "      <th>DOLocationID</th>\n",
       "      <th>passenger_count</th>\n",
       "      <th>trip_distance</th>\n",
       "      <th>fare_amount</th>\n",
       "      <th>extra</th>\n",
       "      <th>mta_tax</th>\n",
       "      <th>tip_amount</th>\n",
       "      <th>tolls_amount</th>\n",
       "      <th>ehail_fee</th>\n",
       "      <th>improvement_surcharge</th>\n",
       "      <th>total_amount</th>\n",
       "      <th>payment_type</th>\n",
       "      <th>trip_type</th>\n",
       "    </tr>\n",
       "  </thead>\n",
       "  <tbody>\n",
       "    <tr>\n",
       "      <th>0</th>\n",
       "      <td>2</td>\n",
       "      <td>12/06/2018 12:00:04 AM</td>\n",
       "      <td>12/06/2018 12:07:48 AM</td>\n",
       "      <td>N</td>\n",
       "      <td>1</td>\n",
       "      <td>41</td>\n",
       "      <td>244</td>\n",
       "      <td>1</td>\n",
       "      <td>1.65</td>\n",
       "      <td>7.5</td>\n",
       "      <td>0.5</td>\n",
       "      <td>0.5</td>\n",
       "      <td>0.00</td>\n",
       "      <td>0.0</td>\n",
       "      <td>NaN</td>\n",
       "      <td>0.3</td>\n",
       "      <td>8.80</td>\n",
       "      <td>2</td>\n",
       "      <td>1</td>\n",
       "    </tr>\n",
       "    <tr>\n",
       "      <th>1</th>\n",
       "      <td>2</td>\n",
       "      <td>12/06/2018 12:00:09 AM</td>\n",
       "      <td>12/06/2018 12:05:37 AM</td>\n",
       "      <td>N</td>\n",
       "      <td>1</td>\n",
       "      <td>260</td>\n",
       "      <td>82</td>\n",
       "      <td>1</td>\n",
       "      <td>0.74</td>\n",
       "      <td>5.5</td>\n",
       "      <td>0.5</td>\n",
       "      <td>0.5</td>\n",
       "      <td>0.00</td>\n",
       "      <td>0.0</td>\n",
       "      <td>NaN</td>\n",
       "      <td>0.3</td>\n",
       "      <td>6.80</td>\n",
       "      <td>2</td>\n",
       "      <td>1</td>\n",
       "    </tr>\n",
       "    <tr>\n",
       "      <th>2</th>\n",
       "      <td>2</td>\n",
       "      <td>12/06/2018 12:00:22 AM</td>\n",
       "      <td>12/06/2018 12:19:20 AM</td>\n",
       "      <td>N</td>\n",
       "      <td>1</td>\n",
       "      <td>255</td>\n",
       "      <td>198</td>\n",
       "      <td>5</td>\n",
       "      <td>4.27</td>\n",
       "      <td>15.5</td>\n",
       "      <td>0.5</td>\n",
       "      <td>0.5</td>\n",
       "      <td>3.36</td>\n",
       "      <td>0.0</td>\n",
       "      <td>NaN</td>\n",
       "      <td>0.3</td>\n",
       "      <td>20.16</td>\n",
       "      <td>1</td>\n",
       "      <td>1</td>\n",
       "    </tr>\n",
       "    <tr>\n",
       "      <th>3</th>\n",
       "      <td>2</td>\n",
       "      <td>12/06/2018 12:00:22 AM</td>\n",
       "      <td>12/06/2018 12:06:18 AM</td>\n",
       "      <td>N</td>\n",
       "      <td>1</td>\n",
       "      <td>42</td>\n",
       "      <td>41</td>\n",
       "      <td>1</td>\n",
       "      <td>1.19</td>\n",
       "      <td>6.5</td>\n",
       "      <td>0.5</td>\n",
       "      <td>0.5</td>\n",
       "      <td>0.00</td>\n",
       "      <td>0.0</td>\n",
       "      <td>NaN</td>\n",
       "      <td>0.3</td>\n",
       "      <td>7.80</td>\n",
       "      <td>1</td>\n",
       "      <td>1</td>\n",
       "    </tr>\n",
       "    <tr>\n",
       "      <th>4</th>\n",
       "      <td>2</td>\n",
       "      <td>12/06/2018 12:00:25 AM</td>\n",
       "      <td>12/06/2018 12:13:44 AM</td>\n",
       "      <td>N</td>\n",
       "      <td>1</td>\n",
       "      <td>82</td>\n",
       "      <td>56</td>\n",
       "      <td>1</td>\n",
       "      <td>2.56</td>\n",
       "      <td>11.5</td>\n",
       "      <td>0.5</td>\n",
       "      <td>0.5</td>\n",
       "      <td>0.00</td>\n",
       "      <td>0.0</td>\n",
       "      <td>NaN</td>\n",
       "      <td>0.3</td>\n",
       "      <td>12.80</td>\n",
       "      <td>2</td>\n",
       "      <td>1</td>\n",
       "    </tr>\n",
       "  </tbody>\n",
       "</table>\n",
       "</div>"
      ],
      "text/plain": [
       "   VendorID    lpep_pickup_datetime   lpep_dropoff_datetime  \\\n",
       "0         2  12/06/2018 12:00:04 AM  12/06/2018 12:07:48 AM   \n",
       "1         2  12/06/2018 12:00:09 AM  12/06/2018 12:05:37 AM   \n",
       "2         2  12/06/2018 12:00:22 AM  12/06/2018 12:19:20 AM   \n",
       "3         2  12/06/2018 12:00:22 AM  12/06/2018 12:06:18 AM   \n",
       "4         2  12/06/2018 12:00:25 AM  12/06/2018 12:13:44 AM   \n",
       "\n",
       "  store_and_fwd_flag  RatecodeID  PULocationID  DOLocationID  passenger_count  \\\n",
       "0                  N           1            41           244                1   \n",
       "1                  N           1           260            82                1   \n",
       "2                  N           1           255           198                5   \n",
       "3                  N           1            42            41                1   \n",
       "4                  N           1            82            56                1   \n",
       "\n",
       "   trip_distance  fare_amount  extra  mta_tax  tip_amount  tolls_amount  \\\n",
       "0           1.65          7.5    0.5      0.5        0.00           0.0   \n",
       "1           0.74          5.5    0.5      0.5        0.00           0.0   \n",
       "2           4.27         15.5    0.5      0.5        3.36           0.0   \n",
       "3           1.19          6.5    0.5      0.5        0.00           0.0   \n",
       "4           2.56         11.5    0.5      0.5        0.00           0.0   \n",
       "\n",
       "   ehail_fee  improvement_surcharge  total_amount  payment_type  trip_type  \n",
       "0        NaN                    0.3          8.80             2          1  \n",
       "1        NaN                    0.3          6.80             2          1  \n",
       "2        NaN                    0.3         20.16             1          1  \n",
       "3        NaN                    0.3          7.80             1          1  \n",
       "4        NaN                    0.3         12.80             2          1  "
      ]
     },
     "execution_count": 27,
     "metadata": {},
     "output_type": "execute_result"
    }
   ],
   "source": [
    "permuted_taxi['passenger_count'] = np.random.permutation(permuted_taxi['passenger_count'])\n",
    "permuted_taxi.head()"
   ]
  },
  {
   "cell_type": "markdown",
   "metadata": {},
   "source": [
    "Compare the first few rows of `permuted_taxi` with the first few rows of `taxi`.  Some of the `passenger_count` values should have changed.\n",
    "\n",
    "Compute the difference between mean trip distance with 1 passenger and the mean trip distance with 2 or more passengers using the `permuted_taxi` dataframe.   "
   ]
  },
  {
   "cell_type": "code",
   "execution_count": 28,
   "metadata": {},
   "outputs": [
    {
     "data": {
      "text/plain": [
       "-0.04675181441031029"
      ]
     },
     "execution_count": 28,
     "metadata": {},
     "output_type": "execute_result"
    }
   ],
   "source": [
    "one_pass_filter = permuted_taxi[\"passenger_count\"] == 1\n",
    "one_pass_taxi = permuted_taxi[one_pass_filter]\n",
    "one_pass_mean = one_pass_taxi[\"trip_distance\"].mean()\n",
    "\n",
    "\n",
    "two_or_more_filter = permuted_taxi[\"passenger_count\"] > 1\n",
    "two_or_more_pass_taxi = permuted_taxi[two_or_more_filter]\n",
    "two_or_more_pass_mean = two_or_more_pass_taxi[\"trip_distance\"].mean()\n",
    "\n",
    "two_or_more_pass_mean - one_pass_mean"
   ]
  },
  {
   "cell_type": "markdown",
   "metadata": {},
   "source": [
    "Now, let's repeat these steps (permuting the `passenger_count` column and computing the difference between the two means in the permuted dataframe) many times, storing the mean differences is a list.\n",
    "\n",
    "Remember, use a small number of iterations to test your code, so it is faster."
   ]
  },
  {
   "cell_type": "code",
   "execution_count": 38,
   "metadata": {},
   "outputs": [],
   "source": [
    "diffs = []\n",
    "\n",
    "for i in np.arange(0, 1000):\n",
    "    permuted_taxi['passenger_count'] = np.random.permutation(permuted_taxi['passenger_count'])\n",
    "    permuted_taxi.head()\n",
    "    \n",
    "    one_pass_filter = permuted_taxi[\"passenger_count\"] == 1\n",
    "    one_pass_taxi = permuted_taxi[one_pass_filter]\n",
    "    one_pass_mean = one_pass_taxi[\"trip_distance\"].mean()\n",
    "\n",
    "    two_or_more_filter = permuted_taxi[\"passenger_count\"] > 1\n",
    "    two_or_more_pass_taxi = permuted_taxi[two_or_more_filter]\n",
    "    two_or_more_pass_mean = two_or_more_pass_taxi[\"trip_distance\"].mean()\n",
    "    \n",
    "    diff = two_or_more_pass_mean - one_pass_mean\n",
    "    \n",
    "    diffs.append(diff)\n",
    "    "
   ]
  },
  {
   "cell_type": "markdown",
   "metadata": {},
   "source": [
    "<details> <summary>Hint:</summary>\n",
    "The pseudo-code is:\n",
    "<code>\n",
    "create an empty list\n",
    "loop 10,000 times:\n",
    "    randomly permute the passenger cout column\n",
    "    compute the mean trip distance for trips with only 1 passenger\n",
    "    compute the mean trip distance for trips with 2 or more passengers\n",
    "    compute the difference between the two means\n",
    "    store the difference in your list\n",
    "</code>\n",
    "</details>\n",
    "\n",
    "Graph the histogram of the differences in means that you computed assuming the null hypothesis is true."
   ]
  },
  {
   "cell_type": "code",
   "execution_count": 39,
   "metadata": {},
   "outputs": [
    {
     "data": {
      "text/plain": [
       "<matplotlib.axes._subplots.AxesSubplot at 0x20a63b4a5f8>"
      ]
     },
     "execution_count": 39,
     "metadata": {},
     "output_type": "execute_result"
    },
    {
     "data": {
      "image/png": "[encoded data removed]",
      "text/plain": [
       "<Figure size 432x288 with 1 Axes>"
      ]
     },
     "metadata": {
      "needs_background": "light"
     },
     "output_type": "display_data"
    }
   ],
   "source": [
    "diffs = pd.Series(diffs)\n",
    "diffs.hist(edgecolor = \"white\", grid = False, bins = 15)"
   ]
  },
  {
   "cell_type": "code",
   "execution_count": 42,
   "metadata": {},
   "outputs": [
    {
     "name": "stdout",
     "output_type": "stream",
     "text": [
      "Mean: -0.0005285339369829205\n",
      "95% Confidence Interval: -0.1441773231013277 - 0.1560919002873455\n"
     ]
    }
   ],
   "source": [
    "low = np.percentile(diffs, 2.5) \n",
    "high = np.percentile(diffs, 97.5)\n",
    "\n",
    "mean = diffs.mean()\n",
    "\n",
    "print(\"Mean: \" + str(mean))\n",
    "print(\"95% Confidence Interval: \" + str(low) + \" - \" + str(high))"
   ]
  },
  {
   "cell_type": "markdown",
   "metadata": {},
   "source": [
    "#### Hypothesis testing step 4\n",
    "Compare the difference in means from the data with the histogram.  Does your data test statistic look like it comes from the histogram distribution?\n",
    "\n",
    "__My data test statistics falls within the 95% Confidence Interval and looks like it comes from the histrogram distribution__\n",
    "\n",
    "Reject or fail to reject the null hypothesis.\n",
    "\n",
    "__I fail to reject the null hypothesis as a result.__"
   ]
  }
 ],
 "metadata": {
  "kernelspec": {
   "display_name": "Python 3",
   "language": "python",
   "name": "python3"
  },
  "language_info": {
   "codemirror_mode": {
    "name": "ipython",
    "version": 3
   },
   "file_extension": ".py",
   "mimetype": "text/x-python",
   "name": "python",
   "nbconvert_exporter": "python",
   "pygments_lexer": "ipython3",
   "version": "3.7.3"
  }
 },
 "nbformat": 4,
 "nbformat_minor": 2
}
