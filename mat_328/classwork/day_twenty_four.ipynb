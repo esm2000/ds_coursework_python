{
 "cells": [
  {
   "cell_type": "code",
   "execution_count": 1,
   "metadata": {},
   "outputs": [],
   "source": [
    "import pandas as pd\n",
    "import matplotlib.pyplot as plt\n",
    "from mpl_toolkits import mplot3d\n",
    "import seaborn as sns\n",
    "import numpy as np\n",
    "\n",
    "import scipy.cluster.hierarchy as shc\n",
    "\n",
    "from sklearn.datasets.samples_generator import make_blobs\n",
    "from sklearn.datasets.samples_generator import make_circles\n",
    "from sklearn.datasets.samples_generator import make_moons\n",
    "\n",
    "from sklearn.cluster import AgglomerativeClustering\n",
    "from sklearn.cluster import KMeans\n",
    "\n",
    "from sklearn.metrics import confusion_matrix\n",
    "from sklearn.metrics import silhouette_score\n",
    "from sklearn.metrics import silhouette_samples\n",
    "\n",
    "from sklearn.decomposition import PCA\n",
    "\n",
    "from sklearn import datasets\n",
    "\n",
    "%matplotlib inline\n",
    "pd.set_option(\"display.max_columns\", None)"
   ]
  },
  {
   "cell_type": "markdown",
   "metadata": {},
   "source": [
    "# Lab 24 - Simulated clusters\n",
    "\n",
    "The following code will create 3 clusters in 3-dimensional space using 100 data points.  The coordinates of the data points are given in X and which cluster they belong to is given in y."
   ]
  },
  {
   "cell_type": "code",
   "execution_count": 2,
   "metadata": {},
   "outputs": [],
   "source": [
    "X, y = make_blobs(n_samples=100, centers=3, n_features=3)"
   ]
  },
  {
   "cell_type": "markdown",
   "metadata": {},
   "source": [
    "Display X."
   ]
  },
  {
   "cell_type": "code",
   "execution_count": 3,
   "metadata": {},
   "outputs": [
    {
     "data": {
      "text/plain": [
       "array([[  3.8255834 , -10.16563119,   2.77051423],\n",
       "       [  2.24373112, -10.59809887,   1.41148125],\n",
       "       [ 10.41884767,   5.17670494,   7.86923758],\n",
       "       [  0.91659934,  -9.80578092,   1.66217889],\n",
       "       [  6.04314065,  -2.18524613,   1.62938247],\n",
       "       [  0.48624047, -10.88772576,   3.17590115],\n",
       "       [ 10.06702466,   5.86130563,   9.10394328],\n",
       "       [  1.92052099,  -9.6337989 ,   2.74497478],\n",
       "       [  3.84406565,  -9.34399272,   1.98992597],\n",
       "       [  2.81469309,  -3.03269407,   3.56301577],\n",
       "       [  6.33279913,  -1.39067544,   4.63443165],\n",
       "       [  6.93511382,  -2.62506984,   3.32863717],\n",
       "       [  2.72878243, -10.58964177,   1.70581471],\n",
       "       [ 10.84957097,   5.73620818,   7.58990916],\n",
       "       [ 10.49292426,   6.44847434,   6.06113941],\n",
       "       [  4.94016526,  -1.81701567,   4.37861062],\n",
       "       [  3.69199272,  -0.77728142,   3.63049551],\n",
       "       [  3.59534078, -10.2993718 ,   2.25302926],\n",
       "       [  0.09826702,  -9.28974676,   1.78598465],\n",
       "       [  4.62653013,  -2.38116199,   4.83274958],\n",
       "       [  2.95951784,  -7.99164975,   4.27426911],\n",
       "       [  6.64553714,  -1.45425724,   5.40387508],\n",
       "       [ 10.2903631 ,   7.06998959,   7.63226129],\n",
       "       [  2.7384271 , -10.9457083 ,   1.01297626],\n",
       "       [  5.03610559,  -1.2677172 ,   5.20039049],\n",
       "       [  2.59651192,  -9.47314731,   1.50966166],\n",
       "       [  6.23447342,  -1.30908148,   3.41625089],\n",
       "       [  3.1912995 , -11.31221452,   0.65972923],\n",
       "       [  4.24614002,  -1.00346895,   7.00621127],\n",
       "       [  0.46032251,  -9.88593594,   3.61705314],\n",
       "       [  5.08805524,  -2.13509148,   3.27922894],\n",
       "       [  9.62686948,   8.30526437,   8.78883212],\n",
       "       [  9.01182737,   6.57044504,   7.18429012],\n",
       "       [  5.19553037,   0.44563395,   5.23012536],\n",
       "       [  3.29928812, -10.77335182,   2.86226458],\n",
       "       [  9.06098615,   6.04872699,   7.86632405],\n",
       "       [  6.0074271 ,  -0.80745329,   5.4284267 ],\n",
       "       [  5.9577779 ,  -1.26062971,   3.428445  ],\n",
       "       [  2.7188479 ,  -9.21467865,   1.35254837],\n",
       "       [ 11.41532699,   7.24900119,   8.29843949],\n",
       "       [  8.47536039,   7.27660272,   8.51380622],\n",
       "       [  5.18741289,  -0.71974881,   4.34941514],\n",
       "       [ 10.07592105,   6.93684597,   7.92233782],\n",
       "       [  4.88679275,  -2.91019611,   4.83500855],\n",
       "       [  0.6567893 , -11.75960977,   1.60590349],\n",
       "       [  9.11085895,   6.80732736,   8.13293759],\n",
       "       [  4.7700776 ,  -1.48206734,   4.0917348 ],\n",
       "       [  9.54911745,   6.34219537,  10.74011128],\n",
       "       [  3.35921257,  -0.68682002,   4.00160029],\n",
       "       [  1.94060903,  -9.33309363,   1.90284954],\n",
       "       [  2.3241502 ,  -9.35502232,   0.86516598],\n",
       "       [  6.10300619,   1.23290532,   3.58609249],\n",
       "       [ 10.25980635,   6.97202906,   8.89420732],\n",
       "       [  0.42462273, -10.98490169,   3.21512563],\n",
       "       [  2.28296572, -10.38118614,   1.96428842],\n",
       "       [  9.4137897 ,   5.10596107,   8.05709195],\n",
       "       [  4.28224703,  -2.18181267,   2.86067932],\n",
       "       [ 10.21191751,   7.13366155,   8.54969955],\n",
       "       [  3.807304  ,  -2.07981031,   3.19676068],\n",
       "       [ 10.4580397 ,   5.91619864,   8.3643853 ],\n",
       "       [ 11.54286951,   5.44954499,   9.71002853],\n",
       "       [  4.66990609,  -1.14166389,   5.04359823],\n",
       "       [  8.91819194,   5.65620068,   7.03305079],\n",
       "       [  4.22307829,  -2.67310183,   2.62399058],\n",
       "       [  5.74822367,   0.20244677,   3.89829475],\n",
       "       [  6.23538692,  -1.09042132,   4.06619454],\n",
       "       [ 11.34410336,   5.13052091,   9.88212275],\n",
       "       [  9.67579736,   5.86835995,   9.06876673],\n",
       "       [  4.58423176,  -1.69233955,   3.31813894],\n",
       "       [  7.71897929,  -1.13967296,   4.2137391 ],\n",
       "       [ 10.13347744,   5.38528733,   7.87027697],\n",
       "       [  1.38611689, -10.45832386,   2.16962314],\n",
       "       [ 10.76096788,   8.26566336,   8.98677028],\n",
       "       [  3.19348894,  -4.26556702,   3.55655524],\n",
       "       [ 10.1138734 ,   4.85538154,   6.75894906],\n",
       "       [  9.52118528,   7.23940071,   8.9965069 ],\n",
       "       [  5.33840947,  -1.99420308,   5.91520611],\n",
       "       [  1.83153817, -11.41508631,   2.00337607],\n",
       "       [  6.54913961,  -1.95554465,   3.89073814],\n",
       "       [  1.01221292,  -9.31042208,   2.62849112],\n",
       "       [  9.77734598,   5.84985039,   9.08376153],\n",
       "       [  2.47935963,  -8.73618162,   1.81248082],\n",
       "       [  1.53473616,  -8.94832466,   1.86717296],\n",
       "       [  1.42371519,  -9.84771513,   2.91069036],\n",
       "       [  4.62542857,  -1.93317077,   2.10858311],\n",
       "       [  0.57142135, -11.37647339,   2.85169093],\n",
       "       [  4.09475489,  -8.64057663,   0.89592638],\n",
       "       [  1.11623103, -10.12659959,   1.2699232 ],\n",
       "       [  5.43732732,  -0.51735322,   1.71384313],\n",
       "       [ 11.41846843,   6.52670633,   9.27260673],\n",
       "       [  3.66780276,  -9.16239526,   1.37706454],\n",
       "       [  5.76624731,  -0.22374552,   5.39516403],\n",
       "       [  8.93065104,   6.24598704,   8.21004474],\n",
       "       [  9.71123001,   6.37598966,   7.24389674],\n",
       "       [  9.45895906,   5.09573519,   8.66544978],\n",
       "       [  3.28622481, -10.28806675,   2.9647756 ],\n",
       "       [ 10.79121191,   5.14085001,   7.50785432],\n",
       "       [  2.64690314,  -9.30262275,   1.34439748],\n",
       "       [  9.94528719,   5.42030605,   7.63046298],\n",
       "       [  8.4430332 ,   7.60527202,   9.02508483]])"
      ]
     },
     "execution_count": 3,
     "metadata": {},
     "output_type": "execute_result"
    }
   ],
   "source": [
    "X"
   ]
  },
  {
   "cell_type": "markdown",
   "metadata": {},
   "source": [
    "Display y."
   ]
  },
  {
   "cell_type": "code",
   "execution_count": 4,
   "metadata": {},
   "outputs": [
    {
     "data": {
      "text/plain": [
       "array([1, 1, 2, 1, 0, 1, 2, 1, 1, 0, 0, 0, 1, 2, 2, 0, 0, 1, 1, 0, 1, 0,\n",
       "       2, 1, 0, 1, 0, 1, 0, 1, 0, 2, 2, 0, 1, 2, 0, 0, 1, 2, 2, 0, 2, 0,\n",
       "       1, 2, 0, 2, 0, 1, 1, 0, 2, 1, 1, 2, 0, 2, 0, 2, 2, 0, 2, 0, 0, 0,\n",
       "       2, 2, 0, 0, 2, 1, 2, 0, 2, 2, 0, 1, 0, 1, 2, 1, 1, 1, 0, 1, 1, 1,\n",
       "       0, 2, 1, 0, 2, 2, 2, 1, 2, 1, 2, 2])"
      ]
     },
     "execution_count": 4,
     "metadata": {},
     "output_type": "execute_result"
    }
   ],
   "source": [
    "y"
   ]
  },
  {
   "cell_type": "markdown",
   "metadata": {},
   "source": [
    "Visualize the clusters in 2 dimensions using PCA.  First create a PCA object and find the new X coordinatese in 2 dimensions."
   ]
  },
  {
   "cell_type": "code",
   "execution_count": 5,
   "metadata": {},
   "outputs": [],
   "source": [
    "pca = PCA(n_components=2)\n",
    "pca.fit(X)\n",
    "X_rotated = pca.transform(X)"
   ]
  },
  {
   "cell_type": "markdown",
   "metadata": {},
   "source": [
    "Create a new dataframe containing the new X coordinates and a column with the cluster number."
   ]
  },
  {
   "cell_type": "code",
   "execution_count": 8,
   "metadata": {},
   "outputs": [
    {
     "data": {
      "text/html": [
       "<div>\n",
       "<style scoped>\n",
       "    .dataframe tbody tr th:only-of-type {\n",
       "        vertical-align: middle;\n",
       "    }\n",
       "\n",
       "    .dataframe tbody tr th {\n",
       "        vertical-align: top;\n",
       "    }\n",
       "\n",
       "    .dataframe thead th {\n",
       "        text-align: right;\n",
       "    }\n",
       "</style>\n",
       "<table border=\"1\" class=\"dataframe\">\n",
       "  <thead>\n",
       "    <tr style=\"text-align: right;\">\n",
       "      <th></th>\n",
       "      <th>PC1</th>\n",
       "      <th>PC2</th>\n",
       "      <th>cluster</th>\n",
       "    </tr>\n",
       "  </thead>\n",
       "  <tbody>\n",
       "    <tr>\n",
       "      <th>0</th>\n",
       "      <td>-8.629208</td>\n",
       "      <td>-1.784229</td>\n",
       "      <td>1</td>\n",
       "    </tr>\n",
       "    <tr>\n",
       "      <th>1</th>\n",
       "      <td>-10.098456</td>\n",
       "      <td>-0.338461</td>\n",
       "      <td>1</td>\n",
       "    </tr>\n",
       "    <tr>\n",
       "      <th>2</th>\n",
       "      <td>8.799408</td>\n",
       "      <td>-0.780163</td>\n",
       "      <td>2</td>\n",
       "    </tr>\n",
       "    <tr>\n",
       "      <th>3</th>\n",
       "      <td>-9.892453</td>\n",
       "      <td>0.331062</td>\n",
       "      <td>1</td>\n",
       "    </tr>\n",
       "    <tr>\n",
       "      <th>4</th>\n",
       "      <td>-1.314898</td>\n",
       "      <td>2.192864</td>\n",
       "      <td>0</td>\n",
       "    </tr>\n",
       "  </tbody>\n",
       "</table>\n",
       "</div>"
      ],
      "text/plain": [
       "         PC1       PC2  cluster\n",
       "0  -8.629208 -1.784229        1\n",
       "1 -10.098456 -0.338461        1\n",
       "2   8.799408 -0.780163        2\n",
       "3  -9.892453  0.331062        1\n",
       "4  -1.314898  2.192864        0"
      ]
     },
     "execution_count": 8,
     "metadata": {},
     "output_type": "execute_result"
    }
   ],
   "source": [
    "X_rotated_df = pd.DataFrame(X_rotated, columns = [\"PC1\",\"PC2\"])\n",
    "X_rotated_df[\"cluster\"] = y\n",
    "X_rotated_df.head()"
   ]
  },
  {
   "cell_type": "markdown",
   "metadata": {},
   "source": [
    "Use a scatter plot to visualize the cluster in 2 dimensions."
   ]
  },
  {
   "cell_type": "code",
   "execution_count": 28,
   "metadata": {},
   "outputs": [
    {
     "data": {
      "text/plain": [
       "(-10, 10)"
      ]
     },
     "execution_count": 28,
     "metadata": {},
     "output_type": "execute_result"
    },
    {
     "data": {
      "image/png": "[encoded data removed]",
      "text/plain": [
       "<Figure size 430.125x360 with 1 Axes>"
      ]
     },
     "metadata": {
      "needs_background": "light"
     },
     "output_type": "display_data"
    }
   ],
   "source": [
    "sns.relplot(x = \"PC1\", y = \"PC2\", hue = \"cluster\", data = X_rotated_df)\n",
    "\n",
    "plt.ylim(-10, 10)"
   ]
  },
  {
   "cell_type": "markdown",
   "metadata": {},
   "source": [
    "Run k-means clustering to predict the clusters."
   ]
  },
  {
   "cell_type": "code",
   "execution_count": 24,
   "metadata": {},
   "outputs": [
    {
     "data": {
      "text/plain": [
       "array([2, 1, 3, 2, 2, 1, 2, 0, 3, 2, 3, 0, 0, 2, 1, 2, 2, 1, 2, 3, 1, 0,\n",
       "       0, 0, 1, 2, 2, 1, 0, 0, 3, 1, 2, 3, 3, 2, 3, 2, 1, 1, 2, 3, 1, 1,\n",
       "       3, 2, 2, 1, 3, 2, 1, 0, 0, 1, 0, 0, 2, 3, 3, 0, 2, 1, 3, 2, 3, 0,\n",
       "       3, 3, 1, 3, 1, 3, 3, 2, 3, 1, 0, 2, 3, 0, 3, 3, 2, 3, 3, 2, 3, 1,\n",
       "       2, 0, 0, 2, 2, 0, 1, 2, 1, 2, 0, 1])"
      ]
     },
     "execution_count": 24,
     "metadata": {},
     "output_type": "execute_result"
    }
   ],
   "source": [
    "from sklearn.preprocessing import MinMaxScaler\n",
    "scaler = MinMaxScaler(feature_range=(0, 1))\n",
    "\n",
    "\n",
    "kmeans = KMeans(n_clusters=4, random_state=0)\n",
    "kmeans_clusters = kmeans.fit_predict(X)\n",
    "kmeans_clusters"
   ]
  },
  {
   "cell_type": "markdown",
   "metadata": {},
   "source": [
    "Store the predicted cluster in the dataframe you created."
   ]
  },
  {
   "cell_type": "code",
   "execution_count": 25,
   "metadata": {},
   "outputs": [],
   "source": [
    "X_rotated_df[\"kmeans_clusters\"] = kmeans_clusters"
   ]
  },
  {
   "cell_type": "markdown",
   "metadata": {},
   "source": [
    "Compute the confusion matrix between the actual and predicted values.  How accurate was k-means?"
   ]
  },
  {
   "cell_type": "code",
   "execution_count": 26,
   "metadata": {},
   "outputs": [
    {
     "data": {
      "text/plain": [
       "array([[ 6,  7,  7,  0],\n",
       "       [ 4,  9, 10,  0],\n",
       "       [12, 10,  8,  0],\n",
       "       [12,  7,  8,  0]], dtype=int64)"
      ]
     },
     "execution_count": 26,
     "metadata": {},
     "output_type": "execute_result"
    }
   ],
   "source": [
    "confusion_matrix(X_rotated_df[\"kmeans_clusters\"], X_rotated_df[\"cluster\"])"
   ]
  },
  {
   "cell_type": "markdown",
   "metadata": {},
   "source": [
    "__(6 + 9 + 8 + 0) / (6 + 7 + 7 + 4 + 9 + 10 + 12 + 10 + 8 + 12 + 7 + 8) = 23 / 100 = 23%__"
   ]
  },
  {
   "cell_type": "markdown",
   "metadata": {},
   "source": [
    "What happens to the above analysis as you increase the number of features?"
   ]
  },
  {
   "cell_type": "markdown",
   "metadata": {},
   "source": [
    "What happens to the above analysis if you use 3 features, but increase the number of clusters?"
   ]
  },
  {
   "cell_type": "markdown",
   "metadata": {},
   "source": [
    "What happens if you increase both the number of features and the number of clusters?"
   ]
  },
  {
   "cell_type": "markdown",
   "metadata": {},
   "source": [
    "The following method also simulates data.  What kind of data is it?  Hint: try looking at the data and plotting it"
   ]
  },
  {
   "cell_type": "code",
   "execution_count": 23,
   "metadata": {},
   "outputs": [
    {
     "data": {
      "text/plain": [
       "[<matplotlib.lines.Line2D at 0x219f733bbe0>,\n",
       " <matplotlib.lines.Line2D at 0x219f733bcf8>]"
      ]
     },
     "execution_count": 23,
     "metadata": {},
     "output_type": "execute_result"
    },
    {
     "data": {
      "image/png": "[encoded data removed]",
      "text/plain": [
       "<Figure size 432x288 with 1 Axes>"
      ]
     },
     "metadata": {
      "needs_background": "light"
     },
     "output_type": "display_data"
    }
   ],
   "source": [
    "X, y = make_moons(noise = 0.05)\n",
    "\n",
    "plt.plot(X, y, '.b')\n",
    "# must be categorical data"
   ]
  },
  {
   "cell_type": "markdown",
   "metadata": {},
   "source": [
    "Run k-means clustering to predict clusters."
   ]
  },
  {
   "cell_type": "code",
   "execution_count": 29,
   "metadata": {},
   "outputs": [
    {
     "data": {
      "text/plain": [
       "array([1, 0, 1, 1, 1, 0, 1, 1, 0, 1, 0, 1, 1, 1, 0, 1, 1, 0, 1, 0, 0, 1,\n",
       "       1, 1, 0, 1, 0, 0, 1, 1, 1, 0, 1, 0, 1, 1, 1, 1, 0, 0, 1, 0, 0, 0,\n",
       "       1, 0, 1, 0, 0, 0, 0, 1, 1, 0, 1, 1, 1, 1, 0, 1, 1, 0, 0, 1, 0, 1,\n",
       "       0, 1, 0, 0, 0, 0, 0, 1, 0, 0, 1, 1, 0, 1, 0, 0, 1, 0, 0, 1, 0, 0,\n",
       "       1, 1, 1, 0, 1, 1, 0, 1, 0, 1, 1, 0])"
      ]
     },
     "execution_count": 29,
     "metadata": {},
     "output_type": "execute_result"
    }
   ],
   "source": [
    "kmeans = KMeans(n_clusters=2, random_state=0)\n",
    "kmeans_clusters = kmeans.fit_predict(X)\n",
    "kmeans_clusters"
   ]
  },
  {
   "cell_type": "markdown",
   "metadata": {},
   "source": [
    "How accurate is k-means cluster on this dataset?"
   ]
  },
  {
   "cell_type": "code",
   "execution_count": 30,
   "metadata": {},
   "outputs": [
    {
     "data": {
      "text/plain": [
       "array([[35, 15],\n",
       "       [12, 38]], dtype=int64)"
      ]
     },
     "execution_count": 30,
     "metadata": {},
     "output_type": "execute_result"
    }
   ],
   "source": [
    "confusion_matrix(y, kmeans_clusters)\n",
    "\n",
    "\n",
    "# (35 + 38) / (35 + 38 + 12 + 15) = 73 / 100 = 73%"
   ]
  },
  {
   "cell_type": "markdown",
   "metadata": {},
   "source": [
    "What happens to the accuracy if you increase the noise parameter?"
   ]
  },
  {
   "cell_type": "code",
   "execution_count": 33,
   "metadata": {},
   "outputs": [
    {
     "data": {
      "text/plain": [
       "array([[37, 13],\n",
       "       [ 8, 42]], dtype=int64)"
      ]
     },
     "execution_count": 33,
     "metadata": {},
     "output_type": "execute_result"
    }
   ],
   "source": [
    "X, y = make_moons(noise = 0.20)\n",
    "\n",
    "kmeans = KMeans(n_clusters=2, random_state=0)\n",
    "kmeans_clusters = kmeans.fit_predict(X)\n",
    "kmeans_clusters\n",
    "\n",
    "confusion_matrix(y, kmeans_clusters)\n",
    "\n",
    "\n",
    "# (37 + 42) / (37 + 42 + 13 + 8) = 79 / 100 = 79%\n",
    "# the acurracy improves"
   ]
  },
  {
   "cell_type": "markdown",
   "metadata": {},
   "source": [
    "How does hierarchical clustering perform on the above data sets? "
   ]
  },
  {
   "cell_type": "code",
   "execution_count": 35,
   "metadata": {},
   "outputs": [
    {
     "data": {
      "text/plain": [
       "array([[17, 33],\n",
       "       [50,  0]], dtype=int64)"
      ]
     },
     "execution_count": 35,
     "metadata": {},
     "output_type": "execute_result"
    }
   ],
   "source": [
    "X, y = make_moons(noise = 0.05)\n",
    "\n",
    "cluster = AgglomerativeClustering(n_clusters=2, affinity='euclidean', linkage='ward')  \n",
    "clusters = cluster.fit_predict(X)\n",
    "clusters\n",
    "\n",
    "confusion_matrix(y, clusters)\n",
    "\n",
    "# 17%, hierarchial clustering performs worse on the above datset"
   ]
  },
  {
   "cell_type": "markdown",
   "metadata": {},
   "source": [
    "There is also a `make_circles()` function.  What does it do?  The documentation is [here](https://scikit-learn.org/stable/modules/generated/sklearn.datasets.make_circles.html#sklearn.datasets.make_circles)"
   ]
  },
  {
   "cell_type": "code",
   "execution_count": null,
   "metadata": {
    "collapsed": true
   },
   "outputs": [],
   "source": []
  }
 ],
 "metadata": {
  "kernelspec": {
   "display_name": "Python 3",
   "language": "python",
   "name": "python3"
  },
  "language_info": {
   "codemirror_mode": {
    "name": "ipython",
    "version": 3
   },
   "file_extension": ".py",
   "mimetype": "text/x-python",
   "name": "python",
   "nbconvert_exporter": "python",
   "pygments_lexer": "ipython3",
   "version": "3.7.3"
  }
 },
 "nbformat": 4,
 "nbformat_minor": 2
}
