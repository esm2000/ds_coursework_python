{
 "cells": [
  {
   "cell_type": "markdown",
   "metadata": {},
   "source": [
    "# Assignment 2 - groupby, parametric and non-parametric distributions\n",
    "\n",
    "This assignment uses the 2018 Green Taxi Trip data filtered to only include trips from Sept. 24, 2018.  Download the file from Blackboard.  The original unfiltered dataset is available at [https://data.cityofnewyork.us/Transportation/2018-Green-Taxi-Trip-Data/w7fs-fd9i](https://data.cityofnewyork.us/Transportation/2018-Green-Taxi-Trip-Data/w7fs-fd9i).\n",
    "\n",
    "Note:  To convert the `lpep_pickup_datetime` column to a `datetime` object, add the parameter `parse_dates = [\"lpep_pickup_datetime\"]` to `read_csv()`.  \n",
    "ex. `taxi = pd.read_csv(\"taxi.csv\", parse_dates = [\"lpep_pickup_datetime\"])`\n",
    "Unfortunately I don't know why we have to use a different method for dates here, but the one used in the Labs does not work.\n",
    "\n",
    "All plots should have an appropriate title and axis labels.\n",
    "\n",
    "1. What is the mean trip distance for each possible number of passengers?  For what number of passengers is the mean trip distance the longest? \n",
    "2. What is the median trip distance for each hour (0 - 23)?  For what time of day is the median trip distance longest?  Why do you think that might be?  (There is no right or wrong answer to this last question.)\n",
    "3. Plot a Seaborn relplot of the relationship between trip distance and total amount paid, with the point colored by the toll amount.  What do you notice about the relationship between trip distance and total amount paid?  Is there any relationship between the amount of tolls paid and the trip distance and/or total amount paid?\n",
    "4.  For this question, only consider taxi trips of 30 miles or less.  Fit an exponential distribution to the trip distance data.  What is lambda?  Plot this exponential distribution over a histogram of the trip distance data.  Do you think the exponential distribution is a good model or estimate of the actual trip distance data?\n",
    "<details> <summary>Hint:</summary>\n",
    "There are several steps to this question:\n",
    "- create a new data only containing taxi trips 30 miles or less\n",
    "- estimate lambda using the mean trip distance\n",
    "- compute x and y coordinates for the exponential distribution using the estimated lambda (or just the mean directly)\n",
    "- plot the exponential distribution over the histogram of the trip distances\n",
    "</details>\n",
    "5.  a.  Using the full taxi dataset, take 1000 samples with replacement and compute the mean trip distance of each sample.\n",
    "\n",
    "    b.  Plot a histogram of this sampling distrbution of sample means.  What shape does it have?  \n",
    "\n",
    "    c.  Estimate the normal distribution that fits (best matches) the sample means, and plot the histogram again with a line showing this normal distribution.  Do you think this histogram was sampled from this normal distribution?\n",
    "\n",
    "    d.  According to the Central Limit Theorem, the sampling distribution of the sample means should be a normal distribution with mean equal to the mean of the population and standard deviation equal to the standard deviation of the population divided by the square root of the size of the samples.  Since our data set is very large, we will assume the mean and standard deviation of the population are the same as the mean and standard deviation of the sample (our taxi data).  Redraw the histogram and normal distribution from step c, adding a line for the normal distribution predicted by the Central Limit Theorem.  How close is the normal distribution predicted by the Central Limit Theorem to the normal distribution we estimated (fit) in step c?\n",
    "6. a. Compute the 95% confidence interval for the mean trip distance for trips with only 1 passenger.\n",
    "\n",
    "    b. Compute the 95% confidence interval for the mean trip distance for trips with only 2 passengers.\n",
    "    \n",
    "    c.  Can we conclude that the mean trip distance is different when there is 1 passenger compared to when there are 2 passengers?  Why or why not?"
   ]
  },
  {
   "cell_type": "markdown",
   "metadata": {},
   "source": [
    "1. What is the mean trip distance for each possible number of passengers?  For what number of passengers is the mean trip distance the longest? "
   ]
  },
  {
   "cell_type": "code",
   "execution_count": 90,
   "metadata": {},
   "outputs": [],
   "source": [
    "# import libraries\n",
    "import pandas as pd\n",
    "import numpy as np\n",
    "import seaborn as sns\n",
    "import statsmodels.formula.api as smf\n",
    "import scipy.stats as stats\n",
    "import matplotlib.pyplot as plt\n",
    "%matplotlib inline\n",
    "\n",
    "# load in dataset\n",
    "pd.set_option(\"display.max_columns\", None)\n",
    "green_taxi = pd.read_csv(\"green_taxi.csv\", parse_dates = [\"lpep_pickup_datetime\"])"
   ]
  },
  {
   "cell_type": "code",
   "execution_count": 21,
   "metadata": {},
   "outputs": [
    {
     "data": {
      "text/html": [
       "<div>\n",
       "<style scoped>\n",
       "    .dataframe tbody tr th:only-of-type {\n",
       "        vertical-align: middle;\n",
       "    }\n",
       "\n",
       "    .dataframe tbody tr th {\n",
       "        vertical-align: top;\n",
       "    }\n",
       "\n",
       "    .dataframe thead th {\n",
       "        text-align: right;\n",
       "    }\n",
       "</style>\n",
       "<table border=\"1\" class=\"dataframe\">\n",
       "  <thead>\n",
       "    <tr style=\"text-align: right;\">\n",
       "      <th></th>\n",
       "      <th>VendorID</th>\n",
       "      <th>lpep_pickup_datetime</th>\n",
       "      <th>lpep_dropoff_datetime</th>\n",
       "      <th>store_and_fwd_flag</th>\n",
       "      <th>RatecodeID</th>\n",
       "      <th>PULocationID</th>\n",
       "      <th>DOLocationID</th>\n",
       "      <th>passenger_count</th>\n",
       "      <th>trip_distance</th>\n",
       "      <th>fare_amount</th>\n",
       "      <th>extra</th>\n",
       "      <th>mta_tax</th>\n",
       "      <th>tip_amount</th>\n",
       "      <th>tolls_amount</th>\n",
       "      <th>ehail_fee</th>\n",
       "      <th>improvement_surcharge</th>\n",
       "      <th>total_amount</th>\n",
       "      <th>payment_type</th>\n",
       "      <th>trip_type</th>\n",
       "    </tr>\n",
       "  </thead>\n",
       "  <tbody>\n",
       "    <tr>\n",
       "      <th>0</th>\n",
       "      <td>2</td>\n",
       "      <td>2018-09-24 00:00:03</td>\n",
       "      <td>09/24/2018 12:12:18 AM</td>\n",
       "      <td>N</td>\n",
       "      <td>1</td>\n",
       "      <td>83</td>\n",
       "      <td>56</td>\n",
       "      <td>2</td>\n",
       "      <td>2.38</td>\n",
       "      <td>10.5</td>\n",
       "      <td>0.5</td>\n",
       "      <td>0.5</td>\n",
       "      <td>0.00</td>\n",
       "      <td>0.0</td>\n",
       "      <td>NaN</td>\n",
       "      <td>0.3</td>\n",
       "      <td>11.80</td>\n",
       "      <td>1</td>\n",
       "      <td>1</td>\n",
       "    </tr>\n",
       "    <tr>\n",
       "      <th>1</th>\n",
       "      <td>2</td>\n",
       "      <td>2018-09-24 00:00:11</td>\n",
       "      <td>09/24/2018 12:04:28 AM</td>\n",
       "      <td>N</td>\n",
       "      <td>1</td>\n",
       "      <td>7</td>\n",
       "      <td>179</td>\n",
       "      <td>1</td>\n",
       "      <td>0.97</td>\n",
       "      <td>5.0</td>\n",
       "      <td>0.5</td>\n",
       "      <td>0.5</td>\n",
       "      <td>1.26</td>\n",
       "      <td>0.0</td>\n",
       "      <td>NaN</td>\n",
       "      <td>0.3</td>\n",
       "      <td>7.56</td>\n",
       "      <td>1</td>\n",
       "      <td>1</td>\n",
       "    </tr>\n",
       "    <tr>\n",
       "      <th>2</th>\n",
       "      <td>2</td>\n",
       "      <td>2018-09-24 00:00:15</td>\n",
       "      <td>09/24/2018 12:06:38 AM</td>\n",
       "      <td>N</td>\n",
       "      <td>1</td>\n",
       "      <td>260</td>\n",
       "      <td>129</td>\n",
       "      <td>1</td>\n",
       "      <td>1.21</td>\n",
       "      <td>6.5</td>\n",
       "      <td>0.5</td>\n",
       "      <td>0.5</td>\n",
       "      <td>0.00</td>\n",
       "      <td>0.0</td>\n",
       "      <td>NaN</td>\n",
       "      <td>0.3</td>\n",
       "      <td>7.80</td>\n",
       "      <td>2</td>\n",
       "      <td>1</td>\n",
       "    </tr>\n",
       "    <tr>\n",
       "      <th>3</th>\n",
       "      <td>2</td>\n",
       "      <td>2018-09-24 00:00:19</td>\n",
       "      <td>09/24/2018 12:06:18 AM</td>\n",
       "      <td>N</td>\n",
       "      <td>1</td>\n",
       "      <td>7</td>\n",
       "      <td>223</td>\n",
       "      <td>1</td>\n",
       "      <td>1.34</td>\n",
       "      <td>6.5</td>\n",
       "      <td>0.5</td>\n",
       "      <td>0.5</td>\n",
       "      <td>0.00</td>\n",
       "      <td>0.0</td>\n",
       "      <td>NaN</td>\n",
       "      <td>0.3</td>\n",
       "      <td>7.80</td>\n",
       "      <td>2</td>\n",
       "      <td>1</td>\n",
       "    </tr>\n",
       "    <tr>\n",
       "      <th>4</th>\n",
       "      <td>2</td>\n",
       "      <td>2018-09-24 00:00:20</td>\n",
       "      <td>09/24/2018 12:10:45 AM</td>\n",
       "      <td>N</td>\n",
       "      <td>1</td>\n",
       "      <td>66</td>\n",
       "      <td>97</td>\n",
       "      <td>5</td>\n",
       "      <td>2.14</td>\n",
       "      <td>9.5</td>\n",
       "      <td>0.5</td>\n",
       "      <td>0.5</td>\n",
       "      <td>2.16</td>\n",
       "      <td>0.0</td>\n",
       "      <td>NaN</td>\n",
       "      <td>0.3</td>\n",
       "      <td>12.96</td>\n",
       "      <td>1</td>\n",
       "      <td>1</td>\n",
       "    </tr>\n",
       "  </tbody>\n",
       "</table>\n",
       "</div>"
      ],
      "text/plain": [
       "   VendorID lpep_pickup_datetime   lpep_dropoff_datetime store_and_fwd_flag  \\\n",
       "0         2  2018-09-24 00:00:03  09/24/2018 12:12:18 AM                  N   \n",
       "1         2  2018-09-24 00:00:11  09/24/2018 12:04:28 AM                  N   \n",
       "2         2  2018-09-24 00:00:15  09/24/2018 12:06:38 AM                  N   \n",
       "3         2  2018-09-24 00:00:19  09/24/2018 12:06:18 AM                  N   \n",
       "4         2  2018-09-24 00:00:20  09/24/2018 12:10:45 AM                  N   \n",
       "\n",
       "   RatecodeID  PULocationID  DOLocationID  passenger_count  trip_distance  \\\n",
       "0           1            83            56                2           2.38   \n",
       "1           1             7           179                1           0.97   \n",
       "2           1           260           129                1           1.21   \n",
       "3           1             7           223                1           1.34   \n",
       "4           1            66            97                5           2.14   \n",
       "\n",
       "   fare_amount  extra  mta_tax  tip_amount  tolls_amount  ehail_fee  \\\n",
       "0         10.5    0.5      0.5        0.00           0.0        NaN   \n",
       "1          5.0    0.5      0.5        1.26           0.0        NaN   \n",
       "2          6.5    0.5      0.5        0.00           0.0        NaN   \n",
       "3          6.5    0.5      0.5        0.00           0.0        NaN   \n",
       "4          9.5    0.5      0.5        2.16           0.0        NaN   \n",
       "\n",
       "   improvement_surcharge  total_amount  payment_type  trip_type  \n",
       "0                    0.3         11.80             1          1  \n",
       "1                    0.3          7.56             1          1  \n",
       "2                    0.3          7.80             2          1  \n",
       "3                    0.3          7.80             2          1  \n",
       "4                    0.3         12.96             1          1  "
      ]
     },
     "execution_count": 21,
     "metadata": {},
     "output_type": "execute_result"
    }
   ],
   "source": [
    "green_taxi.head()"
   ]
  },
  {
   "cell_type": "code",
   "execution_count": 32,
   "metadata": {
    "scrolled": true
   },
   "outputs": [
    {
     "data": {
      "text/plain": [
       "count    20687.00000\n",
       "mean         1.33509\n",
       "std          1.01333\n",
       "min          0.00000\n",
       "25%          1.00000\n",
       "50%          1.00000\n",
       "75%          1.00000\n",
       "max          9.00000\n",
       "Name: passenger_count, dtype: float64"
      ]
     },
     "execution_count": 32,
     "metadata": {},
     "output_type": "execute_result"
    }
   ],
   "source": [
    "green_taxi[\"passenger_count\"].describe() # min of 0 and max of 9 "
   ]
  },
  {
   "cell_type": "code",
   "execution_count": 53,
   "metadata": {
    "scrolled": true
   },
   "outputs": [
    {
     "name": "stdout",
     "output_type": "stream",
     "text": [
      "M E A N   D I S T A N C E S\n",
      "-------------------------\n",
      "0 Passengers: 3.17\n",
      "1 Passengers: 3.44\n",
      "2 Passengers: 3.33\n",
      "3 Passengers: 3.50\n",
      "4 Passengers: 2.32\n",
      "5 Passengers: 3.38\n",
      "6 Passengers: 3.50\n",
      "8 Passengers: 1.37\n",
      "9 Passengers: 0.22\n"
     ]
    }
   ],
   "source": [
    "# trip distance means\n",
    "trip_distance_means = []\n",
    "\n",
    "for i in np.arange(0,10):\n",
    "    passenger_filter = green_taxi[\"passenger_count\"] == i\n",
    "    trip_distance_mean = green_taxi[passenger_filter][\"trip_distance\"].mean()\n",
    "    trip_distance_means.append(trip_distance_mean)\n",
    "\n",
    "print(\"M E A N   D I S T A N C E S\\n-------------------------\")\n",
    "for i in np.arange(0,10):\n",
    "    if i != 7:\n",
    "        print(\"%d Passengers: %.2f\" % (i, trip_distance_means[i]))\n",
    "    else:\n",
    "        continue"
   ]
  },
  {
   "cell_type": "markdown",
   "metadata": {},
   "source": [
    "2. What is the median trip distance for each hour (0 - 23)?  For what time of day is the median trip distance longest?  Why do you think that might be?  (There is no right or wrong answer to this last question.)"
   ]
  },
  {
   "cell_type": "code",
   "execution_count": 69,
   "metadata": {},
   "outputs": [
    {
     "name": "stdout",
     "output_type": "stream",
     "text": [
      "M E D I A N   D I S T A N C E S\n",
      "------------------------------\n",
      "0:00: 1.83\n",
      "1:00: 1.61\n",
      "2:00: 1.86\n",
      "3:00: 1.80\n",
      "4:00: 3.06\n",
      "5:00: 4.54\n",
      "6:00: 4.26\n",
      "7:00: 2.44\n",
      "8:00: 2.06\n",
      "9:00: 2.03\n",
      "10:00: 2.14\n",
      "11:00: 2.08\n",
      "12:00: 2.17\n",
      "13:00: 2.20\n",
      "14:00: 2.04\n",
      "15:00: 1.88\n",
      "16:00: 2.04\n",
      "17:00: 1.80\n",
      "18:00: 1.71\n",
      "19:00: 1.60\n",
      "20:00: 1.64\n",
      "21:00: 1.79\n",
      "22:00: 1.84\n",
      "23:00: 1.95\n",
      "\n",
      "Time of day with the longest rides: 5:00\n"
     ]
    }
   ],
   "source": [
    "# trip distance means\n",
    "trip_distance_medians = []\n",
    "\n",
    "for i in np.arange(0,24):\n",
    "    hour_filter = green_taxi[\"lpep_pickup_datetime\"].dt.hour == i\n",
    "    trip_distance_median = green_taxi[hour_filter][\"trip_distance\"].median()\n",
    "    trip_distance_medians.append(trip_distance_median)\n",
    "\n",
    "print(\"M E D I A N   D I S T A N C E S\\n------------------------------\")\n",
    "for i in np.arange(0,24):\n",
    "        print(\"%d:00: %.2f\" % (i, trip_distance_medians[i]))\n",
    "\n",
    "print()\n",
    "\n",
    "max = 0;\n",
    "for i in np.arange(0,24):\n",
    "    if trip_distance_medians[i] > max:\n",
    "        max = i\n",
    "    \n",
    "print(\"Time of day with the longest rides: %d:00\" % (max))"
   ]
  },
  {
   "cell_type": "markdown",
   "metadata": {},
   "source": [
    "__I think 5:00 may be the longest time of day because people who have to commute further to work would commute during this time to ensure that they get to work on time.__"
   ]
  },
  {
   "cell_type": "markdown",
   "metadata": {},
   "source": [
    "3. Plot a Seaborn relplot of the relationship between trip distance and total amount paid, with the point colored by the toll amount.  What do you notice about the relationship between trip distance and total amount paid?  Is there any relationship between the amount of tolls paid and the trip distance and/or total amount paid?"
   ]
  },
  {
   "cell_type": "code",
   "execution_count": 74,
   "metadata": {},
   "outputs": [
    {
     "data": {
      "text/plain": [
       "<seaborn.axisgrid.FacetGrid at 0x26c270c1240>"
      ]
     },
     "execution_count": 74,
     "metadata": {},
     "output_type": "execute_result"
    },
    {
     "data": {
      "image/png": "[encoded data removed]",
      "text/plain": [
       "<Figure size 460.25x360 with 1 Axes>"
      ]
     },
     "metadata": {
      "needs_background": "light"
     },
     "output_type": "display_data"
    }
   ],
   "source": [
    "sns.relplot(x = \"trip_distance\", y = \"total_amount\", hue = \"tolls_amount\", alpha= 0.75, data = green_taxi)"
   ]
  },
  {
   "cell_type": "markdown",
   "metadata": {},
   "source": [
    "__I notice that as the trip distance increases, the total amount paid also increases. They have a direct relationship__\n",
    "\n",
    "__There is a relationship between the amount of tolls paid and the trip distance because as the trip distance increases the toll amounts also increase (color of points gets darker). There is also a relationship between the amount of tolls paid and the total amount paid because as the total amount paid increases the the toll amounts also increase (color of points gets darker).__"
   ]
  },
  {
   "cell_type": "markdown",
   "metadata": {},
   "source": [
    "4.  For this question, only consider taxi trips of 30 miles or less.  Fit an exponential distribution to the trip distance data.  What is lambda?  Plot this exponential distribution over a histogram of the trip distance data.  Do you think the exponential distribution is a good model or estimate of the actual trip distance data?"
   ]
  },
  {
   "cell_type": "code",
   "execution_count": 92,
   "metadata": {},
   "outputs": [],
   "source": [
    "distance_filter = green_taxi[\"trip_distance\"] <= 30\n",
    "thirty_or_less = green_taxi[distance_filter]"
   ]
  },
  {
   "cell_type": "code",
   "execution_count": 97,
   "metadata": {},
   "outputs": [
    {
     "name": "stdout",
     "output_type": "stream",
     "text": [
      "Lambda: 0.29\n"
     ]
    }
   ],
   "source": [
    "lambda_ = 1/thirty_or_less[\"trip_distance\"].mean()\n",
    "print(\"Lambda: %.2f\" % (lambda_))"
   ]
  },
  {
   "cell_type": "code",
   "execution_count": 98,
   "metadata": {},
   "outputs": [
    {
     "data": {
      "text/plain": [
       "[<matplotlib.lines.Line2D at 0x26c27c3e518>]"
      ]
     },
     "execution_count": 98,
     "metadata": {},
     "output_type": "execute_result"
    },
    {
     "data": {
      "image/png": "[encoded data removed]",
      "text/plain": [
       "<Figure size 432x288 with 1 Axes>"
      ]
     },
     "metadata": {
      "needs_background": "light"
     },
     "output_type": "display_data"
    }
   ],
   "source": [
    "x = np.linspace(0,30)\n",
    "y = stats.expon.pdf(x, scale = thirty_or_less[\"trip_distance\"].mean())\n",
    "\n",
    "thirty_or_less[\"trip_distance\"].hist(bins = 30, density = True)\n",
    "plt.plot(x,y)"
   ]
  },
  {
   "cell_type": "markdown",
   "metadata": {},
   "source": [
    "__I believe that the exponential distribution is a good model/estimate of the actual trip distance data (under 30 miles or less)__"
   ]
  },
  {
   "cell_type": "markdown",
   "metadata": {},
   "source": [
    "5.  a.  Using the full taxi dataset, take 1000 samples with replacement and compute the mean trip distance of each sample.\n",
    "\n",
    "    b.  Plot a histogram of this sampling distrbution of sample means.  What shape does it have?  \n",
    "\n",
    "    c.  Estimate the normal distribution that fits (best matches) the sample means, and plot the histogram again with a line showing this normal distribution.  Do you think this histogram was sampled from this normal distribution?\n",
    "    \n",
    "     d.  According to the Central Limit Theorem, the sampling distribution of the sample means should be a normal distribution with mean equal to the mean of the population and standard deviation equal to the standard deviation of the population divided by the square root of the size of the samples.  Since our data set is very large, we will assume the mean and standard deviation of the population are the same as the mean and standard deviation of the sample (our taxi data).  Redraw the histogram and normal distribution from step c, adding a line for the normal distribution predicted by the Central Limit Theorem.  How close is the normal distribution predicted by the Central Limit Theorem to the normal distribution we estimated (fit) in step c?"
   ]
  },
  {
   "cell_type": "code",
   "execution_count": 104,
   "metadata": {},
   "outputs": [
    {
     "name": "stdout",
     "output_type": "stream",
     "text": [
      "\"True mean\": 3.43\n"
     ]
    }
   ],
   "source": [
    "trip_distance_means = []\n",
    "\n",
    "for i in np.arange(0,1000):\n",
    "    sample = green_taxi[\"trip_distance\"].sample(len(green_taxi), replace = True)\n",
    "    sample_mean = sample.mean()\n",
    "    trip_distance_means.append(sample_mean)\n",
    "    \n",
    "trip_distance_means = pd.Series(trip_distance_means)\n",
    "true_mean = trip_distance_means.mean()\n",
    "print(\"\\\"True mean\\\": %.2f\" % (true_mean))"
   ]
  },
  {
   "cell_type": "code",
   "execution_count": 105,
   "metadata": {},
   "outputs": [
    {
     "data": {
      "text/plain": [
       "<matplotlib.axes._subplots.AxesSubplot at 0x26c27788ef0>"
      ]
     },
     "execution_count": 105,
     "metadata": {},
     "output_type": "execute_result"
    },
    {
     "data": {
      "image/png": "[encoded data removed]",
      "text/plain": [
       "<Figure size 432x288 with 1 Axes>"
      ]
     },
     "metadata": {
      "needs_background": "light"
     },
     "output_type": "display_data"
    }
   ],
   "source": [
    "trip_distance_means.hist(bins = 30) # resembles a normal distribution as expected because of the Central Limit Theorem"
   ]
  },
  {
   "cell_type": "code",
   "execution_count": 109,
   "metadata": {},
   "outputs": [
    {
     "data": {
      "text/plain": [
       "[<matplotlib.lines.Line2D at 0x26c27c31b70>]"
      ]
     },
     "execution_count": 109,
     "metadata": {},
     "output_type": "execute_result"
    },
    {
     "data": {
      "image/png": "[encoded data removed]",
      "text/plain": [
       "<Figure size 432x288 with 1 Axes>"
      ]
     },
     "metadata": {
      "needs_background": "light"
     },
     "output_type": "display_data"
    }
   ],
   "source": [
    "se = trip_distance_means.std()\n",
    "\n",
    "x = np.linspace(trip_distance_means.min(), trip_distance_means.max(), 100)\n",
    "y = stats.norm.pdf(x, loc = true_mean, scale = se)\n",
    "\n",
    "trip_distance_means.hist(bins = 30, density = True)\n",
    "plt.plot(x,y)"
   ]
  },
  {
   "cell_type": "markdown",
   "metadata": {},
   "source": [
    "__I do think this histogram was sampled from a normal distribution. It resembles the normal distribution probability density function.__"
   ]
  },
  {
   "cell_type": "code",
   "execution_count": 116,
   "metadata": {},
   "outputs": [
    {
     "data": {
      "text/plain": [
       "[<matplotlib.lines.Line2D at 0x26c293b8438>]"
      ]
     },
     "execution_count": 116,
     "metadata": {},
     "output_type": "execute_result"
    },
    {
     "data": {
      "image/png": "[encoded data removed]",
      "text/plain": [
       "<Figure size 432x288 with 1 Axes>"
      ]
     },
     "metadata": {
      "needs_background": "light"
     },
     "output_type": "display_data"
    }
   ],
   "source": [
    "population_mean = green_taxi[\"trip_distance\"].mean()\n",
    "calc_se = green_taxi[\"trip_distance\"].std()/np.sqrt(len(green_taxi))\n",
    "y2 = stats.norm.pdf(x, loc = population_mean, scale = calc_se)\n",
    "\n",
    "trip_distance_means.hist(bins = 30, density = True)\n",
    "plt.plot(x,y)\n",
    "plt.plot(x,y2)"
   ]
  },
  {
   "cell_type": "markdown",
   "metadata": {},
   "source": [
    "__The normal distribution predicted by the Central Limit Theorem and the normal distribution estimated in the previous part are extremely close to one another.__"
   ]
  },
  {
   "cell_type": "markdown",
   "metadata": {},
   "source": [
    "6. a. Compute the 95% confidence interval for the mean trip distance for trips with only 1 passenger.\n",
    "\n",
    "    b. Compute the 95% confidence interval for the mean trip distance for trips with only 2 passengers.\n",
    "    \n",
    "    c.  Can we conclude that the mean trip distance is different when there is 1 passenger compared to when there are 2 passengers?  Why or why not?"
   ]
  },
  {
   "cell_type": "code",
   "execution_count": 122,
   "metadata": {},
   "outputs": [
    {
     "name": "stdout",
     "output_type": "stream",
     "text": [
      "95% confidence interval for the mean trip distance for trips with only 1 passenger: (3.38, 3.50)\n"
     ]
    }
   ],
   "source": [
    "one_pass_filter = green_taxi[\"passenger_count\"] == 1\n",
    "one_pass = green_taxi[one_pass_filter][\"trip_distance\"]\n",
    "\n",
    "one_pass_means = []\n",
    "for i in np.arange(0,1000):\n",
    "    sample = one_pass.sample(len(one_pass), replace = True)\n",
    "    sample_mean = sample.mean()\n",
    "    one_pass_means.append(sample_mean)\n",
    "    \n",
    "one_pass_means = pd.Series(one_pass_means)\n",
    "low = one_pass_means.quantile(0.025)\n",
    "high = one_pass_means.quantile(0.975)\n",
    "print(\"95%% confidence interval for the mean trip distance for trips with only 1 passenger: (%.2f, %.2f)\" % (low,high))"
   ]
  },
  {
   "cell_type": "code",
   "execution_count": 123,
   "metadata": {},
   "outputs": [
    {
     "name": "stdout",
     "output_type": "stream",
     "text": [
      "95% confidence interval for the mean trip distance for trips with only 2 passengers: (3.12, 3.52)\n"
     ]
    }
   ],
   "source": [
    "two_pass_filter = green_taxi[\"passenger_count\"] == 2\n",
    "two_pass = green_taxi[two_pass_filter][\"trip_distance\"]\n",
    "\n",
    "two_pass_means = []\n",
    "for i in np.arange(0,1000):\n",
    "    sample = two_pass.sample(len(two_pass), replace = True)\n",
    "    sample_mean = sample.mean()\n",
    "    two_pass_means.append(sample_mean)\n",
    "    \n",
    "two_pass_means = pd.Series(two_pass_means)\n",
    "low2 = two_pass_means.quantile(0.025)\n",
    "high2 = two_pass_means.quantile(0.975)\n",
    "print(\"95%% confidence interval for the mean trip distance for trips with only 2 passengers: (%.2f, %.2f)\" % (low2,high2))"
   ]
  },
  {
   "cell_type": "code",
   "execution_count": 126,
   "metadata": {},
   "outputs": [
    {
     "data": {
      "text/plain": [
       "<matplotlib.axes._subplots.AxesSubplot at 0x26c2512a5c0>"
      ]
     },
     "execution_count": 126,
     "metadata": {},
     "output_type": "execute_result"
    },
    {
     "data": {
      "image/png": "[encoded data removed]",
      "text/plain": [
       "<Figure size 432x288 with 1 Axes>"
      ]
     },
     "metadata": {
      "needs_background": "light"
     },
     "output_type": "display_data"
    }
   ],
   "source": [
    "one_pass_means.hist(bins = 30, alpha = 0.5)\n",
    "two_pass_means.hist(bins = 30, alpha = 0.5)"
   ]
  },
  {
   "cell_type": "markdown",
   "metadata": {},
   "source": [
    "__We cannot conclude that the mean trip distance for trips with only 1 passenger is statistically different from the mean trip dsitance for trips with only 2 passengers because the 95% confidence intervals for both metrics overlap.__"
   ]
  }
 ],
 "metadata": {
  "kernelspec": {
   "display_name": "Python 3",
   "language": "python",
   "name": "python3"
  },
  "language_info": {
   "codemirror_mode": {
    "name": "ipython",
    "version": 3
   },
   "file_extension": ".py",
   "mimetype": "text/x-python",
   "name": "python",
   "nbconvert_exporter": "python",
   "pygments_lexer": "ipython3",
   "version": "3.7.3"
  }
 },
 "nbformat": 4,
 "nbformat_minor": 2
}
