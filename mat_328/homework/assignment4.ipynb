{
 "cells": [
  {
   "cell_type": "markdown",
   "metadata": {},
   "source": [
    "# Assignment 4 - Dummy variables, more linear regressionm, and logistic regression\n",
    "\n",
    "This assignment uses a data set with building information about sales in New York City over a 12 month period.  The data is originally from Kaggle [here](https://www.kaggle.com/new-york-city/nyc-property-sales) and can be downloaded directly [here](http://comet.lehman.cuny.edu/owen/teaching/mat328/nyc-rolling-sales.csv).\n",
    "\n",
    "In this dataset, the missing values are indicated by \" -  \" (a space, a dash, two spaces).  Recall from MAT 128 that we can tell Python these are missing values (NaN) by adding the parameter `na_values = [\" -  \"]` to the `read_csv()` function.\n",
    "\n",
    "1. Filter the dataset so that the remaining rows:\n",
    "    - have no NaN values; use df_new = df.dropna() or df = df.dropna()\n",
    "    - have sales prices between \\\\$20,000 and \\\\$2,000,000\n",
    "       less than \\\\$20,000 or more than \\\\$2,000,000\n",
    "    - have only the neighborhoods Flushing-North, Sheepshead Bay, or Flatbush-East\n",
    "    - have Gross Square Feet greater than 0 and less than 6,000\n",
    "       \n",
    "2. Create one scatter plot with the points colored by neighborhood.  What do you notice about the plot?\n",
    "\n",
    "3. Create dummy variables for the neighborhood column, and create a linear model (see note below) using the two neighborhood dummy variables and the gross square feet as the independent variables.  \n",
    "    - What is the equation for the regression line?  \n",
    "    - What equation is used to make a prediction when the neighborhood is Flushing-North?  Flatbush-East?  Sheepshead Bay?  \n",
    "    Note: Since the column names have spaces, you will need to surround them with Q('column_name') in the Statsmodel formula.  For example if the independent variable column names are \"Ind Var\" and \"Ind Var 2\", and the dependent variable column name is \"Dep Var\" in the dataframe df, then the code to fit the linear model is:\n",
    "`lm = smf.ols(\"Q('Dep Var') ~ Q('Ind Var') + Q('Ind Var 2')\", data = df).fit()`\n",
    "\n",
    "4. Assess the fit of your linear model from Question 3 by:\n",
    "    - finding the p-value for the intercept and coefficients\n",
    "    - finding R-squared \n",
    "    - computing the mean squared error\n",
    "    - plotting the residuals\n",
    "    - plotting the sale price on the x axis and the residuals on the y axis\n",
    "    Based on the above information, how good of fit is your model?  Are there any problems with it?\n",
    "    \n",
    "5. In Question 3 you wrote 3 linear equations for predicting the sale price if a building was in Flatbush-East, Flushing-North, or Sheepshead Bay.  Plot lines given by the 3 equations on a scatterplot of gross square feet (x) vs. sale price.  What does the plot tell you about real estate in Flatbush-East, Flushing-North, and Sheepshead Bay?    Hint:  See first half of Lab 8. \n",
    "\n",
    "6. Fit a logistic regression model to predict when a sale is in Flushing-North using only sale price.  What is the equation of your model?  Plot the function on a scatter plot of sale price (x) vs. your dummy variable for Flushing-North (y).\n",
    "\n",
    "7. Compute the sensitivity, specificity, precision, and accuracy for your logistic model, using a sale being in Flushing-North as positive.  Is your model better at correctly predicting a sale took place in Flushing-North or in Flatbush-East and Sheepshead Bay?  Of the sales predicted to be in Flushing-North, what proportion were really in Flushing-North?"
   ]
  },
  {
   "cell_type": "code",
   "execution_count": 85,
   "metadata": {},
   "outputs": [],
   "source": [
    "import pandas as pd\n",
    "import numpy as np\n",
    "import seaborn as sns\n",
    "import statsmodels.formula.api as smf\n",
    "from sklearn import linear_model\n",
    "import matplotlib.pyplot as plt\n",
    "import scipy.stats as stats\n",
    "import math\n",
    "%matplotlib inline"
   ]
  },
  {
   "cell_type": "markdown",
   "metadata": {},
   "source": [
    "1)"
   ]
  },
  {
   "cell_type": "code",
   "execution_count": 3,
   "metadata": {},
   "outputs": [
    {
     "data": {
      "text/html": [
       "<div>\n",
       "<style scoped>\n",
       "    .dataframe tbody tr th:only-of-type {\n",
       "        vertical-align: middle;\n",
       "    }\n",
       "\n",
       "    .dataframe tbody tr th {\n",
       "        vertical-align: top;\n",
       "    }\n",
       "\n",
       "    .dataframe thead th {\n",
       "        text-align: right;\n",
       "    }\n",
       "</style>\n",
       "<table border=\"1\" class=\"dataframe\">\n",
       "  <thead>\n",
       "    <tr style=\"text-align: right;\">\n",
       "      <th></th>\n",
       "      <th>Unnamed: 0</th>\n",
       "      <th>BOROUGH</th>\n",
       "      <th>NEIGHBORHOOD</th>\n",
       "      <th>BUILDING CLASS CATEGORY</th>\n",
       "      <th>TAX CLASS AT PRESENT</th>\n",
       "      <th>BLOCK</th>\n",
       "      <th>LOT</th>\n",
       "      <th>EASE-MENT</th>\n",
       "      <th>BUILDING CLASS AT PRESENT</th>\n",
       "      <th>ADDRESS</th>\n",
       "      <th>...</th>\n",
       "      <th>RESIDENTIAL UNITS</th>\n",
       "      <th>COMMERCIAL UNITS</th>\n",
       "      <th>TOTAL UNITS</th>\n",
       "      <th>LAND SQUARE FEET</th>\n",
       "      <th>GROSS SQUARE FEET</th>\n",
       "      <th>YEAR BUILT</th>\n",
       "      <th>TAX CLASS AT TIME OF SALE</th>\n",
       "      <th>BUILDING CLASS AT TIME OF SALE</th>\n",
       "      <th>SALE PRICE</th>\n",
       "      <th>SALE DATE</th>\n",
       "    </tr>\n",
       "  </thead>\n",
       "  <tbody>\n",
       "    <tr>\n",
       "      <th>0</th>\n",
       "      <td>4</td>\n",
       "      <td>1</td>\n",
       "      <td>ALPHABET CITY</td>\n",
       "      <td>07 RENTALS - WALKUP APARTMENTS</td>\n",
       "      <td>2A</td>\n",
       "      <td>392</td>\n",
       "      <td>6</td>\n",
       "      <td></td>\n",
       "      <td>C2</td>\n",
       "      <td>153 AVENUE B</td>\n",
       "      <td>...</td>\n",
       "      <td>5</td>\n",
       "      <td>0</td>\n",
       "      <td>5</td>\n",
       "      <td>1633.0</td>\n",
       "      <td>6440.0</td>\n",
       "      <td>1900</td>\n",
       "      <td>2</td>\n",
       "      <td>C2</td>\n",
       "      <td>6625000.0</td>\n",
       "      <td>2017-07-19 00:00:00</td>\n",
       "    </tr>\n",
       "    <tr>\n",
       "      <th>1</th>\n",
       "      <td>5</td>\n",
       "      <td>1</td>\n",
       "      <td>ALPHABET CITY</td>\n",
       "      <td>07 RENTALS - WALKUP APARTMENTS</td>\n",
       "      <td>2</td>\n",
       "      <td>399</td>\n",
       "      <td>26</td>\n",
       "      <td></td>\n",
       "      <td>C7</td>\n",
       "      <td>234 EAST 4TH   STREET</td>\n",
       "      <td>...</td>\n",
       "      <td>28</td>\n",
       "      <td>3</td>\n",
       "      <td>31</td>\n",
       "      <td>4616.0</td>\n",
       "      <td>18690.0</td>\n",
       "      <td>1900</td>\n",
       "      <td>2</td>\n",
       "      <td>C7</td>\n",
       "      <td>NaN</td>\n",
       "      <td>2016-12-14 00:00:00</td>\n",
       "    </tr>\n",
       "    <tr>\n",
       "      <th>2</th>\n",
       "      <td>6</td>\n",
       "      <td>1</td>\n",
       "      <td>ALPHABET CITY</td>\n",
       "      <td>07 RENTALS - WALKUP APARTMENTS</td>\n",
       "      <td>2</td>\n",
       "      <td>399</td>\n",
       "      <td>39</td>\n",
       "      <td></td>\n",
       "      <td>C7</td>\n",
       "      <td>197 EAST 3RD   STREET</td>\n",
       "      <td>...</td>\n",
       "      <td>16</td>\n",
       "      <td>1</td>\n",
       "      <td>17</td>\n",
       "      <td>2212.0</td>\n",
       "      <td>7803.0</td>\n",
       "      <td>1900</td>\n",
       "      <td>2</td>\n",
       "      <td>C7</td>\n",
       "      <td>NaN</td>\n",
       "      <td>2016-12-09 00:00:00</td>\n",
       "    </tr>\n",
       "    <tr>\n",
       "      <th>3</th>\n",
       "      <td>7</td>\n",
       "      <td>1</td>\n",
       "      <td>ALPHABET CITY</td>\n",
       "      <td>07 RENTALS - WALKUP APARTMENTS</td>\n",
       "      <td>2B</td>\n",
       "      <td>402</td>\n",
       "      <td>21</td>\n",
       "      <td></td>\n",
       "      <td>C4</td>\n",
       "      <td>154 EAST 7TH STREET</td>\n",
       "      <td>...</td>\n",
       "      <td>10</td>\n",
       "      <td>0</td>\n",
       "      <td>10</td>\n",
       "      <td>2272.0</td>\n",
       "      <td>6794.0</td>\n",
       "      <td>1913</td>\n",
       "      <td>2</td>\n",
       "      <td>C4</td>\n",
       "      <td>3936272.0</td>\n",
       "      <td>2016-09-23 00:00:00</td>\n",
       "    </tr>\n",
       "    <tr>\n",
       "      <th>4</th>\n",
       "      <td>8</td>\n",
       "      <td>1</td>\n",
       "      <td>ALPHABET CITY</td>\n",
       "      <td>07 RENTALS - WALKUP APARTMENTS</td>\n",
       "      <td>2A</td>\n",
       "      <td>404</td>\n",
       "      <td>55</td>\n",
       "      <td></td>\n",
       "      <td>C2</td>\n",
       "      <td>301 EAST 10TH   STREET</td>\n",
       "      <td>...</td>\n",
       "      <td>6</td>\n",
       "      <td>0</td>\n",
       "      <td>6</td>\n",
       "      <td>2369.0</td>\n",
       "      <td>4615.0</td>\n",
       "      <td>1900</td>\n",
       "      <td>2</td>\n",
       "      <td>C2</td>\n",
       "      <td>8000000.0</td>\n",
       "      <td>2016-11-17 00:00:00</td>\n",
       "    </tr>\n",
       "  </tbody>\n",
       "</table>\n",
       "<p>5 rows × 22 columns</p>\n",
       "</div>"
      ],
      "text/plain": [
       "   Unnamed: 0  BOROUGH   NEIGHBORHOOD  \\\n",
       "0           4        1  ALPHABET CITY   \n",
       "1           5        1  ALPHABET CITY   \n",
       "2           6        1  ALPHABET CITY   \n",
       "3           7        1  ALPHABET CITY   \n",
       "4           8        1  ALPHABET CITY   \n",
       "\n",
       "                       BUILDING CLASS CATEGORY TAX CLASS AT PRESENT  BLOCK  \\\n",
       "0  07 RENTALS - WALKUP APARTMENTS                                2A    392   \n",
       "1  07 RENTALS - WALKUP APARTMENTS                                 2    399   \n",
       "2  07 RENTALS - WALKUP APARTMENTS                                 2    399   \n",
       "3  07 RENTALS - WALKUP APARTMENTS                                2B    402   \n",
       "4  07 RENTALS - WALKUP APARTMENTS                                2A    404   \n",
       "\n",
       "   LOT EASE-MENT BUILDING CLASS AT PRESENT                 ADDRESS  ...  \\\n",
       "0    6                                  C2            153 AVENUE B  ...   \n",
       "1   26                                  C7   234 EAST 4TH   STREET  ...   \n",
       "2   39                                  C7   197 EAST 3RD   STREET  ...   \n",
       "3   21                                  C4     154 EAST 7TH STREET  ...   \n",
       "4   55                                  C2  301 EAST 10TH   STREET  ...   \n",
       "\n",
       "  RESIDENTIAL UNITS  COMMERCIAL UNITS  TOTAL UNITS  LAND SQUARE FEET  \\\n",
       "0                 5                 0            5            1633.0   \n",
       "1                28                 3           31            4616.0   \n",
       "2                16                 1           17            2212.0   \n",
       "3                10                 0           10            2272.0   \n",
       "4                 6                 0            6            2369.0   \n",
       "\n",
       "   GROSS SQUARE FEET  YEAR BUILT  TAX CLASS AT TIME OF SALE  \\\n",
       "0             6440.0        1900                          2   \n",
       "1            18690.0        1900                          2   \n",
       "2             7803.0        1900                          2   \n",
       "3             6794.0        1913                          2   \n",
       "4             4615.0        1900                          2   \n",
       "\n",
       "   BUILDING CLASS AT TIME OF SALE  SALE PRICE            SALE DATE  \n",
       "0                              C2   6625000.0  2017-07-19 00:00:00  \n",
       "1                              C7         NaN  2016-12-14 00:00:00  \n",
       "2                              C7         NaN  2016-12-09 00:00:00  \n",
       "3                              C4   3936272.0  2016-09-23 00:00:00  \n",
       "4                              C2   8000000.0  2016-11-17 00:00:00  \n",
       "\n",
       "[5 rows x 22 columns]"
      ]
     },
     "execution_count": 3,
     "metadata": {},
     "output_type": "execute_result"
    }
   ],
   "source": [
    "rolling = pd.read_csv(\"rolling.csv\", na_values = [\" -  \"])\n",
    "rolling.head()"
   ]
  },
  {
   "cell_type": "code",
   "execution_count": 5,
   "metadata": {},
   "outputs": [],
   "source": [
    "rolling = rolling.dropna()\n",
    "price_filter = (rolling[\"SALE PRICE\"] >= 20000) & (rolling[\"SALE PRICE\"] <= 2000000)\n",
    "rolling = rolling[price_filter]"
   ]
  },
  {
   "cell_type": "code",
   "execution_count": 9,
   "metadata": {},
   "outputs": [],
   "source": [
    "np.unique(rolling[\"NEIGHBORHOOD\"])\n",
    "neighborhood_filter = (rolling[\"NEIGHBORHOOD\"] == \"FLUSHING-NORTH\") | (rolling[\"NEIGHBORHOOD\"] == \"SHEEPSHEAD BAY\") | (rolling[\"NEIGHBORHOOD\"] == \"FLATBUSH-EAST\")\n",
    "rolling = rolling[neighborhood_filter]"
   ]
  },
  {
   "cell_type": "code",
   "execution_count": 10,
   "metadata": {},
   "outputs": [],
   "source": [
    "square_feet_filter = (rolling[\"GROSS SQUARE FEET\"] > 0) & (rolling[\"GROSS SQUARE FEET\"] < 6000)\n",
    "rolling = rolling[square_feet_filter]"
   ]
  },
  {
   "cell_type": "markdown",
   "metadata": {},
   "source": [
    "2) It seems that neighborhood has a significant effect on the interactions between gross square feet and sales price."
   ]
  },
  {
   "cell_type": "code",
   "execution_count": 13,
   "metadata": {},
   "outputs": [
    {
     "data": {
      "text/plain": [
       "<seaborn.axisgrid.FacetGrid at 0x1592864e240>"
      ]
     },
     "execution_count": 13,
     "metadata": {},
     "output_type": "execute_result"
    },
    {
     "data": {
      "image/png": "[encoded data removed]",
      "text/plain": [
       "<Figure size 485.75x360 with 1 Axes>"
      ]
     },
     "metadata": {
      "needs_background": "light"
     },
     "output_type": "display_data"
    }
   ],
   "source": [
    "sns.relplot(x = \"GROSS SQUARE FEET\", y = \"SALE PRICE\", hue = \"NEIGHBORHOOD\", data = rolling)"
   ]
  },
  {
   "cell_type": "markdown",
   "metadata": {},
   "source": [
    "3)"
   ]
  },
  {
   "cell_type": "code",
   "execution_count": 14,
   "metadata": {},
   "outputs": [],
   "source": [
    "rolling = pd.get_dummies(rolling, columns = [\"NEIGHBORHOOD\"], drop_first = True)"
   ]
  },
  {
   "cell_type": "code",
   "execution_count": 16,
   "metadata": {},
   "outputs": [
    {
     "data": {
      "text/html": [
       "<div>\n",
       "<style scoped>\n",
       "    .dataframe tbody tr th:only-of-type {\n",
       "        vertical-align: middle;\n",
       "    }\n",
       "\n",
       "    .dataframe tbody tr th {\n",
       "        vertical-align: top;\n",
       "    }\n",
       "\n",
       "    .dataframe thead th {\n",
       "        text-align: right;\n",
       "    }\n",
       "</style>\n",
       "<table border=\"1\" class=\"dataframe\">\n",
       "  <thead>\n",
       "    <tr style=\"text-align: right;\">\n",
       "      <th></th>\n",
       "      <th>Unnamed: 0</th>\n",
       "      <th>BOROUGH</th>\n",
       "      <th>BUILDING CLASS CATEGORY</th>\n",
       "      <th>TAX CLASS AT PRESENT</th>\n",
       "      <th>BLOCK</th>\n",
       "      <th>LOT</th>\n",
       "      <th>EASE-MENT</th>\n",
       "      <th>BUILDING CLASS AT PRESENT</th>\n",
       "      <th>ADDRESS</th>\n",
       "      <th>APARTMENT NUMBER</th>\n",
       "      <th>...</th>\n",
       "      <th>TOTAL UNITS</th>\n",
       "      <th>LAND SQUARE FEET</th>\n",
       "      <th>GROSS SQUARE FEET</th>\n",
       "      <th>YEAR BUILT</th>\n",
       "      <th>TAX CLASS AT TIME OF SALE</th>\n",
       "      <th>BUILDING CLASS AT TIME OF SALE</th>\n",
       "      <th>SALE PRICE</th>\n",
       "      <th>SALE DATE</th>\n",
       "      <th>NEIGHBORHOOD_FLUSHING-NORTH</th>\n",
       "      <th>NEIGHBORHOOD_SHEEPSHEAD BAY</th>\n",
       "    </tr>\n",
       "  </thead>\n",
       "  <tbody>\n",
       "    <tr>\n",
       "      <th>37716</th>\n",
       "      <td>12365</td>\n",
       "      <td>3</td>\n",
       "      <td>01 ONE FAMILY DWELLINGS</td>\n",
       "      <td>1</td>\n",
       "      <td>4681</td>\n",
       "      <td>61</td>\n",
       "      <td></td>\n",
       "      <td>A9</td>\n",
       "      <td>195 EAST 55TH STREET</td>\n",
       "      <td></td>\n",
       "      <td>...</td>\n",
       "      <td>1</td>\n",
       "      <td>1875.0</td>\n",
       "      <td>1344.0</td>\n",
       "      <td>1910</td>\n",
       "      <td>1</td>\n",
       "      <td>A9</td>\n",
       "      <td>215000.0</td>\n",
       "      <td>2016-09-15 00:00:00</td>\n",
       "      <td>0</td>\n",
       "      <td>0</td>\n",
       "    </tr>\n",
       "    <tr>\n",
       "      <th>37720</th>\n",
       "      <td>12369</td>\n",
       "      <td>3</td>\n",
       "      <td>01 ONE FAMILY DWELLINGS</td>\n",
       "      <td>1</td>\n",
       "      <td>4695</td>\n",
       "      <td>27</td>\n",
       "      <td></td>\n",
       "      <td>A9</td>\n",
       "      <td>466 EAST 48TH   STREET</td>\n",
       "      <td></td>\n",
       "      <td>...</td>\n",
       "      <td>1</td>\n",
       "      <td>3000.0</td>\n",
       "      <td>1240.0</td>\n",
       "      <td>1910</td>\n",
       "      <td>1</td>\n",
       "      <td>A9</td>\n",
       "      <td>422500.0</td>\n",
       "      <td>2017-07-10 00:00:00</td>\n",
       "      <td>0</td>\n",
       "      <td>0</td>\n",
       "    </tr>\n",
       "    <tr>\n",
       "      <th>37721</th>\n",
       "      <td>12370</td>\n",
       "      <td>3</td>\n",
       "      <td>01 ONE FAMILY DWELLINGS</td>\n",
       "      <td>1</td>\n",
       "      <td>4695</td>\n",
       "      <td>48</td>\n",
       "      <td></td>\n",
       "      <td>A9</td>\n",
       "      <td>923 SCHENECTADY AVENUE</td>\n",
       "      <td></td>\n",
       "      <td>...</td>\n",
       "      <td>1</td>\n",
       "      <td>2000.0</td>\n",
       "      <td>1300.0</td>\n",
       "      <td>1920</td>\n",
       "      <td>1</td>\n",
       "      <td>A9</td>\n",
       "      <td>355500.0</td>\n",
       "      <td>2016-10-13 00:00:00</td>\n",
       "      <td>0</td>\n",
       "      <td>0</td>\n",
       "    </tr>\n",
       "    <tr>\n",
       "      <th>37725</th>\n",
       "      <td>12374</td>\n",
       "      <td>3</td>\n",
       "      <td>01 ONE FAMILY DWELLINGS</td>\n",
       "      <td>1</td>\n",
       "      <td>4719</td>\n",
       "      <td>31</td>\n",
       "      <td></td>\n",
       "      <td>A1</td>\n",
       "      <td>546 EAST 48TH STREET</td>\n",
       "      <td></td>\n",
       "      <td>...</td>\n",
       "      <td>1</td>\n",
       "      <td>2500.0</td>\n",
       "      <td>1036.0</td>\n",
       "      <td>1915</td>\n",
       "      <td>1</td>\n",
       "      <td>A1</td>\n",
       "      <td>485000.0</td>\n",
       "      <td>2017-03-27 00:00:00</td>\n",
       "      <td>0</td>\n",
       "      <td>0</td>\n",
       "    </tr>\n",
       "    <tr>\n",
       "      <th>37726</th>\n",
       "      <td>12375</td>\n",
       "      <td>3</td>\n",
       "      <td>01 ONE FAMILY DWELLINGS</td>\n",
       "      <td>1</td>\n",
       "      <td>4719</td>\n",
       "      <td>61</td>\n",
       "      <td></td>\n",
       "      <td>A9</td>\n",
       "      <td>987 SCHENECTADY AVENUE</td>\n",
       "      <td></td>\n",
       "      <td>...</td>\n",
       "      <td>1</td>\n",
       "      <td>2000.0</td>\n",
       "      <td>1536.0</td>\n",
       "      <td>1910</td>\n",
       "      <td>1</td>\n",
       "      <td>A9</td>\n",
       "      <td>180000.0</td>\n",
       "      <td>2017-05-05 00:00:00</td>\n",
       "      <td>0</td>\n",
       "      <td>0</td>\n",
       "    </tr>\n",
       "  </tbody>\n",
       "</table>\n",
       "<p>5 rows × 23 columns</p>\n",
       "</div>"
      ],
      "text/plain": [
       "       Unnamed: 0  BOROUGH                      BUILDING CLASS CATEGORY  \\\n",
       "37716       12365        3  01 ONE FAMILY DWELLINGS                       \n",
       "37720       12369        3  01 ONE FAMILY DWELLINGS                       \n",
       "37721       12370        3  01 ONE FAMILY DWELLINGS                       \n",
       "37725       12374        3  01 ONE FAMILY DWELLINGS                       \n",
       "37726       12375        3  01 ONE FAMILY DWELLINGS                       \n",
       "\n",
       "      TAX CLASS AT PRESENT  BLOCK  LOT EASE-MENT BUILDING CLASS AT PRESENT  \\\n",
       "37716                    1   4681   61                                  A9   \n",
       "37720                    1   4695   27                                  A9   \n",
       "37721                    1   4695   48                                  A9   \n",
       "37725                    1   4719   31                                  A1   \n",
       "37726                    1   4719   61                                  A9   \n",
       "\n",
       "                      ADDRESS APARTMENT NUMBER  ...  TOTAL UNITS  \\\n",
       "37716    195 EAST 55TH STREET                   ...            1   \n",
       "37720  466 EAST 48TH   STREET                   ...            1   \n",
       "37721  923 SCHENECTADY AVENUE                   ...            1   \n",
       "37725    546 EAST 48TH STREET                   ...            1   \n",
       "37726  987 SCHENECTADY AVENUE                   ...            1   \n",
       "\n",
       "       LAND SQUARE FEET  GROSS SQUARE FEET  YEAR BUILT  \\\n",
       "37716            1875.0             1344.0        1910   \n",
       "37720            3000.0             1240.0        1910   \n",
       "37721            2000.0             1300.0        1920   \n",
       "37725            2500.0             1036.0        1915   \n",
       "37726            2000.0             1536.0        1910   \n",
       "\n",
       "       TAX CLASS AT TIME OF SALE  BUILDING CLASS AT TIME OF SALE  SALE PRICE  \\\n",
       "37716                          1                              A9    215000.0   \n",
       "37720                          1                              A9    422500.0   \n",
       "37721                          1                              A9    355500.0   \n",
       "37725                          1                              A1    485000.0   \n",
       "37726                          1                              A9    180000.0   \n",
       "\n",
       "                 SALE DATE NEIGHBORHOOD_FLUSHING-NORTH  \\\n",
       "37716  2016-09-15 00:00:00                           0   \n",
       "37720  2017-07-10 00:00:00                           0   \n",
       "37721  2016-10-13 00:00:00                           0   \n",
       "37725  2017-03-27 00:00:00                           0   \n",
       "37726  2017-05-05 00:00:00                           0   \n",
       "\n",
       "       NEIGHBORHOOD_SHEEPSHEAD BAY  \n",
       "37716                            0  \n",
       "37720                            0  \n",
       "37721                            0  \n",
       "37725                            0  \n",
       "37726                            0  \n",
       "\n",
       "[5 rows x 23 columns]"
      ]
     },
     "execution_count": 16,
     "metadata": {},
     "output_type": "execute_result"
    }
   ],
   "source": [
    "rolling.head()"
   ]
  },
  {
   "cell_type": "code",
   "execution_count": 57,
   "metadata": {},
   "outputs": [
    {
     "data": {
      "text/html": [
       "<div>\n",
       "<style scoped>\n",
       "    .dataframe tbody tr th:only-of-type {\n",
       "        vertical-align: middle;\n",
       "    }\n",
       "\n",
       "    .dataframe tbody tr th {\n",
       "        vertical-align: top;\n",
       "    }\n",
       "\n",
       "    .dataframe thead th {\n",
       "        text-align: right;\n",
       "    }\n",
       "</style>\n",
       "<table border=\"1\" class=\"dataframe\">\n",
       "  <thead>\n",
       "    <tr style=\"text-align: right;\">\n",
       "      <th></th>\n",
       "      <th>Unnamed: 0</th>\n",
       "      <th>BOROUGH</th>\n",
       "      <th>BUILDING CLASS CATEGORY</th>\n",
       "      <th>TAX CLASS AT PRESENT</th>\n",
       "      <th>BLOCK</th>\n",
       "      <th>LOT</th>\n",
       "      <th>EASE-MENT</th>\n",
       "      <th>BUILDING CLASS AT PRESENT</th>\n",
       "      <th>ADDRESS</th>\n",
       "      <th>APARTMENT NUMBER</th>\n",
       "      <th>...</th>\n",
       "      <th>TOTAL UNITS</th>\n",
       "      <th>LAND SQUARE FEET</th>\n",
       "      <th>GROSS SQUARE FEET</th>\n",
       "      <th>YEAR BUILT</th>\n",
       "      <th>TAX CLASS AT TIME OF SALE</th>\n",
       "      <th>BUILDING CLASS AT TIME OF SALE</th>\n",
       "      <th>SALE PRICE</th>\n",
       "      <th>SALE DATE</th>\n",
       "      <th>NEIGHBORHOOD_FLUSHING-NORTH</th>\n",
       "      <th>NEIGHBORHOOD_SHEEPSHEAD BAY</th>\n",
       "    </tr>\n",
       "  </thead>\n",
       "  <tbody>\n",
       "    <tr>\n",
       "      <th>37716</th>\n",
       "      <td>12365</td>\n",
       "      <td>3</td>\n",
       "      <td>01 ONE FAMILY DWELLINGS</td>\n",
       "      <td>1</td>\n",
       "      <td>4681</td>\n",
       "      <td>61</td>\n",
       "      <td></td>\n",
       "      <td>A9</td>\n",
       "      <td>195 EAST 55TH STREET</td>\n",
       "      <td></td>\n",
       "      <td>...</td>\n",
       "      <td>1</td>\n",
       "      <td>1875.0</td>\n",
       "      <td>1344.0</td>\n",
       "      <td>1910</td>\n",
       "      <td>1</td>\n",
       "      <td>A9</td>\n",
       "      <td>215000.0</td>\n",
       "      <td>2016-09-15 00:00:00</td>\n",
       "      <td>0</td>\n",
       "      <td>0</td>\n",
       "    </tr>\n",
       "    <tr>\n",
       "      <th>37720</th>\n",
       "      <td>12369</td>\n",
       "      <td>3</td>\n",
       "      <td>01 ONE FAMILY DWELLINGS</td>\n",
       "      <td>1</td>\n",
       "      <td>4695</td>\n",
       "      <td>27</td>\n",
       "      <td></td>\n",
       "      <td>A9</td>\n",
       "      <td>466 EAST 48TH   STREET</td>\n",
       "      <td></td>\n",
       "      <td>...</td>\n",
       "      <td>1</td>\n",
       "      <td>3000.0</td>\n",
       "      <td>1240.0</td>\n",
       "      <td>1910</td>\n",
       "      <td>1</td>\n",
       "      <td>A9</td>\n",
       "      <td>422500.0</td>\n",
       "      <td>2017-07-10 00:00:00</td>\n",
       "      <td>0</td>\n",
       "      <td>0</td>\n",
       "    </tr>\n",
       "    <tr>\n",
       "      <th>37721</th>\n",
       "      <td>12370</td>\n",
       "      <td>3</td>\n",
       "      <td>01 ONE FAMILY DWELLINGS</td>\n",
       "      <td>1</td>\n",
       "      <td>4695</td>\n",
       "      <td>48</td>\n",
       "      <td></td>\n",
       "      <td>A9</td>\n",
       "      <td>923 SCHENECTADY AVENUE</td>\n",
       "      <td></td>\n",
       "      <td>...</td>\n",
       "      <td>1</td>\n",
       "      <td>2000.0</td>\n",
       "      <td>1300.0</td>\n",
       "      <td>1920</td>\n",
       "      <td>1</td>\n",
       "      <td>A9</td>\n",
       "      <td>355500.0</td>\n",
       "      <td>2016-10-13 00:00:00</td>\n",
       "      <td>0</td>\n",
       "      <td>0</td>\n",
       "    </tr>\n",
       "    <tr>\n",
       "      <th>37725</th>\n",
       "      <td>12374</td>\n",
       "      <td>3</td>\n",
       "      <td>01 ONE FAMILY DWELLINGS</td>\n",
       "      <td>1</td>\n",
       "      <td>4719</td>\n",
       "      <td>31</td>\n",
       "      <td></td>\n",
       "      <td>A1</td>\n",
       "      <td>546 EAST 48TH STREET</td>\n",
       "      <td></td>\n",
       "      <td>...</td>\n",
       "      <td>1</td>\n",
       "      <td>2500.0</td>\n",
       "      <td>1036.0</td>\n",
       "      <td>1915</td>\n",
       "      <td>1</td>\n",
       "      <td>A1</td>\n",
       "      <td>485000.0</td>\n",
       "      <td>2017-03-27 00:00:00</td>\n",
       "      <td>0</td>\n",
       "      <td>0</td>\n",
       "    </tr>\n",
       "    <tr>\n",
       "      <th>37726</th>\n",
       "      <td>12375</td>\n",
       "      <td>3</td>\n",
       "      <td>01 ONE FAMILY DWELLINGS</td>\n",
       "      <td>1</td>\n",
       "      <td>4719</td>\n",
       "      <td>61</td>\n",
       "      <td></td>\n",
       "      <td>A9</td>\n",
       "      <td>987 SCHENECTADY AVENUE</td>\n",
       "      <td></td>\n",
       "      <td>...</td>\n",
       "      <td>1</td>\n",
       "      <td>2000.0</td>\n",
       "      <td>1536.0</td>\n",
       "      <td>1910</td>\n",
       "      <td>1</td>\n",
       "      <td>A9</td>\n",
       "      <td>180000.0</td>\n",
       "      <td>2017-05-05 00:00:00</td>\n",
       "      <td>0</td>\n",
       "      <td>0</td>\n",
       "    </tr>\n",
       "  </tbody>\n",
       "</table>\n",
       "<p>5 rows × 23 columns</p>\n",
       "</div>"
      ],
      "text/plain": [
       "       Unnamed: 0  BOROUGH                      BUILDING CLASS CATEGORY  \\\n",
       "37716       12365        3  01 ONE FAMILY DWELLINGS                       \n",
       "37720       12369        3  01 ONE FAMILY DWELLINGS                       \n",
       "37721       12370        3  01 ONE FAMILY DWELLINGS                       \n",
       "37725       12374        3  01 ONE FAMILY DWELLINGS                       \n",
       "37726       12375        3  01 ONE FAMILY DWELLINGS                       \n",
       "\n",
       "      TAX CLASS AT PRESENT  BLOCK  LOT EASE-MENT BUILDING CLASS AT PRESENT  \\\n",
       "37716                    1   4681   61                                  A9   \n",
       "37720                    1   4695   27                                  A9   \n",
       "37721                    1   4695   48                                  A9   \n",
       "37725                    1   4719   31                                  A1   \n",
       "37726                    1   4719   61                                  A9   \n",
       "\n",
       "                      ADDRESS APARTMENT NUMBER  ...  TOTAL UNITS  \\\n",
       "37716    195 EAST 55TH STREET                   ...            1   \n",
       "37720  466 EAST 48TH   STREET                   ...            1   \n",
       "37721  923 SCHENECTADY AVENUE                   ...            1   \n",
       "37725    546 EAST 48TH STREET                   ...            1   \n",
       "37726  987 SCHENECTADY AVENUE                   ...            1   \n",
       "\n",
       "       LAND SQUARE FEET  GROSS SQUARE FEET  YEAR BUILT  \\\n",
       "37716            1875.0             1344.0        1910   \n",
       "37720            3000.0             1240.0        1910   \n",
       "37721            2000.0             1300.0        1920   \n",
       "37725            2500.0             1036.0        1915   \n",
       "37726            2000.0             1536.0        1910   \n",
       "\n",
       "       TAX CLASS AT TIME OF SALE  BUILDING CLASS AT TIME OF SALE  SALE PRICE  \\\n",
       "37716                          1                              A9    215000.0   \n",
       "37720                          1                              A9    422500.0   \n",
       "37721                          1                              A9    355500.0   \n",
       "37725                          1                              A1    485000.0   \n",
       "37726                          1                              A9    180000.0   \n",
       "\n",
       "                 SALE DATE NEIGHBORHOOD_FLUSHING-NORTH  \\\n",
       "37716  2016-09-15 00:00:00                           0   \n",
       "37720  2017-07-10 00:00:00                           0   \n",
       "37721  2016-10-13 00:00:00                           0   \n",
       "37725  2017-03-27 00:00:00                           0   \n",
       "37726  2017-05-05 00:00:00                           0   \n",
       "\n",
       "       NEIGHBORHOOD_SHEEPSHEAD BAY  \n",
       "37716                            0  \n",
       "37720                            0  \n",
       "37721                            0  \n",
       "37725                            0  \n",
       "37726                            0  \n",
       "\n",
       "[5 rows x 23 columns]"
      ]
     },
     "execution_count": 57,
     "metadata": {},
     "output_type": "execute_result"
    }
   ],
   "source": [
    "rolling.rename(index = {\"NEIGHBORHOOD_SHEEPSHEAD BAY\": \"sheepshead\", \n",
    "                     \"NEIGHBORHOOD_FLUSHING-NORTH\":\"flushing\",\n",
    "                       \"GROSS SQUARE FEET\": \"sqft\",\n",
    "                       \"SALE PRICE\": \"price\"}, \n",
    "                                 inplace = True) \n",
    "rolling.head()"
   ]
  },
  {
   "cell_type": "code",
   "execution_count": 48,
   "metadata": {},
   "outputs": [
    {
     "data": {
      "text/html": [
       "<table class=\"simpletable\">\n",
       "<caption>OLS Regression Results</caption>\n",
       "<tr>\n",
       "  <th>Dep. Variable:</th>          <td>price</td>      <th>  R-squared:         </th> <td>   0.465</td> \n",
       "</tr>\n",
       "<tr>\n",
       "  <th>Model:</th>                   <td>OLS</td>       <th>  Adj. R-squared:    </th> <td>   0.464</td> \n",
       "</tr>\n",
       "<tr>\n",
       "  <th>Method:</th>             <td>Least Squares</td>  <th>  F-statistic:       </th> <td>   413.9</td> \n",
       "</tr>\n",
       "<tr>\n",
       "  <th>Date:</th>             <td>Wed, 16 Oct 2019</td> <th>  Prob (F-statistic):</th> <td>2.03e-193</td>\n",
       "</tr>\n",
       "<tr>\n",
       "  <th>Time:</th>                 <td>02:46:43</td>     <th>  Log-Likelihood:    </th> <td> -19777.</td> \n",
       "</tr>\n",
       "<tr>\n",
       "  <th>No. Observations:</th>      <td>  1432</td>      <th>  AIC:               </th> <td>3.956e+04</td>\n",
       "</tr>\n",
       "<tr>\n",
       "  <th>Df Residuals:</th>          <td>  1428</td>      <th>  BIC:               </th> <td>3.958e+04</td>\n",
       "</tr>\n",
       "<tr>\n",
       "  <th>Df Model:</th>              <td>     3</td>      <th>                     </th>     <td> </td>    \n",
       "</tr>\n",
       "<tr>\n",
       "  <th>Covariance Type:</th>      <td>nonrobust</td>    <th>                     </th>     <td> </td>    \n",
       "</tr>\n",
       "</table>\n",
       "<table class=\"simpletable\">\n",
       "<tr>\n",
       "       <td></td>         <th>coef</th>     <th>std err</th>      <th>t</th>      <th>P>|t|</th>  <th>[0.025</th>    <th>0.975]</th>  \n",
       "</tr>\n",
       "<tr>\n",
       "  <th>Intercept</th>  <td> 1.756e+05</td> <td> 2.04e+04</td> <td>    8.623</td> <td> 0.000</td> <td> 1.36e+05</td> <td> 2.16e+05</td>\n",
       "</tr>\n",
       "<tr>\n",
       "  <th>sqft</th>       <td>  202.6754</td> <td>    8.887</td> <td>   22.806</td> <td> 0.000</td> <td>  185.243</td> <td>  220.108</td>\n",
       "</tr>\n",
       "<tr>\n",
       "  <th>sheepshead</th> <td> 2.077e+05</td> <td>  1.9e+04</td> <td>   10.903</td> <td> 0.000</td> <td>  1.7e+05</td> <td> 2.45e+05</td>\n",
       "</tr>\n",
       "<tr>\n",
       "  <th>flushing</th>   <td> 4.123e+05</td> <td> 1.45e+04</td> <td>   28.421</td> <td> 0.000</td> <td> 3.84e+05</td> <td> 4.41e+05</td>\n",
       "</tr>\n",
       "</table>\n",
       "<table class=\"simpletable\">\n",
       "<tr>\n",
       "  <th>Omnibus:</th>       <td>101.289</td> <th>  Durbin-Watson:     </th> <td>   1.541</td> \n",
       "</tr>\n",
       "<tr>\n",
       "  <th>Prob(Omnibus):</th> <td> 0.000</td>  <th>  Jarque-Bera (JB):  </th> <td> 471.821</td> \n",
       "</tr>\n",
       "<tr>\n",
       "  <th>Skew:</th>          <td>-0.089</td>  <th>  Prob(JB):          </th> <td>3.51e-103</td>\n",
       "</tr>\n",
       "<tr>\n",
       "  <th>Kurtosis:</th>      <td> 5.806</td>  <th>  Cond. No.          </th> <td>7.68e+03</td> \n",
       "</tr>\n",
       "</table><br/><br/>Warnings:<br/>[1] Standard Errors assume that the covariance matrix of the errors is correctly specified.<br/>[2] The condition number is large, 7.68e+03. This might indicate that there are<br/>strong multicollinearity or other numerical problems."
      ],
      "text/plain": [
       "<class 'statsmodels.iolib.summary.Summary'>\n",
       "\"\"\"\n",
       "                            OLS Regression Results                            \n",
       "==============================================================================\n",
       "Dep. Variable:                  price   R-squared:                       0.465\n",
       "Model:                            OLS   Adj. R-squared:                  0.464\n",
       "Method:                 Least Squares   F-statistic:                     413.9\n",
       "Date:                Wed, 16 Oct 2019   Prob (F-statistic):          2.03e-193\n",
       "Time:                        02:46:43   Log-Likelihood:                -19777.\n",
       "No. Observations:                1432   AIC:                         3.956e+04\n",
       "Df Residuals:                    1428   BIC:                         3.958e+04\n",
       "Df Model:                           3                                         \n",
       "Covariance Type:            nonrobust                                         \n",
       "==============================================================================\n",
       "                 coef    std err          t      P>|t|      [0.025      0.975]\n",
       "------------------------------------------------------------------------------\n",
       "Intercept   1.756e+05   2.04e+04      8.623      0.000    1.36e+05    2.16e+05\n",
       "sqft         202.6754      8.887     22.806      0.000     185.243     220.108\n",
       "sheepshead  2.077e+05    1.9e+04     10.903      0.000     1.7e+05    2.45e+05\n",
       "flushing    4.123e+05   1.45e+04     28.421      0.000    3.84e+05    4.41e+05\n",
       "==============================================================================\n",
       "Omnibus:                      101.289   Durbin-Watson:                   1.541\n",
       "Prob(Omnibus):                  0.000   Jarque-Bera (JB):              471.821\n",
       "Skew:                          -0.089   Prob(JB):                    3.51e-103\n",
       "Kurtosis:                       5.806   Cond. No.                     7.68e+03\n",
       "==============================================================================\n",
       "\n",
       "Warnings:\n",
       "[1] Standard Errors assume that the covariance matrix of the errors is correctly specified.\n",
       "[2] The condition number is large, 7.68e+03. This might indicate that there are\n",
       "strong multicollinearity or other numerical problems.\n",
       "\"\"\""
      ]
     },
     "execution_count": 48,
     "metadata": {},
     "output_type": "execute_result"
    }
   ],
   "source": [
    "model = smf.ols(\"price ~ sqft + sheepshead + flushing\", data = rolling).fit()\n",
    "model.summary()"
   ]
  },
  {
   "cell_type": "markdown",
   "metadata": {},
   "source": [
    "__Equation:__ 1.756e+05 + 202.6754 * sqft + 2.077e+05 * sheepshead + 4.123e+05 * flushing \n",
    "\n",
    "__Flushing-North:__ 1.756e+05 + 202.6754 * sqft + 4.123e+05 \n",
    "\n",
    "__Flatbush-East:__ 1.756e+05 + 202.6754 * sqft \n",
    "\n",
    "__Sheepshead Bay:__ 1.756e+05 + 202.6754 * sqft + 2.077e+05 "
   ]
  },
  {
   "cell_type": "markdown",
   "metadata": {},
   "source": [
    "4) "
   ]
  },
  {
   "cell_type": "code",
   "execution_count": 88,
   "metadata": {},
   "outputs": [
    {
     "data": {
      "text/html": [
       "<table class=\"simpletable\">\n",
       "<caption>OLS Regression Results</caption>\n",
       "<tr>\n",
       "  <th>Dep. Variable:</th>          <td>price</td>      <th>  R-squared:         </th> <td>   0.465</td> \n",
       "</tr>\n",
       "<tr>\n",
       "  <th>Model:</th>                   <td>OLS</td>       <th>  Adj. R-squared:    </th> <td>   0.464</td> \n",
       "</tr>\n",
       "<tr>\n",
       "  <th>Method:</th>             <td>Least Squares</td>  <th>  F-statistic:       </th> <td>   413.9</td> \n",
       "</tr>\n",
       "<tr>\n",
       "  <th>Date:</th>             <td>Wed, 16 Oct 2019</td> <th>  Prob (F-statistic):</th> <td>2.03e-193</td>\n",
       "</tr>\n",
       "<tr>\n",
       "  <th>Time:</th>                 <td>12:12:52</td>     <th>  Log-Likelihood:    </th> <td> -19777.</td> \n",
       "</tr>\n",
       "<tr>\n",
       "  <th>No. Observations:</th>      <td>  1432</td>      <th>  AIC:               </th> <td>3.956e+04</td>\n",
       "</tr>\n",
       "<tr>\n",
       "  <th>Df Residuals:</th>          <td>  1428</td>      <th>  BIC:               </th> <td>3.958e+04</td>\n",
       "</tr>\n",
       "<tr>\n",
       "  <th>Df Model:</th>              <td>     3</td>      <th>                     </th>     <td> </td>    \n",
       "</tr>\n",
       "<tr>\n",
       "  <th>Covariance Type:</th>      <td>nonrobust</td>    <th>                     </th>     <td> </td>    \n",
       "</tr>\n",
       "</table>\n",
       "<table class=\"simpletable\">\n",
       "<tr>\n",
       "       <td></td>         <th>coef</th>     <th>std err</th>      <th>t</th>      <th>P>|t|</th>  <th>[0.025</th>    <th>0.975]</th>  \n",
       "</tr>\n",
       "<tr>\n",
       "  <th>Intercept</th>  <td> 1.756e+05</td> <td> 2.04e+04</td> <td>    8.623</td> <td> 0.000</td> <td> 1.36e+05</td> <td> 2.16e+05</td>\n",
       "</tr>\n",
       "<tr>\n",
       "  <th>sqft</th>       <td>  202.6754</td> <td>    8.887</td> <td>   22.806</td> <td> 0.000</td> <td>  185.243</td> <td>  220.108</td>\n",
       "</tr>\n",
       "<tr>\n",
       "  <th>sheepshead</th> <td> 2.077e+05</td> <td>  1.9e+04</td> <td>   10.903</td> <td> 0.000</td> <td>  1.7e+05</td> <td> 2.45e+05</td>\n",
       "</tr>\n",
       "<tr>\n",
       "  <th>flushing</th>   <td> 4.123e+05</td> <td> 1.45e+04</td> <td>   28.421</td> <td> 0.000</td> <td> 3.84e+05</td> <td> 4.41e+05</td>\n",
       "</tr>\n",
       "</table>\n",
       "<table class=\"simpletable\">\n",
       "<tr>\n",
       "  <th>Omnibus:</th>       <td>101.289</td> <th>  Durbin-Watson:     </th> <td>   1.541</td> \n",
       "</tr>\n",
       "<tr>\n",
       "  <th>Prob(Omnibus):</th> <td> 0.000</td>  <th>  Jarque-Bera (JB):  </th> <td> 471.821</td> \n",
       "</tr>\n",
       "<tr>\n",
       "  <th>Skew:</th>          <td>-0.089</td>  <th>  Prob(JB):          </th> <td>3.51e-103</td>\n",
       "</tr>\n",
       "<tr>\n",
       "  <th>Kurtosis:</th>      <td> 5.806</td>  <th>  Cond. No.          </th> <td>7.68e+03</td> \n",
       "</tr>\n",
       "</table><br/><br/>Warnings:<br/>[1] Standard Errors assume that the covariance matrix of the errors is correctly specified.<br/>[2] The condition number is large, 7.68e+03. This might indicate that there are<br/>strong multicollinearity or other numerical problems."
      ],
      "text/plain": [
       "<class 'statsmodels.iolib.summary.Summary'>\n",
       "\"\"\"\n",
       "                            OLS Regression Results                            \n",
       "==============================================================================\n",
       "Dep. Variable:                  price   R-squared:                       0.465\n",
       "Model:                            OLS   Adj. R-squared:                  0.464\n",
       "Method:                 Least Squares   F-statistic:                     413.9\n",
       "Date:                Wed, 16 Oct 2019   Prob (F-statistic):          2.03e-193\n",
       "Time:                        12:12:52   Log-Likelihood:                -19777.\n",
       "No. Observations:                1432   AIC:                         3.956e+04\n",
       "Df Residuals:                    1428   BIC:                         3.958e+04\n",
       "Df Model:                           3                                         \n",
       "Covariance Type:            nonrobust                                         \n",
       "==============================================================================\n",
       "                 coef    std err          t      P>|t|      [0.025      0.975]\n",
       "------------------------------------------------------------------------------\n",
       "Intercept   1.756e+05   2.04e+04      8.623      0.000    1.36e+05    2.16e+05\n",
       "sqft         202.6754      8.887     22.806      0.000     185.243     220.108\n",
       "sheepshead  2.077e+05    1.9e+04     10.903      0.000     1.7e+05    2.45e+05\n",
       "flushing    4.123e+05   1.45e+04     28.421      0.000    3.84e+05    4.41e+05\n",
       "==============================================================================\n",
       "Omnibus:                      101.289   Durbin-Watson:                   1.541\n",
       "Prob(Omnibus):                  0.000   Jarque-Bera (JB):              471.821\n",
       "Skew:                          -0.089   Prob(JB):                    3.51e-103\n",
       "Kurtosis:                       5.806   Cond. No.                     7.68e+03\n",
       "==============================================================================\n",
       "\n",
       "Warnings:\n",
       "[1] Standard Errors assume that the covariance matrix of the errors is correctly specified.\n",
       "[2] The condition number is large, 7.68e+03. This might indicate that there are\n",
       "strong multicollinearity or other numerical problems.\n",
       "\"\"\""
      ]
     },
     "execution_count": 88,
     "metadata": {},
     "output_type": "execute_result"
    }
   ],
   "source": [
    "model.summary()"
   ]
  },
  {
   "cell_type": "code",
   "execution_count": null,
   "metadata": {},
   "outputs": [],
   "source": [
    "# all the p-values for my intercept and coefficients are 0"
   ]
  },
  {
   "cell_type": "code",
   "execution_count": 49,
   "metadata": {},
   "outputs": [
    {
     "data": {
      "text/plain": [
       "0.46508833813997175"
      ]
     },
     "execution_count": 49,
     "metadata": {},
     "output_type": "execute_result"
    }
   ],
   "source": [
    "model.rsquared"
   ]
  },
  {
   "cell_type": "code",
   "execution_count": 62,
   "metadata": {},
   "outputs": [
    {
     "data": {
      "text/plain": [
       "58034875890.03043"
      ]
     },
     "execution_count": 62,
     "metadata": {},
     "output_type": "execute_result"
    }
   ],
   "source": [
    "mse = ((rolling[\"SALE PRICE\"] - model.fittedvalues)**2).mean()\n",
    "mse"
   ]
  },
  {
   "cell_type": "code",
   "execution_count": 87,
   "metadata": {},
   "outputs": [
    {
     "data": {
      "text/plain": [
       "240904.28781993574"
      ]
     },
     "execution_count": 87,
     "metadata": {},
     "output_type": "execute_result"
    }
   ],
   "source": [
    "rmse = math.sqrt(mse)\n",
    "rmse"
   ]
  },
  {
   "cell_type": "code",
   "execution_count": 76,
   "metadata": {},
   "outputs": [
    {
     "data": {
      "text/plain": [
       "[<matplotlib.lines.Line2D at 0x1592b307a90>]"
      ]
     },
     "execution_count": 76,
     "metadata": {},
     "output_type": "execute_result"
    },
    {
     "data": {
      "image/png": "[encoded data removed]",
      "text/plain": [
       "<Figure size 432x288 with 1 Axes>"
      ]
     },
     "metadata": {
      "needs_background": "light"
     },
     "output_type": "display_data"
    }
   ],
   "source": [
    "plt.hist(model.resid, edgecolor = 'w', bins = 20, density = True)\n",
    "x = np.linspace(np.min(model.resid), np.max(model.resid), 200)\n",
    "y = stats.norm.pdf(x, np.mean(model.resid), np.std(model.resid))\n",
    "plt.plot(x, y)"
   ]
  },
  {
   "cell_type": "code",
   "execution_count": 82,
   "metadata": {},
   "outputs": [
    {
     "data": {
      "text/plain": [
       "<matplotlib.collections.PathCollection at 0x1592b4a9278>"
      ]
     },
     "execution_count": 82,
     "metadata": {},
     "output_type": "execute_result"
    },
    {
     "data": {
      "image/png": "[encoded data removed]",
      "text/plain": [
       "<Figure size 432x288 with 1 Axes>"
      ]
     },
     "metadata": {
      "needs_background": "light"
     },
     "output_type": "display_data"
    }
   ],
   "source": [
    "plt.scatter(rolling[\"SALE PRICE\"], model.resid)"
   ]
  },
  {
   "cell_type": "markdown",
   "metadata": {},
   "source": [
    "__CONCLUSION:__ Due to the unimpressive R-Squared and the plot of the residuals not really being centered at zero, my model is not that good of a fit of the data. Despite this, all the coefficients and the intercept have low p-values and the residuals are normally distributed."
   ]
  },
  {
   "cell_type": "markdown",
   "metadata": {},
   "source": [
    "5)"
   ]
  },
  {
   "cell_type": "code",
   "execution_count": 98,
   "metadata": {},
   "outputs": [
    {
     "data": {
      "text/plain": [
       "[<matplotlib.lines.Line2D at 0x1592a2062b0>]"
      ]
     },
     "execution_count": 98,
     "metadata": {},
     "output_type": "execute_result"
    },
    {
     "data": {
      "image/png": "[encoded data removed]",
      "text/plain": [
       "<Figure size 432x288 with 1 Axes>"
      ]
     },
     "metadata": {
      "needs_background": "light"
     },
     "output_type": "display_data"
    }
   ],
   "source": [
    "x = np.linspace(rolling[\"GROSS SQUARE FEET\"].min(),rolling[\"GROSS SQUARE FEET\"].max(), 2000)\n",
    "flatbushy = 1.756e05 + (202.6754 * x)\n",
    "flushingy = 1.756e05 + (202.6754 * x) + 4.123e05\n",
    "sheepsheady = 1.756e05 + (202.6754 * x) + 2.077e05\n",
    "\n",
    "plt.plot(x, flatbushy) # blue\n",
    "plt.plot(x, flushingy) # orange\n",
    "plt.plot(x, sheepsheady) # green"
   ]
  },
  {
   "cell_type": "markdown",
   "metadata": {},
   "source": [
    "__CONCLUSION:__ The plot tells us that sales tend to be the highest in Flushing-North and that sales tend to be the lowest in Flatbush-East."
   ]
  },
  {
   "cell_type": "markdown",
   "metadata": {},
   "source": [
    "6) "
   ]
  },
  {
   "cell_type": "code",
   "execution_count": 99,
   "metadata": {},
   "outputs": [
    {
     "data": {
      "text/html": [
       "<div>\n",
       "<style scoped>\n",
       "    .dataframe tbody tr th:only-of-type {\n",
       "        vertical-align: middle;\n",
       "    }\n",
       "\n",
       "    .dataframe tbody tr th {\n",
       "        vertical-align: top;\n",
       "    }\n",
       "\n",
       "    .dataframe thead th {\n",
       "        text-align: right;\n",
       "    }\n",
       "</style>\n",
       "<table border=\"1\" class=\"dataframe\">\n",
       "  <thead>\n",
       "    <tr style=\"text-align: right;\">\n",
       "      <th></th>\n",
       "      <th>Unnamed: 0</th>\n",
       "      <th>BOROUGH</th>\n",
       "      <th>BUILDING CLASS CATEGORY</th>\n",
       "      <th>TAX CLASS AT PRESENT</th>\n",
       "      <th>BLOCK</th>\n",
       "      <th>LOT</th>\n",
       "      <th>EASE-MENT</th>\n",
       "      <th>BUILDING CLASS AT PRESENT</th>\n",
       "      <th>ADDRESS</th>\n",
       "      <th>APARTMENT NUMBER</th>\n",
       "      <th>...</th>\n",
       "      <th>TOTAL UNITS</th>\n",
       "      <th>LAND SQUARE FEET</th>\n",
       "      <th>GROSS SQUARE FEET</th>\n",
       "      <th>YEAR BUILT</th>\n",
       "      <th>TAX CLASS AT TIME OF SALE</th>\n",
       "      <th>BUILDING CLASS AT TIME OF SALE</th>\n",
       "      <th>SALE PRICE</th>\n",
       "      <th>SALE DATE</th>\n",
       "      <th>NEIGHBORHOOD_FLUSHING-NORTH</th>\n",
       "      <th>NEIGHBORHOOD_SHEEPSHEAD BAY</th>\n",
       "    </tr>\n",
       "  </thead>\n",
       "  <tbody>\n",
       "    <tr>\n",
       "      <th>37716</th>\n",
       "      <td>12365</td>\n",
       "      <td>3</td>\n",
       "      <td>01 ONE FAMILY DWELLINGS</td>\n",
       "      <td>1</td>\n",
       "      <td>4681</td>\n",
       "      <td>61</td>\n",
       "      <td></td>\n",
       "      <td>A9</td>\n",
       "      <td>195 EAST 55TH STREET</td>\n",
       "      <td></td>\n",
       "      <td>...</td>\n",
       "      <td>1</td>\n",
       "      <td>1875.0</td>\n",
       "      <td>1344.0</td>\n",
       "      <td>1910</td>\n",
       "      <td>1</td>\n",
       "      <td>A9</td>\n",
       "      <td>215000.0</td>\n",
       "      <td>2016-09-15 00:00:00</td>\n",
       "      <td>0</td>\n",
       "      <td>0</td>\n",
       "    </tr>\n",
       "    <tr>\n",
       "      <th>37720</th>\n",
       "      <td>12369</td>\n",
       "      <td>3</td>\n",
       "      <td>01 ONE FAMILY DWELLINGS</td>\n",
       "      <td>1</td>\n",
       "      <td>4695</td>\n",
       "      <td>27</td>\n",
       "      <td></td>\n",
       "      <td>A9</td>\n",
       "      <td>466 EAST 48TH   STREET</td>\n",
       "      <td></td>\n",
       "      <td>...</td>\n",
       "      <td>1</td>\n",
       "      <td>3000.0</td>\n",
       "      <td>1240.0</td>\n",
       "      <td>1910</td>\n",
       "      <td>1</td>\n",
       "      <td>A9</td>\n",
       "      <td>422500.0</td>\n",
       "      <td>2017-07-10 00:00:00</td>\n",
       "      <td>0</td>\n",
       "      <td>0</td>\n",
       "    </tr>\n",
       "    <tr>\n",
       "      <th>37721</th>\n",
       "      <td>12370</td>\n",
       "      <td>3</td>\n",
       "      <td>01 ONE FAMILY DWELLINGS</td>\n",
       "      <td>1</td>\n",
       "      <td>4695</td>\n",
       "      <td>48</td>\n",
       "      <td></td>\n",
       "      <td>A9</td>\n",
       "      <td>923 SCHENECTADY AVENUE</td>\n",
       "      <td></td>\n",
       "      <td>...</td>\n",
       "      <td>1</td>\n",
       "      <td>2000.0</td>\n",
       "      <td>1300.0</td>\n",
       "      <td>1920</td>\n",
       "      <td>1</td>\n",
       "      <td>A9</td>\n",
       "      <td>355500.0</td>\n",
       "      <td>2016-10-13 00:00:00</td>\n",
       "      <td>0</td>\n",
       "      <td>0</td>\n",
       "    </tr>\n",
       "    <tr>\n",
       "      <th>37725</th>\n",
       "      <td>12374</td>\n",
       "      <td>3</td>\n",
       "      <td>01 ONE FAMILY DWELLINGS</td>\n",
       "      <td>1</td>\n",
       "      <td>4719</td>\n",
       "      <td>31</td>\n",
       "      <td></td>\n",
       "      <td>A1</td>\n",
       "      <td>546 EAST 48TH STREET</td>\n",
       "      <td></td>\n",
       "      <td>...</td>\n",
       "      <td>1</td>\n",
       "      <td>2500.0</td>\n",
       "      <td>1036.0</td>\n",
       "      <td>1915</td>\n",
       "      <td>1</td>\n",
       "      <td>A1</td>\n",
       "      <td>485000.0</td>\n",
       "      <td>2017-03-27 00:00:00</td>\n",
       "      <td>0</td>\n",
       "      <td>0</td>\n",
       "    </tr>\n",
       "    <tr>\n",
       "      <th>37726</th>\n",
       "      <td>12375</td>\n",
       "      <td>3</td>\n",
       "      <td>01 ONE FAMILY DWELLINGS</td>\n",
       "      <td>1</td>\n",
       "      <td>4719</td>\n",
       "      <td>61</td>\n",
       "      <td></td>\n",
       "      <td>A9</td>\n",
       "      <td>987 SCHENECTADY AVENUE</td>\n",
       "      <td></td>\n",
       "      <td>...</td>\n",
       "      <td>1</td>\n",
       "      <td>2000.0</td>\n",
       "      <td>1536.0</td>\n",
       "      <td>1910</td>\n",
       "      <td>1</td>\n",
       "      <td>A9</td>\n",
       "      <td>180000.0</td>\n",
       "      <td>2017-05-05 00:00:00</td>\n",
       "      <td>0</td>\n",
       "      <td>0</td>\n",
       "    </tr>\n",
       "  </tbody>\n",
       "</table>\n",
       "<p>5 rows × 23 columns</p>\n",
       "</div>"
      ],
      "text/plain": [
       "       Unnamed: 0  BOROUGH                      BUILDING CLASS CATEGORY  \\\n",
       "37716       12365        3  01 ONE FAMILY DWELLINGS                       \n",
       "37720       12369        3  01 ONE FAMILY DWELLINGS                       \n",
       "37721       12370        3  01 ONE FAMILY DWELLINGS                       \n",
       "37725       12374        3  01 ONE FAMILY DWELLINGS                       \n",
       "37726       12375        3  01 ONE FAMILY DWELLINGS                       \n",
       "\n",
       "      TAX CLASS AT PRESENT  BLOCK  LOT EASE-MENT BUILDING CLASS AT PRESENT  \\\n",
       "37716                    1   4681   61                                  A9   \n",
       "37720                    1   4695   27                                  A9   \n",
       "37721                    1   4695   48                                  A9   \n",
       "37725                    1   4719   31                                  A1   \n",
       "37726                    1   4719   61                                  A9   \n",
       "\n",
       "                      ADDRESS APARTMENT NUMBER  ...  TOTAL UNITS  \\\n",
       "37716    195 EAST 55TH STREET                   ...            1   \n",
       "37720  466 EAST 48TH   STREET                   ...            1   \n",
       "37721  923 SCHENECTADY AVENUE                   ...            1   \n",
       "37725    546 EAST 48TH STREET                   ...            1   \n",
       "37726  987 SCHENECTADY AVENUE                   ...            1   \n",
       "\n",
       "       LAND SQUARE FEET  GROSS SQUARE FEET  YEAR BUILT  \\\n",
       "37716            1875.0             1344.0        1910   \n",
       "37720            3000.0             1240.0        1910   \n",
       "37721            2000.0             1300.0        1920   \n",
       "37725            2500.0             1036.0        1915   \n",
       "37726            2000.0             1536.0        1910   \n",
       "\n",
       "       TAX CLASS AT TIME OF SALE  BUILDING CLASS AT TIME OF SALE  SALE PRICE  \\\n",
       "37716                          1                              A9    215000.0   \n",
       "37720                          1                              A9    422500.0   \n",
       "37721                          1                              A9    355500.0   \n",
       "37725                          1                              A1    485000.0   \n",
       "37726                          1                              A9    180000.0   \n",
       "\n",
       "                 SALE DATE NEIGHBORHOOD_FLUSHING-NORTH  \\\n",
       "37716  2016-09-15 00:00:00                           0   \n",
       "37720  2017-07-10 00:00:00                           0   \n",
       "37721  2016-10-13 00:00:00                           0   \n",
       "37725  2017-03-27 00:00:00                           0   \n",
       "37726  2017-05-05 00:00:00                           0   \n",
       "\n",
       "       NEIGHBORHOOD_SHEEPSHEAD BAY  \n",
       "37716                            0  \n",
       "37720                            0  \n",
       "37721                            0  \n",
       "37725                            0  \n",
       "37726                            0  \n",
       "\n",
       "[5 rows x 23 columns]"
      ]
     },
     "execution_count": 99,
     "metadata": {},
     "output_type": "execute_result"
    }
   ],
   "source": [
    "rolling.head()"
   ]
  },
  {
   "cell_type": "code",
   "execution_count": 102,
   "metadata": {},
   "outputs": [
    {
     "name": "stdout",
     "output_type": "stream",
     "text": [
      "Optimization terminated successfully.\n",
      "         Current function value: 0.559640\n",
      "         Iterations 6\n"
     ]
    },
    {
     "data": {
      "text/html": [
       "<table class=\"simpletable\">\n",
       "<caption>Logit Regression Results</caption>\n",
       "<tr>\n",
       "  <th>Dep. Variable:</th>   <td>Q(\"NEIGHBORHOOD_FLUSHING-NORTH\")</td> <th>  No. Observations:  </th>  <td>  1432</td>  \n",
       "</tr>\n",
       "<tr>\n",
       "  <th>Model:</th>                         <td>Logit</td>              <th>  Df Residuals:      </th>  <td>  1430</td>  \n",
       "</tr>\n",
       "<tr>\n",
       "  <th>Method:</th>                         <td>MLE</td>               <th>  Df Model:          </th>  <td>     1</td>  \n",
       "</tr>\n",
       "<tr>\n",
       "  <th>Date:</th>                    <td>Wed, 16 Oct 2019</td>         <th>  Pseudo R-squ.:     </th>  <td>0.1922</td>  \n",
       "</tr>\n",
       "<tr>\n",
       "  <th>Time:</th>                        <td>12:27:27</td>             <th>  Log-Likelihood:    </th> <td> -801.41</td> \n",
       "</tr>\n",
       "<tr>\n",
       "  <th>converged:</th>                     <td>True</td>               <th>  LL-Null:           </th> <td> -992.13</td> \n",
       "</tr>\n",
       "<tr>\n",
       "  <th>Covariance Type:</th>             <td>nonrobust</td>            <th>  LLR p-value:       </th> <td>5.991e-85</td>\n",
       "</tr>\n",
       "</table>\n",
       "<table class=\"simpletable\">\n",
       "<tr>\n",
       "         <td></td>            <th>coef</th>     <th>std err</th>      <th>z</th>      <th>P>|z|</th>  <th>[0.025</th>    <th>0.975]</th>  \n",
       "</tr>\n",
       "<tr>\n",
       "  <th>Intercept</th>       <td>   -3.0876</td> <td>    0.205</td> <td>  -15.027</td> <td> 0.000</td> <td>   -3.490</td> <td>   -2.685</td>\n",
       "</tr>\n",
       "<tr>\n",
       "  <th>Q(\"SALE PRICE\")</th> <td> 4.007e-06</td> <td> 2.53e-07</td> <td>   15.844</td> <td> 0.000</td> <td> 3.51e-06</td> <td>  4.5e-06</td>\n",
       "</tr>\n",
       "</table>"
      ],
      "text/plain": [
       "<class 'statsmodels.iolib.summary.Summary'>\n",
       "\"\"\"\n",
       "                                  Logit Regression Results                                  \n",
       "============================================================================================\n",
       "Dep. Variable:     Q(\"NEIGHBORHOOD_FLUSHING-NORTH\")   No. Observations:                 1432\n",
       "Model:                                        Logit   Df Residuals:                     1430\n",
       "Method:                                         MLE   Df Model:                            1\n",
       "Date:                              Wed, 16 Oct 2019   Pseudo R-squ.:                  0.1922\n",
       "Time:                                      12:27:27   Log-Likelihood:                -801.41\n",
       "converged:                                     True   LL-Null:                       -992.13\n",
       "Covariance Type:                          nonrobust   LLR p-value:                 5.991e-85\n",
       "===================================================================================\n",
       "                      coef    std err          z      P>|z|      [0.025      0.975]\n",
       "-----------------------------------------------------------------------------------\n",
       "Intercept          -3.0876      0.205    -15.027      0.000      -3.490      -2.685\n",
       "Q(\"SALE PRICE\")  4.007e-06   2.53e-07     15.844      0.000    3.51e-06     4.5e-06\n",
       "===================================================================================\n",
       "\"\"\""
      ]
     },
     "execution_count": 102,
     "metadata": {},
     "output_type": "execute_result"
    }
   ],
   "source": [
    "model2 = smf.logit('Q(\"NEIGHBORHOOD_FLUSHING-NORTH\") ~ Q(\"SALE PRICE\")', data = rolling).fit()\n",
    "model2.summary()"
   ]
  },
  {
   "cell_type": "markdown",
   "metadata": {},
   "source": [
    "__EQUATION:__ 1 / (1 + e^-(-3.0876 + 4.007e-06 * sales_price))"
   ]
  },
  {
   "cell_type": "code",
   "execution_count": 104,
   "metadata": {},
   "outputs": [
    {
     "data": {
      "text/plain": [
       "<matplotlib.axes._subplots.AxesSubplot at 0x1592a0ee550>"
      ]
     },
     "execution_count": 104,
     "metadata": {},
     "output_type": "execute_result"
    },
    {
     "data": {
      "image/png": "[encoded data removed]",
      "text/plain": [
       "<Figure size 432x288 with 1 Axes>"
      ]
     },
     "metadata": {
      "needs_background": "light"
     },
     "output_type": "display_data"
    }
   ],
   "source": [
    "sns.regplot(x = \"SALE PRICE\", y = \"NEIGHBORHOOD_FLUSHING-NORTH\", data = rolling, fit_reg = True, logistic = True)"
   ]
  },
  {
   "cell_type": "markdown",
   "metadata": {},
   "source": [
    "7) Compute the sensitivity, specificity, precision, and accuracy for your logistic model, using a sale being in Flushing-North as positive.  Is your model better at correctly predicting a sale took place in Flushing-North or in Flatbush-East and Sheepshead Bay?  Of the sales predicted to be in Flushing-North, what proportion were really in Flushing-North?"
   ]
  },
  {
   "cell_type": "code",
   "execution_count": 109,
   "metadata": {},
   "outputs": [
    {
     "data": {
      "text/plain": [
       "array([[489., 209.],\n",
       "       [164., 570.]])"
      ]
     },
     "execution_count": 109,
     "metadata": {},
     "output_type": "execute_result"
    }
   ],
   "source": [
    "table = model2.pred_table()\n",
    "table\n",
    "\n",
    "# since its the confusion matrix from statsmodels.formula.api\n",
    "#           predicted\n",
    "#            1    0\n",
    "# actual 1\n",
    "#        0"
   ]
  },
  {
   "cell_type": "code",
   "execution_count": 128,
   "metadata": {},
   "outputs": [],
   "source": [
    "tp = table[0][0]\n",
    "tn = table[1][1]\n",
    "fp = table[1][0]\n",
    "fn = table[0][1]"
   ]
  },
  {
   "cell_type": "code",
   "execution_count": 129,
   "metadata": {},
   "outputs": [
    {
     "data": {
      "text/plain": [
       "0.7005730659025788"
      ]
     },
     "execution_count": 129,
     "metadata": {},
     "output_type": "execute_result"
    }
   ],
   "source": [
    "# sensitivity = TP / (TP + FN)\n",
    "sens = tp / (tp + fn)\n",
    "sens"
   ]
  },
  {
   "cell_type": "code",
   "execution_count": 130,
   "metadata": {},
   "outputs": [
    {
     "data": {
      "text/plain": [
       "0.776566757493188"
      ]
     },
     "execution_count": 130,
     "metadata": {},
     "output_type": "execute_result"
    }
   ],
   "source": [
    "# specificity = TN / (TN + FP)\n",
    "spec = tn / (tn + fp)\n",
    "spec"
   ]
  },
  {
   "cell_type": "code",
   "execution_count": 131,
   "metadata": {},
   "outputs": [
    {
     "data": {
      "text/plain": [
       "0.7488514548238897"
      ]
     },
     "execution_count": 131,
     "metadata": {},
     "output_type": "execute_result"
    }
   ],
   "source": [
    "# precision = TP / (TP + FP)\n",
    "prec = tp / (tp + fp)\n",
    "prec"
   ]
  },
  {
   "cell_type": "code",
   "execution_count": 132,
   "metadata": {},
   "outputs": [
    {
     "data": {
      "text/plain": [
       "0.7395251396648045"
      ]
     },
     "execution_count": 132,
     "metadata": {},
     "output_type": "execute_result"
    }
   ],
   "source": [
    "# accuracy = (TP + TN) / (TP + TN + FP + FN)\n",
    "accur = (tp + tn) / (tp + tn + fp + fn)\n",
    "accur"
   ]
  },
  {
   "cell_type": "markdown",
   "metadata": {},
   "source": [
    "__CONCLUSION 1:__ Since the specificity is better than my sensitivity, my model is better at predicting that a sale took place in Flatbush-East/Sheepshead Bay than predicting that a sale took place in Flushing-North.\n",
    "\n",
    "__CONCLUSION 2:__ 74.89% of the sales that were predicted to take place in Flushing-North actually took place in Flushing-North. (precision) "
   ]
  }
 ],
 "metadata": {
  "kernelspec": {
   "display_name": "Python 3",
   "language": "python",
   "name": "python3"
  },
  "language_info": {
   "codemirror_mode": {
    "name": "ipython",
    "version": 3
   },
   "file_extension": ".py",
   "mimetype": "text/x-python",
   "name": "python",
   "nbconvert_exporter": "python",
   "pygments_lexer": "ipython3",
   "version": "3.7.3"
  }
 },
 "nbformat": 4,
 "nbformat_minor": 2
}
